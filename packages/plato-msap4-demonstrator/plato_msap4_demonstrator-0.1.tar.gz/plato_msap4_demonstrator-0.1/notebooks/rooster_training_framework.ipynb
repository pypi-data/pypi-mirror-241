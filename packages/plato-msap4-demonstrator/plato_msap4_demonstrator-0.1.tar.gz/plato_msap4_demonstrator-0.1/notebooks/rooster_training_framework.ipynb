{
 "cells": [
  {
   "cell_type": "markdown",
   "id": "146fffdd-4386-424a-a75a-b1e8154c9d52",
   "metadata": {},
   "source": [
    "# ROOSTER training framework (MSAP4-03)\n",
    "\n",
    "This notebook provide an example of an analysis by the PLATO MSAP4 demonstrator of a set of stars with catalog-existing reference $P_\\mathrm{rot}$, and use the set to train an instance of ROOSTER.\n",
    "\n",
    "First we need to import the demonstrator module and the auxiliary module containing the dataset we are going to work with."
   ]
  },
  {
   "cell_type": "code",
   "execution_count": 1,
   "id": "7e72243d-c0ce-400b-a350-ff3ccfe6af17",
   "metadata": {},
   "outputs": [],
   "source": [
    "import plato_msap4_demonstrator as msap4\n",
    "import plato_msap4_demonstrator_datasets.kepler_dataset as kepler_dataset"
   ]
  },
  {
   "cell_type": "markdown",
   "id": "ec9a9be4-3be0-4d02-be65-98a82625695b",
   "metadata": {},
   "source": [
    "We also need to import some other modules to run the notebook and to check that the outputs directory that we need exist"
   ]
  },
  {
   "cell_type": "code",
   "execution_count": 2,
   "id": "969fa102-658a-49c1-8cd6-2d389742bc31",
   "metadata": {},
   "outputs": [],
   "source": [
    "import importlib\n",
    "import tqdm\n",
    "import os\n",
    "import numpy as np\n",
    "import matplotlib.pyplot as plt\n",
    "\n",
    "if not os.path.exists ('rooster_training_features') :\n",
    "    os.mkdir ('rooster_training_features')\n",
    "if not os.path.exists ('rooster_training_plots') :\n",
    "    os.mkdir ('rooster_training_plots')\n",
    "if not os.path.exists ('rooster_instances') :\n",
    "    os.mkdir ('rooster_instances')"
   ]
  },
  {
   "cell_type": "markdown",
   "id": "c5288fed-7f82-448c-863e-1f2b281ab710",
   "metadata": {},
   "source": [
    "## Running the analysis pipeline"
   ]
  },
  {
   "cell_type": "markdown",
   "id": "e20a162f-e627-49f2-92c7-6c08a4186038",
   "metadata": {},
   "source": [
    "We are going to work with a sample of 1991 *Kepler* stars analysed by Santos et al. (2019, 2021). The light curves have been calibrated with the KEPSEISMIC method (see García et al. 2011, 2014), and all of them have been filtered with a 55-day high-pass filter. We can get the identifiers of the stars in the dataset with the following instruction:"
   ]
  },
  {
   "cell_type": "code",
   "execution_count": 3,
   "id": "408ec360-5d74-4dde-bb5f-eed4d97f275f",
   "metadata": {},
   "outputs": [],
   "source": [
    "list_kic = msap4.get_list_targets (kepler_dataset)"
   ]
  },
  {
   "cell_type": "markdown",
   "id": "9c18e851-9b1c-419f-8417-5cc8bd3ee5fc",
   "metadata": {},
   "source": [
    "The next step is to run the analysis pipeline on every light curve in the dataset. The analysis pipeline in its default behaviour will compute the Lomb-Scargle periodogram (LSP) of the light curve as well as its auto-correlation function (ACF). ACF and LSP will then be used to compute a composite spectrum (CS), obtained by multiplying one by another.\n",
    "The feature computed for each stars are stored in a dedicated csv file identified by the star identifier (in this case, the KIC of the star)."
   ]
  },
  {
   "cell_type": "code",
   "execution_count": 4,
   "id": "a327b4ea-e4f7-4009-a04b-ec2701e89f51",
   "metadata": {},
   "outputs": [
    {
     "name": "stderr",
     "output_type": "stream",
     "text": [
      " 33%|██████████████████████████████████████▉                                                                               | 657/1991 [21:16<1:01:21,  2.76s/it]/Users/sbreton/miniconda3/envs/main-3.9/lib/python3.9/site-packages/plato_msap4_demonstrator/lomb_scargle.py:614: RuntimeWarning: invalid value encountered in log\n",
      "  log_l = ps / model + np.log (model)\n",
      " 88%|██████████████████████████████████████████████████████████████████████████████████████████████████████▊              | 1749/1991 [1:03:08<09:23,  2.33s/it]/Users/sbreton/miniconda3/envs/main-3.9/lib/python3.9/site-packages/plato_msap4_demonstrator/lomb_scargle.py:614: RuntimeWarning: invalid value encountered in log\n",
      "  log_l = ps / model + np.log (model)\n",
      "100%|█████████████████████████████████████████████████████████████████████████████████████████████████████████████████████| 1991/1991 [1:10:56<00:00,  2.14s/it]\n"
     ]
    }
   ],
   "source": [
    "p_in = np.linspace (0, 100, 1000)\n",
    "for kic in tqdm.tqdm (list_kic) :\n",
    "    str_kic = str (kic).zfill (9)\n",
    "    fileout = 'rooster_training_features/{}.csv'.format(str_kic)\n",
    "    filename = msap4.get_target_filename (kepler_dataset, str_kic)\n",
    "    if not os.path.exists (fileout) :\n",
    "        t, s, dt = msap4.load_resource (filename)\n",
    "        (p_ps, p_acf, ps, acf, \n",
    "         cs, features, feature_names) = msap4.analysis_pipeline (t, s, periods_in=p_in,\n",
    "                                                                 wavelet_analysis=False, plot=True,\n",
    "                                                                 filename='rooster_training_plots/{}.png'.format(str_kic),\n",
    "                                                                 figsize=(10,16),\n",
    "                                                                 lw=1, dpi=300, smooth_acf=True)\n",
    "        df = msap4.save_features (fileout, kic, features, feature_names)"
   ]
  },
  {
   "cell_type": "markdown",
   "id": "940c0191-7417-4ef8-812e-323dbf436f1a",
   "metadata": {},
   "source": [
    "After running the analysis pipeline, it is possible to concatenate the feature obtained for each star into one big DataFrame."
   ]
  },
  {
   "cell_type": "code",
   "execution_count": 5,
   "id": "a15c1ac0-18dd-4e22-a052-85e61916dcc1",
   "metadata": {},
   "outputs": [],
   "source": [
    "df = msap4.build_catalog_features ('rooster_training_features')"
   ]
  },
  {
   "cell_type": "markdown",
   "id": "0250e067-2bf8-47b0-a57e-ed3c4ba7127a",
   "metadata": {},
   "source": [
    "This is typically what the DataFrame is going to look like:"
   ]
  },
  {
   "cell_type": "code",
   "execution_count": 6,
   "id": "836aadd8-16ae-483e-a380-f3984e408f57",
   "metadata": {},
   "outputs": [
    {
     "data": {
      "text/html": [
       "<div>\n",
       "<style scoped>\n",
       "    .dataframe tbody tr th:only-of-type {\n",
       "        vertical-align: middle;\n",
       "    }\n",
       "\n",
       "    .dataframe tbody tr th {\n",
       "        vertical-align: top;\n",
       "    }\n",
       "\n",
       "    .dataframe thead th {\n",
       "        text-align: right;\n",
       "    }\n",
       "</style>\n",
       "<table border=\"1\" class=\"dataframe\">\n",
       "  <thead>\n",
       "    <tr style=\"text-align: right;\">\n",
       "      <th></th>\n",
       "      <th>prot_ps</th>\n",
       "      <th>prot_acf</th>\n",
       "      <th>prot_cs</th>\n",
       "      <th>e_prot_ps</th>\n",
       "      <th>E_prot_ps</th>\n",
       "      <th>e_prot_acf</th>\n",
       "      <th>E_prot_acf</th>\n",
       "      <th>e_prot_cs</th>\n",
       "      <th>E_prot_cs</th>\n",
       "      <th>sph_ps</th>\n",
       "      <th>sph_acf</th>\n",
       "      <th>sph_cs</th>\n",
       "      <th>h_ps</th>\n",
       "      <th>fa_prob_ps</th>\n",
       "      <th>hacf</th>\n",
       "      <th>gacf</th>\n",
       "      <th>hcs</th>\n",
       "    </tr>\n",
       "    <tr>\n",
       "      <th>target_id</th>\n",
       "      <th></th>\n",
       "      <th></th>\n",
       "      <th></th>\n",
       "      <th></th>\n",
       "      <th></th>\n",
       "      <th></th>\n",
       "      <th></th>\n",
       "      <th></th>\n",
       "      <th></th>\n",
       "      <th></th>\n",
       "      <th></th>\n",
       "      <th></th>\n",
       "      <th></th>\n",
       "      <th></th>\n",
       "      <th></th>\n",
       "      <th></th>\n",
       "      <th></th>\n",
       "    </tr>\n",
       "  </thead>\n",
       "  <tbody>\n",
       "    <tr>\n",
       "      <th>891901</th>\n",
       "      <td>73.598094</td>\n",
       "      <td>-1.000000</td>\n",
       "      <td>74.018101</td>\n",
       "      <td>0.732699</td>\n",
       "      <td>0.747543</td>\n",
       "      <td>-1.0</td>\n",
       "      <td>-1.0</td>\n",
       "      <td>2.837389</td>\n",
       "      <td>2.837389</td>\n",
       "      <td>782.552118</td>\n",
       "      <td>-1.000000</td>\n",
       "      <td>783.117139</td>\n",
       "      <td>0.121354</td>\n",
       "      <td>0.0</td>\n",
       "      <td>-1.000000</td>\n",
       "      <td>-1.000000</td>\n",
       "      <td>0.367294</td>\n",
       "    </tr>\n",
       "    <tr>\n",
       "      <th>1162339</th>\n",
       "      <td>73.048392</td>\n",
       "      <td>-1.000000</td>\n",
       "      <td>73.598676</td>\n",
       "      <td>10.789058</td>\n",
       "      <td>15.248277</td>\n",
       "      <td>-1.0</td>\n",
       "      <td>-1.0</td>\n",
       "      <td>2.794364</td>\n",
       "      <td>2.794364</td>\n",
       "      <td>2266.134459</td>\n",
       "      <td>-1.000000</td>\n",
       "      <td>2264.819560</td>\n",
       "      <td>0.285520</td>\n",
       "      <td>0.0</td>\n",
       "      <td>-1.000000</td>\n",
       "      <td>-1.000000</td>\n",
       "      <td>0.549277</td>\n",
       "    </tr>\n",
       "    <tr>\n",
       "      <th>1163248</th>\n",
       "      <td>73.048768</td>\n",
       "      <td>95.589224</td>\n",
       "      <td>90.385149</td>\n",
       "      <td>26.323119</td>\n",
       "      <td>96.743047</td>\n",
       "      <td>-1.0</td>\n",
       "      <td>-1.0</td>\n",
       "      <td>21.259783</td>\n",
       "      <td>21.259783</td>\n",
       "      <td>541.300214</td>\n",
       "      <td>544.238434</td>\n",
       "      <td>553.121356</td>\n",
       "      <td>0.092878</td>\n",
       "      <td>0.0</td>\n",
       "      <td>0.897473</td>\n",
       "      <td>0.887950</td>\n",
       "      <td>0.810838</td>\n",
       "    </tr>\n",
       "    <tr>\n",
       "      <th>1164583</th>\n",
       "      <td>50.378386</td>\n",
       "      <td>48.346253</td>\n",
       "      <td>49.845272</td>\n",
       "      <td>12.541860</td>\n",
       "      <td>25.229317</td>\n",
       "      <td>-1.0</td>\n",
       "      <td>-1.0</td>\n",
       "      <td>4.425390</td>\n",
       "      <td>4.425390</td>\n",
       "      <td>1650.421415</td>\n",
       "      <td>1656.567163</td>\n",
       "      <td>1650.067298</td>\n",
       "      <td>0.124362</td>\n",
       "      <td>0.0</td>\n",
       "      <td>0.285333</td>\n",
       "      <td>0.761893</td>\n",
       "      <td>0.943750</td>\n",
       "    </tr>\n",
       "    <tr>\n",
       "      <th>1433067</th>\n",
       "      <td>73.048497</td>\n",
       "      <td>94.792114</td>\n",
       "      <td>90.384966</td>\n",
       "      <td>22.829496</td>\n",
       "      <td>60.318340</td>\n",
       "      <td>-1.0</td>\n",
       "      <td>-1.0</td>\n",
       "      <td>19.524238</td>\n",
       "      <td>19.524238</td>\n",
       "      <td>1219.810610</td>\n",
       "      <td>1233.072833</td>\n",
       "      <td>1245.119536</td>\n",
       "      <td>0.175185</td>\n",
       "      <td>0.0</td>\n",
       "      <td>0.592074</td>\n",
       "      <td>0.658924</td>\n",
       "      <td>0.551612</td>\n",
       "    </tr>\n",
       "    <tr>\n",
       "      <th>...</th>\n",
       "      <td>...</td>\n",
       "      <td>...</td>\n",
       "      <td>...</td>\n",
       "      <td>...</td>\n",
       "      <td>...</td>\n",
       "      <td>...</td>\n",
       "      <td>...</td>\n",
       "      <td>...</td>\n",
       "      <td>...</td>\n",
       "      <td>...</td>\n",
       "      <td>...</td>\n",
       "      <td>...</td>\n",
       "      <td>...</td>\n",
       "      <td>...</td>\n",
       "      <td>...</td>\n",
       "      <td>...</td>\n",
       "      <td>...</td>\n",
       "    </tr>\n",
       "    <tr>\n",
       "      <th>12647815</th>\n",
       "      <td>10.435607</td>\n",
       "      <td>10.319000</td>\n",
       "      <td>10.457886</td>\n",
       "      <td>0.152735</td>\n",
       "      <td>0.157335</td>\n",
       "      <td>-1.0</td>\n",
       "      <td>-1.0</td>\n",
       "      <td>0.153010</td>\n",
       "      <td>0.153010</td>\n",
       "      <td>4727.467867</td>\n",
       "      <td>4738.331619</td>\n",
       "      <td>4721.753966</td>\n",
       "      <td>0.262546</td>\n",
       "      <td>0.0</td>\n",
       "      <td>0.507515</td>\n",
       "      <td>0.913042</td>\n",
       "      <td>0.531997</td>\n",
       "    </tr>\n",
       "    <tr>\n",
       "      <th>12737258</th>\n",
       "      <td>40.582931</td>\n",
       "      <td>-1.000000</td>\n",
       "      <td>68.880883</td>\n",
       "      <td>0.516426</td>\n",
       "      <td>0.529886</td>\n",
       "      <td>-1.0</td>\n",
       "      <td>-1.0</td>\n",
       "      <td>4.341440</td>\n",
       "      <td>4.341440</td>\n",
       "      <td>2135.495994</td>\n",
       "      <td>-1.000000</td>\n",
       "      <td>2182.683761</td>\n",
       "      <td>0.146861</td>\n",
       "      <td>0.0</td>\n",
       "      <td>-1.000000</td>\n",
       "      <td>-1.000000</td>\n",
       "      <td>0.417198</td>\n",
       "    </tr>\n",
       "    <tr>\n",
       "      <th>12784167</th>\n",
       "      <td>18.262306</td>\n",
       "      <td>-1.000000</td>\n",
       "      <td>91.774170</td>\n",
       "      <td>0.180351</td>\n",
       "      <td>0.183990</td>\n",
       "      <td>-1.0</td>\n",
       "      <td>-1.0</td>\n",
       "      <td>5.227284</td>\n",
       "      <td>5.227284</td>\n",
       "      <td>632.040500</td>\n",
       "      <td>-1.000000</td>\n",
       "      <td>649.511310</td>\n",
       "      <td>0.072066</td>\n",
       "      <td>0.0</td>\n",
       "      <td>-1.000000</td>\n",
       "      <td>-1.000000</td>\n",
       "      <td>0.389153</td>\n",
       "    </tr>\n",
       "    <tr>\n",
       "      <th>12834290</th>\n",
       "      <td>52.692311</td>\n",
       "      <td>-1.000000</td>\n",
       "      <td>74.120140</td>\n",
       "      <td>19.736881</td>\n",
       "      <td>76.394626</td>\n",
       "      <td>-1.0</td>\n",
       "      <td>-1.0</td>\n",
       "      <td>8.976416</td>\n",
       "      <td>8.976416</td>\n",
       "      <td>528.632031</td>\n",
       "      <td>-1.000000</td>\n",
       "      <td>530.260808</td>\n",
       "      <td>0.079475</td>\n",
       "      <td>0.0</td>\n",
       "      <td>-1.000000</td>\n",
       "      <td>-1.000000</td>\n",
       "      <td>0.087674</td>\n",
       "    </tr>\n",
       "    <tr>\n",
       "      <th>12834663</th>\n",
       "      <td>89.966120</td>\n",
       "      <td>-1.000000</td>\n",
       "      <td>99.000477</td>\n",
       "      <td>20.677068</td>\n",
       "      <td>38.595346</td>\n",
       "      <td>-1.0</td>\n",
       "      <td>-1.0</td>\n",
       "      <td>12.222510</td>\n",
       "      <td>12.222510</td>\n",
       "      <td>1084.671035</td>\n",
       "      <td>-1.000000</td>\n",
       "      <td>1084.671035</td>\n",
       "      <td>0.280246</td>\n",
       "      <td>0.0</td>\n",
       "      <td>-1.000000</td>\n",
       "      <td>-1.000000</td>\n",
       "      <td>0.421719</td>\n",
       "    </tr>\n",
       "  </tbody>\n",
       "</table>\n",
       "<p>1991 rows × 17 columns</p>\n",
       "</div>"
      ],
      "text/plain": [
       "             prot_ps   prot_acf    prot_cs  e_prot_ps  E_prot_ps  e_prot_acf  \\\n",
       "target_id                                                                      \n",
       "891901     73.598094  -1.000000  74.018101   0.732699   0.747543        -1.0   \n",
       "1162339    73.048392  -1.000000  73.598676  10.789058  15.248277        -1.0   \n",
       "1163248    73.048768  95.589224  90.385149  26.323119  96.743047        -1.0   \n",
       "1164583    50.378386  48.346253  49.845272  12.541860  25.229317        -1.0   \n",
       "1433067    73.048497  94.792114  90.384966  22.829496  60.318340        -1.0   \n",
       "...              ...        ...        ...        ...        ...         ...   \n",
       "12647815   10.435607  10.319000  10.457886   0.152735   0.157335        -1.0   \n",
       "12737258   40.582931  -1.000000  68.880883   0.516426   0.529886        -1.0   \n",
       "12784167   18.262306  -1.000000  91.774170   0.180351   0.183990        -1.0   \n",
       "12834290   52.692311  -1.000000  74.120140  19.736881  76.394626        -1.0   \n",
       "12834663   89.966120  -1.000000  99.000477  20.677068  38.595346        -1.0   \n",
       "\n",
       "           E_prot_acf  e_prot_cs  E_prot_cs       sph_ps      sph_acf  \\\n",
       "target_id                                                               \n",
       "891901           -1.0   2.837389   2.837389   782.552118    -1.000000   \n",
       "1162339          -1.0   2.794364   2.794364  2266.134459    -1.000000   \n",
       "1163248          -1.0  21.259783  21.259783   541.300214   544.238434   \n",
       "1164583          -1.0   4.425390   4.425390  1650.421415  1656.567163   \n",
       "1433067          -1.0  19.524238  19.524238  1219.810610  1233.072833   \n",
       "...               ...        ...        ...          ...          ...   \n",
       "12647815         -1.0   0.153010   0.153010  4727.467867  4738.331619   \n",
       "12737258         -1.0   4.341440   4.341440  2135.495994    -1.000000   \n",
       "12784167         -1.0   5.227284   5.227284   632.040500    -1.000000   \n",
       "12834290         -1.0   8.976416   8.976416   528.632031    -1.000000   \n",
       "12834663         -1.0  12.222510  12.222510  1084.671035    -1.000000   \n",
       "\n",
       "                sph_cs      h_ps  fa_prob_ps      hacf      gacf       hcs  \n",
       "target_id                                                                   \n",
       "891901      783.117139  0.121354         0.0 -1.000000 -1.000000  0.367294  \n",
       "1162339    2264.819560  0.285520         0.0 -1.000000 -1.000000  0.549277  \n",
       "1163248     553.121356  0.092878         0.0  0.897473  0.887950  0.810838  \n",
       "1164583    1650.067298  0.124362         0.0  0.285333  0.761893  0.943750  \n",
       "1433067    1245.119536  0.175185         0.0  0.592074  0.658924  0.551612  \n",
       "...                ...       ...         ...       ...       ...       ...  \n",
       "12647815   4721.753966  0.262546         0.0  0.507515  0.913042  0.531997  \n",
       "12737258   2182.683761  0.146861         0.0 -1.000000 -1.000000  0.417198  \n",
       "12784167    649.511310  0.072066         0.0 -1.000000 -1.000000  0.389153  \n",
       "12834290    530.260808  0.079475         0.0 -1.000000 -1.000000  0.087674  \n",
       "12834663   1084.671035  0.280246         0.0 -1.000000 -1.000000  0.421719  \n",
       "\n",
       "[1991 rows x 17 columns]"
      ]
     },
     "execution_count": 6,
     "metadata": {},
     "output_type": "execute_result"
    }
   ],
   "source": [
    "df"
   ]
  },
  {
   "cell_type": "markdown",
   "id": "2bd62881-232c-46bd-a43f-3a4fdd652302",
   "metadata": {},
   "source": [
    "## Training and testing ROOSTER\n",
    "\n",
    "Now that we have analysed a large sample of stars, we are able to use it to train the random forest ROOSTER methodology (see Breton et al. 2021). First, let's (arbitrarily) divide our DataFrame into a training set and a test set."
   ]
  },
  {
   "cell_type": "code",
   "execution_count": 7,
   "id": "5008126a-abed-4464-a4ef-b755a90dc60a",
   "metadata": {},
   "outputs": [],
   "source": [
    "df_train = df.loc[df.index[::2]]\n",
    "df_test = df.loc[df.index[1::2]]"
   ]
  },
  {
   "cell_type": "markdown",
   "id": "ae78d48d-7d07-4cc5-8587-cc1e224c7dd6",
   "metadata": {},
   "source": [
    "The DataFrames let us obtain all the input we require to train and test ROOSTER:"
   ]
  },
  {
   "cell_type": "code",
   "execution_count": 8,
   "id": "ba83bdc2-7b32-48f7-8211-2f2152b1c0f9",
   "metadata": {},
   "outputs": [],
   "source": [
    "training_id, training_p_candidates, training_features, feature_names = msap4.create_rooster_feature_inputs (df_train)\n",
    "test_id, test_p_candidates, test_features, test_feature_names = msap4.create_rooster_feature_inputs (df_test)"
   ]
  },
  {
   "cell_type": "markdown",
   "id": "7106924c-c015-4de5-8ab8-28ccf3e24da7",
   "metadata": {},
   "source": [
    "Now, let's instantiate a new ROOSTER object. The main attributes of ROOSTER are its two random forest classifiers, ``RotClass`` and ``PeriodSel``. The properties of these classifiers can be specified by the user by passing the optional arguments of ``sklearn.ensemble.RandomForestClassifier`` to the created ROOSTER instance. "
   ]
  },
  {
   "cell_type": "code",
   "execution_count": 9,
   "id": "f04cfda6-132f-44e3-bf27-42c45b059128",
   "metadata": {},
   "outputs": [
    {
     "data": {
      "text/plain": [
       "(RandomForestClassifier(random_state=RandomState(MT19937) at 0x292B27040),\n",
       " RandomForestClassifier(random_state=RandomState(MT19937) at 0x292B27040))"
      ]
     },
     "execution_count": 9,
     "metadata": {},
     "output_type": "execute_result"
    }
   ],
   "source": [
    "seed = 104359357\n",
    "chicken = msap4.ROOSTER (n_estimators=100, random_state=np.random.RandomState (seed=seed))\n",
    "chicken.RotClass, chicken.PeriodSel"
   ]
  },
  {
   "cell_type": "markdown",
   "id": "fcb2cab0-69ac-4156-825d-7032485cfd6f",
   "metadata": {},
   "source": [
    "The training is performed as follows:"
   ]
  },
  {
   "cell_type": "code",
   "execution_count": 10,
   "id": "ba8c1383-9209-4625-a7a8-4dd8b4629b49",
   "metadata": {},
   "outputs": [
    {
     "name": "stdout",
     "output_type": "stream",
     "text": [
      "Training RotClass with 331 stars with detected rotation and 494 without detected rotation.\n",
      "Training PeriodSel with 331 stars.\n"
     ]
    }
   ],
   "source": [
    "chicken.train (training_id, training_p_candidates,\n",
    "               training_features, feature_names=feature_names,\n",
    "               catalog='santos-19-21', verbose=True)"
   ]
  },
  {
   "cell_type": "markdown",
   "id": "0e65175c-4340-4456-9c92-9e14a4a8061a",
   "metadata": {},
   "source": [
    "Once properly trained, ROOSTER performances can be assessed with our test set:"
   ]
  },
  {
   "cell_type": "code",
   "execution_count": 11,
   "id": "0e53e98e-487b-4c46-abfc-ec97f2de13b1",
   "metadata": {},
   "outputs": [
    {
     "name": "stdout",
     "output_type": "stream",
     "text": [
      "Testing RotClass with 330 stars with detected rotation and 501 without detected rotation.\n",
      "Testing PeriodSel with 330 stars.\n"
     ]
    }
   ],
   "source": [
    "results = chicken.test (test_id, test_p_candidates, test_features, \n",
    "                        feature_names=test_feature_names, \n",
    "                        catalog='santos-19-21', verbose=True)"
   ]
  },
  {
   "cell_type": "markdown",
   "id": "a85962c1-2aeb-41c4-a602-b849f082a35e",
   "metadata": {},
   "source": [
    "The score obtained during the test set can be accessed through the ``getScore`` function, as well as the number of elements used for the training and the test steps. "
   ]
  },
  {
   "cell_type": "code",
   "execution_count": 12,
   "id": "46baae9b-17ee-4dfa-91a2-53a91658239b",
   "metadata": {},
   "outputs": [
    {
     "data": {
      "text/plain": [
       "(0.9590854392298436, 0.9)"
      ]
     },
     "execution_count": 12,
     "metadata": {},
     "output_type": "execute_result"
    }
   ],
   "source": [
    "chicken.getScore ()"
   ]
  },
  {
   "cell_type": "code",
   "execution_count": 13,
   "id": "130bbf1e-262c-4e47-8817-ca57329bbf59",
   "metadata": {},
   "outputs": [
    {
     "data": {
      "text/plain": [
       "(825, 331)"
      ]
     },
     "execution_count": 13,
     "metadata": {},
     "output_type": "execute_result"
    }
   ],
   "source": [
    "chicken.getNumberEltTrain ()"
   ]
  },
  {
   "cell_type": "code",
   "execution_count": 14,
   "id": "863508ce-e3db-4b62-8b62-25c75f962c18",
   "metadata": {},
   "outputs": [
    {
     "data": {
      "text/plain": [
       "(831, 330)"
      ]
     },
     "execution_count": 14,
     "metadata": {},
     "output_type": "execute_result"
    }
   ],
   "source": [
    "chicken.getNumberEltTest ()"
   ]
  },
  {
   "cell_type": "markdown",
   "id": "ec1e3196-a8a7-4a1d-9fff-f0f877902ea8",
   "metadata": {},
   "source": [
    "The $P_\\mathrm{rot}$ computed by ROOSTER for the test set are returned when calling the function and it can be interesting to plot the distribution to compare it to the reference catalog values. "
   ]
  },
  {
   "cell_type": "code",
   "execution_count": 15,
   "id": "48d6f744-bc2a-4242-99a6-e1911c7e0fd4",
   "metadata": {},
   "outputs": [],
   "source": [
    "prot_rooster = results[3]\n",
    "prot_ref = msap4.get_prot_ref (results[2], catalog='santos-19-21')"
   ]
  },
  {
   "cell_type": "markdown",
   "id": "4433ee40-d6a6-4ad5-bcd5-21d8abff62ac",
   "metadata": {},
   "source": [
    "Let's take a look at the corresponding histogram"
   ]
  },
  {
   "cell_type": "code",
   "execution_count": 16,
   "id": "81572edc-2368-4cab-9afa-90de0a62b178",
   "metadata": {},
   "outputs": [
    {
     "data": {
      "text/plain": [
       "<matplotlib.legend.Legend at 0x292511250>"
      ]
     },
     "execution_count": 16,
     "metadata": {},
     "output_type": "execute_result"
    },
    {
     "data": {
      "image/png": "[encoded data removed]",
      "text/plain": [
       "<Figure size 640x480 with 1 Axes>"
      ]
     },
     "metadata": {},
     "output_type": "display_data"
    }
   ],
   "source": [
    "fig, ax = plt.subplots (1, 1)\n",
    "\n",
    "bins = np.linspace (0, 80, 20, endpoint=False)\n",
    "\n",
    "ax.hist (prot_rooster, bins=bins, color='darkorange', label='ROOSTER')\n",
    "ax.hist (prot_ref, bins=bins, facecolor='none',\n",
    "        edgecolor='black', label='Ref')\n",
    "\n",
    "ax.set_xlabel (r'$P_\\mathrm{rot}$ (day)')\n",
    "ax.set_ylabel (r'Number of stars')\n",
    "\n",
    "ax.legend ()"
   ]
  },
  {
   "cell_type": "markdown",
   "id": "21f347d7-625f-4614-9515-c886a699e72e",
   "metadata": {},
   "source": [
    "Finally, let's save our trained ROOSTER instance to be able to use it again later (for example in the next tutorial notebook !)"
   ]
  },
  {
   "cell_type": "code",
   "execution_count": 17,
   "id": "d09042ec-c6ae-4b33-96ae-09d16756b1f7",
   "metadata": {},
   "outputs": [],
   "source": [
    "chicken.save ('rooster_instances/rooster_tutorial')"
   ]
  },
  {
   "cell_type": "code",
   "execution_count": null,
   "id": "90f0401c-630a-4ce2-a029-c87a4e889364",
   "metadata": {},
   "outputs": [],
   "source": []
  }
 ],
 "metadata": {
  "kernelspec": {
   "display_name": "Python 3 (ipykernel)",
   "language": "python",
   "name": "python3"
  },
  "language_info": {
   "codemirror_mode": {
    "name": "ipython",
    "version": 3
   },
   "file_extension": ".py",
   "mimetype": "text/x-python",
   "name": "python",
   "nbconvert_exporter": "python",
   "pygments_lexer": "ipython3",
   "version": "3.9.13"
  }
 },
 "nbformat": 4,
 "nbformat_minor": 5
}
