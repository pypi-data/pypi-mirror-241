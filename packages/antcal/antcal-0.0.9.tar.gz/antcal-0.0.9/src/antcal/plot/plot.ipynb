{
 "cells": [
  {
   "cell_type": "code",
   "execution_count": 1,
   "metadata": {},
   "outputs": [],
   "source": [
    "import numpy as np\n",
    "import pandas as pd\n",
    "import plotly.express as px"
   ]
  },
  {
   "cell_type": "code",
   "execution_count": 2,
   "metadata": {},
   "outputs": [
    {
     "data": {
      "application/vnd.plotly.v1+json": {
       "config": {
        "plotlyServerURL": "https://plot.ly"
       },
       "data": [
        {
         "alignmentgroup": "True",
         "hovertemplate": "x=%{x}<br>y=%{y}<extra></extra>",
         "legendgroup": "",
         "marker": {
          "color": "#636efa",
          "pattern": {
           "shape": ""
          }
         },
         "name": "",
         "offsetgroup": "",
         "orientation": "v",
         "showlegend": false,
         "textposition": "auto",
         "type": "bar",
         "x": [
          "a",
          "b",
          "c"
         ],
         "xaxis": "x",
         "y": [
          1,
          3,
          2
         ],
         "yaxis": "y"
        }
       ],
       "layout": {
        "barmode": "relative",
        "legend": {
         "tracegroupgap": 0
        },
        "margin": {
         "t": 60
        },
        "template": {
         "data": {
          "bar": [
           {
            "error_x": {
             "color": "#2a3f5f"
            },
            "error_y": {
             "color": "#2a3f5f"
            },
            "marker": {
             "line": {
              "color": "#E5ECF6",
              "width": 0.5
             },
             "pattern": {
              "fillmode": "overlay",
              "size": 10,
              "solidity": 0.2
             }
            },
            "type": "bar"
           }
          ],
          "barpolar": [
           {
            "marker": {
             "line": {
              "color": "#E5ECF6",
              "width": 0.5
             },
             "pattern": {
              "fillmode": "overlay",
              "size": 10,
              "solidity": 0.2
             }
            },
            "type": "barpolar"
           }
          ],
          "carpet": [
           {
            "aaxis": {
             "endlinecolor": "#2a3f5f",
             "gridcolor": "white",
             "linecolor": "white",
             "minorgridcolor": "white",
             "startlinecolor": "#2a3f5f"
            },
            "baxis": {
             "endlinecolor": "#2a3f5f",
             "gridcolor": "white",
             "linecolor": "white",
             "minorgridcolor": "white",
             "startlinecolor": "#2a3f5f"
            },
            "type": "carpet"
           }
          ],
          "choropleth": [
           {
            "colorbar": {
             "outlinewidth": 0,
             "ticks": ""
            },
            "type": "choropleth"
           }
          ],
          "contour": [
           {
            "colorbar": {
             "outlinewidth": 0,
             "ticks": ""
            },
            "colorscale": [
             [
              0,
              "#0d0887"
             ],
             [
              0.1111111111111111,
              "#46039f"
             ],
             [
              0.2222222222222222,
              "#7201a8"
             ],
             [
              0.3333333333333333,
              "#9c179e"
             ],
             [
              0.4444444444444444,
              "#bd3786"
             ],
             [
              0.5555555555555556,
              "#d8576b"
             ],
             [
              0.6666666666666666,
              "#ed7953"
             ],
             [
              0.7777777777777778,
              "#fb9f3a"
             ],
             [
              0.8888888888888888,
              "#fdca26"
             ],
             [
              1,
              "#f0f921"
             ]
            ],
            "type": "contour"
           }
          ],
          "contourcarpet": [
           {
            "colorbar": {
             "outlinewidth": 0,
             "ticks": ""
            },
            "type": "contourcarpet"
           }
          ],
          "heatmap": [
           {
            "colorbar": {
             "outlinewidth": 0,
             "ticks": ""
            },
            "colorscale": [
             [
              0,
              "#0d0887"
             ],
             [
              0.1111111111111111,
              "#46039f"
             ],
             [
              0.2222222222222222,
              "#7201a8"
             ],
             [
              0.3333333333333333,
              "#9c179e"
             ],
             [
              0.4444444444444444,
              "#bd3786"
             ],
             [
              0.5555555555555556,
              "#d8576b"
             ],
             [
              0.6666666666666666,
              "#ed7953"
             ],
             [
              0.7777777777777778,
              "#fb9f3a"
             ],
             [
              0.8888888888888888,
              "#fdca26"
             ],
             [
              1,
              "#f0f921"
             ]
            ],
            "type": "heatmap"
           }
          ],
          "heatmapgl": [
           {
            "colorbar": {
             "outlinewidth": 0,
             "ticks": ""
            },
            "colorscale": [
             [
              0,
              "#0d0887"
             ],
             [
              0.1111111111111111,
              "#46039f"
             ],
             [
              0.2222222222222222,
              "#7201a8"
             ],
             [
              0.3333333333333333,
              "#9c179e"
             ],
             [
              0.4444444444444444,
              "#bd3786"
             ],
             [
              0.5555555555555556,
              "#d8576b"
             ],
             [
              0.6666666666666666,
              "#ed7953"
             ],
             [
              0.7777777777777778,
              "#fb9f3a"
             ],
             [
              0.8888888888888888,
              "#fdca26"
             ],
             [
              1,
              "#f0f921"
             ]
            ],
            "type": "heatmapgl"
           }
          ],
          "histogram": [
           {
            "marker": {
             "pattern": {
              "fillmode": "overlay",
              "size": 10,
              "solidity": 0.2
             }
            },
            "type": "histogram"
           }
          ],
          "histogram2d": [
           {
            "colorbar": {
             "outlinewidth": 0,
             "ticks": ""
            },
            "colorscale": [
             [
              0,
              "#0d0887"
             ],
             [
              0.1111111111111111,
              "#46039f"
             ],
             [
              0.2222222222222222,
              "#7201a8"
             ],
             [
              0.3333333333333333,
              "#9c179e"
             ],
             [
              0.4444444444444444,
              "#bd3786"
             ],
             [
              0.5555555555555556,
              "#d8576b"
             ],
             [
              0.6666666666666666,
              "#ed7953"
             ],
             [
              0.7777777777777778,
              "#fb9f3a"
             ],
             [
              0.8888888888888888,
              "#fdca26"
             ],
             [
              1,
              "#f0f921"
             ]
            ],
            "type": "histogram2d"
           }
          ],
          "histogram2dcontour": [
           {
            "colorbar": {
             "outlinewidth": 0,
             "ticks": ""
            },
            "colorscale": [
             [
              0,
              "#0d0887"
             ],
             [
              0.1111111111111111,
              "#46039f"
             ],
             [
              0.2222222222222222,
              "#7201a8"
             ],
             [
              0.3333333333333333,
              "#9c179e"
             ],
             [
              0.4444444444444444,
              "#bd3786"
             ],
             [
              0.5555555555555556,
              "#d8576b"
             ],
             [
              0.6666666666666666,
              "#ed7953"
             ],
             [
              0.7777777777777778,
              "#fb9f3a"
             ],
             [
              0.8888888888888888,
              "#fdca26"
             ],
             [
              1,
              "#f0f921"
             ]
            ],
            "type": "histogram2dcontour"
           }
          ],
          "mesh3d": [
           {
            "colorbar": {
             "outlinewidth": 0,
             "ticks": ""
            },
            "type": "mesh3d"
           }
          ],
          "parcoords": [
           {
            "line": {
             "colorbar": {
              "outlinewidth": 0,
              "ticks": ""
             }
            },
            "type": "parcoords"
           }
          ],
          "pie": [
           {
            "automargin": true,
            "type": "pie"
           }
          ],
          "scatter": [
           {
            "fillpattern": {
             "fillmode": "overlay",
             "size": 10,
             "solidity": 0.2
            },
            "type": "scatter"
           }
          ],
          "scatter3d": [
           {
            "line": {
             "colorbar": {
              "outlinewidth": 0,
              "ticks": ""
             }
            },
            "marker": {
             "colorbar": {
              "outlinewidth": 0,
              "ticks": ""
             }
            },
            "type": "scatter3d"
           }
          ],
          "scattercarpet": [
           {
            "marker": {
             "colorbar": {
              "outlinewidth": 0,
              "ticks": ""
             }
            },
            "type": "scattercarpet"
           }
          ],
          "scattergeo": [
           {
            "marker": {
             "colorbar": {
              "outlinewidth": 0,
              "ticks": ""
             }
            },
            "type": "scattergeo"
           }
          ],
          "scattergl": [
           {
            "marker": {
             "colorbar": {
              "outlinewidth": 0,
              "ticks": ""
             }
            },
            "type": "scattergl"
           }
          ],
          "scattermapbox": [
           {
            "marker": {
             "colorbar": {
              "outlinewidth": 0,
              "ticks": ""
             }
            },
            "type": "scattermapbox"
           }
          ],
          "scatterpolar": [
           {
            "marker": {
             "colorbar": {
              "outlinewidth": 0,
              "ticks": ""
             }
            },
            "type": "scatterpolar"
           }
          ],
          "scatterpolargl": [
           {
            "marker": {
             "colorbar": {
              "outlinewidth": 0,
              "ticks": ""
             }
            },
            "type": "scatterpolargl"
           }
          ],
          "scatterternary": [
           {
            "marker": {
             "colorbar": {
              "outlinewidth": 0,
              "ticks": ""
             }
            },
            "type": "scatterternary"
           }
          ],
          "surface": [
           {
            "colorbar": {
             "outlinewidth": 0,
             "ticks": ""
            },
            "colorscale": [
             [
              0,
              "#0d0887"
             ],
             [
              0.1111111111111111,
              "#46039f"
             ],
             [
              0.2222222222222222,
              "#7201a8"
             ],
             [
              0.3333333333333333,
              "#9c179e"
             ],
             [
              0.4444444444444444,
              "#bd3786"
             ],
             [
              0.5555555555555556,
              "#d8576b"
             ],
             [
              0.6666666666666666,
              "#ed7953"
             ],
             [
              0.7777777777777778,
              "#fb9f3a"
             ],
             [
              0.8888888888888888,
              "#fdca26"
             ],
             [
              1,
              "#f0f921"
             ]
            ],
            "type": "surface"
           }
          ],
          "table": [
           {
            "cells": {
             "fill": {
              "color": "#EBF0F8"
             },
             "line": {
              "color": "white"
             }
            },
            "header": {
             "fill": {
              "color": "#C8D4E3"
             },
             "line": {
              "color": "white"
             }
            },
            "type": "table"
           }
          ]
         },
         "layout": {
          "annotationdefaults": {
           "arrowcolor": "#2a3f5f",
           "arrowhead": 0,
           "arrowwidth": 1
          },
          "autotypenumbers": "strict",
          "coloraxis": {
           "colorbar": {
            "outlinewidth": 0,
            "ticks": ""
           }
          },
          "colorscale": {
           "diverging": [
            [
             0,
             "#8e0152"
            ],
            [
             0.1,
             "#c51b7d"
            ],
            [
             0.2,
             "#de77ae"
            ],
            [
             0.3,
             "#f1b6da"
            ],
            [
             0.4,
             "#fde0ef"
            ],
            [
             0.5,
             "#f7f7f7"
            ],
            [
             0.6,
             "#e6f5d0"
            ],
            [
             0.7,
             "#b8e186"
            ],
            [
             0.8,
             "#7fbc41"
            ],
            [
             0.9,
             "#4d9221"
            ],
            [
             1,
             "#276419"
            ]
           ],
           "sequential": [
            [
             0,
             "#0d0887"
            ],
            [
             0.1111111111111111,
             "#46039f"
            ],
            [
             0.2222222222222222,
             "#7201a8"
            ],
            [
             0.3333333333333333,
             "#9c179e"
            ],
            [
             0.4444444444444444,
             "#bd3786"
            ],
            [
             0.5555555555555556,
             "#d8576b"
            ],
            [
             0.6666666666666666,
             "#ed7953"
            ],
            [
             0.7777777777777778,
             "#fb9f3a"
            ],
            [
             0.8888888888888888,
             "#fdca26"
            ],
            [
             1,
             "#f0f921"
            ]
           ],
           "sequentialminus": [
            [
             0,
             "#0d0887"
            ],
            [
             0.1111111111111111,
             "#46039f"
            ],
            [
             0.2222222222222222,
             "#7201a8"
            ],
            [
             0.3333333333333333,
             "#9c179e"
            ],
            [
             0.4444444444444444,
             "#bd3786"
            ],
            [
             0.5555555555555556,
             "#d8576b"
            ],
            [
             0.6666666666666666,
             "#ed7953"
            ],
            [
             0.7777777777777778,
             "#fb9f3a"
            ],
            [
             0.8888888888888888,
             "#fdca26"
            ],
            [
             1,
             "#f0f921"
            ]
           ]
          },
          "colorway": [
           "#636efa",
           "#EF553B",
           "#00cc96",
           "#ab63fa",
           "#FFA15A",
           "#19d3f3",
           "#FF6692",
           "#B6E880",
           "#FF97FF",
           "#FECB52"
          ],
          "font": {
           "color": "#2a3f5f"
          },
          "geo": {
           "bgcolor": "white",
           "lakecolor": "white",
           "landcolor": "#E5ECF6",
           "showlakes": true,
           "showland": true,
           "subunitcolor": "white"
          },
          "hoverlabel": {
           "align": "left"
          },
          "hovermode": "closest",
          "mapbox": {
           "style": "light"
          },
          "paper_bgcolor": "white",
          "plot_bgcolor": "#E5ECF6",
          "polar": {
           "angularaxis": {
            "gridcolor": "white",
            "linecolor": "white",
            "ticks": ""
           },
           "bgcolor": "#E5ECF6",
           "radialaxis": {
            "gridcolor": "white",
            "linecolor": "white",
            "ticks": ""
           }
          },
          "scene": {
           "xaxis": {
            "backgroundcolor": "#E5ECF6",
            "gridcolor": "white",
            "gridwidth": 2,
            "linecolor": "white",
            "showbackground": true,
            "ticks": "",
            "zerolinecolor": "white"
           },
           "yaxis": {
            "backgroundcolor": "#E5ECF6",
            "gridcolor": "white",
            "gridwidth": 2,
            "linecolor": "white",
            "showbackground": true,
            "ticks": "",
            "zerolinecolor": "white"
           },
           "zaxis": {
            "backgroundcolor": "#E5ECF6",
            "gridcolor": "white",
            "gridwidth": 2,
            "linecolor": "white",
            "showbackground": true,
            "ticks": "",
            "zerolinecolor": "white"
           }
          },
          "shapedefaults": {
           "line": {
            "color": "#2a3f5f"
           }
          },
          "ternary": {
           "aaxis": {
            "gridcolor": "white",
            "linecolor": "white",
            "ticks": ""
           },
           "baxis": {
            "gridcolor": "white",
            "linecolor": "white",
            "ticks": ""
           },
           "bgcolor": "#E5ECF6",
           "caxis": {
            "gridcolor": "white",
            "linecolor": "white",
            "ticks": ""
           }
          },
          "title": {
           "x": 0.05
          },
          "xaxis": {
           "automargin": true,
           "gridcolor": "white",
           "linecolor": "white",
           "ticks": "",
           "title": {
            "standoff": 15
           },
           "zerolinecolor": "white",
           "zerolinewidth": 2
          },
          "yaxis": {
           "automargin": true,
           "gridcolor": "white",
           "linecolor": "white",
           "ticks": "",
           "title": {
            "standoff": 15
           },
           "zerolinecolor": "white",
           "zerolinewidth": 2
          }
         }
        },
        "xaxis": {
         "anchor": "y",
         "domain": [
          0,
          1
         ],
         "title": {
          "text": "x"
         }
        },
        "yaxis": {
         "anchor": "x",
         "domain": [
          0,
          1
         ],
         "title": {
          "text": "y"
         }
        }
       }
      }
     },
     "metadata": {},
     "output_type": "display_data"
    }
   ],
   "source": [
    "fig = px.bar(x=[\"a\", \"b\", \"c\"], y=[1, 3, 2])\n",
    "fig.show()\n"
   ]
  },
  {
   "cell_type": "code",
   "execution_count": 3,
   "metadata": {},
   "outputs": [
    {
     "data": {
      "application/vnd.jupyter.widget-view+json": {
       "model_id": "50e85074014e457095e42547e97f8d0c",
       "version_major": 2,
       "version_minor": 0
      },
      "text/plain": [
       "FigureWidget({\n",
       "    'data': [{'alignmentgroup': 'True',\n",
       "              'hovertemplate': 'x=%{x}<br>y=%{y}<extra></extra>',\n",
       "              'legendgroup': '',\n",
       "              'marker': {'color': '#636efa', 'pattern': {'shape': ''}},\n",
       "              'name': '',\n",
       "              'offsetgroup': '',\n",
       "              'orientation': 'v',\n",
       "              'showlegend': False,\n",
       "              'textposition': 'auto',\n",
       "              'type': 'bar',\n",
       "              'uid': '90ad8a2d-2dfc-4aaa-b8ff-2a98927d1153',\n",
       "              'x': array(['a', 'b', 'c'], dtype=object),\n",
       "              'xaxis': 'x',\n",
       "              'y': array([1, 3, 2], dtype=int64),\n",
       "              'yaxis': 'y'}],\n",
       "    'layout': {'barmode': 'relative',\n",
       "               'legend': {'tracegroupgap': 0},\n",
       "               'margin': {'t': 60},\n",
       "               'template': '...',\n",
       "               'xaxis': {'anchor': 'y', 'domain': [0.0, 1.0], 'title': {'text': 'x'}},\n",
       "               'yaxis': {'anchor': 'x', 'domain': [0.0, 1.0], 'title': {'text': 'y'}}}\n",
       "})"
      ]
     },
     "execution_count": 3,
     "metadata": {},
     "output_type": "execute_result"
    }
   ],
   "source": [
    "import plotly.graph_objects as go\n",
    "fig_widget = go.FigureWidget(fig)\n",
    "fig_widget"
   ]
  },
  {
   "cell_type": "code",
   "execution_count": 4,
   "metadata": {},
   "outputs": [
    {
     "data": {
      "application/vnd.plotly.v1+json": {
       "config": {
        "plotlyServerURL": "https://plot.ly"
       },
       "data": [
        {
         "hovertemplate": "species=setosa<br>sepal_width=%{x}<br>sepal_length=%{y}<extra></extra>",
         "legendgroup": "setosa",
         "marker": {
          "color": "#636efa",
          "symbol": "circle"
         },
         "mode": "markers",
         "name": "setosa",
         "orientation": "v",
         "showlegend": true,
         "type": "scatter",
         "x": [
          3.5,
          3,
          3.2,
          3.1,
          3.6,
          3.9,
          3.4,
          3.4,
          2.9,
          3.1,
          3.7,
          3.4,
          3,
          3,
          4,
          4.4,
          3.9,
          3.5,
          3.8,
          3.8,
          3.4,
          3.7,
          3.6,
          3.3,
          3.4,
          3,
          3.4,
          3.5,
          3.4,
          3.2,
          3.1,
          3.4,
          4.1,
          4.2,
          3.1,
          3.2,
          3.5,
          3.1,
          3,
          3.4,
          3.5,
          2.3,
          3.2,
          3.5,
          3.8,
          3,
          3.8,
          3.2,
          3.7,
          3.3
         ],
         "xaxis": "x",
         "y": [
          5.1,
          4.9,
          4.7,
          4.6,
          5,
          5.4,
          4.6,
          5,
          4.4,
          4.9,
          5.4,
          4.8,
          4.8,
          4.3,
          5.8,
          5.7,
          5.4,
          5.1,
          5.7,
          5.1,
          5.4,
          5.1,
          4.6,
          5.1,
          4.8,
          5,
          5,
          5.2,
          5.2,
          4.7,
          4.8,
          5.4,
          5.2,
          5.5,
          4.9,
          5,
          5.5,
          4.9,
          4.4,
          5.1,
          5,
          4.5,
          4.4,
          5,
          5.1,
          4.8,
          5.1,
          4.6,
          5.3,
          5
         ],
         "yaxis": "y"
        },
        {
         "hovertemplate": "species=versicolor<br>sepal_width=%{x}<br>sepal_length=%{y}<extra></extra>",
         "legendgroup": "versicolor",
         "marker": {
          "color": "#EF553B",
          "symbol": "circle"
         },
         "mode": "markers",
         "name": "versicolor",
         "orientation": "v",
         "showlegend": true,
         "type": "scatter",
         "x": [
          3.2,
          3.2,
          3.1,
          2.3,
          2.8,
          2.8,
          3.3,
          2.4,
          2.9,
          2.7,
          2,
          3,
          2.2,
          2.9,
          2.9,
          3.1,
          3,
          2.7,
          2.2,
          2.5,
          3.2,
          2.8,
          2.5,
          2.8,
          2.9,
          3,
          2.8,
          3,
          2.9,
          2.6,
          2.4,
          2.4,
          2.7,
          2.7,
          3,
          3.4,
          3.1,
          2.3,
          3,
          2.5,
          2.6,
          3,
          2.6,
          2.3,
          2.7,
          3,
          2.9,
          2.9,
          2.5,
          2.8
         ],
         "xaxis": "x",
         "y": [
          7,
          6.4,
          6.9,
          5.5,
          6.5,
          5.7,
          6.3,
          4.9,
          6.6,
          5.2,
          5,
          5.9,
          6,
          6.1,
          5.6,
          6.7,
          5.6,
          5.8,
          6.2,
          5.6,
          5.9,
          6.1,
          6.3,
          6.1,
          6.4,
          6.6,
          6.8,
          6.7,
          6,
          5.7,
          5.5,
          5.5,
          5.8,
          6,
          5.4,
          6,
          6.7,
          6.3,
          5.6,
          5.5,
          5.5,
          6.1,
          5.8,
          5,
          5.6,
          5.7,
          5.7,
          6.2,
          5.1,
          5.7
         ],
         "yaxis": "y"
        },
        {
         "hovertemplate": "species=virginica<br>sepal_width=%{x}<br>sepal_length=%{y}<extra></extra>",
         "legendgroup": "virginica",
         "marker": {
          "color": "#00cc96",
          "symbol": "circle"
         },
         "mode": "markers",
         "name": "virginica",
         "orientation": "v",
         "showlegend": true,
         "type": "scatter",
         "x": [
          3.3,
          2.7,
          3,
          2.9,
          3,
          3,
          2.5,
          2.9,
          2.5,
          3.6,
          3.2,
          2.7,
          3,
          2.5,
          2.8,
          3.2,
          3,
          3.8,
          2.6,
          2.2,
          3.2,
          2.8,
          2.8,
          2.7,
          3.3,
          3.2,
          2.8,
          3,
          2.8,
          3,
          2.8,
          3.8,
          2.8,
          2.8,
          2.6,
          3,
          3.4,
          3.1,
          3,
          3.1,
          3.1,
          3.1,
          2.7,
          3.2,
          3.3,
          3,
          2.5,
          3,
          3.4,
          3
         ],
         "xaxis": "x",
         "y": [
          6.3,
          5.8,
          7.1,
          6.3,
          6.5,
          7.6,
          4.9,
          7.3,
          6.7,
          7.2,
          6.5,
          6.4,
          6.8,
          5.7,
          5.8,
          6.4,
          6.5,
          7.7,
          7.7,
          6,
          6.9,
          5.6,
          7.7,
          6.3,
          6.7,
          7.2,
          6.2,
          6.1,
          6.4,
          7.2,
          7.4,
          7.9,
          6.4,
          6.3,
          6.1,
          7.7,
          6.3,
          6.4,
          6,
          6.9,
          6.7,
          6.9,
          5.8,
          6.8,
          6.7,
          6.7,
          6.3,
          6.5,
          6.2,
          5.9
         ],
         "yaxis": "y"
        }
       ],
       "layout": {
        "legend": {
         "title": {
          "text": "species"
         },
         "tracegroupgap": 0
        },
        "template": {
         "data": {
          "bar": [
           {
            "error_x": {
             "color": "#2a3f5f"
            },
            "error_y": {
             "color": "#2a3f5f"
            },
            "marker": {
             "line": {
              "color": "#E5ECF6",
              "width": 0.5
             },
             "pattern": {
              "fillmode": "overlay",
              "size": 10,
              "solidity": 0.2
             }
            },
            "type": "bar"
           }
          ],
          "barpolar": [
           {
            "marker": {
             "line": {
              "color": "#E5ECF6",
              "width": 0.5
             },
             "pattern": {
              "fillmode": "overlay",
              "size": 10,
              "solidity": 0.2
             }
            },
            "type": "barpolar"
           }
          ],
          "carpet": [
           {
            "aaxis": {
             "endlinecolor": "#2a3f5f",
             "gridcolor": "white",
             "linecolor": "white",
             "minorgridcolor": "white",
             "startlinecolor": "#2a3f5f"
            },
            "baxis": {
             "endlinecolor": "#2a3f5f",
             "gridcolor": "white",
             "linecolor": "white",
             "minorgridcolor": "white",
             "startlinecolor": "#2a3f5f"
            },
            "type": "carpet"
           }
          ],
          "choropleth": [
           {
            "colorbar": {
             "outlinewidth": 0,
             "ticks": ""
            },
            "type": "choropleth"
           }
          ],
          "contour": [
           {
            "colorbar": {
             "outlinewidth": 0,
             "ticks": ""
            },
            "colorscale": [
             [
              0,
              "#0d0887"
             ],
             [
              0.1111111111111111,
              "#46039f"
             ],
             [
              0.2222222222222222,
              "#7201a8"
             ],
             [
              0.3333333333333333,
              "#9c179e"
             ],
             [
              0.4444444444444444,
              "#bd3786"
             ],
             [
              0.5555555555555556,
              "#d8576b"
             ],
             [
              0.6666666666666666,
              "#ed7953"
             ],
             [
              0.7777777777777778,
              "#fb9f3a"
             ],
             [
              0.8888888888888888,
              "#fdca26"
             ],
             [
              1,
              "#f0f921"
             ]
            ],
            "type": "contour"
           }
          ],
          "contourcarpet": [
           {
            "colorbar": {
             "outlinewidth": 0,
             "ticks": ""
            },
            "type": "contourcarpet"
           }
          ],
          "heatmap": [
           {
            "colorbar": {
             "outlinewidth": 0,
             "ticks": ""
            },
            "colorscale": [
             [
              0,
              "#0d0887"
             ],
             [
              0.1111111111111111,
              "#46039f"
             ],
             [
              0.2222222222222222,
              "#7201a8"
             ],
             [
              0.3333333333333333,
              "#9c179e"
             ],
             [
              0.4444444444444444,
              "#bd3786"
             ],
             [
              0.5555555555555556,
              "#d8576b"
             ],
             [
              0.6666666666666666,
              "#ed7953"
             ],
             [
              0.7777777777777778,
              "#fb9f3a"
             ],
             [
              0.8888888888888888,
              "#fdca26"
             ],
             [
              1,
              "#f0f921"
             ]
            ],
            "type": "heatmap"
           }
          ],
          "heatmapgl": [
           {
            "colorbar": {
             "outlinewidth": 0,
             "ticks": ""
            },
            "colorscale": [
             [
              0,
              "#0d0887"
             ],
             [
              0.1111111111111111,
              "#46039f"
             ],
             [
              0.2222222222222222,
              "#7201a8"
             ],
             [
              0.3333333333333333,
              "#9c179e"
             ],
             [
              0.4444444444444444,
              "#bd3786"
             ],
             [
              0.5555555555555556,
              "#d8576b"
             ],
             [
              0.6666666666666666,
              "#ed7953"
             ],
             [
              0.7777777777777778,
              "#fb9f3a"
             ],
             [
              0.8888888888888888,
              "#fdca26"
             ],
             [
              1,
              "#f0f921"
             ]
            ],
            "type": "heatmapgl"
           }
          ],
          "histogram": [
           {
            "marker": {
             "pattern": {
              "fillmode": "overlay",
              "size": 10,
              "solidity": 0.2
             }
            },
            "type": "histogram"
           }
          ],
          "histogram2d": [
           {
            "colorbar": {
             "outlinewidth": 0,
             "ticks": ""
            },
            "colorscale": [
             [
              0,
              "#0d0887"
             ],
             [
              0.1111111111111111,
              "#46039f"
             ],
             [
              0.2222222222222222,
              "#7201a8"
             ],
             [
              0.3333333333333333,
              "#9c179e"
             ],
             [
              0.4444444444444444,
              "#bd3786"
             ],
             [
              0.5555555555555556,
              "#d8576b"
             ],
             [
              0.6666666666666666,
              "#ed7953"
             ],
             [
              0.7777777777777778,
              "#fb9f3a"
             ],
             [
              0.8888888888888888,
              "#fdca26"
             ],
             [
              1,
              "#f0f921"
             ]
            ],
            "type": "histogram2d"
           }
          ],
          "histogram2dcontour": [
           {
            "colorbar": {
             "outlinewidth": 0,
             "ticks": ""
            },
            "colorscale": [
             [
              0,
              "#0d0887"
             ],
             [
              0.1111111111111111,
              "#46039f"
             ],
             [
              0.2222222222222222,
              "#7201a8"
             ],
             [
              0.3333333333333333,
              "#9c179e"
             ],
             [
              0.4444444444444444,
              "#bd3786"
             ],
             [
              0.5555555555555556,
              "#d8576b"
             ],
             [
              0.6666666666666666,
              "#ed7953"
             ],
             [
              0.7777777777777778,
              "#fb9f3a"
             ],
             [
              0.8888888888888888,
              "#fdca26"
             ],
             [
              1,
              "#f0f921"
             ]
            ],
            "type": "histogram2dcontour"
           }
          ],
          "mesh3d": [
           {
            "colorbar": {
             "outlinewidth": 0,
             "ticks": ""
            },
            "type": "mesh3d"
           }
          ],
          "parcoords": [
           {
            "line": {
             "colorbar": {
              "outlinewidth": 0,
              "ticks": ""
             }
            },
            "type": "parcoords"
           }
          ],
          "pie": [
           {
            "automargin": true,
            "type": "pie"
           }
          ],
          "scatter": [
           {
            "fillpattern": {
             "fillmode": "overlay",
             "size": 10,
             "solidity": 0.2
            },
            "type": "scatter"
           }
          ],
          "scatter3d": [
           {
            "line": {
             "colorbar": {
              "outlinewidth": 0,
              "ticks": ""
             }
            },
            "marker": {
             "colorbar": {
              "outlinewidth": 0,
              "ticks": ""
             }
            },
            "type": "scatter3d"
           }
          ],
          "scattercarpet": [
           {
            "marker": {
             "colorbar": {
              "outlinewidth": 0,
              "ticks": ""
             }
            },
            "type": "scattercarpet"
           }
          ],
          "scattergeo": [
           {
            "marker": {
             "colorbar": {
              "outlinewidth": 0,
              "ticks": ""
             }
            },
            "type": "scattergeo"
           }
          ],
          "scattergl": [
           {
            "marker": {
             "colorbar": {
              "outlinewidth": 0,
              "ticks": ""
             }
            },
            "type": "scattergl"
           }
          ],
          "scattermapbox": [
           {
            "marker": {
             "colorbar": {
              "outlinewidth": 0,
              "ticks": ""
             }
            },
            "type": "scattermapbox"
           }
          ],
          "scatterpolar": [
           {
            "marker": {
             "colorbar": {
              "outlinewidth": 0,
              "ticks": ""
             }
            },
            "type": "scatterpolar"
           }
          ],
          "scatterpolargl": [
           {
            "marker": {
             "colorbar": {
              "outlinewidth": 0,
              "ticks": ""
             }
            },
            "type": "scatterpolargl"
           }
          ],
          "scatterternary": [
           {
            "marker": {
             "colorbar": {
              "outlinewidth": 0,
              "ticks": ""
             }
            },
            "type": "scatterternary"
           }
          ],
          "surface": [
           {
            "colorbar": {
             "outlinewidth": 0,
             "ticks": ""
            },
            "colorscale": [
             [
              0,
              "#0d0887"
             ],
             [
              0.1111111111111111,
              "#46039f"
             ],
             [
              0.2222222222222222,
              "#7201a8"
             ],
             [
              0.3333333333333333,
              "#9c179e"
             ],
             [
              0.4444444444444444,
              "#bd3786"
             ],
             [
              0.5555555555555556,
              "#d8576b"
             ],
             [
              0.6666666666666666,
              "#ed7953"
             ],
             [
              0.7777777777777778,
              "#fb9f3a"
             ],
             [
              0.8888888888888888,
              "#fdca26"
             ],
             [
              1,
              "#f0f921"
             ]
            ],
            "type": "surface"
           }
          ],
          "table": [
           {
            "cells": {
             "fill": {
              "color": "#EBF0F8"
             },
             "line": {
              "color": "white"
             }
            },
            "header": {
             "fill": {
              "color": "#C8D4E3"
             },
             "line": {
              "color": "white"
             }
            },
            "type": "table"
           }
          ]
         },
         "layout": {
          "annotationdefaults": {
           "arrowcolor": "#2a3f5f",
           "arrowhead": 0,
           "arrowwidth": 1
          },
          "autotypenumbers": "strict",
          "coloraxis": {
           "colorbar": {
            "outlinewidth": 0,
            "ticks": ""
           }
          },
          "colorscale": {
           "diverging": [
            [
             0,
             "#8e0152"
            ],
            [
             0.1,
             "#c51b7d"
            ],
            [
             0.2,
             "#de77ae"
            ],
            [
             0.3,
             "#f1b6da"
            ],
            [
             0.4,
             "#fde0ef"
            ],
            [
             0.5,
             "#f7f7f7"
            ],
            [
             0.6,
             "#e6f5d0"
            ],
            [
             0.7,
             "#b8e186"
            ],
            [
             0.8,
             "#7fbc41"
            ],
            [
             0.9,
             "#4d9221"
            ],
            [
             1,
             "#276419"
            ]
           ],
           "sequential": [
            [
             0,
             "#0d0887"
            ],
            [
             0.1111111111111111,
             "#46039f"
            ],
            [
             0.2222222222222222,
             "#7201a8"
            ],
            [
             0.3333333333333333,
             "#9c179e"
            ],
            [
             0.4444444444444444,
             "#bd3786"
            ],
            [
             0.5555555555555556,
             "#d8576b"
            ],
            [
             0.6666666666666666,
             "#ed7953"
            ],
            [
             0.7777777777777778,
             "#fb9f3a"
            ],
            [
             0.8888888888888888,
             "#fdca26"
            ],
            [
             1,
             "#f0f921"
            ]
           ],
           "sequentialminus": [
            [
             0,
             "#0d0887"
            ],
            [
             0.1111111111111111,
             "#46039f"
            ],
            [
             0.2222222222222222,
             "#7201a8"
            ],
            [
             0.3333333333333333,
             "#9c179e"
            ],
            [
             0.4444444444444444,
             "#bd3786"
            ],
            [
             0.5555555555555556,
             "#d8576b"
            ],
            [
             0.6666666666666666,
             "#ed7953"
            ],
            [
             0.7777777777777778,
             "#fb9f3a"
            ],
            [
             0.8888888888888888,
             "#fdca26"
            ],
            [
             1,
             "#f0f921"
            ]
           ]
          },
          "colorway": [
           "#636efa",
           "#EF553B",
           "#00cc96",
           "#ab63fa",
           "#FFA15A",
           "#19d3f3",
           "#FF6692",
           "#B6E880",
           "#FF97FF",
           "#FECB52"
          ],
          "font": {
           "color": "#2a3f5f"
          },
          "geo": {
           "bgcolor": "white",
           "lakecolor": "white",
           "landcolor": "#E5ECF6",
           "showlakes": true,
           "showland": true,
           "subunitcolor": "white"
          },
          "hoverlabel": {
           "align": "left"
          },
          "hovermode": "closest",
          "mapbox": {
           "style": "light"
          },
          "paper_bgcolor": "white",
          "plot_bgcolor": "#E5ECF6",
          "polar": {
           "angularaxis": {
            "gridcolor": "white",
            "linecolor": "white",
            "ticks": ""
           },
           "bgcolor": "#E5ECF6",
           "radialaxis": {
            "gridcolor": "white",
            "linecolor": "white",
            "ticks": ""
           }
          },
          "scene": {
           "xaxis": {
            "backgroundcolor": "#E5ECF6",
            "gridcolor": "white",
            "gridwidth": 2,
            "linecolor": "white",
            "showbackground": true,
            "ticks": "",
            "zerolinecolor": "white"
           },
           "yaxis": {
            "backgroundcolor": "#E5ECF6",
            "gridcolor": "white",
            "gridwidth": 2,
            "linecolor": "white",
            "showbackground": true,
            "ticks": "",
            "zerolinecolor": "white"
           },
           "zaxis": {
            "backgroundcolor": "#E5ECF6",
            "gridcolor": "white",
            "gridwidth": 2,
            "linecolor": "white",
            "showbackground": true,
            "ticks": "",
            "zerolinecolor": "white"
           }
          },
          "shapedefaults": {
           "line": {
            "color": "#2a3f5f"
           }
          },
          "ternary": {
           "aaxis": {
            "gridcolor": "white",
            "linecolor": "white",
            "ticks": ""
           },
           "baxis": {
            "gridcolor": "white",
            "linecolor": "white",
            "ticks": ""
           },
           "bgcolor": "#E5ECF6",
           "caxis": {
            "gridcolor": "white",
            "linecolor": "white",
            "ticks": ""
           }
          },
          "title": {
           "x": 0.05
          },
          "xaxis": {
           "automargin": true,
           "gridcolor": "white",
           "linecolor": "white",
           "ticks": "",
           "title": {
            "standoff": 15
           },
           "zerolinecolor": "white",
           "zerolinewidth": 2
          },
          "yaxis": {
           "automargin": true,
           "gridcolor": "white",
           "linecolor": "white",
           "ticks": "",
           "title": {
            "standoff": 15
           },
           "zerolinecolor": "white",
           "zerolinewidth": 2
          }
         }
        },
        "title": {
         "text": "A Plotly Express Figure"
        },
        "xaxis": {
         "anchor": "y",
         "domain": [
          0,
          1
         ],
         "title": {
          "text": "sepal_width"
         }
        },
        "yaxis": {
         "anchor": "x",
         "domain": [
          0,
          1
         ],
         "title": {
          "text": "sepal_length"
         }
        }
       }
      }
     },
     "metadata": {},
     "output_type": "display_data"
    }
   ],
   "source": [
    "import plotly.express as px\n",
    "\n",
    "df = px.data.iris()\n",
    "fig = px.scatter(df, x=\"sepal_width\", y=\"sepal_length\", color=\"species\", title=\"A Plotly Express Figure\")\n",
    "\n",
    "# If you print the figure, you'll see that it's just a regular figure with data and layout\n",
    "# print(fig)\n",
    "\n",
    "fig.show()"
   ]
  },
  {
   "cell_type": "code",
   "execution_count": 5,
   "metadata": {},
   "outputs": [
    {
     "data": {
      "application/vnd.plotly.v1+json": {
       "config": {
        "plotlyServerURL": "https://plot.ly"
       },
       "data": [
        {
         "mode": "lines",
         "type": "scatter",
         "x": [
          0,
          0,
          null,
          0.2,
          0.2,
          null,
          0.4,
          0.4,
          null,
          0.6000000000000001,
          0.6000000000000001,
          null,
          0.8,
          0.8,
          null,
          1,
          1,
          null,
          1.2000000000000002,
          1.2000000000000002,
          null,
          1.4000000000000001,
          1.4000000000000001,
          null,
          1.6,
          1.6,
          null,
          1.8,
          1.8,
          null,
          0,
          0.020000000000000004,
          null,
          0.2,
          0.21960133155682485,
          null,
          0.4,
          0.4184212198800577,
          null,
          0.6000000000000001,
          0.6165067122981936,
          null,
          0.8,
          0.8139341341869434,
          null,
          1,
          1.0108060461173627,
          null,
          1.2000000000000002,
          1.2072471550895336,
          null,
          1.4000000000000001,
          1.403399342858005,
          null,
          1.6,
          1.5994160095539742,
          null,
          1.8,
          1.7954559581061382,
          null,
          0,
          0.04000000000000001,
          null,
          0.2,
          0.23920266311364968,
          null,
          0.4,
          0.43684243976011544,
          null,
          0.6000000000000001,
          0.6330134245963872,
          null,
          0.8,
          0.8278682683738867,
          null,
          1,
          1.0216120922347256,
          null,
          1.2000000000000002,
          1.214494310179067,
          null,
          1.4000000000000001,
          1.4067986857160097,
          null,
          1.6,
          1.5988320191079486,
          null,
          1.8,
          1.7909119162122766,
          null,
          0,
          0.06000000000000001,
          null,
          0.2,
          0.25880399467047455,
          null,
          0.4,
          0.4552636596401731,
          null,
          0.6000000000000001,
          0.6495201368945808,
          null,
          0.8,
          0.8418024025608299,
          null,
          1,
          1.0324181383520883,
          null,
          1.2000000000000002,
          1.2217414652686005,
          null,
          1.4000000000000001,
          1.4101980285740146,
          null,
          1.6,
          1.5982480286619227,
          null,
          1.8,
          1.7863678743184148,
          null,
          0,
          0.08000000000000002,
          null,
          0.2,
          0.27840532622729935,
          null,
          0.4,
          0.47368487952023086,
          null,
          0.6000000000000001,
          0.6660268491927743,
          null,
          0.8,
          0.8557365367477733,
          null,
          1,
          1.0432241844694512,
          null,
          1.2000000000000002,
          1.228988620358134,
          null,
          1.4000000000000001,
          1.4135973714320194,
          null,
          1.6,
          1.597664038215897,
          null,
          1.8,
          1.781823832424553,
          null,
          0,
          0.1,
          null,
          0.2,
          0.29800665778412416,
          null,
          0.4,
          0.49210609940028854,
          null,
          0.6000000000000001,
          0.6825335614909679,
          null,
          0.8,
          0.8696706709347166,
          null,
          1,
          1.0540302305868139,
          null,
          1.2000000000000002,
          1.2362357754476676,
          null,
          1.4000000000000001,
          1.4169967142900242,
          null,
          1.6,
          1.5970800477698712,
          null,
          1.8,
          1.7772797905306914,
          null,
          0,
          0.12000000000000002,
          null,
          0.2,
          0.317607989340949,
          null,
          0.4,
          0.5105273192803462,
          null,
          0.6000000000000001,
          0.6990402737891614,
          null,
          0.8,
          0.88360480512166,
          null,
          1,
          1.0648362767041768,
          null,
          1.2000000000000002,
          1.243482930537201,
          null,
          1.4000000000000001,
          1.420396057148029,
          null,
          1.6,
          1.5964960573238454,
          null,
          1.8,
          1.7727357486368296,
          null,
          0,
          0.14,
          null,
          0.2,
          0.3372093208977739,
          null,
          0.4,
          0.528948539160404,
          null,
          0.6000000000000001,
          0.7155469860873551,
          null,
          0.8,
          0.8975389393086032,
          null,
          1,
          1.0756423228215395,
          null,
          1.2000000000000002,
          1.2507300856267345,
          null,
          1.4000000000000001,
          1.4237954000060338,
          null,
          1.6,
          1.5959120668778197,
          null,
          1.8,
          1.7681917067429678,
          null,
          0,
          0.16000000000000003,
          null,
          0.2,
          0.3568106524545987,
          null,
          0.4,
          0.5473697590404617,
          null,
          0.6000000000000001,
          0.7320536983855486,
          null,
          0.8,
          0.9114730734955465,
          null,
          1,
          1.0864483689389024,
          null,
          1.2000000000000002,
          1.257977240716268,
          null,
          1.4000000000000001,
          1.4271947428640386,
          null,
          1.6,
          1.5953280764317939,
          null,
          1.8,
          1.7636476648491062,
          null,
          0,
          0.18000000000000002,
          null,
          0.2,
          0.3764119840114235,
          null,
          0.4,
          0.5657909789205193,
          null,
          0.6000000000000001,
          0.7485604106837422,
          null,
          0.8,
          0.9254072076824899,
          null,
          1,
          1.097254415056265,
          null,
          1.2000000000000002,
          1.2652243958058014,
          null,
          1.4000000000000001,
          1.4305940857220434,
          null,
          1.6,
          1.594744085985768,
          null,
          1.8,
          1.7591036229552444,
          null,
          0,
          0,
          0,
          null,
          0.2,
          0.2,
          0.2,
          null,
          0.4,
          0.4,
          0.4,
          null,
          0.6000000000000001,
          0.6000000000000001,
          0.6000000000000001,
          null,
          0.8,
          0.8,
          0.8,
          null,
          1,
          1,
          1,
          null,
          1.2000000000000002,
          1.2000000000000002,
          1.2000000000000002,
          null,
          1.4000000000000001,
          1.4000000000000001,
          1.4000000000000001,
          null,
          1.6,
          1.6,
          1.6,
          null,
          1.8,
          1.8,
          1.8,
          null,
          0.014361844275284552,
          0.020000000000000004,
          0.014361844275284552,
          null,
          0.2144832570483246,
          0.21960133155682485,
          0.2136678700924093,
          null,
          0.4140272680674085,
          0.4184212198800577,
          0.4124290010604079,
          null,
          0.613012056174249,
          0.6165067122981936,
          0.6106946269781092,
          null,
          0.81147809466334,
          0.8139341341869434,
          0.80853389186704,
          null,
          1.0094865377394255,
          1.0108060461173627,
          1.006032937417485,
          null,
          1.2071167824923417,
          1.2072471550895336,
          1.20329146879113,
          null,
          1.4044633035855938,
          1.403399342858005,
          1.4004187796909031,
          null,
          1.601631886849657,
          1.5994160095539742,
          1.5975293951659353,
          null,
          1.7987354119347414,
          1.7954559581061382,
          1.7947385058592575,
          null,
          0.028723688550569105,
          0.04000000000000001,
          0.028723688550569105,
          null,
          0.22896651409664923,
          0.23920266311364968,
          0.22733574018481864,
          null,
          0.4280545361348171,
          0.43684243976011544,
          0.4248580021208159,
          null,
          0.6260241123484981,
          0.6330134245963872,
          0.6213892539562181,
          null,
          0.8229561893266799,
          0.8278682683738867,
          0.81706778373408,
          null,
          1.0189730754788515,
          1.0216120922347256,
          1.01206587483497,
          null,
          1.2142335649846834,
          1.214494310179067,
          1.20658293758226,
          null,
          1.4089266071711875,
          1.4067986857160097,
          1.4008375593818059,
          null,
          1.6032637736993143,
          1.5988320191079486,
          1.5950587903318707,
          null,
          1.7974708238694828,
          1.7909119162122766,
          1.789477011718515,
          null,
          0.04308553282585366,
          0.06000000000000001,
          0.04308553282585366,
          null,
          0.24344977114497385,
          0.25880399467047455,
          0.24100361027722794,
          null,
          0.4420818042022256,
          0.4552636596401731,
          0.4372870031812238,
          null,
          0.639036168522747,
          0.6495201368945808,
          0.6320838809343272,
          null,
          0.8344342839900197,
          0.8418024025608299,
          0.8256016756011199,
          null,
          1.028459613218277,
          1.0324181383520883,
          1.018098812252455,
          null,
          1.2213503474770249,
          1.2217414652686005,
          1.20987440637339,
          null,
          1.413389910756781,
          1.4101980285740146,
          1.4012563390727089,
          null,
          1.6048956605489713,
          1.5982480286619227,
          1.5925881854978061,
          null,
          1.7962062358042241,
          1.7863678743184148,
          1.7842155175777725,
          null,
          0.05744737710113821,
          0.08000000000000002,
          0.05744737710113821,
          null,
          0.25793302819329844,
          0.27840532622729935,
          0.25467148036963727,
          null,
          0.45610907226963415,
          0.47368487952023086,
          0.44971600424163183,
          null,
          0.6520482246969961,
          0.6660268491927743,
          0.6427785079124362,
          null,
          0.8459123786533597,
          0.8557365367477733,
          0.8341355674681599,
          null,
          1.0379461509577028,
          1.0432241844694512,
          1.0241317496699403,
          null,
          1.2284671299693666,
          1.228988620358134,
          1.21316587516452,
          null,
          1.4178532143423748,
          1.4135973714320194,
          1.4016751187636118,
          null,
          1.6065275473986285,
          1.597664038215897,
          1.5901175806637415,
          null,
          1.7949416477389655,
          1.781823832424553,
          1.77895402343703,
          null,
          0.07180922137642276,
          0.1,
          0.07180922137642276,
          null,
          0.27241628524162304,
          0.29800665778412416,
          0.26833935046204654,
          null,
          0.47013634033704266,
          0.49210609940028854,
          0.4621450053020397,
          null,
          0.665060280871245,
          0.6825335614909679,
          0.6534731348905453,
          null,
          0.8573904733166996,
          0.8696706709347166,
          0.8426694593351998,
          null,
          1.0474326886971286,
          1.0540302305868139,
          1.0301646870874253,
          null,
          1.2355839124617083,
          1.2362357754476676,
          1.21645734395565,
          null,
          1.4223165179279684,
          1.4169967142900242,
          1.4020938984545148,
          null,
          1.6081594342482854,
          1.5970800477698712,
          1.5876469758296767,
          null,
          1.7936770596737068,
          1.7772797905306914,
          1.7736925292962875,
          null,
          0.08617106565170732,
          0.12000000000000002,
          0.08617106565170732,
          null,
          0.28689954228994763,
          0.317607989340949,
          0.2820072205544559,
          null,
          0.48416360840445116,
          0.5105273192803462,
          0.4745740063624476,
          null,
          0.6780723370454941,
          0.6990402737891614,
          0.6641677618686543,
          null,
          0.8688685679800395,
          0.88360480512166,
          0.8512033512022398,
          null,
          1.0569192264365543,
          1.0648362767041768,
          1.0361976245049103,
          null,
          1.2427006949540498,
          1.243482930537201,
          1.21974881274678,
          null,
          1.426779821513562,
          1.420396057148029,
          1.4025126781454176,
          null,
          1.6097913210979424,
          1.5964960573238454,
          1.585176370995612,
          null,
          1.7924124716084482,
          1.7727357486368296,
          1.768431035155545,
          null,
          0.10053290992699185,
          0.14,
          0.10053290992699185,
          null,
          0.3013827993382723,
          0.3372093208977739,
          0.2956750906468652,
          null,
          0.4981908764718597,
          0.528948539160404,
          0.4870030074228556,
          null,
          0.6910843932197431,
          0.7155469860873551,
          0.6748623888467634,
          null,
          0.8803466626433794,
          0.8975389393086032,
          0.8597372430692797,
          null,
          1.0664057641759799,
          1.0756423228215395,
          1.0422305619223953,
          null,
          1.2498174774463913,
          1.2507300856267345,
          1.22304028153791,
          null,
          1.4312431250991557,
          1.4237954000060338,
          1.4029314578363206,
          null,
          1.6114232079475996,
          1.5959120668778197,
          1.5827057661615473,
          null,
          1.7911478835431895,
          1.7681917067429678,
          1.7631695410148025,
          null,
          0.11489475420227642,
          0.16000000000000003,
          0.11489475420227642,
          null,
          0.31586605638659687,
          0.3568106524545987,
          0.3093429607392745,
          null,
          0.5122181445392683,
          0.5473697590404617,
          0.4994320084832636,
          null,
          0.7040964493939921,
          0.7320536983855486,
          0.6855570158248724,
          null,
          0.8918247573067193,
          0.9114730734955465,
          0.8682711349363196,
          null,
          1.0758923019154056,
          1.0864483689389024,
          1.0482634993398805,
          null,
          1.256934259938733,
          1.257977240716268,
          1.2263317503290398,
          null,
          1.4357064286847494,
          1.4271947428640386,
          1.4033502375272235,
          null,
          1.6130550947972566,
          1.5953280764317939,
          1.5802351613274828,
          null,
          1.7898832954779311,
          1.7636476648491062,
          1.75790804687406,
          null,
          0.12925659847756096,
          0.18000000000000002,
          0.12925659847756096,
          null,
          0.33034931343492147,
          0.3764119840114235,
          0.3230108308316838,
          null,
          0.5262454126066768,
          0.5657909789205193,
          0.5118610095436714,
          null,
          0.7171085055682411,
          0.7485604106837422,
          0.6962516428029815,
          null,
          0.9033028519700592,
          0.9254072076824899,
          0.8768050268033596,
          null,
          1.0853788396548314,
          1.097254415056265,
          1.0542964367573655,
          null,
          1.2640510424310745,
          1.2652243958058014,
          1.2296232191201697,
          null,
          1.440169732270343,
          1.4305940857220434,
          1.4037690172181263,
          null,
          1.6146869816469136,
          1.594744085985768,
          1.577764556493418,
          null,
          1.7886187074126723,
          1.7591036229552444,
          1.7526465527333175,
          null
         ],
         "y": [
          0,
          0,
          null,
          0,
          0,
          null,
          0,
          0,
          null,
          0,
          0,
          null,
          0,
          0,
          null,
          0,
          0,
          null,
          0,
          0,
          null,
          0,
          0,
          null,
          0,
          0,
          null,
          0,
          0,
          null,
          0.2,
          0.2,
          null,
          0.2,
          0.20397338661590123,
          null,
          0.2,
          0.20778836684617302,
          null,
          0.2,
          0.21129284946790072,
          null,
          0.2,
          0.21434712181799048,
          null,
          0.2,
          0.21682941969615793,
          null,
          0.2,
          0.21864078171934453,
          null,
          0.2,
          0.21970899459976923,
          null,
          0.2,
          0.2199914720608301,
          null,
          0.2,
          0.21947695261756392,
          null,
          0.4,
          0.4,
          null,
          0.4,
          0.40794677323180245,
          null,
          0.4,
          0.41557673369234605,
          null,
          0.4,
          0.42258569893580145,
          null,
          0.4,
          0.42869424363598096,
          null,
          0.4,
          0.43365883939231586,
          null,
          0.4,
          0.43728156343868907,
          null,
          0.4,
          0.43941798919953845,
          null,
          0.4,
          0.4399829441216602,
          null,
          0.4,
          0.43895390523512784,
          null,
          0.6000000000000001,
          0.6000000000000001,
          null,
          0.6000000000000001,
          0.6119201598477038,
          null,
          0.6000000000000001,
          0.6233651005385191,
          null,
          0.6000000000000001,
          0.6338785484037022,
          null,
          0.6000000000000001,
          0.6430413654539715,
          null,
          0.6000000000000001,
          0.6504882590884739,
          null,
          0.6000000000000001,
          0.6559223451580337,
          null,
          0.6000000000000001,
          0.6591269837993077,
          null,
          0.6000000000000001,
          0.6599744161824904,
          null,
          0.6000000000000001,
          0.6584308578526918,
          null,
          0.8,
          0.8,
          null,
          0.8,
          0.8158935464636049,
          null,
          0.8,
          0.8311534673846921,
          null,
          0.8,
          0.8451713978716029,
          null,
          0.8,
          0.8573884872719619,
          null,
          0.8,
          0.8673176787846317,
          null,
          0.8,
          0.8745631268773781,
          null,
          0.8,
          0.8788359783990769,
          null,
          0.8,
          0.8799658882433204,
          null,
          0.8,
          0.8779078104702557,
          null,
          1,
          1,
          null,
          1,
          1.019866933079506,
          null,
          1,
          1.0389418342308652,
          null,
          1,
          1.0564642473395036,
          null,
          1,
          1.0717356090899524,
          null,
          1,
          1.0841470984807897,
          null,
          1,
          1.0932039085967227,
          null,
          1,
          1.0985449729988461,
          null,
          1,
          1.0999573603041506,
          null,
          1,
          1.0973847630878195,
          null,
          1.2000000000000002,
          1.2000000000000002,
          null,
          1.2000000000000002,
          1.2238403196954075,
          null,
          1.2000000000000002,
          1.2467302010770382,
          null,
          1.2000000000000002,
          1.2677570968074043,
          null,
          1.2000000000000002,
          1.286082730907943,
          null,
          1.2000000000000002,
          1.3009765181769477,
          null,
          1.2000000000000002,
          1.3118446903160674,
          null,
          1.2000000000000002,
          1.3182539675986154,
          null,
          1.2000000000000002,
          1.3199488323649808,
          null,
          1.2000000000000002,
          1.3168617157053837,
          null,
          1.4000000000000001,
          1.4000000000000001,
          null,
          1.4000000000000001,
          1.4278137063113088,
          null,
          1.4000000000000001,
          1.4545185679232113,
          null,
          1.4000000000000001,
          1.479049946275305,
          null,
          1.4000000000000001,
          1.5004298527259334,
          null,
          1.4000000000000001,
          1.5178059378731057,
          null,
          1.4000000000000001,
          1.5304854720354117,
          null,
          1.4000000000000001,
          1.5379629621983846,
          null,
          1.4000000000000001,
          1.5399403044258109,
          null,
          1.4000000000000001,
          1.5363386683229474,
          null,
          1.6,
          1.6,
          null,
          1.6,
          1.6317870929272098,
          null,
          1.6,
          1.6623069347693842,
          null,
          1.6,
          1.6903427957432058,
          null,
          1.6,
          1.7147769745439239,
          null,
          1.6,
          1.7346353575692635,
          null,
          1.6,
          1.7491262537547563,
          null,
          1.6,
          1.7576719567981538,
          null,
          1.6,
          1.759931776486641,
          null,
          1.6,
          1.7558156209405114,
          null,
          1.8,
          1.8,
          null,
          1.8,
          1.835760479543111,
          null,
          1.8,
          1.870095301615557,
          null,
          1.8,
          1.9016356452111065,
          null,
          1.8,
          1.929124096361914,
          null,
          1.8,
          1.9514647772654214,
          null,
          1.8,
          1.9677670354741008,
          null,
          1.8,
          1.9773809513979228,
          null,
          1.8,
          1.979923248547471,
          null,
          1.8,
          1.9752925735580753,
          null,
          0,
          0,
          0,
          null,
          0,
          0,
          0,
          null,
          0,
          0,
          0,
          null,
          0,
          0,
          0,
          null,
          0,
          0,
          0,
          null,
          0,
          0,
          0,
          null,
          0,
          0,
          0,
          null,
          0,
          0,
          0,
          null,
          0,
          0,
          0,
          null,
          0,
          0,
          0,
          null,
          0.197947879140046,
          0.2,
          0.20205212085995403,
          null,
          0.20084204292262192,
          0.20397338661590123,
          0.20486447305968541,
          null,
          0.20370263711109302,
          0.20778836684617302,
          0.2074828940692596,
          null,
          0.2064156188422919,
          0.21129284946790072,
          0.20980299570593014,
          null,
          0.2088728300959046,
          0.21434712181799048,
          0.21173228283894707,
          null,
          0.2109763096134281,
          0.21682941969615793,
          0.2131938408785346,
          null,
          0.2126421983044122,
          0.21864078171934453,
          0.21412940211786755,
          null,
          0.21380408244376312,
          0.21970899459976923,
          0.21450166868266785,
          null,
          0.21441564137738237,
          0.2199914720608301,
          0.21429579947975202,
          null,
          0.21445249418047238,
          0.21947695261756392,
          0.2135200018645825,
          null,
          0.395895758280092,
          0.4,
          0.40410424171990805,
          null,
          0.40168408584524384,
          0.40794677323180245,
          0.40972894611937083,
          null,
          0.40740527422218603,
          0.41557673369234605,
          0.4149657881385192,
          null,
          0.4128312376845838,
          0.42258569893580145,
          0.4196059914118603,
          null,
          0.4177456601918092,
          0.42869424363598096,
          0.42346456567789414,
          null,
          0.4219526192268562,
          0.43365883939231586,
          0.4263876817570692,
          null,
          0.4252843966088244,
          0.43728156343868907,
          0.4282588042357351,
          null,
          0.42760816488752623,
          0.43941798919953845,
          0.4290033373653357,
          null,
          0.42883128275476473,
          0.4399829441216602,
          0.42859159895950405,
          null,
          0.42890498836094476,
          0.43895390523512784,
          0.427040003729165,
          null,
          0.593843637420138,
          0.6000000000000001,
          0.6061563625798622,
          null,
          0.6025261287678658,
          0.6119201598477038,
          0.6145934191790563,
          null,
          0.6111079113332791,
          0.6233651005385191,
          0.6224486822077788,
          null,
          0.6192468565268757,
          0.6338785484037022,
          0.6294089871177904,
          null,
          0.6266184902877139,
          0.6430413654539715,
          0.6351968485168412,
          null,
          0.6329289288402843,
          0.6504882590884739,
          0.6395815226356039,
          null,
          0.6379265949132367,
          0.6559223451580337,
          0.6423882063536027,
          null,
          0.6414122473312894,
          0.6591269837993077,
          0.6435050060480035,
          null,
          0.6432469241321472,
          0.6599744161824904,
          0.6428873984392561,
          null,
          0.6433574825414172,
          0.6584308578526918,
          0.6405600055937476,
          null,
          0.791791516560184,
          0.8,
          0.8082084834398161,
          null,
          0.8033681716904877,
          0.8158935464636049,
          0.8194578922387417,
          null,
          0.8148105484443721,
          0.8311534673846921,
          0.8299315762770384,
          null,
          0.8256624753691676,
          0.8451713978716029,
          0.8392119828237206,
          null,
          0.8354913203836184,
          0.8573884872719619,
          0.8469291313557883,
          null,
          0.8439052384537123,
          0.8673176787846317,
          0.8527753635141384,
          null,
          0.8505687932176488,
          0.8745631268773781,
          0.8565176084714702,
          null,
          0.8552163297750525,
          0.8788359783990769,
          0.8580066747306714,
          null,
          0.8576625655095295,
          0.8799658882433204,
          0.8571831979190081,
          null,
          0.8578099767218895,
          0.8779078104702557,
          0.85408000745833,
          null,
          0.98973939570023,
          1,
          1.0102606042997702,
          null,
          1.0042102146131096,
          1.019866933079506,
          1.024322365298427,
          null,
          1.018513185555465,
          1.0389418342308652,
          1.037414470346298,
          null,
          1.0320780942114594,
          1.0564642473395036,
          1.0490149785296508,
          null,
          1.044364150479523,
          1.0717356090899524,
          1.0586614141947353,
          null,
          1.0548815480671405,
          1.0841470984807897,
          1.065969204392673,
          null,
          1.0632109915220609,
          1.0932039085967227,
          1.0706470105893378,
          null,
          1.0690204122188156,
          1.0985449729988461,
          1.0725083434133393,
          null,
          1.072078206886912,
          1.0999573603041506,
          1.0714789973987602,
          null,
          1.0722624709023618,
          1.0973847630878195,
          1.0676000093229125,
          null,
          1.187687274840276,
          1.2000000000000002,
          1.2123127251597243,
          null,
          1.2050522575357316,
          1.2238403196954075,
          1.2291868383581126,
          null,
          1.2222158226665583,
          1.2467302010770382,
          1.2448973644155577,
          null,
          1.2384937130537514,
          1.2677570968074043,
          1.2588179742355807,
          null,
          1.2532369805754278,
          1.286082730907943,
          1.2703936970336827,
          null,
          1.2658578576805686,
          1.3009765181769477,
          1.2791630452712077,
          null,
          1.2758531898264733,
          1.3118446903160674,
          1.2847764127072054,
          null,
          1.2828244946625789,
          1.3182539675986154,
          1.287010012096007,
          null,
          1.2864938482642945,
          1.3199488323649808,
          1.2857747968785123,
          null,
          1.2867149650828344,
          1.3168617157053837,
          1.2811200111874952,
          null,
          1.385635153980322,
          1.4000000000000001,
          1.4143648460196783,
          null,
          1.4058943004583535,
          1.4278137063113088,
          1.4340513114177982,
          null,
          1.425918459777651,
          1.4545185679232113,
          1.4523802584848173,
          null,
          1.4449093318960433,
          1.479049946275305,
          1.468620969941511,
          null,
          1.4621098106713322,
          1.5004298527259334,
          1.4821259798726296,
          null,
          1.4768341672939966,
          1.5178059378731057,
          1.4923568861497425,
          null,
          1.4884953881308853,
          1.5304854720354117,
          1.498905814825073,
          null,
          1.496628577106342,
          1.5379629621983846,
          1.501511680778675,
          null,
          1.5009094896416766,
          1.5399403044258109,
          1.5000705963582643,
          null,
          1.5011674592633066,
          1.5363386683229474,
          1.4946400130520776,
          null,
          1.583583033120368,
          1.6,
          1.6164169668796322,
          null,
          1.6067363433809754,
          1.6317870929272098,
          1.6389157844774833,
          null,
          1.6296210968887441,
          1.6623069347693842,
          1.6598631525540768,
          null,
          1.6513249507383352,
          1.6903427957432058,
          1.6784239656474411,
          null,
          1.6709826407672368,
          1.7147769745439239,
          1.6938582627115766,
          null,
          1.6878104769074247,
          1.7346353575692635,
          1.7055507270282768,
          null,
          1.7011375864352976,
          1.7491262537547563,
          1.7130352169429404,
          null,
          1.710432659550105,
          1.7576719567981538,
          1.7160133494613428,
          null,
          1.715325131019059,
          1.759931776486641,
          1.7143663958380162,
          null,
          1.715619953443779,
          1.7558156209405114,
          1.70816001491666,
          null,
          1.781530912260414,
          1.8,
          1.8184690877395862,
          null,
          1.8075783863035972,
          1.835760479543111,
          1.843780257537169,
          null,
          1.833323733999837,
          1.870095301615557,
          1.8673460466233363,
          null,
          1.857740569580627,
          1.9016356452111065,
          1.888226961353371,
          null,
          1.8798554708631412,
          1.929124096361914,
          1.9055905455505235,
          null,
          1.8987867865208528,
          1.9514647772654214,
          1.9187445679068116,
          null,
          1.9137797847397096,
          1.9677670354741008,
          1.9271646190608078,
          null,
          1.924236741993868,
          1.9773809513979228,
          1.9305150181440105,
          null,
          1.9297407723964413,
          1.979923248547471,
          1.9286621953177683,
          null,
          1.9300724476242515,
          1.9752925735580753,
          1.9216800167812427,
          null
         ]
        }
       ],
       "layout": {
        "hovermode": "closest",
        "template": {
         "data": {
          "bar": [
           {
            "error_x": {
             "color": "#2a3f5f"
            },
            "error_y": {
             "color": "#2a3f5f"
            },
            "marker": {
             "line": {
              "color": "#E5ECF6",
              "width": 0.5
             },
             "pattern": {
              "fillmode": "overlay",
              "size": 10,
              "solidity": 0.2
             }
            },
            "type": "bar"
           }
          ],
          "barpolar": [
           {
            "marker": {
             "line": {
              "color": "#E5ECF6",
              "width": 0.5
             },
             "pattern": {
              "fillmode": "overlay",
              "size": 10,
              "solidity": 0.2
             }
            },
            "type": "barpolar"
           }
          ],
          "carpet": [
           {
            "aaxis": {
             "endlinecolor": "#2a3f5f",
             "gridcolor": "white",
             "linecolor": "white",
             "minorgridcolor": "white",
             "startlinecolor": "#2a3f5f"
            },
            "baxis": {
             "endlinecolor": "#2a3f5f",
             "gridcolor": "white",
             "linecolor": "white",
             "minorgridcolor": "white",
             "startlinecolor": "#2a3f5f"
            },
            "type": "carpet"
           }
          ],
          "choropleth": [
           {
            "colorbar": {
             "outlinewidth": 0,
             "ticks": ""
            },
            "type": "choropleth"
           }
          ],
          "contour": [
           {
            "colorbar": {
             "outlinewidth": 0,
             "ticks": ""
            },
            "colorscale": [
             [
              0,
              "#0d0887"
             ],
             [
              0.1111111111111111,
              "#46039f"
             ],
             [
              0.2222222222222222,
              "#7201a8"
             ],
             [
              0.3333333333333333,
              "#9c179e"
             ],
             [
              0.4444444444444444,
              "#bd3786"
             ],
             [
              0.5555555555555556,
              "#d8576b"
             ],
             [
              0.6666666666666666,
              "#ed7953"
             ],
             [
              0.7777777777777778,
              "#fb9f3a"
             ],
             [
              0.8888888888888888,
              "#fdca26"
             ],
             [
              1,
              "#f0f921"
             ]
            ],
            "type": "contour"
           }
          ],
          "contourcarpet": [
           {
            "colorbar": {
             "outlinewidth": 0,
             "ticks": ""
            },
            "type": "contourcarpet"
           }
          ],
          "heatmap": [
           {
            "colorbar": {
             "outlinewidth": 0,
             "ticks": ""
            },
            "colorscale": [
             [
              0,
              "#0d0887"
             ],
             [
              0.1111111111111111,
              "#46039f"
             ],
             [
              0.2222222222222222,
              "#7201a8"
             ],
             [
              0.3333333333333333,
              "#9c179e"
             ],
             [
              0.4444444444444444,
              "#bd3786"
             ],
             [
              0.5555555555555556,
              "#d8576b"
             ],
             [
              0.6666666666666666,
              "#ed7953"
             ],
             [
              0.7777777777777778,
              "#fb9f3a"
             ],
             [
              0.8888888888888888,
              "#fdca26"
             ],
             [
              1,
              "#f0f921"
             ]
            ],
            "type": "heatmap"
           }
          ],
          "heatmapgl": [
           {
            "colorbar": {
             "outlinewidth": 0,
             "ticks": ""
            },
            "colorscale": [
             [
              0,
              "#0d0887"
             ],
             [
              0.1111111111111111,
              "#46039f"
             ],
             [
              0.2222222222222222,
              "#7201a8"
             ],
             [
              0.3333333333333333,
              "#9c179e"
             ],
             [
              0.4444444444444444,
              "#bd3786"
             ],
             [
              0.5555555555555556,
              "#d8576b"
             ],
             [
              0.6666666666666666,
              "#ed7953"
             ],
             [
              0.7777777777777778,
              "#fb9f3a"
             ],
             [
              0.8888888888888888,
              "#fdca26"
             ],
             [
              1,
              "#f0f921"
             ]
            ],
            "type": "heatmapgl"
           }
          ],
          "histogram": [
           {
            "marker": {
             "pattern": {
              "fillmode": "overlay",
              "size": 10,
              "solidity": 0.2
             }
            },
            "type": "histogram"
           }
          ],
          "histogram2d": [
           {
            "colorbar": {
             "outlinewidth": 0,
             "ticks": ""
            },
            "colorscale": [
             [
              0,
              "#0d0887"
             ],
             [
              0.1111111111111111,
              "#46039f"
             ],
             [
              0.2222222222222222,
              "#7201a8"
             ],
             [
              0.3333333333333333,
              "#9c179e"
             ],
             [
              0.4444444444444444,
              "#bd3786"
             ],
             [
              0.5555555555555556,
              "#d8576b"
             ],
             [
              0.6666666666666666,
              "#ed7953"
             ],
             [
              0.7777777777777778,
              "#fb9f3a"
             ],
             [
              0.8888888888888888,
              "#fdca26"
             ],
             [
              1,
              "#f0f921"
             ]
            ],
            "type": "histogram2d"
           }
          ],
          "histogram2dcontour": [
           {
            "colorbar": {
             "outlinewidth": 0,
             "ticks": ""
            },
            "colorscale": [
             [
              0,
              "#0d0887"
             ],
             [
              0.1111111111111111,
              "#46039f"
             ],
             [
              0.2222222222222222,
              "#7201a8"
             ],
             [
              0.3333333333333333,
              "#9c179e"
             ],
             [
              0.4444444444444444,
              "#bd3786"
             ],
             [
              0.5555555555555556,
              "#d8576b"
             ],
             [
              0.6666666666666666,
              "#ed7953"
             ],
             [
              0.7777777777777778,
              "#fb9f3a"
             ],
             [
              0.8888888888888888,
              "#fdca26"
             ],
             [
              1,
              "#f0f921"
             ]
            ],
            "type": "histogram2dcontour"
           }
          ],
          "mesh3d": [
           {
            "colorbar": {
             "outlinewidth": 0,
             "ticks": ""
            },
            "type": "mesh3d"
           }
          ],
          "parcoords": [
           {
            "line": {
             "colorbar": {
              "outlinewidth": 0,
              "ticks": ""
             }
            },
            "type": "parcoords"
           }
          ],
          "pie": [
           {
            "automargin": true,
            "type": "pie"
           }
          ],
          "scatter": [
           {
            "fillpattern": {
             "fillmode": "overlay",
             "size": 10,
             "solidity": 0.2
            },
            "type": "scatter"
           }
          ],
          "scatter3d": [
           {
            "line": {
             "colorbar": {
              "outlinewidth": 0,
              "ticks": ""
             }
            },
            "marker": {
             "colorbar": {
              "outlinewidth": 0,
              "ticks": ""
             }
            },
            "type": "scatter3d"
           }
          ],
          "scattercarpet": [
           {
            "marker": {
             "colorbar": {
              "outlinewidth": 0,
              "ticks": ""
             }
            },
            "type": "scattercarpet"
           }
          ],
          "scattergeo": [
           {
            "marker": {
             "colorbar": {
              "outlinewidth": 0,
              "ticks": ""
             }
            },
            "type": "scattergeo"
           }
          ],
          "scattergl": [
           {
            "marker": {
             "colorbar": {
              "outlinewidth": 0,
              "ticks": ""
             }
            },
            "type": "scattergl"
           }
          ],
          "scattermapbox": [
           {
            "marker": {
             "colorbar": {
              "outlinewidth": 0,
              "ticks": ""
             }
            },
            "type": "scattermapbox"
           }
          ],
          "scatterpolar": [
           {
            "marker": {
             "colorbar": {
              "outlinewidth": 0,
              "ticks": ""
             }
            },
            "type": "scatterpolar"
           }
          ],
          "scatterpolargl": [
           {
            "marker": {
             "colorbar": {
              "outlinewidth": 0,
              "ticks": ""
             }
            },
            "type": "scatterpolargl"
           }
          ],
          "scatterternary": [
           {
            "marker": {
             "colorbar": {
              "outlinewidth": 0,
              "ticks": ""
             }
            },
            "type": "scatterternary"
           }
          ],
          "surface": [
           {
            "colorbar": {
             "outlinewidth": 0,
             "ticks": ""
            },
            "colorscale": [
             [
              0,
              "#0d0887"
             ],
             [
              0.1111111111111111,
              "#46039f"
             ],
             [
              0.2222222222222222,
              "#7201a8"
             ],
             [
              0.3333333333333333,
              "#9c179e"
             ],
             [
              0.4444444444444444,
              "#bd3786"
             ],
             [
              0.5555555555555556,
              "#d8576b"
             ],
             [
              0.6666666666666666,
              "#ed7953"
             ],
             [
              0.7777777777777778,
              "#fb9f3a"
             ],
             [
              0.8888888888888888,
              "#fdca26"
             ],
             [
              1,
              "#f0f921"
             ]
            ],
            "type": "surface"
           }
          ],
          "table": [
           {
            "cells": {
             "fill": {
              "color": "#EBF0F8"
             },
             "line": {
              "color": "white"
             }
            },
            "header": {
             "fill": {
              "color": "#C8D4E3"
             },
             "line": {
              "color": "white"
             }
            },
            "type": "table"
           }
          ]
         },
         "layout": {
          "annotationdefaults": {
           "arrowcolor": "#2a3f5f",
           "arrowhead": 0,
           "arrowwidth": 1
          },
          "autotypenumbers": "strict",
          "coloraxis": {
           "colorbar": {
            "outlinewidth": 0,
            "ticks": ""
           }
          },
          "colorscale": {
           "diverging": [
            [
             0,
             "#8e0152"
            ],
            [
             0.1,
             "#c51b7d"
            ],
            [
             0.2,
             "#de77ae"
            ],
            [
             0.3,
             "#f1b6da"
            ],
            [
             0.4,
             "#fde0ef"
            ],
            [
             0.5,
             "#f7f7f7"
            ],
            [
             0.6,
             "#e6f5d0"
            ],
            [
             0.7,
             "#b8e186"
            ],
            [
             0.8,
             "#7fbc41"
            ],
            [
             0.9,
             "#4d9221"
            ],
            [
             1,
             "#276419"
            ]
           ],
           "sequential": [
            [
             0,
             "#0d0887"
            ],
            [
             0.1111111111111111,
             "#46039f"
            ],
            [
             0.2222222222222222,
             "#7201a8"
            ],
            [
             0.3333333333333333,
             "#9c179e"
            ],
            [
             0.4444444444444444,
             "#bd3786"
            ],
            [
             0.5555555555555556,
             "#d8576b"
            ],
            [
             0.6666666666666666,
             "#ed7953"
            ],
            [
             0.7777777777777778,
             "#fb9f3a"
            ],
            [
             0.8888888888888888,
             "#fdca26"
            ],
            [
             1,
             "#f0f921"
            ]
           ],
           "sequentialminus": [
            [
             0,
             "#0d0887"
            ],
            [
             0.1111111111111111,
             "#46039f"
            ],
            [
             0.2222222222222222,
             "#7201a8"
            ],
            [
             0.3333333333333333,
             "#9c179e"
            ],
            [
             0.4444444444444444,
             "#bd3786"
            ],
            [
             0.5555555555555556,
             "#d8576b"
            ],
            [
             0.6666666666666666,
             "#ed7953"
            ],
            [
             0.7777777777777778,
             "#fb9f3a"
            ],
            [
             0.8888888888888888,
             "#fdca26"
            ],
            [
             1,
             "#f0f921"
            ]
           ]
          },
          "colorway": [
           "#636efa",
           "#EF553B",
           "#00cc96",
           "#ab63fa",
           "#FFA15A",
           "#19d3f3",
           "#FF6692",
           "#B6E880",
           "#FF97FF",
           "#FECB52"
          ],
          "font": {
           "color": "#2a3f5f"
          },
          "geo": {
           "bgcolor": "white",
           "lakecolor": "white",
           "landcolor": "#E5ECF6",
           "showlakes": true,
           "showland": true,
           "subunitcolor": "white"
          },
          "hoverlabel": {
           "align": "left"
          },
          "hovermode": "closest",
          "mapbox": {
           "style": "light"
          },
          "paper_bgcolor": "white",
          "plot_bgcolor": "#E5ECF6",
          "polar": {
           "angularaxis": {
            "gridcolor": "white",
            "linecolor": "white",
            "ticks": ""
           },
           "bgcolor": "#E5ECF6",
           "radialaxis": {
            "gridcolor": "white",
            "linecolor": "white",
            "ticks": ""
           }
          },
          "scene": {
           "xaxis": {
            "backgroundcolor": "#E5ECF6",
            "gridcolor": "white",
            "gridwidth": 2,
            "linecolor": "white",
            "showbackground": true,
            "ticks": "",
            "zerolinecolor": "white"
           },
           "yaxis": {
            "backgroundcolor": "#E5ECF6",
            "gridcolor": "white",
            "gridwidth": 2,
            "linecolor": "white",
            "showbackground": true,
            "ticks": "",
            "zerolinecolor": "white"
           },
           "zaxis": {
            "backgroundcolor": "#E5ECF6",
            "gridcolor": "white",
            "gridwidth": 2,
            "linecolor": "white",
            "showbackground": true,
            "ticks": "",
            "zerolinecolor": "white"
           }
          },
          "shapedefaults": {
           "line": {
            "color": "#2a3f5f"
           }
          },
          "ternary": {
           "aaxis": {
            "gridcolor": "white",
            "linecolor": "white",
            "ticks": ""
           },
           "baxis": {
            "gridcolor": "white",
            "linecolor": "white",
            "ticks": ""
           },
           "bgcolor": "#E5ECF6",
           "caxis": {
            "gridcolor": "white",
            "linecolor": "white",
            "ticks": ""
           }
          },
          "title": {
           "x": 0.05
          },
          "xaxis": {
           "automargin": true,
           "gridcolor": "white",
           "linecolor": "white",
           "ticks": "",
           "title": {
            "standoff": 15
           },
           "zerolinecolor": "white",
           "zerolinewidth": 2
          },
          "yaxis": {
           "automargin": true,
           "gridcolor": "white",
           "linecolor": "white",
           "ticks": "",
           "title": {
            "standoff": 15
           },
           "zerolinecolor": "white",
           "zerolinewidth": 2
          }
         }
        }
       }
      }
     },
     "metadata": {},
     "output_type": "display_data"
    }
   ],
   "source": [
    "import numpy as np\n",
    "import plotly.figure_factory as ff\n",
    "\n",
    "x1,y1 = np.meshgrid(np.arange(0, 2, .2), np.arange(0, 2, .2))\n",
    "u1 = np.cos(x1)*y1\n",
    "v1 = np.sin(x1)*y1\n",
    "\n",
    "fig = ff.create_quiver(x1, y1, u1, v1)\n",
    "\n",
    "fig.show()"
   ]
  },
  {
   "cell_type": "code",
   "execution_count": 12,
   "metadata": {},
   "outputs": [
    {
     "data": {
      "application/vnd.plotly.v1+json": {
       "config": {
        "plotlyServerURL": "https://plot.ly"
       },
       "data": [
        {
         "hovertemplate": "x=%{x}<br>y=%{y}<extra></extra>",
         "legendgroup": "",
         "line": {
          "color": "#636efa",
          "dash": "solid"
         },
         "marker": {
          "symbol": "circle"
         },
         "mode": "lines",
         "name": "",
         "orientation": "v",
         "showlegend": false,
         "type": "scatter",
         "x": [
          0,
          0.06346651825433926,
          0.12693303650867852,
          0.1903995547630178,
          0.25386607301735703,
          0.3173325912716963,
          0.3807991095260356,
          0.4442656277803748,
          0.5077321460347141,
          0.5711986642890533,
          0.6346651825433925,
          0.6981317007977318,
          0.7615982190520711,
          0.8250647373064104,
          0.8885312555607496,
          0.9519977738150889,
          1.0154642920694281,
          1.0789308103237674,
          1.1423973285781066,
          1.2058638468324459,
          1.269330365086785,
          1.3327968833411243,
          1.3962634015954636,
          1.4597299198498028,
          1.5231964381041423,
          1.5866629563584815,
          1.6501294746128208,
          1.71359599286716,
          1.7770625111214993,
          1.8405290293758385,
          1.9039955476301778,
          1.967462065884517,
          2.0309285841388562,
          2.0943951023931957,
          2.1578616206475347,
          2.221328138901874,
          2.284794657156213,
          2.3482611754105527,
          2.4117276936648917,
          2.475194211919231,
          2.53866073017357,
          2.6021272484279097,
          2.6655937666822487,
          2.729060284936588,
          2.792526803190927,
          2.8559933214452666,
          2.9194598396996057,
          2.982926357953945,
          3.0463928762082846,
          3.1098593944626236,
          3.173325912716963,
          3.236792430971302,
          3.3002589492256416,
          3.3637254674799806,
          3.42719198573432,
          3.490658503988659,
          3.5541250222429985,
          3.6175915404973376,
          3.681058058751677,
          3.744524577006016,
          3.8079910952603555,
          3.8714576135146945,
          3.934924131769034,
          3.998390650023373,
          4.0618571682777125,
          4.1253236865320515,
          4.188790204786391,
          4.25225672304073,
          4.3157232412950695,
          4.3791897595494085,
          4.442656277803748,
          4.506122796058087,
          4.569589314312426,
          4.6330558325667655,
          4.696522350821105,
          4.759988869075444,
          4.823455387329783,
          4.886921905584122,
          4.950388423838462,
          5.013854942092801,
          5.07732146034714,
          5.14078797860148,
          5.204254496855819,
          5.267721015110158,
          5.331187533364497,
          5.394654051618837,
          5.458120569873176,
          5.521587088127515,
          5.585053606381854,
          5.648520124636194,
          5.711986642890533,
          5.775453161144872,
          5.838919679399211,
          5.902386197653551,
          5.96585271590789,
          6.029319234162229,
          6.092785752416569,
          6.156252270670908,
          6.219718788925247,
          6.283185307179586
         ],
         "xaxis": "x",
         "y": [
          0,
          0.0634239196565645,
          0.12659245357374926,
          0.18925124436041021,
          0.2511479871810792,
          0.3120334456984871,
          0.3716624556603276,
          0.42979491208917164,
          0.4861967361004687,
          0.5406408174555976,
          0.5929079290546404,
          0.6427876096865393,
          0.690079011482112,
          0.7345917086575333,
          0.7761464642917568,
          0.8145759520503357,
          0.8497254299495144,
          0.8814533634475821,
          0.9096319953545183,
          0.9341478602651067,
          0.9549022414440739,
          0.9718115683235417,
          0.984807753012208,
          0.9938384644612541,
          0.998867339183008,
          0.9998741276738751,
          0.9968547759519424,
          0.9898214418809327,
          0.9788024462147787,
          0.963842158559942,
          0.9450008187146685,
          0.9223542941045814,
          0.8959937742913359,
          0.8660254037844386,
          0.8325698546347714,
          0.795761840530832,
          0.7557495743542583,
          0.7126941713788627,
          0.6667690005162916,
          0.6181589862206052,
          0.5670598638627709,
          0.5136773915734063,
          0.4582265217274105,
          0.4009305354066136,
          0.3420201433256689,
          0.28173255684142967,
          0.2203105327865408,
          0.1580013959733499,
          0.09505604330418244,
          0.031727933498067656,
          -0.03172793349806786,
          -0.09505604330418263,
          -0.15800139597335008,
          -0.22031053278654056,
          -0.28173255684142984,
          -0.34202014332566866,
          -0.4009305354066138,
          -0.4582265217274103,
          -0.5136773915734064,
          -0.5670598638627706,
          -0.6181589862206053,
          -0.6667690005162915,
          -0.7126941713788629,
          -0.7557495743542582,
          -0.7957618405308321,
          -0.8325698546347713,
          -0.8660254037844388,
          -0.895993774291336,
          -0.9223542941045814,
          -0.9450008187146683,
          -0.9638421585599422,
          -0.9788024462147787,
          -0.9898214418809327,
          -0.9968547759519423,
          -0.9998741276738751,
          -0.998867339183008,
          -0.9938384644612541,
          -0.9848077530122081,
          -0.9718115683235417,
          -0.9549022414440739,
          -0.9341478602651068,
          -0.9096319953545182,
          -0.881453363447582,
          -0.8497254299495144,
          -0.8145759520503358,
          -0.7761464642917566,
          -0.7345917086575331,
          -0.690079011482112,
          -0.6427876096865396,
          -0.5929079290546402,
          -0.5406408174555974,
          -0.4861967361004688,
          -0.4297949120891719,
          -0.37166245566032724,
          -0.31203344569848707,
          -0.2511479871810794,
          -0.18925124436040974,
          -0.12659245357374904,
          -0.06342391965656452,
          -2.4492935982947064e-16
         ],
         "yaxis": "y"
        }
       ],
       "layout": {
        "legend": {
         "tracegroupgap": 0
        },
        "template": {
         "data": {
          "bar": [
           {
            "error_x": {
             "color": "#2a3f5f"
            },
            "error_y": {
             "color": "#2a3f5f"
            },
            "marker": {
             "line": {
              "color": "#E5ECF6",
              "width": 0.5
             },
             "pattern": {
              "fillmode": "overlay",
              "size": 10,
              "solidity": 0.2
             }
            },
            "type": "bar"
           }
          ],
          "barpolar": [
           {
            "marker": {
             "line": {
              "color": "#E5ECF6",
              "width": 0.5
             },
             "pattern": {
              "fillmode": "overlay",
              "size": 10,
              "solidity": 0.2
             }
            },
            "type": "barpolar"
           }
          ],
          "carpet": [
           {
            "aaxis": {
             "endlinecolor": "#2a3f5f",
             "gridcolor": "white",
             "linecolor": "white",
             "minorgridcolor": "white",
             "startlinecolor": "#2a3f5f"
            },
            "baxis": {
             "endlinecolor": "#2a3f5f",
             "gridcolor": "white",
             "linecolor": "white",
             "minorgridcolor": "white",
             "startlinecolor": "#2a3f5f"
            },
            "type": "carpet"
           }
          ],
          "choropleth": [
           {
            "colorbar": {
             "outlinewidth": 0,
             "ticks": ""
            },
            "type": "choropleth"
           }
          ],
          "contour": [
           {
            "colorbar": {
             "outlinewidth": 0,
             "ticks": ""
            },
            "colorscale": [
             [
              0,
              "#0d0887"
             ],
             [
              0.1111111111111111,
              "#46039f"
             ],
             [
              0.2222222222222222,
              "#7201a8"
             ],
             [
              0.3333333333333333,
              "#9c179e"
             ],
             [
              0.4444444444444444,
              "#bd3786"
             ],
             [
              0.5555555555555556,
              "#d8576b"
             ],
             [
              0.6666666666666666,
              "#ed7953"
             ],
             [
              0.7777777777777778,
              "#fb9f3a"
             ],
             [
              0.8888888888888888,
              "#fdca26"
             ],
             [
              1,
              "#f0f921"
             ]
            ],
            "type": "contour"
           }
          ],
          "contourcarpet": [
           {
            "colorbar": {
             "outlinewidth": 0,
             "ticks": ""
            },
            "type": "contourcarpet"
           }
          ],
          "heatmap": [
           {
            "colorbar": {
             "outlinewidth": 0,
             "ticks": ""
            },
            "colorscale": [
             [
              0,
              "#0d0887"
             ],
             [
              0.1111111111111111,
              "#46039f"
             ],
             [
              0.2222222222222222,
              "#7201a8"
             ],
             [
              0.3333333333333333,
              "#9c179e"
             ],
             [
              0.4444444444444444,
              "#bd3786"
             ],
             [
              0.5555555555555556,
              "#d8576b"
             ],
             [
              0.6666666666666666,
              "#ed7953"
             ],
             [
              0.7777777777777778,
              "#fb9f3a"
             ],
             [
              0.8888888888888888,
              "#fdca26"
             ],
             [
              1,
              "#f0f921"
             ]
            ],
            "type": "heatmap"
           }
          ],
          "heatmapgl": [
           {
            "colorbar": {
             "outlinewidth": 0,
             "ticks": ""
            },
            "colorscale": [
             [
              0,
              "#0d0887"
             ],
             [
              0.1111111111111111,
              "#46039f"
             ],
             [
              0.2222222222222222,
              "#7201a8"
             ],
             [
              0.3333333333333333,
              "#9c179e"
             ],
             [
              0.4444444444444444,
              "#bd3786"
             ],
             [
              0.5555555555555556,
              "#d8576b"
             ],
             [
              0.6666666666666666,
              "#ed7953"
             ],
             [
              0.7777777777777778,
              "#fb9f3a"
             ],
             [
              0.8888888888888888,
              "#fdca26"
             ],
             [
              1,
              "#f0f921"
             ]
            ],
            "type": "heatmapgl"
           }
          ],
          "histogram": [
           {
            "marker": {
             "pattern": {
              "fillmode": "overlay",
              "size": 10,
              "solidity": 0.2
             }
            },
            "type": "histogram"
           }
          ],
          "histogram2d": [
           {
            "colorbar": {
             "outlinewidth": 0,
             "ticks": ""
            },
            "colorscale": [
             [
              0,
              "#0d0887"
             ],
             [
              0.1111111111111111,
              "#46039f"
             ],
             [
              0.2222222222222222,
              "#7201a8"
             ],
             [
              0.3333333333333333,
              "#9c179e"
             ],
             [
              0.4444444444444444,
              "#bd3786"
             ],
             [
              0.5555555555555556,
              "#d8576b"
             ],
             [
              0.6666666666666666,
              "#ed7953"
             ],
             [
              0.7777777777777778,
              "#fb9f3a"
             ],
             [
              0.8888888888888888,
              "#fdca26"
             ],
             [
              1,
              "#f0f921"
             ]
            ],
            "type": "histogram2d"
           }
          ],
          "histogram2dcontour": [
           {
            "colorbar": {
             "outlinewidth": 0,
             "ticks": ""
            },
            "colorscale": [
             [
              0,
              "#0d0887"
             ],
             [
              0.1111111111111111,
              "#46039f"
             ],
             [
              0.2222222222222222,
              "#7201a8"
             ],
             [
              0.3333333333333333,
              "#9c179e"
             ],
             [
              0.4444444444444444,
              "#bd3786"
             ],
             [
              0.5555555555555556,
              "#d8576b"
             ],
             [
              0.6666666666666666,
              "#ed7953"
             ],
             [
              0.7777777777777778,
              "#fb9f3a"
             ],
             [
              0.8888888888888888,
              "#fdca26"
             ],
             [
              1,
              "#f0f921"
             ]
            ],
            "type": "histogram2dcontour"
           }
          ],
          "mesh3d": [
           {
            "colorbar": {
             "outlinewidth": 0,
             "ticks": ""
            },
            "type": "mesh3d"
           }
          ],
          "parcoords": [
           {
            "line": {
             "colorbar": {
              "outlinewidth": 0,
              "ticks": ""
             }
            },
            "type": "parcoords"
           }
          ],
          "pie": [
           {
            "automargin": true,
            "type": "pie"
           }
          ],
          "scatter": [
           {
            "fillpattern": {
             "fillmode": "overlay",
             "size": 10,
             "solidity": 0.2
            },
            "type": "scatter"
           }
          ],
          "scatter3d": [
           {
            "line": {
             "colorbar": {
              "outlinewidth": 0,
              "ticks": ""
             }
            },
            "marker": {
             "colorbar": {
              "outlinewidth": 0,
              "ticks": ""
             }
            },
            "type": "scatter3d"
           }
          ],
          "scattercarpet": [
           {
            "marker": {
             "colorbar": {
              "outlinewidth": 0,
              "ticks": ""
             }
            },
            "type": "scattercarpet"
           }
          ],
          "scattergeo": [
           {
            "marker": {
             "colorbar": {
              "outlinewidth": 0,
              "ticks": ""
             }
            },
            "type": "scattergeo"
           }
          ],
          "scattergl": [
           {
            "marker": {
             "colorbar": {
              "outlinewidth": 0,
              "ticks": ""
             }
            },
            "type": "scattergl"
           }
          ],
          "scattermapbox": [
           {
            "marker": {
             "colorbar": {
              "outlinewidth": 0,
              "ticks": ""
             }
            },
            "type": "scattermapbox"
           }
          ],
          "scatterpolar": [
           {
            "marker": {
             "colorbar": {
              "outlinewidth": 0,
              "ticks": ""
             }
            },
            "type": "scatterpolar"
           }
          ],
          "scatterpolargl": [
           {
            "marker": {
             "colorbar": {
              "outlinewidth": 0,
              "ticks": ""
             }
            },
            "type": "scatterpolargl"
           }
          ],
          "scatterternary": [
           {
            "marker": {
             "colorbar": {
              "outlinewidth": 0,
              "ticks": ""
             }
            },
            "type": "scatterternary"
           }
          ],
          "surface": [
           {
            "colorbar": {
             "outlinewidth": 0,
             "ticks": ""
            },
            "colorscale": [
             [
              0,
              "#0d0887"
             ],
             [
              0.1111111111111111,
              "#46039f"
             ],
             [
              0.2222222222222222,
              "#7201a8"
             ],
             [
              0.3333333333333333,
              "#9c179e"
             ],
             [
              0.4444444444444444,
              "#bd3786"
             ],
             [
              0.5555555555555556,
              "#d8576b"
             ],
             [
              0.6666666666666666,
              "#ed7953"
             ],
             [
              0.7777777777777778,
              "#fb9f3a"
             ],
             [
              0.8888888888888888,
              "#fdca26"
             ],
             [
              1,
              "#f0f921"
             ]
            ],
            "type": "surface"
           }
          ],
          "table": [
           {
            "cells": {
             "fill": {
              "color": "#EBF0F8"
             },
             "line": {
              "color": "white"
             }
            },
            "header": {
             "fill": {
              "color": "#C8D4E3"
             },
             "line": {
              "color": "white"
             }
            },
            "type": "table"
           }
          ]
         },
         "layout": {
          "annotationdefaults": {
           "arrowcolor": "#2a3f5f",
           "arrowhead": 0,
           "arrowwidth": 1
          },
          "autotypenumbers": "strict",
          "coloraxis": {
           "colorbar": {
            "outlinewidth": 0,
            "ticks": ""
           }
          },
          "colorscale": {
           "diverging": [
            [
             0,
             "#8e0152"
            ],
            [
             0.1,
             "#c51b7d"
            ],
            [
             0.2,
             "#de77ae"
            ],
            [
             0.3,
             "#f1b6da"
            ],
            [
             0.4,
             "#fde0ef"
            ],
            [
             0.5,
             "#f7f7f7"
            ],
            [
             0.6,
             "#e6f5d0"
            ],
            [
             0.7,
             "#b8e186"
            ],
            [
             0.8,
             "#7fbc41"
            ],
            [
             0.9,
             "#4d9221"
            ],
            [
             1,
             "#276419"
            ]
           ],
           "sequential": [
            [
             0,
             "#0d0887"
            ],
            [
             0.1111111111111111,
             "#46039f"
            ],
            [
             0.2222222222222222,
             "#7201a8"
            ],
            [
             0.3333333333333333,
             "#9c179e"
            ],
            [
             0.4444444444444444,
             "#bd3786"
            ],
            [
             0.5555555555555556,
             "#d8576b"
            ],
            [
             0.6666666666666666,
             "#ed7953"
            ],
            [
             0.7777777777777778,
             "#fb9f3a"
            ],
            [
             0.8888888888888888,
             "#fdca26"
            ],
            [
             1,
             "#f0f921"
            ]
           ],
           "sequentialminus": [
            [
             0,
             "#0d0887"
            ],
            [
             0.1111111111111111,
             "#46039f"
            ],
            [
             0.2222222222222222,
             "#7201a8"
            ],
            [
             0.3333333333333333,
             "#9c179e"
            ],
            [
             0.4444444444444444,
             "#bd3786"
            ],
            [
             0.5555555555555556,
             "#d8576b"
            ],
            [
             0.6666666666666666,
             "#ed7953"
            ],
            [
             0.7777777777777778,
             "#fb9f3a"
            ],
            [
             0.8888888888888888,
             "#fdca26"
            ],
            [
             1,
             "#f0f921"
            ]
           ]
          },
          "colorway": [
           "#636efa",
           "#EF553B",
           "#00cc96",
           "#ab63fa",
           "#FFA15A",
           "#19d3f3",
           "#FF6692",
           "#B6E880",
           "#FF97FF",
           "#FECB52"
          ],
          "font": {
           "color": "#2a3f5f"
          },
          "geo": {
           "bgcolor": "white",
           "lakecolor": "white",
           "landcolor": "#E5ECF6",
           "showlakes": true,
           "showland": true,
           "subunitcolor": "white"
          },
          "hoverlabel": {
           "align": "left"
          },
          "hovermode": "closest",
          "mapbox": {
           "style": "light"
          },
          "paper_bgcolor": "white",
          "plot_bgcolor": "#E5ECF6",
          "polar": {
           "angularaxis": {
            "gridcolor": "white",
            "linecolor": "white",
            "ticks": ""
           },
           "bgcolor": "#E5ECF6",
           "radialaxis": {
            "gridcolor": "white",
            "linecolor": "white",
            "ticks": ""
           }
          },
          "scene": {
           "xaxis": {
            "backgroundcolor": "#E5ECF6",
            "gridcolor": "white",
            "gridwidth": 2,
            "linecolor": "white",
            "showbackground": true,
            "ticks": "",
            "zerolinecolor": "white"
           },
           "yaxis": {
            "backgroundcolor": "#E5ECF6",
            "gridcolor": "white",
            "gridwidth": 2,
            "linecolor": "white",
            "showbackground": true,
            "ticks": "",
            "zerolinecolor": "white"
           },
           "zaxis": {
            "backgroundcolor": "#E5ECF6",
            "gridcolor": "white",
            "gridwidth": 2,
            "linecolor": "white",
            "showbackground": true,
            "ticks": "",
            "zerolinecolor": "white"
           }
          },
          "shapedefaults": {
           "line": {
            "color": "#2a3f5f"
           }
          },
          "ternary": {
           "aaxis": {
            "gridcolor": "white",
            "linecolor": "white",
            "ticks": ""
           },
           "baxis": {
            "gridcolor": "white",
            "linecolor": "white",
            "ticks": ""
           },
           "bgcolor": "#E5ECF6",
           "caxis": {
            "gridcolor": "white",
            "linecolor": "white",
            "ticks": ""
           }
          },
          "title": {
           "x": 0.05
          },
          "xaxis": {
           "automargin": true,
           "gridcolor": "white",
           "linecolor": "white",
           "ticks": "",
           "title": {
            "standoff": 15
           },
           "zerolinecolor": "white",
           "zerolinewidth": 2
          },
          "yaxis": {
           "automargin": true,
           "gridcolor": "white",
           "linecolor": "white",
           "ticks": "",
           "title": {
            "standoff": 15
           },
           "zerolinecolor": "white",
           "zerolinewidth": 2
          }
         }
        },
        "title": {
         "text": "Sin"
        },
        "xaxis": {
         "anchor": "y",
         "domain": [
          0,
          1
         ],
         "title": {
          "text": "x"
         }
        },
        "yaxis": {
         "anchor": "x",
         "domain": [
          0,
          1
         ],
         "title": {
          "text": "y"
         }
        }
       }
      }
     },
     "metadata": {},
     "output_type": "display_data"
    }
   ],
   "source": [
    "x = np.linspace(0, 2 * np.pi, 100)\n",
    "y = np.sin(x)\n",
    "data = pd.DataFrame({\"x\": x, \"y\": y})\n",
    "fig = px.line(data, x=\"x\", y=\"y\", title=\"Sin\")\n",
    "fig.show()"
   ]
  }
 ],
 "metadata": {
  "kernelspec": {
   "display_name": "Python 3",
   "language": "python",
   "name": "python3"
  },
  "language_info": {
   "codemirror_mode": {
    "name": "ipython",
    "version": 3
   },
   "file_extension": ".py",
   "mimetype": "text/x-python",
   "name": "python",
   "nbconvert_exporter": "python",
   "pygments_lexer": "ipython3",
   "version": "3.10.9"
  },
  "orig_nbformat": 4
 },
 "nbformat": 4,
 "nbformat_minor": 2
}
