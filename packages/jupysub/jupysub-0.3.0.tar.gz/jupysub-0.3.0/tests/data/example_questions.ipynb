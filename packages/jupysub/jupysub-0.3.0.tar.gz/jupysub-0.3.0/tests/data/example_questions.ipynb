{
 "cells": [
  {
   "cell_type": "code",
   "execution_count": 1,
   "metadata": {
    "execution": {
     "iopub.execute_input": "2023-11-14T09:23:18.671459Z",
     "iopub.status.busy": "2023-11-14T09:23:18.671108Z",
     "iopub.status.idle": "2023-11-14T09:23:18.679149Z",
     "shell.execute_reply": "2023-11-14T09:23:18.678367Z"
    }
   },
   "outputs": [
    {
     "name": "stdout",
     "output_type": "stream",
     "text": [
      "Hello example\n"
     ]
    }
   ],
   "source": [
    "# This example text should not be shown in the teacher version\n",
    "print('Hello example')\n",
    "\n",
    "# ADD YOUR CODE HERE"
   ]
  },
  {
   "cell_type": "markdown",
   "metadata": {},
   "source": [
    "<details ><summary  style=\"margin: 0px 0px; color: #3498db; font-size: 13pt;\" >Expected solution</summary><div  style=\"padding: 5px; font-family: monospace; font-size: 10pt; overflow: auto; border: 1px solid gray; border-radius: 5px; margin: 5px 0px 5px 0px; white-space: pre-wrap;\" class=\"\" >Hello example\n",
    "Hello answer\n",
    "</div></details>"
   ]
  }
 ],
 "metadata": {
  "kernelspec": {
   "display_name": "Python 3 (ipykernel)",
   "language": "python",
   "name": "python3"
  },
  "language_info": {
   "codemirror_mode": {
    "name": "ipython",
    "version": 3
   },
   "file_extension": ".py",
   "mimetype": "text/x-python",
   "name": "python",
   "nbconvert_exporter": "python",
   "pygments_lexer": "ipython3",
   "version": "3.10.6"
  }
 },
 "nbformat": 4,
 "nbformat_minor": 4
}