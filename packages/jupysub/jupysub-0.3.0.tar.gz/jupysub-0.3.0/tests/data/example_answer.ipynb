{
 "cells": [
  {
   "cell_type": "code",
   "execution_count": 1,
   "metadata": {
    "execution": {
     "iopub.execute_input": "2023-11-14T09:23:16.379750Z",
     "iopub.status.busy": "2023-11-14T09:23:16.379174Z",
     "iopub.status.idle": "2023-11-14T09:23:16.384898Z",
     "shell.execute_reply": "2023-11-14T09:23:16.384242Z"
    }
   },
   "outputs": [
    {
     "name": "stdout",
     "output_type": "stream",
     "text": [
      "Hello example\n",
      "Hello answer\n"
     ]
    }
   ],
   "source": [
    "# This example text should not be shown in the teacher version\n",
    "print('Hello example')\n",
    "\n",
    "# This answer text should only be shown in the answer version\n",
    "print('Hello answer')"
   ]
  }
 ],
 "metadata": {
  "kernelspec": {
   "display_name": "Python 3 (ipykernel)",
   "language": "python",
   "name": "python3"
  },
  "language_info": {
   "codemirror_mode": {
    "name": "ipython",
    "version": 3
   },
   "file_extension": ".py",
   "mimetype": "text/x-python",
   "name": "python",
   "nbconvert_exporter": "python",
   "pygments_lexer": "ipython3",
   "version": "3.10.6"
  }
 },
 "nbformat": 4,
 "nbformat_minor": 4
}