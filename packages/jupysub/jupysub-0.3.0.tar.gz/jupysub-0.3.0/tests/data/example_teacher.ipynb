{
 "cells": [
  {
   "cell_type": "code",
   "execution_count": 1,
   "metadata": {
    "execution": {
     "iopub.execute_input": "2023-11-14T09:23:24.345636Z",
     "iopub.status.busy": "2023-11-14T09:23:24.345331Z",
     "iopub.status.idle": "2023-11-14T09:23:24.349701Z",
     "shell.execute_reply": "2023-11-14T09:23:24.348968Z"
    }
   },
   "outputs": [],
   "source": [
    "\n",
    "\n",
    "# ADD YOUR CODE HERE"
   ]
  }
 ],
 "metadata": {
  "kernelspec": {
   "display_name": "Python 3 (ipykernel)",
   "language": "python",
   "name": "python3"
  },
  "language_info": {
   "codemirror_mode": {
    "name": "ipython",
    "version": 3
   },
   "file_extension": ".py",
   "mimetype": "text/x-python",
   "name": "python",
   "nbconvert_exporter": "python",
   "pygments_lexer": "ipython3",
   "version": "3.10.6"
  }
 },
 "nbformat": 4,
 "nbformat_minor": 4
}