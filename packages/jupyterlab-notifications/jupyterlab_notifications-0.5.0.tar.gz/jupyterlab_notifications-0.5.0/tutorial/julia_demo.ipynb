{
 "cells": [
  {
   "cell_type": "markdown",
   "source": [
    "## Jupyterlab Notification Julia Demo\n",
    "For this demo, make sure to update `minimum_cell_execution_time` to 1 second in Settings > Advanced Settings Editor > Notifications.\n",
    "\n",
    "For instructions on how to install and set-up a Julia Notebook Kernel, please check out [here](https://julialang.github.io/IJulia.jl/dev/manual/running/)."
   ],
   "metadata": {}
  },
  {
   "cell_type": "code",
   "execution_count": 7,
   "source": [
    "sleep(4)\n",
    "print(\"hello world!\")"
   ],
   "outputs": [
    {
     "output_type": "stream",
     "name": "stdout",
     "text": [
      "hello world!"
     ]
    }
   ],
   "metadata": {
    "execution": {
     "iopub.execute_input": "2021-04-19T20:53:28.895000-06:00",
     "iopub.status.busy": "2021-04-19T20:53:28.895000-06:00",
     "iopub.status.idle": "2021-04-19T20:53:32.912000-06:00",
     "shell.execute_reply": "2021-04-19T20:53:32.911000-06:00"
    },
    "tags": []
   }
  },
  {
   "cell_type": "code",
   "execution_count": null,
   "source": [],
   "outputs": [],
   "metadata": {}
  }
 ],
 "metadata": {
  "kernelspec": {
   "display_name": "Julia 1.6.0",
   "language": "julia",
   "name": "julia-1.6"
  },
  "language_info": {
   "file_extension": ".jl",
   "mimetype": "application/julia",
   "name": "julia",
   "version": "1.6.0"
  }
 },
 "nbformat": 4,
 "nbformat_minor": 5
}