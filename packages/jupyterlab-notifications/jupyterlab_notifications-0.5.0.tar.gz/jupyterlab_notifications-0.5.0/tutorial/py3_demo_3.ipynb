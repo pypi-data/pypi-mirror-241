{
 "cells": [
  {
   "cell_type": "markdown",
   "source": [
    "## Jupyterlab Notification Python 3 Demo\n",
    "For this demo, make sure to update `minimum_cell_execution_time` to 1 second in Settings > Advanced Settings Editor > Notifications.\n",
    "\n",
    "This notebook in conjunction with `py3_demo_2.ipynb` was created to test simultaneous runs with `py3_demo.ipynb`.\n",
    "\n",
    "Try running all the cells in notebooks with the prefix `py3_demo_` to see that notebook name and cell execution duration is correct in the notification. "
   ],
   "metadata": {}
  },
  {
   "cell_type": "code",
   "execution_count": 7,
   "source": [
    "!sleep 3\n",
    "print(\"hello from notebook 3\")"
   ],
   "outputs": [
    {
     "output_type": "stream",
     "name": "stdout",
     "text": [
      "hello from notebook 3\n"
     ]
    }
   ],
   "metadata": {
    "execution": {
     "iopub.execute_input": "2021-07-26T02:25:20.354141Z",
     "iopub.status.busy": "2021-07-26T02:25:20.353849Z",
     "iopub.status.idle": "2021-07-26T02:25:23.476677Z",
     "shell.execute_reply": "2021-07-26T02:25:23.475669Z",
     "shell.execute_reply.started": "2021-07-26T02:25:20.354100Z"
    },
    "tags": []
   }
  },
  {
   "cell_type": "code",
   "execution_count": null,
   "source": [],
   "outputs": [],
   "metadata": {}
  },
  {
   "cell_type": "code",
   "execution_count": null,
   "source": [],
   "outputs": [],
   "metadata": {}
  }
 ],
 "metadata": {
  "kernelspec": {
   "display_name": "Python 3",
   "language": "python",
   "name": "python3"
  },
  "language_info": {
   "codemirror_mode": {
    "name": "ipython",
    "version": 3
   },
   "file_extension": ".py",
   "mimetype": "text/x-python",
   "name": "python",
   "nbconvert_exporter": "python",
   "pygments_lexer": "ipython3",
   "version": "3.7.10"
  }
 },
 "nbformat": 4,
 "nbformat_minor": 5
}