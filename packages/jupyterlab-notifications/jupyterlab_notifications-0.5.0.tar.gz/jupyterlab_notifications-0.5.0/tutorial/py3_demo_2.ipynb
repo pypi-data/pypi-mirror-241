{
 "cells": [
  {
   "cell_type": "markdown",
   "source": [
    "## Jupyterlab Notification Python 2 Demo\n",
    "For this demo, make sure to update `minimum_cell_execution_time` to 1 second in Settings > Advanced Settings Editor > Notifications.\n",
    "\n",
    "This notebook in conjunction with `py3_demo_3.ipynb` was created to test simultaneous runs with `py3_demo.ipynb`."
   ],
   "metadata": {}
  },
  {
   "cell_type": "code",
   "execution_count": 17,
   "source": [
    "!sleep 2\n",
    "print(\"hello from notebook 2\")"
   ],
   "outputs": [
    {
     "output_type": "stream",
     "name": "stdout",
     "text": [
      "hello from notebook 2\n"
     ]
    }
   ],
   "metadata": {
    "execution": {
     "iopub.execute_input": "2021-07-26T02:25:17.832538Z",
     "iopub.status.busy": "2021-07-26T02:25:17.832281Z",
     "iopub.status.idle": "2021-07-26T02:25:19.961884Z",
     "shell.execute_reply": "2021-07-26T02:25:19.961025Z",
     "shell.execute_reply.started": "2021-07-26T02:25:17.832508Z"
    },
    "tags": []
   }
  },
  {
   "cell_type": "code",
   "execution_count": 18,
   "source": [
    "!sleep 2\n",
    "print(\"hello from notebook 2: cell 1\")"
   ],
   "outputs": [
    {
     "output_type": "stream",
     "name": "stdout",
     "text": [
      "hello from notebook 2: cell 1\n"
     ]
    }
   ],
   "metadata": {
    "execution": {
     "iopub.execute_input": "2021-07-26T02:25:23.469719Z",
     "iopub.status.busy": "2021-07-26T02:25:23.469509Z",
     "iopub.status.idle": "2021-07-26T02:25:25.595772Z",
     "shell.execute_reply": "2021-07-26T02:25:25.594884Z",
     "shell.execute_reply.started": "2021-07-26T02:25:23.469693Z"
    },
    "tags": []
   }
  },
  {
   "cell_type": "code",
   "execution_count": null,
   "source": [],
   "outputs": [],
   "metadata": {}
  }
 ],
 "metadata": {
  "kernelspec": {
   "display_name": "Python 3",
   "language": "python",
   "name": "python3"
  },
  "language_info": {
   "codemirror_mode": {
    "name": "ipython",
    "version": 3
   },
   "file_extension": ".py",
   "mimetype": "text/x-python",
   "name": "python",
   "nbconvert_exporter": "python",
   "pygments_lexer": "ipython3",
   "version": "3.7.10"
  }
 },
 "nbformat": 4,
 "nbformat_minor": 5
}