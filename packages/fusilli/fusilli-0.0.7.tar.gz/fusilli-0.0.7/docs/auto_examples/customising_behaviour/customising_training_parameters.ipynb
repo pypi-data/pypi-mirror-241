{
  "cells": [
    {
      "cell_type": "markdown",
      "metadata": {},
      "source": [
        "\n# How to customise the training in Fusilli\n\n* Early stopping\n* Batch size\n* Number of epochs\n* Checkpoint suffixes\n\n<div class=\"alert alert-info\"><h4>Note</h4><p>Coming soon!</p></div>\n"
      ]
    }
  ],
  "metadata": {
    "kernelspec": {
      "display_name": "Python 3",
      "language": "python",
      "name": "python3"
    },
    "language_info": {
      "codemirror_mode": {
        "name": "ipython",
        "version": 3
      },
      "file_extension": ".py",
      "mimetype": "text/x-python",
      "name": "python",
      "nbconvert_exporter": "python",
      "pygments_lexer": "ipython3",
      "version": "3.9.16"
    }
  },
  "nbformat": 4,
  "nbformat_minor": 0
}