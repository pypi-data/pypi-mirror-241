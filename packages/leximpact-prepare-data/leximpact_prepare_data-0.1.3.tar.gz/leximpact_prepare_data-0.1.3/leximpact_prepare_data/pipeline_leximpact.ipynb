{
 "cells": [
  {
   "cell_type": "markdown",
   "id": "5a5091ad-98b4-41bb-8b96-835998d44ffc",
   "metadata": {},
   "source": [
    "# Pipeline Survey Scenario : génération de la base LexImpact\n"
   ]
  },
  {
   "cell_type": "code",
   "execution_count": 1,
   "id": "7583b2aa-78e9-4eee-b757-cc71526e1fd0",
   "metadata": {},
   "outputs": [],
   "source": [
    "from IPython.core.interactiveshell import InteractiveShell\n",
    "\n",
    "InteractiveShell.ast_node_interactivity = \"all\""
   ]
  },
  {
   "cell_type": "code",
   "execution_count": 2,
   "id": "44cfc055-fe5f-482c-b3b5-f55824b17643",
   "metadata": {},
   "outputs": [
    {
     "name": "stdout",
     "output_type": "stream",
     "text": [
      "DEBUG : Unable to read env from /home/cgl/leximpact/leximpact-pr/.env but it could be OK. Error : [Errno 2] No such file or directory: '/home/cgl/leximpact/leximpact-pr/.env'\n",
      "DEBUG : Using decouple.AutoConfig()\n"
     ]
    },
    {
     "name": "stderr",
     "output_type": "stream",
     "text": [
      "iaidrdi has been updated in leximpact-survey-scenario\n",
      "plus_values_prelevement_forfaitaire_unique_ir has been updated in leximpact-survey-scenario\n",
      "rfr_plus_values_hors_rni has been updated in leximpact-survey-scenario\n",
      "rpns_imposables has been updated in leximpact-survey-scenario\n",
      "rpns_autres_revenus has been updated in leximpact-survey-scenario\n"
     ]
    }
   ],
   "source": [
    "import unittest\n",
    "\n",
    "from leximpact_common_python_libraries.config import Configuration\n",
    "from leximpact_common_python_libraries.logger import logger as log\n",
    "\n",
    "from pipeline_survey_scenario import PipelineErfsSurveyScenario\n",
    "from leximpact_prepare_data.pipeline_tax_and_benefit_system import pipeline_tbs\n",
    "from leximpact_prepare_data.scenario_tools.imputation_erfs import add_cases_ir_from_erfs"
   ]
  },
  {
   "cell_type": "code",
   "execution_count": 3,
   "id": "ade12673-ef6f-4cf7-9225-e395f29d62c9",
   "metadata": {},
   "outputs": [
    {
     "name": "stderr",
     "output_type": "stream",
     "text": [
      "[leximpact-common-python-libraries DEBUG @ 15:06:53] Config loaded from /home/cgl/leximpact/leximpact-prepare-data/.env OR/AND environement variables\n",
      "[leximpact-common-python-libraries DEBUG @ 15:06:53] Le logger  leximpact_common_python_libraries.logger fonctionne !\n"
     ]
    }
   ],
   "source": [
    "tc = unittest.TestCase()\n",
    "config = Configuration(project_folder=\"leximpact-prepare-data\")\n",
    "log.debug(config)\n",
    "aggregates_path = config.get(\"AGREGATS_PATH\")\n",
    "log.debug(\"Le logger  leximpact_common_python_libraries.logger fonctionne !\")"
   ]
  },
  {
   "cell_type": "markdown",
   "id": "ca7346e1",
   "metadata": {},
   "source": [
    "## Paramétrages de la simulation\n",
    "- annee_donnees : annee des données utilisées en input. Au début de la pipeline il s'agit de l'erfs-fpr 2019\n",
    "\n",
    "- annee_pote : millésime des aggrégats issus de POTE utilisé pour l'imputation des variables manquantes. Par défaut il s'agit de la même année que l'erfs même si on a des années de pote plus récentes. Les millésimes plus récents sont utilisés dans un deuxième temps, dans la partie vieillissement jusque l'année de simulation.\n",
    "\n",
    "- annee_de_calcul : année pour laquelle on veut réaliser une simulation. Généralement c'est l'année en cours ou l'année suivante dans le cadre du PLF.\n",
    "\n",
    "- rebuild_imputation : Bool. Si True réalise l'imputation des variables manquantes à partir des copules de POTE. L'imputation part des tables de la collection `openfisca_erfs_fpr` (qui sont les tables construites dans openfisca_france_data) et enregistre des tables de la collection `leximpact`.\n",
    "\n",
    "- duplicates_rows : Bool. N'est utilisé que si rebuild_imputation == True. Duplique les lignes des données, et divise les poids en conséquences, afin d'avoir plus d'observation pour l'imputation. Cela explique que les tables de la collection `leximpact` ont potentiellement plus de lignes que celles de la collection `openfisca_erfs_fpr`. La somme des poids reste la même.\n",
    "\n",
    "- collection : Si `openfisca_erfs_fpr` : prend la sortie de openfisca_france_data. Si `leximpact` prend la version apres imputation. Si cette collection n'existe pas il faut prendre `openfisca_erfs_fpr` est rebuild_imputation = True pour la recréer."
   ]
  },
  {
   "cell_type": "code",
   "execution_count": 4,
   "id": "66babac6-199f-438c-a62c-bbb3a293aadd",
   "metadata": {},
   "outputs": [],
   "source": [
    "# Paramètres de la simulation\n",
    "annee_donnees = 2019\n",
    "annee_pote = \"2021\"\n",
    "annee_de_calcul = 2021\n",
    "rebuild_imputation = True\n",
    "collection = \"leximpact\"\n",
    "survey_name = f\"{collection}_{annee_donnees}\""
   ]
  },
  {
   "cell_type": "markdown",
   "id": "591d6968-cdd4-4b76-8dd2-8beb03efb6f5",
   "metadata": {},
   "source": [
    "## Chargement des données"
   ]
  },
  {
   "cell_type": "markdown",
   "id": "253ee4fc-1de0-40e0-b5d2-022b799ee1a5",
   "metadata": {},
   "source": [
    "En instanciant le `LeximpactErfsSurveyScenario()`, on appelle notre class custom elle-même basée sur `ErfsFprSurveyScenario()` (dans france-data), elle-même basée sur `AbstractErfsSurveyScenario()` (dans france-data).\n",
    "\n",
    "\n",
    "Dans `ErfsFprSurveyScenario()`, on peut jouer sur:\n",
    "- la liste des variables de l'ERFS-FPR que l'on ajoute dans notre table\n",
    "- les valeurs par défaut de ces variables\n",
    "\n",
    "Dans `AbstractErfsSurveyScenario()`, on peut jouer sur:\n",
    "- l'input des variables sur 3 ans\n",
    "-  ...\n"
   ]
  },
  {
   "cell_type": "code",
   "execution_count": 5,
   "id": "fb3777b9-14d9-45f6-b6e8-14ce96fa4ab8",
   "metadata": {},
   "outputs": [
    {
     "name": "stderr",
     "output_type": "stream",
     "text": [
      "[leximpact-common-python-libraries DEBUG @ 15:06:53] Create FranceTaxBenefitSystem\n"
     ]
    },
    {
     "name": "stdout",
     "output_type": "stream",
     "text": [
      "LeximpactErfsSurveyScenario : Using /home/cgl/.config/openfisca-survey-manager as config_files_directory\n",
      "years_available=[2019] vs years=[2021]\n",
      "WARNING: no data for 2021, will took 2019\n",
      "Données du scénario : \n",
      " {'input_data_table_by_entity_by_period': {2021: {'individu': 'individu_2019', 'famille': 'famille_2019', 'foyer_fiscal': 'foyer_fiscal_2019', 'menage': 'menage_2019'}}, 'survey': 'leximpact_2019', 'config_files_directory': '/home/cgl/.config/openfisca-survey-manager'}\n"
     ]
    }
   ],
   "source": [
    "log.debug(\"Create FranceTaxBenefitSystem\")\n",
    "\n",
    "# Instanciation du scenario\n",
    "pipeline_survey_scenario = PipelineErfsSurveyScenario(\n",
    "    annee_donnees=annee_donnees,\n",
    "    period=annee_de_calcul,\n",
    "    baseline_tax_benefit_system=pipeline_tbs,\n",
    "    rebuild_input_data=False,\n",
    "    collection=collection,\n",
    "    survey_name=survey_name,\n",
    ")"
   ]
  },
  {
   "cell_type": "code",
   "execution_count": 6,
   "id": "6e5138e9",
   "metadata": {},
   "outputs": [
    {
     "name": "stdout",
     "output_type": "stream",
     "text": [
      "Injection de revenu_categoriel_foncier\n"
     ]
    },
    {
     "name": "stdout",
     "output_type": "stream",
     "text": [
      "Injection de rente_viagere_titre_onereux_net\n",
      "Injection de revenus_capitaux_prelevement_bareme\n",
      "Injection de revenus_capitaux_prelevement_forfaitaire_unique_ir\n",
      "Injection de revenus_capitaux_prelevement_liberatoire\n"
     ]
    },
    {
     "name": "stderr",
     "output_type": "stream",
     "text": [
      "/home/cgl/leximpact/leximpact-prepare-data/.venv/lib/python3.10/site-packages/openfisca_france/model/prelevements_obligatoires/prelevements_sociaux/cotisations_sociales/travail_non_salarie.py:199: RuntimeWarning: divide by zero encountered in divide\n",
      "  - (0.007 * (assiette_pss > 5) * ((assiette_pss - 5) / assiette_pss))\n",
      "/home/cgl/leximpact/leximpact-prepare-data/.venv/lib/python3.10/site-packages/openfisca_france/model/prelevements_obligatoires/prelevements_sociaux/cotisations_sociales/travail_non_salarie.py:199: RuntimeWarning: invalid value encountered in multiply\n",
      "  - (0.007 * (assiette_pss > 5) * ((assiette_pss - 5) / assiette_pss))\n"
     ]
    },
    {
     "name": "stdout",
     "output_type": "stream",
     "text": [
      "Seed used : 25\n"
     ]
    },
    {
     "name": "stderr",
     "output_type": "stream",
     "text": [
      " 73%|███████▎  | 68/93 [00:10<00:05,  4.29it/s]/home/cgl/leximpact/leximpact-prepare-data/.venv/lib/python3.10/site-packages/openfisca_france/model/prelevements_obligatoires/prelevements_sociaux/cotisations_sociales/travail_non_salarie.py:199: RuntimeWarning: divide by zero encountered in divide\n",
      "  - (0.007 * (assiette_pss > 5) * ((assiette_pss - 5) / assiette_pss))\n",
      "/home/cgl/leximpact/leximpact-prepare-data/.venv/lib/python3.10/site-packages/openfisca_france/model/prelevements_obligatoires/prelevements_sociaux/cotisations_sociales/travail_non_salarie.py:199: RuntimeWarning: invalid value encountered in multiply\n",
      "  - (0.007 * (assiette_pss > 5) * ((assiette_pss - 5) / assiette_pss))\n",
      " 80%|███████▉  | 74/93 [00:11<00:05,  3.27it/s]"
     ]
    },
    {
     "name": "stdout",
     "output_type": "stream",
     "text": [
      "Seed used : 25\n"
     ]
    },
    {
     "name": "stderr",
     "output_type": "stream",
     "text": [
      " 96%|█████████▌| 89/93 [00:14<00:00,  6.11it/s]/home/cgl/leximpact/leximpact-prepare-data/.venv/lib/python3.10/site-packages/openfisca_france/model/prelevements_obligatoires/prelevements_sociaux/cotisations_sociales/travail_non_salarie.py:199: RuntimeWarning: divide by zero encountered in divide\n",
      "  - (0.007 * (assiette_pss > 5) * ((assiette_pss - 5) / assiette_pss))\n",
      "/home/cgl/leximpact/leximpact-prepare-data/.venv/lib/python3.10/site-packages/openfisca_france/model/prelevements_obligatoires/prelevements_sociaux/cotisations_sociales/travail_non_salarie.py:199: RuntimeWarning: invalid value encountered in multiply\n",
      "  - (0.007 * (assiette_pss > 5) * ((assiette_pss - 5) / assiette_pss))\n",
      " 17%|█▋        | 16/93 [00:02<00:13,  5.73it/s]/home/cgl/leximpact/leximpact-prepare-data/.venv/lib/python3.10/site-packages/openfisca_france/model/prelevements_obligatoires/prelevements_sociaux/cotisations_sociales/travail_non_salarie.py:199: RuntimeWarning: divide by zero encountered in divide\n",
      "  - (0.007 * (assiette_pss > 5) * ((assiette_pss - 5) / assiette_pss))\n",
      "/home/cgl/leximpact/leximpact-prepare-data/.venv/lib/python3.10/site-packages/openfisca_france/model/prelevements_obligatoires/prelevements_sociaux/cotisations_sociales/travail_non_salarie.py:199: RuntimeWarning: invalid value encountered in multiply\n",
      "  - (0.007 * (assiette_pss > 5) * ((assiette_pss - 5) / assiette_pss))\n",
      "100%|██████████| 93/93 [00:14<00:00,  6.20it/s]\n",
      " 19%|█▉        | 18/93 [00:03<00:15,  4.93it/s]/home/cgl/leximpact/leximpact-prepare-data/.venv/lib/python3.10/site-packages/openfisca_france/model/prelevements_obligatoires/prelevements_sociaux/cotisations_sociales/travail_non_salarie.py:199: RuntimeWarning: divide by zero encountered in divide\n",
      "  - (0.007 * (assiette_pss > 5) * ((assiette_pss - 5) / assiette_pss))\n",
      "/home/cgl/leximpact/leximpact-prepare-data/.venv/lib/python3.10/site-packages/openfisca_france/model/prelevements_obligatoires/prelevements_sociaux/cotisations_sociales/travail_non_salarie.py:199: RuntimeWarning: invalid value encountered in multiply\n",
      "  - (0.007 * (assiette_pss > 5) * ((assiette_pss - 5) / assiette_pss))\n",
      " 22%|██▏       | 20/93 [00:03<00:14,  5.21it/s]"
     ]
    },
    {
     "name": "stdout",
     "output_type": "stream",
     "text": [
      "Seed used : 25\n"
     ]
    },
    {
     "name": "stderr",
     "output_type": "stream",
     "text": [
      "  0%|          | 0/93 [00:00<?, ?it/s]"
     ]
    },
    {
     "name": "stdout",
     "output_type": "stream",
     "text": [
      "Seed used : 25\n"
     ]
    },
    {
     "name": "stderr",
     "output_type": "stream",
     "text": [
      " 25%|██▍       | 23/93 [00:04<00:10,  6.79it/s]"
     ]
    },
    {
     "name": "stdout",
     "output_type": "stream",
     "text": [
      "Seed used : 25\n"
     ]
    },
    {
     "name": "stderr",
     "output_type": "stream",
     "text": [
      "100%|██████████| 93/93 [00:13<00:00,  6.87it/s]\n",
      "100%|██████████| 93/93 [00:14<00:00,  6.45it/s]\n",
      "100%|██████████| 93/93 [00:22<00:00,  4.11it/s]\n",
      "100%|██████████| 93/93 [00:43<00:00,  2.13it/s]\n"
     ]
    },
    {
     "name": "stdout",
     "output_type": "stream",
     "text": [
      "Injection de assiette_csg_plus_values\n"
     ]
    },
    {
     "name": "stderr",
     "output_type": "stream",
     "text": [
      "/home/cgl/leximpact/leximpact-prepare-data/.venv/lib/python3.10/site-packages/openfisca_france/model/prelevements_obligatoires/prelevements_sociaux/cotisations_sociales/travail_non_salarie.py:199: RuntimeWarning: divide by zero encountered in divide\n",
      "  - (0.007 * (assiette_pss > 5) * ((assiette_pss - 5) / assiette_pss))\n",
      "/home/cgl/leximpact/leximpact-prepare-data/.venv/lib/python3.10/site-packages/openfisca_france/model/prelevements_obligatoires/prelevements_sociaux/cotisations_sociales/travail_non_salarie.py:199: RuntimeWarning: invalid value encountered in multiply\n",
      "  - (0.007 * (assiette_pss > 5) * ((assiette_pss - 5) / assiette_pss))\n"
     ]
    },
    {
     "name": "stdout",
     "output_type": "stream",
     "text": [
      "Seed used : 25\n"
     ]
    },
    {
     "name": "stderr",
     "output_type": "stream",
     "text": [
      "100%|██████████| 20/20 [00:01<00:00, 17.87it/s]\n"
     ]
    },
    {
     "name": "stdout",
     "output_type": "stream",
     "text": [
      "Injection de reductions\n",
      "Injection de credits_impot\n",
      "Injection de charges_deduc\n"
     ]
    },
    {
     "name": "stderr",
     "output_type": "stream",
     "text": [
      "/home/cgl/leximpact/leximpact-prepare-data/.venv/lib/python3.10/site-packages/openfisca_france/model/prelevements_obligatoires/prelevements_sociaux/cotisations_sociales/travail_non_salarie.py:199: RuntimeWarning: divide by zero encountered in divide\n",
      "  - (0.007 * (assiette_pss > 5) * ((assiette_pss - 5) / assiette_pss))\n",
      "/home/cgl/leximpact/leximpact-prepare-data/.venv/lib/python3.10/site-packages/openfisca_france/model/prelevements_obligatoires/prelevements_sociaux/cotisations_sociales/travail_non_salarie.py:199: RuntimeWarning: invalid value encountered in multiply\n",
      "  - (0.007 * (assiette_pss > 5) * ((assiette_pss - 5) / assiette_pss))\n"
     ]
    },
    {
     "name": "stdout",
     "output_type": "stream",
     "text": [
      "Seed used : 25\n"
     ]
    },
    {
     "name": "stderr",
     "output_type": "stream",
     "text": [
      " 47%|████▋     | 44/94 [00:03<00:05,  8.92it/s]/home/cgl/leximpact/leximpact-prepare-data/.venv/lib/python3.10/site-packages/openfisca_france/model/prelevements_obligatoires/prelevements_sociaux/cotisations_sociales/travail_non_salarie.py:199: RuntimeWarning: divide by zero encountered in divide\n",
      "  - (0.007 * (assiette_pss > 5) * ((assiette_pss - 5) / assiette_pss))\n",
      "/home/cgl/leximpact/leximpact-prepare-data/.venv/lib/python3.10/site-packages/openfisca_france/model/prelevements_obligatoires/prelevements_sociaux/cotisations_sociales/travail_non_salarie.py:199: RuntimeWarning: invalid value encountered in multiply\n",
      "  - (0.007 * (assiette_pss > 5) * ((assiette_pss - 5) / assiette_pss))\n",
      "/home/cgl/leximpact/leximpact-prepare-data/.venv/lib/python3.10/site-packages/openfisca_france/model/prelevements_obligatoires/prelevements_sociaux/cotisations_sociales/travail_non_salarie.py:199: RuntimeWarning: divide by zero encountered in divide\n",
      "  - (0.007 * (assiette_pss > 5) * ((assiette_pss - 5) / assiette_pss))\n",
      "/home/cgl/leximpact/leximpact-prepare-data/.venv/lib/python3.10/site-packages/openfisca_france/model/prelevements_obligatoires/prelevements_sociaux/cotisations_sociales/travail_non_salarie.py:199: RuntimeWarning: invalid value encountered in multiply\n",
      "  - (0.007 * (assiette_pss > 5) * ((assiette_pss - 5) / assiette_pss))\n"
     ]
    },
    {
     "name": "stdout",
     "output_type": "stream",
     "text": [
      "Seed used : 25\n"
     ]
    },
    {
     "name": "stderr",
     "output_type": "stream",
     "text": [
      "  2%|▏         | 2/94 [00:00<00:24,  3.82it/s]"
     ]
    },
    {
     "name": "stdout",
     "output_type": "stream",
     "text": [
      "Seed used : 25\n"
     ]
    },
    {
     "name": "stderr",
     "output_type": "stream",
     "text": [
      "100%|██████████| 94/94 [00:21<00:00,  4.39it/s]\n",
      "100%|██████████| 94/94 [00:28<00:00,  3.28it/s]\n",
      "100%|██████████| 94/94 [00:32<00:00,  2.92it/s]\n"
     ]
    }
   ],
   "source": [
    "if rebuild_imputation:\n",
    "    pipeline_survey_scenario.build_imputation(year=annee_pote)"
   ]
  },
  {
   "cell_type": "code",
   "execution_count": 7,
   "id": "1cee5a95-2142-42e9-84e4-9e86923d5007",
   "metadata": {},
   "outputs": [],
   "source": [
    "pipeline_survey_scenario.save_current_survey(\n",
    "    variables=pipeline_survey_scenario.used_as_input_variables,\n",
    "    collection=\"leximpact\",\n",
    "    survey_name=f\"leximpact_{annee_de_calcul}\",\n",
    "    period=annee_de_calcul,\n",
    ")"
   ]
  },
  {
   "cell_type": "markdown",
   "id": "0f509fd3",
   "metadata": {},
   "source": [
    "Ajout des cases supplémentaires P et T pour l'impôt sur le revenu à partir de l'ERFS sur le CASD. Fait un peu rapidement, peut être à améliorer."
   ]
  },
  {
   "cell_type": "code",
   "execution_count": 8,
   "id": "264a93d0",
   "metadata": {},
   "outputs": [],
   "source": [
    "if rebuild_imputation:\n",
    "    add_cases_ir_from_erfs(annee_de_calcul)"
   ]
  },
  {
   "cell_type": "code",
   "execution_count": 8,
   "id": "a4f5e281",
   "metadata": {},
   "outputs": [
    {
     "name": "stderr",
     "output_type": "stream",
     "text": [
      "/home/cgl/leximpact/leximpact-prepare-data/.venv/lib/python3.10/site-packages/openfisca_france/model/prelevements_obligatoires/prelevements_sociaux/cotisations_sociales/travail_non_salarie.py:199: RuntimeWarning: divide by zero encountered in divide\n",
      "  - (0.007 * (assiette_pss > 5) * ((assiette_pss - 5) / assiette_pss))\n",
      "/home/cgl/leximpact/leximpact-prepare-data/.venv/lib/python3.10/site-packages/openfisca_france/model/prelevements_obligatoires/prelevements_sociaux/cotisations_sociales/travail_non_salarie.py:199: RuntimeWarning: invalid value encountered in multiply\n",
      "  - (0.007 * (assiette_pss > 5) * ((assiette_pss - 5) / assiette_pss))\n"
     ]
    },
    {
     "data": {
      "text/plain": [
       "-80804260657.97372"
      ]
     },
     "execution_count": 8,
     "metadata": {},
     "output_type": "execute_result"
    }
   ],
   "source": [
    "pipeline_survey_scenario.simulations[\"baseline\"].compute_aggregate(\"irpp\", period=2021)"
   ]
  }
 ],
 "metadata": {
  "kernelspec": {
   "display_name": "leximpact-prepare-data-kernel",
   "language": "python",
   "name": "leximpact-prepare-data-kernel"
  },
  "language_info": {
   "codemirror_mode": {
    "name": "ipython",
    "version": 3
   },
   "file_extension": ".py",
   "mimetype": "text/x-python",
   "name": "python",
   "nbconvert_exporter": "python",
   "pygments_lexer": "ipython3",
   "version": "3.10.12"
  }
 },
 "nbformat": 4,
 "nbformat_minor": 5
}
