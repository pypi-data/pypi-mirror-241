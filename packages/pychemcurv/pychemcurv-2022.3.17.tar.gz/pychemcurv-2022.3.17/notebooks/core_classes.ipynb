{
 "cells": [
  {
   "cell_type": "markdown",
   "metadata": {
    "pycharm": {
     "name": "#%% md\n"
    }
   },
   "source": [
    "# Using core classes\n",
    "\n",
    "This notebook aims to illustrate the `VertexAtom` and `TrivalentVertex` classes and the computed values."
   ]
  },
  {
   "cell_type": "code",
   "execution_count": 1,
   "metadata": {},
   "outputs": [],
   "source": [
    "import numpy as np\n",
    "import pandas as pd\n",
    "import matplotlib.pyplot as plt\n",
    "%matplotlib inline\n",
    "\n",
    "import pychemcurv"
   ]
  },
  {
   "cell_type": "markdown",
   "metadata": {},
   "source": [
    "The `TrivalentVertex` class is a child class of the `VertexAtom` class corresponding to the specific case where there are 3 atoms B belonging to *(A).\n",
    "\n",
    "In the `VertexAtom` class, only the angular defect is provided because it is defined whatever the size of *(A) (assuming 3 is the minimum).\n",
    "\n",
    "In the `TrivalentVertex` class several geometrycal parameters are computed."
   ]
  },
  {
   "cell_type": "markdown",
   "metadata": {
    "pycharm": {
     "is_executing": false,
     "name": "#%% md\n"
    }
   },
   "source": [
    "## Compute data for a range of  pyramids\n",
    "\n",
    "### Trivalent case\n",
    "\n",
    "Compute the pyramidalization angle for a series of perfect pyramid of known pyramidalization angle using the `TrivalentVertex` class and the `from_pyramid` function."
   ]
  },
  {
   "cell_type": "code",
   "execution_count": 2,
   "metadata": {},
   "outputs": [],
   "source": [
    "l = 1.4\n",
    "xyz = \"\"\n",
    "data = list()\n",
    "for iline, theta in enumerate(range(90, 90 + 31, 1), 1):\n",
    "    \n",
    "    va = pychemcurv.TrivalentVertex.from_pyramid(l, theta)\n",
    "    \n",
    "    \n",
    "    aline = dict(theta=theta)\n",
    "    aline.update(va.as_dict(radians=False))\n",
    "    data.append(aline)\n",
    "\n",
    "    xyz += va.write_file(filename=None)\n",
    "\n",
    "with open(\"traj.xyz\", \"w\") as f:\n",
    "    f.write(xyz)"
   ]
  },
  {
   "cell_type": "code",
   "execution_count": 3,
   "metadata": {},
   "outputs": [
    {
     "data": {
      "text/html": [
       "<div>\n",
       "<style scoped>\n",
       "    .dataframe tbody tr th:only-of-type {\n",
       "        vertical-align: middle;\n",
       "    }\n",
       "\n",
       "    .dataframe tbody tr th {\n",
       "        vertical-align: top;\n",
       "    }\n",
       "\n",
       "    .dataframe thead th {\n",
       "        text-align: right;\n",
       "    }\n",
       "</style>\n",
       "<table border=\"1\" class=\"dataframe\">\n",
       "  <thead>\n",
       "    <tr style=\"text-align: right;\">\n",
       "      <th></th>\n",
       "      <th>theta</th>\n",
       "      <th>atom_A</th>\n",
       "      <th>star_A</th>\n",
       "      <th>reg_star_A</th>\n",
       "      <th>distances</th>\n",
       "      <th>angles</th>\n",
       "      <th>n_star_A</th>\n",
       "      <th>angular_defect</th>\n",
       "      <th>pyr_distance</th>\n",
       "      <th>pyrA</th>\n",
       "      <th>spherical_curvature</th>\n",
       "      <th>improper</th>\n",
       "    </tr>\n",
       "  </thead>\n",
       "  <tbody>\n",
       "    <tr>\n",
       "      <th>0</th>\n",
       "      <td>90</td>\n",
       "      <td>[0.0, 0.0, -8.572527594031472e-17]</td>\n",
       "      <td>[[1.4, 0.0, 0.0], [-0.6999999999999996, 1.2124...</td>\n",
       "      <td>[[1.0, 0.0, -2.449293598294706e-17], [-0.49999...</td>\n",
       "      <td>[1.4, 1.4, 1.4]</td>\n",
       "      <td>{(0, 1): 119.99999999999999, (0, 2): 120.00000...</td>\n",
       "      <td>3</td>\n",
       "      <td>0.000000</td>\n",
       "      <td>8.572528e-17</td>\n",
       "      <td>0.0</td>\n",
       "      <td>8.747477e-17</td>\n",
       "      <td>7.016709e-15</td>\n",
       "    </tr>\n",
       "    <tr>\n",
       "      <th>1</th>\n",
       "      <td>91</td>\n",
       "      <td>[0.0, 0.0, 0.02443336901219686]</td>\n",
       "      <td>[[1.3997867732189477, 0.0, 0.0], [-0.699893386...</td>\n",
       "      <td>[[0.9998476951563912, 0.0, 0.00698096257491339...</td>\n",
       "      <td>[1.4000000000000001, 1.4000000000000001, 1.400...</td>\n",
       "      <td>{(0, 1): 119.96977768055153, (0, 2): 119.96977...</td>\n",
       "      <td>3</td>\n",
       "      <td>0.090667</td>\n",
       "      <td>2.443337e-02</td>\n",
       "      <td>1.0</td>\n",
       "      <td>2.493201e-02</td>\n",
       "      <td>-1.999391e+00</td>\n",
       "    </tr>\n",
       "    <tr>\n",
       "      <th>2</th>\n",
       "      <td>92</td>\n",
       "      <td>[0.0, 0.0, 0.04885929538350133]</td>\n",
       "      <td>[[1.399147157826734, 0.0, 0.0], [-0.6995735789...</td>\n",
       "      <td>[[0.9993908270190957, 0.0, 0.01395979868100038...</td>\n",
       "      <td>[1.4000000000000001, 1.4000000000000001, 1.4]</td>\n",
       "      <td>{(0, 1): 119.87920257674472, (0, 2): 119.87920...</td>\n",
       "      <td>3</td>\n",
       "      <td>0.362392</td>\n",
       "      <td>4.885930e-02</td>\n",
       "      <td>2.0</td>\n",
       "      <td>4.985642e-02</td>\n",
       "      <td>-3.995138e+00</td>\n",
       "    </tr>\n",
       "    <tr>\n",
       "      <th>3</th>\n",
       "      <td>93</td>\n",
       "      <td>[0.0, 0.0, 0.07327033874012137]</td>\n",
       "      <td>[[1.3980813486564032, 0.0, 0.0], [-0.699040674...</td>\n",
       "      <td>[[0.9986295347545738, 0.0, 0.02093438249717753...</td>\n",
       "      <td>[1.4, 1.4, 1.3999999999999997]</td>\n",
       "      <td>{(0, 1): 119.72854887306534, (0, 2): 119.72854...</td>\n",
       "      <td>3</td>\n",
       "      <td>0.814353</td>\n",
       "      <td>7.327034e-02</td>\n",
       "      <td>3.0</td>\n",
       "      <td>7.476565e-02</td>\n",
       "      <td>-5.983640e+00</td>\n",
       "    </tr>\n",
       "    <tr>\n",
       "      <th>4</th>\n",
       "      <td>94</td>\n",
       "      <td>[0.0, 0.0, 0.09765906324177548]</td>\n",
       "      <td>[[1.3965896703637537, 0.0, 0.0], [-0.698294835...</td>\n",
       "      <td>[[0.9975640502598243, 0.0, 0.02790258949765012...</td>\n",
       "      <td>[1.3999999999999997, 1.4, 1.3999999999999997]</td>\n",
       "      <td>{(0, 1): 119.51826899468107, (0, 2): 119.51826...</td>\n",
       "      <td>3</td>\n",
       "      <td>1.445193</td>\n",
       "      <td>9.765906e-02</td>\n",
       "      <td>4.0</td>\n",
       "      <td>9.965211e-02</td>\n",
       "      <td>-7.961385e+00</td>\n",
       "    </tr>\n",
       "  </tbody>\n",
       "</table>\n",
       "</div>"
      ],
      "text/plain": [
       "   theta                              atom_A  \\\n",
       "0     90  [0.0, 0.0, -8.572527594031472e-17]   \n",
       "1     91     [0.0, 0.0, 0.02443336901219686]   \n",
       "2     92     [0.0, 0.0, 0.04885929538350133]   \n",
       "3     93     [0.0, 0.0, 0.07327033874012137]   \n",
       "4     94     [0.0, 0.0, 0.09765906324177548]   \n",
       "\n",
       "                                              star_A  \\\n",
       "0  [[1.4, 0.0, 0.0], [-0.6999999999999996, 1.2124...   \n",
       "1  [[1.3997867732189477, 0.0, 0.0], [-0.699893386...   \n",
       "2  [[1.399147157826734, 0.0, 0.0], [-0.6995735789...   \n",
       "3  [[1.3980813486564032, 0.0, 0.0], [-0.699040674...   \n",
       "4  [[1.3965896703637537, 0.0, 0.0], [-0.698294835...   \n",
       "\n",
       "                                          reg_star_A  \\\n",
       "0  [[1.0, 0.0, -2.449293598294706e-17], [-0.49999...   \n",
       "1  [[0.9998476951563912, 0.0, 0.00698096257491339...   \n",
       "2  [[0.9993908270190957, 0.0, 0.01395979868100038...   \n",
       "3  [[0.9986295347545738, 0.0, 0.02093438249717753...   \n",
       "4  [[0.9975640502598243, 0.0, 0.02790258949765012...   \n",
       "\n",
       "                                           distances  \\\n",
       "0                                    [1.4, 1.4, 1.4]   \n",
       "1  [1.4000000000000001, 1.4000000000000001, 1.400...   \n",
       "2      [1.4000000000000001, 1.4000000000000001, 1.4]   \n",
       "3                     [1.4, 1.4, 1.3999999999999997]   \n",
       "4      [1.3999999999999997, 1.4, 1.3999999999999997]   \n",
       "\n",
       "                                              angles  n_star_A  \\\n",
       "0  {(0, 1): 119.99999999999999, (0, 2): 120.00000...         3   \n",
       "1  {(0, 1): 119.96977768055153, (0, 2): 119.96977...         3   \n",
       "2  {(0, 1): 119.87920257674472, (0, 2): 119.87920...         3   \n",
       "3  {(0, 1): 119.72854887306534, (0, 2): 119.72854...         3   \n",
       "4  {(0, 1): 119.51826899468107, (0, 2): 119.51826...         3   \n",
       "\n",
       "   angular_defect  pyr_distance  pyrA  spherical_curvature      improper  \n",
       "0        0.000000  8.572528e-17   0.0         8.747477e-17  7.016709e-15  \n",
       "1        0.090667  2.443337e-02   1.0         2.493201e-02 -1.999391e+00  \n",
       "2        0.362392  4.885930e-02   2.0         4.985642e-02 -3.995138e+00  \n",
       "3        0.814353  7.327034e-02   3.0         7.476565e-02 -5.983640e+00  \n",
       "4        1.445193  9.765906e-02   4.0         9.965211e-02 -7.961385e+00  "
      ]
     },
     "execution_count": 3,
     "metadata": {},
     "output_type": "execute_result"
    }
   ],
   "source": [
    "df = pd.DataFrame(data)\n",
    "df.head()"
   ]
  },
  {
   "cell_type": "markdown",
   "metadata": {},
   "source": [
    "### General case\n",
    "\n",
    "If there are more thant 3 atoms in *(A) you have to use the `VertexAtom` class."
   ]
  },
  {
   "cell_type": "code",
   "execution_count": 4,
   "metadata": {},
   "outputs": [],
   "source": [
    "l = 1.4\n",
    "xyz = \"\"\n",
    "data = list()\n",
    "for iline, theta in enumerate(range(90, 90 + 31, 1), 1):\n",
    "    \n",
    "    va = pychemcurv.VertexAtom.from_pyramid(l, theta, n_star_A=4)\n",
    "    \n",
    "    aline = dict(theta=theta)\n",
    "    aline.update(va.as_dict(radians=False))\n",
    "    data.append(aline)\n",
    "\n",
    "    xyz += va.write_file(filename=None)\n",
    "\n",
    "with open(\"traj_4B.xyz\", \"w\") as f:\n",
    "    f.write(xyz)"
   ]
  },
  {
   "cell_type": "code",
   "execution_count": 5,
   "metadata": {},
   "outputs": [
    {
     "data": {
      "text/html": [
       "<div>\n",
       "<style scoped>\n",
       "    .dataframe tbody tr th:only-of-type {\n",
       "        vertical-align: middle;\n",
       "    }\n",
       "\n",
       "    .dataframe tbody tr th {\n",
       "        vertical-align: top;\n",
       "    }\n",
       "\n",
       "    .dataframe thead th {\n",
       "        text-align: right;\n",
       "    }\n",
       "</style>\n",
       "<table border=\"1\" class=\"dataframe\">\n",
       "  <thead>\n",
       "    <tr style=\"text-align: right;\">\n",
       "      <th></th>\n",
       "      <th>theta</th>\n",
       "      <th>atom_A</th>\n",
       "      <th>star_A</th>\n",
       "      <th>reg_star_A</th>\n",
       "      <th>distances</th>\n",
       "      <th>angles</th>\n",
       "      <th>n_star_A</th>\n",
       "      <th>angular_defect</th>\n",
       "      <th>pyr_distance</th>\n",
       "    </tr>\n",
       "  </thead>\n",
       "  <tbody>\n",
       "    <tr>\n",
       "      <th>0</th>\n",
       "      <td>90</td>\n",
       "      <td>[0.0, 0.0, -8.572527594031472e-17]</td>\n",
       "      <td>[[1.4, 0.0, 0.0], [8.572527594031472e-17, 1.4,...</td>\n",
       "      <td>[[1.0, 0.0, -2.449293598294706e-17], [6.123233...</td>\n",
       "      <td>[1.4, 1.4, 1.4, 1.4]</td>\n",
       "      <td>{(3, 2): 90.0, (2, 1): 90.0, (1, 0): 90.0, (0,...</td>\n",
       "      <td>4</td>\n",
       "      <td>0.000000</td>\n",
       "      <td>8.572528e-17</td>\n",
       "    </tr>\n",
       "    <tr>\n",
       "      <th>1</th>\n",
       "      <td>91</td>\n",
       "      <td>[0.0, 0.0, 0.02443336901219686]</td>\n",
       "      <td>[[1.3997867732189477, 0.0, 0.0], [8.5712219565...</td>\n",
       "      <td>[[0.9998476951563912, 0.0, 0.00698096257491339...</td>\n",
       "      <td>[1.4000000000000001, 1.4000000000000001, 1.400...</td>\n",
       "      <td>{(3, 2): 89.98254847933055, (2, 1): 89.9825484...</td>\n",
       "      <td>4</td>\n",
       "      <td>0.069806</td>\n",
       "      <td>2.443337e-02</td>\n",
       "    </tr>\n",
       "    <tr>\n",
       "      <th>2</th>\n",
       "      <td>92</td>\n",
       "      <td>[0.0, 0.0, 0.04885929538350133]</td>\n",
       "      <td>[[1.399147157826734, 0.0, 0.0], [8.56730544184...</td>\n",
       "      <td>[[0.9993908270190957, 0.0, 0.01395979868100038...</td>\n",
       "      <td>[1.4000000000000001, 1.4000000000000001, 1.400...</td>\n",
       "      <td>{(3, 2): 89.93021516313709, (2, 1): 89.9302151...</td>\n",
       "      <td>4</td>\n",
       "      <td>0.279139</td>\n",
       "      <td>4.885930e-02</td>\n",
       "    </tr>\n",
       "    <tr>\n",
       "      <th>3</th>\n",
       "      <td>93</td>\n",
       "      <td>[0.0, 0.0, 0.07327033874012137]</td>\n",
       "      <td>[[1.3980813486564032, 0.0, 0.0], [8.5607792428...</td>\n",
       "      <td>[[0.9986295347545738, 0.0, 0.02093438249717753...</td>\n",
       "      <td>[1.4, 1.4, 1.4, 1.4]</td>\n",
       "      <td>{(3, 2): 89.84306366620169, (2, 1): 89.8430636...</td>\n",
       "      <td>4</td>\n",
       "      <td>0.627745</td>\n",
       "      <td>7.327034e-02</td>\n",
       "    </tr>\n",
       "    <tr>\n",
       "      <th>4</th>\n",
       "      <td>94</td>\n",
       "      <td>[0.0, 0.0, 0.09765906324177548]</td>\n",
       "      <td>[[1.3965896703637537, 0.0, 0.0], [8.5516453476...</td>\n",
       "      <td>[[0.9975640502598243, 0.0, 0.02790258949765012...</td>\n",
       "      <td>[1.3999999999999997, 1.3999999999999997, 1.399...</td>\n",
       "      <td>{(3, 2): 89.72119960596119, (2, 1): 89.7211996...</td>\n",
       "      <td>4</td>\n",
       "      <td>1.115202</td>\n",
       "      <td>9.765906e-02</td>\n",
       "    </tr>\n",
       "  </tbody>\n",
       "</table>\n",
       "</div>"
      ],
      "text/plain": [
       "   theta                              atom_A  \\\n",
       "0     90  [0.0, 0.0, -8.572527594031472e-17]   \n",
       "1     91     [0.0, 0.0, 0.02443336901219686]   \n",
       "2     92     [0.0, 0.0, 0.04885929538350133]   \n",
       "3     93     [0.0, 0.0, 0.07327033874012137]   \n",
       "4     94     [0.0, 0.0, 0.09765906324177548]   \n",
       "\n",
       "                                              star_A  \\\n",
       "0  [[1.4, 0.0, 0.0], [8.572527594031472e-17, 1.4,...   \n",
       "1  [[1.3997867732189477, 0.0, 0.0], [8.5712219565...   \n",
       "2  [[1.399147157826734, 0.0, 0.0], [8.56730544184...   \n",
       "3  [[1.3980813486564032, 0.0, 0.0], [8.5607792428...   \n",
       "4  [[1.3965896703637537, 0.0, 0.0], [8.5516453476...   \n",
       "\n",
       "                                          reg_star_A  \\\n",
       "0  [[1.0, 0.0, -2.449293598294706e-17], [6.123233...   \n",
       "1  [[0.9998476951563912, 0.0, 0.00698096257491339...   \n",
       "2  [[0.9993908270190957, 0.0, 0.01395979868100038...   \n",
       "3  [[0.9986295347545738, 0.0, 0.02093438249717753...   \n",
       "4  [[0.9975640502598243, 0.0, 0.02790258949765012...   \n",
       "\n",
       "                                           distances  \\\n",
       "0                               [1.4, 1.4, 1.4, 1.4]   \n",
       "1  [1.4000000000000001, 1.4000000000000001, 1.400...   \n",
       "2  [1.4000000000000001, 1.4000000000000001, 1.400...   \n",
       "3                               [1.4, 1.4, 1.4, 1.4]   \n",
       "4  [1.3999999999999997, 1.3999999999999997, 1.399...   \n",
       "\n",
       "                                              angles  n_star_A  \\\n",
       "0  {(3, 2): 90.0, (2, 1): 90.0, (1, 0): 90.0, (0,...         4   \n",
       "1  {(3, 2): 89.98254847933055, (2, 1): 89.9825484...         4   \n",
       "2  {(3, 2): 89.93021516313709, (2, 1): 89.9302151...         4   \n",
       "3  {(3, 2): 89.84306366620169, (2, 1): 89.8430636...         4   \n",
       "4  {(3, 2): 89.72119960596119, (2, 1): 89.7211996...         4   \n",
       "\n",
       "   angular_defect  pyr_distance  \n",
       "0        0.000000  8.572528e-17  \n",
       "1        0.069806  2.443337e-02  \n",
       "2        0.279139  4.885930e-02  \n",
       "3        0.627745  7.327034e-02  \n",
       "4        1.115202  9.765906e-02  "
      ]
     },
     "execution_count": 5,
     "metadata": {},
     "output_type": "execute_result"
    }
   ],
   "source": [
    "df = pd.DataFrame(data)\n",
    "df.head()"
   ]
  },
  {
   "cell_type": "markdown",
   "metadata": {},
   "source": [
    "## Compute data for defined pyramid\n",
    "\n",
    "### A perfect sp3 pyramid"
   ]
  },
  {
   "cell_type": "code",
   "execution_count": 6,
   "metadata": {},
   "outputs": [
    {
     "name": "stdout",
     "output_type": "stream",
     "text": [
      "pyrA: 19.4712 degrees\n",
      "Atom A:\n",
      "[0.         0.         0.43333333]\n",
      "Atoms B in *(A):\n",
      "[[ 1.22565175  0.          0.        ]\n",
      " [-0.61282588  1.06144556  0.        ]\n",
      " [-0.61282588 -1.06144556  0.        ]]\n",
      "\n",
      "pyr angle:    19.4712\n",
      "pyr distance:     0.4333\n",
      "angular defect:     0.5513\n",
      "spherical curvature : 0.5128205128205127\n",
      "improper angle: -0.6154797086703873\n"
     ]
    }
   ],
   "source": [
    "va = pychemcurv.TrivalentVertex.from_pyramid(1.3, np.degrees(np.arccos(-1/3)), perturb=0)\n",
    "print(va)\n",
    "va.write_file(filename=\"mol.xyz\")\n",
    "print(f\"pyr angle: {va.pyrA:10.4f}\")\n",
    "print(f\"pyr distance: {va.pyr_distance:10.4f}\")\n",
    "print(f\"angular defect: {va.angular_defect:10.4f}\")\n",
    "print(f\"spherical curvature : {va.spherical_curvature}\")\n",
    "print(f\"improper angle: {va.improper}\")"
   ]
  },
  {
   "cell_type": "markdown",
   "metadata": {},
   "source": [
    "### A perfect sp2 atom"
   ]
  },
  {
   "cell_type": "code",
   "execution_count": 7,
   "metadata": {},
   "outputs": [
    {
     "name": "stdout",
     "output_type": "stream",
     "text": [
      "pyrA: 0.0000 degrees\n",
      "Atom A:\n",
      "[ 0.00000000e+00  0.00000000e+00 -7.96020419e-17]\n",
      "Atoms B in *(A):\n",
      "[[ 1.3         0.          0.        ]\n",
      " [-0.65        1.12583302  0.        ]\n",
      " [-0.65       -1.12583302  0.        ]]\n",
      "\n",
      "pyr angle:     0.0000\n",
      "pyr distance:     0.0000\n",
      "angular defect:     0.0000\n",
      "spherical curvature : 9.420359993441179e-17\n",
      "improper angle:     0.0000\n"
     ]
    }
   ],
   "source": [
    "va = pychemcurv.TrivalentVertex.from_pyramid(1.3, 90, perturb=0)\n",
    "print(va)\n",
    "va.write_file(filename=\"mol_sp2.xyz\")\n",
    "print(f\"pyr angle: {va.pyrA:10.4f}\")\n",
    "print(f\"pyr distance: {va.pyr_distance:10.4f}\")\n",
    "print(f\"angular defect: {va.angular_defect:10.4f}\")\n",
    "print(f\"spherical curvature : {va.spherical_curvature}\")\n",
    "print(f\"improper angle: {va.improper:10.4f}\")"
   ]
  },
  {
   "cell_type": "markdown",
   "metadata": {},
   "source": [
    "### A sp3 pyramid with random noize\n",
    "\n",
    "Compute the same quantities for a sp3 pyramid but randomize the positions.\n",
    "\n",
    "#### perturb by 1%"
   ]
  },
  {
   "cell_type": "code",
   "execution_count": 8,
   "metadata": {},
   "outputs": [
    {
     "name": "stdout",
     "output_type": "stream",
     "text": [
      "pyrA: 19.3014 degrees\n",
      "Atom A:\n",
      "[0.         0.         0.43333333]\n",
      "Atoms B in *(A):\n",
      "[[ 1.25592593  0.00159322  0.01800116]\n",
      " [-0.61261264  1.06097457 -0.00330133]\n",
      " [-0.61887509 -1.06470345 -0.01480539]]\n",
      "\n",
      "pyr angle:    19.3014\n",
      "pyr distance:     0.4334\n",
      "angular defect:     0.5425\n",
      "spherical curvature : 0.5041101008620948\n",
      "improper angle:    -0.6133\n"
     ]
    }
   ],
   "source": [
    "va = pychemcurv.TrivalentVertex.from_pyramid(1.3, np.degrees(np.arccos(-1/3)), perturb=0.01 * 2)\n",
    "print(va)\n",
    "va.write_file(filename=\"mol_r.xyz\")\n",
    "print(f\"pyr angle: {va.pyrA:10.4f}\")\n",
    "print(f\"pyr distance: {va.pyr_distance:10.4f}\")\n",
    "print(f\"angular defect: {va.angular_defect:10.4f}\")\n",
    "print(f\"spherical curvature : {va.spherical_curvature}\")\n",
    "print(f\"improper angle: {va.improper:10.4f}\")"
   ]
  },
  {
   "cell_type": "markdown",
   "metadata": {},
   "source": [
    "#### Perturb by 15%\n",
    "\n",
    "Compute the same quantities for a sp3 pyramid but randomize the positions by 15%."
   ]
  },
  {
   "cell_type": "code",
   "execution_count": 9,
   "metadata": {},
   "outputs": [
    {
     "name": "stdout",
     "output_type": "stream",
     "text": [
      "pyrA: 12.9280 degrees\n",
      "Atom A:\n",
      "[0.         0.         0.46666667]\n",
      "Atoms B in *(A):\n",
      "[[ 1.38342901  0.02762911  0.05468004]\n",
      " [-0.36933268  1.64180071 -0.18420113]\n",
      " [-0.39271277 -0.60294111  0.42223143]]\n",
      "\n",
      "pyr angle:    12.9280\n",
      "pyr distance:     0.2404\n",
      "angular defect:     0.2696\n",
      "spherical curvature : 0.3498395621443218\n",
      "improper angle:    -0.2235\n"
     ]
    }
   ],
   "source": [
    "va = pychemcurv.TrivalentVertex.from_pyramid(1.4, np.degrees(np.arccos(-1/3)), perturb=0.15 * 2)\n",
    "print(va)\n",
    "va.write_file(filename=\"mol_r.xyz\")\n",
    "print(f\"pyr angle: {va.pyrA:10.4f}\")\n",
    "print(f\"pyr distance: {va.pyr_distance:10.4f}\")\n",
    "print(f\"angular defect: {va.angular_defect:10.4f}\")\n",
    "print(f\"spherical curvature : {va.spherical_curvature}\")\n",
    "print(f\"improper angle: {va.improper:10.4f}\")"
   ]
  },
  {
   "cell_type": "markdown",
   "metadata": {},
   "source": [
    "### Random rotation\n",
    "\n",
    "Apply a random rotation and translation to the molecule, and check the results do not change."
   ]
  },
  {
   "cell_type": "code",
   "execution_count": 10,
   "metadata": {},
   "outputs": [
    {
     "name": "stdout",
     "output_type": "stream",
     "text": [
      "qcoords = \n",
      " [[-1.41209978 -0.5804897  -8.44044036]\n",
      " [-1.92385662  0.7193152  -8.80511053]\n",
      " [-2.33508286 -1.45495571 -9.72065772]\n",
      " [-0.72651273 -0.66998243 -8.23624135]]\n",
      "pyr angle:    12.9280\n",
      "pyr distance:     0.2404\n",
      "angular defect:     0.2696\n",
      "spherical curvature : 0.34983956214432\n",
      "improper angle:    -0.2235\n"
     ]
    }
   ],
   "source": [
    "# transformation matrix from qr decomposition of a random matrix\n",
    "q ,r = np.linalg.qr(np.random.random((3, 3)))\n",
    "\n",
    "# random translation vector\n",
    "translation = np.random.uniform(-10, 10, 3)\n",
    "\n",
    "# new coordinates\n",
    "coords = np.vstack((va.a, va.star_a))\n",
    "qcoords = np.dot(coords, q) + translation\n",
    "print(\"qcoords = \\n\", qcoords)\n",
    "\n",
    "va = pychemcurv.TrivalentVertex(qcoords[0], qcoords[1:])\n",
    "va.write_file(filename=\"random.xyz\")\n",
    "print(f\"pyr angle: {va.pyrA:10.4f}\")\n",
    "print(f\"pyr distance: {va.pyr_distance:10.4f}\")\n",
    "print(f\"angular defect: {va.angular_defect:10.4f}\")\n",
    "print(f\"spherical curvature : {va.spherical_curvature}\")\n",
    "print(f\"improper angle: {va.improper:10.4f}\")"
   ]
  },
  {
   "cell_type": "markdown",
   "metadata": {},
   "source": [
    "## POAV1\n",
    "\n",
    "The `POAV1` class compute quantities related to the POAV1 theory. POAV stands for Pi Orbital Atomic Vector.\n",
    "\n",
    "The class is defined from a trivalent vertex."
   ]
  },
  {
   "cell_type": "code",
   "execution_count": 11,
   "metadata": {},
   "outputs": [],
   "source": [
    "va = pychemcurv.TrivalentVertex.from_pyramid(1., theta=108)\n",
    "poav1 = pychemcurv.POAV1(va)"
   ]
  },
  {
   "cell_type": "code",
   "execution_count": 12,
   "metadata": {},
   "outputs": [
    {
     "name": "stdout",
     "output_type": "stream",
     "text": [
      "c_pi^2 = 0.2111\n",
      "lambda_pi^2 = 0.7889\n"
     ]
    }
   ],
   "source": [
    "print(f\"c_pi^2 = {poav1.c_pi**2:.4f}\")\n",
    "print(f\"lambda_pi^2 = {poav1.lambda_pi**2:.4f}\")"
   ]
  },
  {
   "cell_type": "markdown",
   "metadata": {},
   "source": [
    "The POAV1 vector is computed from the coordinates of the atoms."
   ]
  },
  {
   "cell_type": "code",
   "execution_count": 13,
   "metadata": {},
   "outputs": [
    {
     "data": {
      "text/plain": [
       "array([0., 0., 1.])"
      ]
     },
     "execution_count": 13,
     "metadata": {},
     "output_type": "execute_result"
    }
   ],
   "source": [
    "poav1.poav"
   ]
  },
  {
   "cell_type": "markdown",
   "metadata": {},
   "source": [
    "All quantities can be exported as a dict."
   ]
  },
  {
   "cell_type": "code",
   "execution_count": 14,
   "metadata": {},
   "outputs": [
    {
     "data": {
      "text/plain": [
       "{'hybridization': 2.802983248181589,\n",
       " 'n': 2.802983248181589,\n",
       " 'm': 0.26766108272719624,\n",
       " 'c_pi^2': 0.21114561800016823,\n",
       " 'lambda_pi^2': 0.7888543819998319,\n",
       " 'poav': [0.0, 0.0, 0.9999999999999998]}"
      ]
     },
     "execution_count": 14,
     "metadata": {},
     "output_type": "execute_result"
    }
   ],
   "source": [
    "poav1.as_dict()"
   ]
  },
  {
   "cell_type": "markdown",
   "metadata": {},
   "source": [
    "## POAV2\n",
    "\n",
    "The `POAV2` class compute quantities related to the POAV2 theory. \n",
    "\n",
    "The class is defined from a trivalent vertex."
   ]
  },
  {
   "cell_type": "code",
   "execution_count": 15,
   "metadata": {},
   "outputs": [],
   "source": [
    "va = pychemcurv.TrivalentVertex.from_pyramid(1., theta=108, perturb=0.1)\n",
    "poav2 = pychemcurv.POAV2(va)"
   ]
  },
  {
   "cell_type": "code",
   "execution_count": 16,
   "metadata": {},
   "outputs": [
    {
     "name": "stdout",
     "output_type": "stream",
     "text": [
      "pi hybridation number    : 0.075\n",
      "sigma hybridation numbers: 0.130 34.014 60.417\n"
     ]
    }
   ],
   "source": [
    "print(f\"pi hybridation number    : {poav2.pi_hyb_nbr:.3f}\")\n",
    "print(f\"sigma hybridation numbers: \" + \" \".join([f\"{n:.3f}\" for n in poav2.sigma_hyb_nbrs]))"
   ]
  },
  {
   "cell_type": "code",
   "execution_count": 17,
   "metadata": {},
   "outputs": [
    {
     "data": {
      "text/plain": [
       "{(0, 1): 118.41833289656262,\n",
       " (0, 2): 110.9210893511115,\n",
       " (1, 2): 91.26401257819487}"
      ]
     },
     "execution_count": 17,
     "metadata": {},
     "output_type": "execute_result"
    }
   ],
   "source": [
    "{k: np.degrees(v) for k, v in poav2.angles.items()}"
   ]
  },
  {
   "cell_type": "markdown",
   "metadata": {},
   "source": [
    "The vector $\\vec{u}_{\\pi}$ of the POAV2 theory vector is computed from the coordinates of the atoms."
   ]
  },
  {
   "cell_type": "code",
   "execution_count": 18,
   "metadata": {},
   "outputs": [
    {
     "data": {
      "text/plain": [
       "array([-0.49757134, -0.12670287,  0.85811954])"
      ]
     },
     "execution_count": 18,
     "metadata": {},
     "output_type": "execute_result"
    }
   ],
   "source": [
    "poav2.u_pi"
   ]
  },
  {
   "cell_type": "markdown",
   "metadata": {},
   "source": [
    "All quantities can be exported as a dict."
   ]
  },
  {
   "cell_type": "code",
   "execution_count": 19,
   "metadata": {},
   "outputs": [
    {
     "data": {
      "text/plain": [
       "{'pi_hyb_nbr': 0.07532924917008321,\n",
       " 'u_pi': [-0.49757133930577274, -0.12670287175858008, 0.8581195398017625],\n",
       " 'matrix': [[0.04455538236386827, 0.588884912058546, 0.11278485837945784],\n",
       "  [-0.2845123429335934, -0.32855432664158124, -0.2134830355675231],\n",
       "  [0.23995696056972513, -0.2603305854169647, 0.10069817718806526]],\n",
       " 'n_1': 0.12980903427482438,\n",
       " 'n_2': 34.01366013285981,\n",
       " 'n_3': 60.4170565640874}"
      ]
     },
     "execution_count": 19,
     "metadata": {},
     "output_type": "execute_result"
    }
   ],
   "source": [
    "poav2.as_dict()"
   ]
  },
  {
   "cell_type": "markdown",
   "metadata": {},
   "source": [
    "## Hybridization\n",
    "\n",
    "Calculations of $c_\\pi^2 / 3$ and $\\lambda_\\pi^2$ as a function of $pyrA$."
   ]
  },
  {
   "cell_type": "code",
   "execution_count": 24,
   "metadata": {},
   "outputs": [
    {
     "data": {
      "image/png": "[encoded data removed]",
      "text/plain": [
       "<Figure size 648x504 with 2 Axes>"
      ]
     },
     "metadata": {},
     "output_type": "display_data"
    }
   ],
   "source": [
    "theta_values = np.linspace(90, 125, 100)\n",
    "pyrA = theta_values - 90\n",
    "data = {\"cpi2\": [], \"lambdapi2\": []}\n",
    "for theta in theta_values:\n",
    "    va = pychemcurv.TrivalentVertex.from_pyramid(1., theta)\n",
    "    poav1 = pychemcurv.POAV1(va)\n",
    "    data[\"cpi2\"].append(poav1.c_pi ** 2)\n",
    "    data[\"lambdapi2\"].append(poav1.lambda_pi ** 2)\n",
    "\n",
    "data[\"cpi2\"] = np.array(data[\"cpi2\"])\n",
    "data[\"lambdapi2\"] = np.array(data[\"lambdapi2\"])\n",
    "\n",
    "with plt.style.context(\"bmh\"):\n",
    "    fig, ax1 = plt.subplots(figsize=(9, 7))\n",
    "    \n",
    "    ax1.plot(pyrA, data[\"cpi2\"] / 3, label=\"$p_z$ weight in $\\sigma$ orbitals\")\n",
    "    ax1.set_xlabel('pyrA (degrees)')\n",
    "    ax1.set_ylabel('$c_\\pi^2 \\; / \\; 3$', color=\"C0\")\n",
    "    ax1.tick_params(axis='y', labelcolor=\"C0\")\n",
    "\n",
    "    ax2 = ax1.twinx()  # instantiate a second axes that shares the same x-axis\n",
    "\n",
    "    ax2.plot(pyrA, data[\"lambdapi2\"], color=\"C1\", label=\"s weight in $\\pi$ orbital\")\n",
    "    \n",
    "    ax2.set_ylabel('$\\lambda_\\pi^2$', color=\"C1\")\n",
    "    ax2.tick_params(axis='y', labelcolor=\"C1\")\n",
    "    \n",
    "    ax1.axvline(0, color=\"C7\", ls=\"--\", lw=3)\n",
    "    ax1.axvline(19.4712, color=\"C7\", ls=\"--\", lw=3)\n",
    "    ax1.text(0, 0.35, \"$sp^2$\", ha=\"center\", color=\"C7\")\n",
    "    ax1.text(19.4712, 0.35, \"$sp^3$\", ha=\"center\", color=\"C7\")\n",
    "\n",
    "    plt.grid(False)\n",
    "    fig.tight_layout()\n",
    "#    plt.savefig(\"hybrid.png\", dpi=300)\n",
    "    "
   ]
  },
  {
   "cell_type": "code",
   "execution_count": null,
   "metadata": {},
   "outputs": [],
   "source": [
    "latex = df.to_latex(\n",
    "    index=False,\n",
    "    escape=False,\n",
    "    columns=[\"theta\", \"pyrA\", \"c_pi^2\", \"lambda_pi^2\", \"m\", \"n\", \"hybridization\"],\n",
    "    formatters={\"lambda_pi^2\": lambda x: \"%8.3f\" % x,\n",
    "                \"c_pi^2\": lambda x: \"%8.3f\" % x,\n",
    "                \"m\": lambda x: \"%8.3f\" % x,\n",
    "                \"hybridization\": lambda x: \"%8.3f\" % x,\n",
    "                \"n\": lambda x: \"%8.3f\" % x})\n",
    "print(latex)"
   ]
  }
 ],
 "metadata": {
  "kernelspec": {
   "display_name": "Python 3",
   "language": "python",
   "name": "python3"
  },
  "language_info": {
   "codemirror_mode": {
    "name": "ipython",
    "version": 3
   },
   "file_extension": ".py",
   "mimetype": "text/x-python",
   "name": "python",
   "nbconvert_exporter": "python",
   "pygments_lexer": "ipython3",
   "version": "3.9.2"
  },
  "pycharm": {
   "stem_cell": {
    "cell_type": "raw",
    "metadata": {
     "collapsed": false
    },
    "source": []
   }
  }
 },
 "nbformat": 4,
 "nbformat_minor": 4
}
