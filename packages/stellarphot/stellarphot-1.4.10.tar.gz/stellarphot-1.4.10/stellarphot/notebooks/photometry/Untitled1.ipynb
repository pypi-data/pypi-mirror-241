{
 "cells": [
  {
   "cell_type": "code",
   "execution_count": 1,
   "id": "e6d1167e-1942-44eb-84d4-6928e32d8761",
   "metadata": {},
   "outputs": [],
   "source": [
    "from stellarphot.visualization.fits_opener import FitsOpener"
   ]
  },
  {
   "cell_type": "code",
   "execution_count": 2,
   "id": "99a90d67-d07c-489a-bdb0-b0206dd42197",
   "metadata": {},
   "outputs": [],
   "source": [
    "fo = FitsOpener()"
   ]
  },
  {
   "cell_type": "code",
   "execution_count": 3,
   "id": "844d442e-3140-43d2-951e-76e706662a0f",
   "metadata": {},
   "outputs": [
    {
     "data": {
      "application/vnd.jupyter.widget-view+json": {
       "model_id": "480bf93ba3f6460695a16aa4394e47ac",
       "version_major": 2,
       "version_minor": 0
      },
      "text/plain": [
       "FileChooser(path='/Users/mattcraig/development/astronomy/stellarphot/stellarphot/notebooks/photometry', filena…"
      ]
     },
     "execution_count": 3,
     "metadata": {},
     "output_type": "execute_result"
    }
   ],
   "source": [
    "fo.file_chooser"
   ]
  },
  {
   "cell_type": "code",
   "execution_count": 10,
   "id": "570482a7-ce18-482d-af69-127e3201ff9c",
   "metadata": {},
   "outputs": [],
   "source": [
    "from stellarphot.io import TessSubmission"
   ]
  },
  {
   "cell_type": "code",
   "execution_count": 13,
   "id": "278922dd-d1c7-42f7-b9b1-3e6ac29d02cb",
   "metadata": {},
   "outputs": [],
   "source": [
    "tes = TessSubmission.from_header(fo.header)"
   ]
  },
  {
   "cell_type": "code",
   "execution_count": 14,
   "id": "ec64b2f2-18d6-4b9a-a157-06a8a3c77b34",
   "metadata": {},
   "outputs": [],
   "source": [
    "from stellarphot.analysis.exotic import get_tic_info"
   ]
  },
  {
   "cell_type": "code",
   "execution_count": 15,
   "id": "54f1c0ba-fe3a-442c-9546-117aac1aa024",
   "metadata": {},
   "outputs": [],
   "source": [
    "moo = get_tic_info(tes.tic_id)"
   ]
  },
  {
   "cell_type": "code",
   "execution_count": 16,
   "id": "fca42a04-4f36-4322-881e-37b4b0e3aa59",
   "metadata": {},
   "outputs": [
    {
     "data": {
      "text/html": [
       "<div><i>Table masked=True length=1</i>\n",
       "<table id=\"table10851829408\" class=\"table-striped table-bordered table-condensed\">\n",
       "<thead><tr><th>ID</th><th>version</th><th>HIP</th><th>TYC</th><th>UCAC</th><th>TWOMASS</th><th>SDSS</th><th>ALLWISE</th><th>GAIA</th><th>APASS</th><th>KIC</th><th>objType</th><th>typeSrc</th><th>ra</th><th>dec</th><th>POSflag</th><th>pmRA</th><th>e_pmRA</th><th>pmDEC</th><th>e_pmDEC</th><th>PMflag</th><th>plx</th><th>e_plx</th><th>PARflag</th><th>gallong</th><th>gallat</th><th>eclong</th><th>eclat</th><th>Bmag</th><th>e_Bmag</th><th>Vmag</th><th>e_Vmag</th><th>umag</th><th>e_umag</th><th>gmag</th><th>e_gmag</th><th>rmag</th><th>e_rmag</th><th>imag</th><th>e_imag</th><th>zmag</th><th>e_zmag</th><th>Jmag</th><th>e_Jmag</th><th>Hmag</th><th>e_Hmag</th><th>Kmag</th><th>e_Kmag</th><th>TWOMflag</th><th>prox</th><th>w1mag</th><th>e_w1mag</th><th>w2mag</th><th>e_w2mag</th><th>w3mag</th><th>e_w3mag</th><th>w4mag</th><th>e_w4mag</th><th>GAIAmag</th><th>e_GAIAmag</th><th>Tmag</th><th>e_Tmag</th><th>TESSflag</th><th>SPFlag</th><th>Teff</th><th>e_Teff</th><th>logg</th><th>e_logg</th><th>MH</th><th>e_MH</th><th>rad</th><th>e_rad</th><th>mass</th><th>e_mass</th><th>rho</th><th>e_rho</th><th>lumclass</th><th>lum</th><th>e_lum</th><th>d</th><th>e_d</th><th>ebv</th><th>e_ebv</th><th>numcont</th><th>contratio</th><th>disposition</th><th>duplicate_id</th><th>priority</th><th>eneg_EBV</th><th>epos_EBV</th><th>EBVflag</th><th>eneg_Mass</th><th>epos_Mass</th><th>eneg_Rad</th><th>epos_Rad</th><th>eneg_rho</th><th>epos_rho</th><th>eneg_logg</th><th>epos_logg</th><th>eneg_lum</th><th>epos_lum</th><th>eneg_dist</th><th>epos_dist</th><th>distflag</th><th>eneg_Teff</th><th>epos_Teff</th><th>TeffFlag</th><th>gaiabp</th><th>e_gaiabp</th><th>gaiarp</th><th>e_gaiarp</th><th>gaiaqflag</th><th>starchareFlag</th><th>VmagFlag</th><th>BmagFlag</th><th>splists</th><th>e_RA</th><th>e_Dec</th><th>RA_orig</th><th>Dec_orig</th><th>e_RA_orig</th><th>e_Dec_orig</th><th>raddflag</th><th>wdflag</th><th>objID</th></tr></thead>\n",
       "<thead><tr><th>str10</th><th>str8</th><th>int64</th><th>str1</th><th>str1</th><th>str1</th><th>str1</th><th>str1</th><th>str19</th><th>str1</th><th>int64</th><th>str4</th><th>str5</th><th>float64</th><th>float64</th><th>str5</th><th>float64</th><th>float64</th><th>float64</th><th>float64</th><th>str5</th><th>float64</th><th>float64</th><th>str5</th><th>float64</th><th>float64</th><th>float64</th><th>float64</th><th>float64</th><th>float64</th><th>float64</th><th>float64</th><th>float64</th><th>float64</th><th>float64</th><th>float64</th><th>float64</th><th>float64</th><th>float64</th><th>float64</th><th>float64</th><th>float64</th><th>float64</th><th>float64</th><th>float64</th><th>float64</th><th>float64</th><th>float64</th><th>str1</th><th>float64</th><th>float64</th><th>float64</th><th>float64</th><th>float64</th><th>float64</th><th>float64</th><th>float64</th><th>float64</th><th>float64</th><th>float64</th><th>float64</th><th>float64</th><th>str5</th><th>str5</th><th>float64</th><th>float64</th><th>float64</th><th>float64</th><th>float64</th><th>float64</th><th>float64</th><th>float64</th><th>float64</th><th>float64</th><th>float64</th><th>float64</th><th>str1</th><th>float64</th><th>float64</th><th>float64</th><th>float64</th><th>float64</th><th>float64</th><th>int64</th><th>float64</th><th>str9</th><th>str9</th><th>float64</th><th>float64</th><th>float64</th><th>str9</th><th>float64</th><th>float64</th><th>float64</th><th>float64</th><th>float64</th><th>float64</th><th>float64</th><th>float64</th><th>float64</th><th>float64</th><th>float64</th><th>float64</th><th>str6</th><th>float64</th><th>float64</th><th>str1</th><th>float64</th><th>float64</th><th>float64</th><th>float64</th><th>int64</th><th>str1</th><th>str5</th><th>str1</th><th>str1</th><th>float64</th><th>float64</th><th>float64</th><th>float64</th><th>float64</th><th>float64</th><th>int64</th><th>int64</th><th>str9</th></tr></thead>\n",
       "<tr><td>1712954983</td><td>20190415</td><td>--</td><td>--</td><td>--</td><td>--</td><td>--</td><td>--</td><td>2039478831268833280</td><td>--</td><td>--</td><td>STAR</td><td>gaia2</td><td>288.774032918652</td><td>30.7853907936863</td><td>gaia2</td><td>-7.90944</td><td>0.763099</td><td>18.9656</td><td>0.899679</td><td>gaia2</td><td>-4.628</td><td>0.496599</td><td>gaia2</td><td>63.0588601948365</td><td>8.89342687453976</td><td>296.998449153301</td><td>52.4793725614234</td><td>nan</td><td>nan</td><td>13.8869</td><td>0.0468</td><td>nan</td><td>nan</td><td>nan</td><td>nan</td><td>nan</td><td>nan</td><td>nan</td><td>nan</td><td>nan</td><td>nan</td><td>nan</td><td>nan</td><td>nan</td><td>nan</td><td>nan</td><td>nan</td><td>--</td><td>nan</td><td>nan</td><td>nan</td><td>nan</td><td>nan</td><td>nan</td><td>nan</td><td>nan</td><td>nan</td><td>13.7415</td><td>0.008127</td><td>13.3015</td><td>0.0101</td><td>gbprp</td><td>gaia2</td><td>nan</td><td>nan</td><td>nan</td><td>nan</td><td>nan</td><td>nan</td><td>nan</td><td>nan</td><td>nan</td><td>nan</td><td>nan</td><td>nan</td><td>--</td><td>nan</td><td>nan</td><td>7470.05</td><td>2918.86</td><td>0.164281</td><td>0.004534985</td><td>--</td><td>nan</td><td>DUPLICATE</td><td>392664256</td><td>nan</td><td>0.0042867</td><td>0.00478327</td><td>panstarrs</td><td>nan</td><td>nan</td><td>nan</td><td>nan</td><td>nan</td><td>nan</td><td>nan</td><td>nan</td><td>nan</td><td>nan</td><td>2417.38</td><td>3420.35</td><td>bj2018</td><td>nan</td><td>nan</td><td>--</td><td>13.6096</td><td>0.010711</td><td>12.7702</td><td>0.009743</td><td>0</td><td>--</td><td>gaia2</td><td>--</td><td>--</td><td>12.2731773657288</td><td>13.9525190683685</td><td>288.773993278432</td><td>30.7854724511374</td><td>0.351897743196877</td><td>0.457252717418218</td><td>0</td><td>0</td><td>261897221</td></tr>\n",
       "</table></div>"
      ],
      "text/plain": [
       "<Table masked=True length=1>\n",
       "    ID     version   HIP  TYC  UCAC TWOMASS ...     e_RA_orig         e_Dec_orig    raddflag wdflag   objID  \n",
       "  str10      str8   int64 str1 str1   str1  ...      float64           float64       int64   int64     str9  \n",
       "---------- -------- ----- ---- ---- ------- ... ----------------- ----------------- -------- ------ ---------\n",
       "1712954983 20190415    --   --   --      -- ... 0.351897743196877 0.457252717418218        0      0 261897221"
      ]
     },
     "execution_count": 16,
     "metadata": {},
     "output_type": "execute_result"
    }
   ],
   "source": [
    "moo"
   ]
  },
  {
   "cell_type": "code",
   "execution_count": null,
   "id": "a2d87352-2907-4a74-ad2c-19af378704b2",
   "metadata": {},
   "outputs": [],
   "source": []
  }
 ],
 "metadata": {
  "kernelspec": {
   "display_name": "Python 3 (ipykernel)",
   "language": "python",
   "name": "python3"
  },
  "language_info": {
   "codemirror_mode": {
    "name": "ipython",
    "version": 3
   },
   "file_extension": ".py",
   "mimetype": "text/x-python",
   "name": "python",
   "nbconvert_exporter": "python",
   "pygments_lexer": "ipython3",
   "version": "3.10.6"
  }
 },
 "nbformat": 4,
 "nbformat_minor": 5
}
