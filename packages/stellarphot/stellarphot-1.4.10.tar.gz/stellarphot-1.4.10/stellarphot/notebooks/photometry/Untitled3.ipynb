{
 "cells": [
  {
   "cell_type": "code",
   "execution_count": 1,
   "id": "2b4c6bf0-6793-4aa9-9a32-75aed15854aa",
   "metadata": {},
   "outputs": [],
   "source": [
    "from astropy.coordinates import Angle"
   ]
  },
  {
   "cell_type": "code",
   "execution_count": 2,
   "id": "992502e3-de51-471c-a625-622304aa9c7f",
   "metadata": {},
   "outputs": [],
   "source": [
    "a = Angle(\"3 degree\")"
   ]
  },
  {
   "cell_type": "code",
   "execution_count": 3,
   "id": "ed01f21e-93ed-4355-8c4b-1acd8dad0dd6",
   "metadata": {},
   "outputs": [
    {
     "data": {
      "text/latex": [
       "$3^\\circ00{}^\\prime00{}^{\\prime\\prime}$"
      ],
      "text/plain": [
       "<Angle 3. deg>"
      ]
     },
     "execution_count": 3,
     "metadata": {},
     "output_type": "execute_result"
    }
   ],
   "source": [
    "a"
   ]
  },
  {
   "cell_type": "code",
   "execution_count": null,
   "id": "7e3fdfa6-a07a-4186-88f7-fdbc649b56c4",
   "metadata": {},
   "outputs": [],
   "source": [
    "Angle.validate"
   ]
  }
 ],
 "metadata": {
  "kernelspec": {
   "display_name": "Python 3 (ipykernel)",
   "language": "python",
   "name": "python3"
  },
  "language_info": {
   "codemirror_mode": {
    "name": "ipython",
    "version": 3
   },
   "file_extension": ".py",
   "mimetype": "text/x-python",
   "name": "python",
   "nbconvert_exporter": "python",
   "pygments_lexer": "ipython3",
   "version": "3.10.6"
  }
 },
 "nbformat": 4,
 "nbformat_minor": 5
}
