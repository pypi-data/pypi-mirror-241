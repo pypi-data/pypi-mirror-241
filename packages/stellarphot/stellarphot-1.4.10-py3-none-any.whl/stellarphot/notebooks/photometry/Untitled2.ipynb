{
 "cells": [
  {
   "cell_type": "code",
   "execution_count": 1,
   "id": "09279aa0-3005-4f6b-ac04-b12539bf798c",
   "metadata": {},
   "outputs": [
    {
     "data": {
      "application/vnd.jupyter.widget-view+json": {
       "model_id": "e13f42b5fd924bd398b96b60a05dfce2",
       "version_major": 2,
       "version_minor": 0
      },
      "text/plain": [
       "DemoReel(children=(VBox(children=(HTML(value='⬇️ -- <b>Select demo pydantic model / generated AutoUi</b> -- ⬇️…"
      ]
     },
     "metadata": {},
     "output_type": "display_data"
    }
   ],
   "source": [
    "from ipyautoui import demo\n",
    "demo()"
   ]
  },
  {
   "cell_type": "code",
   "execution_count": 2,
   "id": "110edcd6-d23f-4c38-b84b-7571b5a6741a",
   "metadata": {},
   "outputs": [],
   "source": [
    "import requests"
   ]
  },
  {
   "cell_type": "code",
   "execution_count": 3,
   "id": "92a3fc92-2226-4ec5-a8f2-3c159d880e8d",
   "metadata": {},
   "outputs": [],
   "source": [
    "foo = requests.get(\"https://exofop.ipac.caltech.edu/tess/download_toi.php\", params={\"output\": \"csv\"})"
   ]
  },
  {
   "cell_type": "code",
   "execution_count": 4,
   "id": "1e597b84-186b-4f32-896e-cf5be72e035b",
   "metadata": {},
   "outputs": [
    {
     "data": {
      "text/plain": [
       "<Response [200]>"
      ]
     },
     "execution_count": 4,
     "metadata": {},
     "output_type": "execute_result"
    }
   ],
   "source": [
    "foo"
   ]
  },
  {
   "cell_type": "code",
   "execution_count": 7,
   "id": "712d14bd-cdd3-4a34-a6dd-8bbe032f93f9",
   "metadata": {},
   "outputs": [],
   "source": [
    "with open(\"foominator.csv\", \"w\") as f:\n",
    "    f.write(foo.text)"
   ]
  },
  {
   "cell_type": "code",
   "execution_count": 1,
   "id": "9f986216-3a13-4d0f-ba00-a9ab0ea0b62a",
   "metadata": {},
   "outputs": [],
   "source": [
    "from stellarphot.io.tess import TOI"
   ]
  },
  {
   "cell_type": "code",
   "execution_count": 2,
   "id": "595fe7de-ef5e-4939-bf6d-5038fa183920",
   "metadata": {},
   "outputs": [
    {
     "name": "stdout",
     "output_type": "stream",
     "text": [
      "/Users/mattcraig/.astropy/cache/download/url/d1cfb52f9e4b7fd765843241e59706fc/contents\n"
     ]
    }
   ],
   "source": [
    "toi = TOI(467615239) # , toi_table=\"foominator.csv\")"
   ]
  },
  {
   "cell_type": "code",
   "execution_count": 3,
   "id": "b05bd9f8-283c-43c2-b235-39c0dc7f1b9e",
   "metadata": {},
   "outputs": [
    {
     "data": {
      "text/plain": [
       "<Time object: scale='tdb' format='jd' value=2459522.34129>"
      ]
     },
     "execution_count": 3,
     "metadata": {},
     "output_type": "execute_result"
    }
   ],
   "source": [
    "toi.epoch"
   ]
  },
  {
   "cell_type": "code",
   "execution_count": 4,
   "id": "4ca40c3b-0771-4917-af36-9c58899cfdfa",
   "metadata": {},
   "outputs": [
    {
     "data": {
      "text/latex": [
       "$2.6429687 \\; \\mathrm{d}$"
      ],
      "text/plain": [
       "<Quantity 2.6429687 d>"
      ]
     },
     "execution_count": 4,
     "metadata": {},
     "output_type": "execute_result"
    }
   ],
   "source": [
    "toi.period"
   ]
  },
  {
   "cell_type": "code",
   "execution_count": 5,
   "id": "e1bc8e6a-247a-4a35-bb87-891117fec7c2",
   "metadata": {},
   "outputs": [
    {
     "data": {
      "text/plain": [
       "<Time object: scale='tdb' format='jd' value=2459524.9842586997>"
      ]
     },
     "execution_count": 5,
     "metadata": {},
     "output_type": "execute_result"
    }
   ],
   "source": [
    "toi.epoch + toi.period"
   ]
  },
  {
   "cell_type": "code",
   "execution_count": 6,
   "id": "5b44ca17-fcf0-4ac1-8025-2fd43c9435c3",
   "metadata": {},
   "outputs": [
    {
     "data": {
      "text/latex": [
       "$2.184 \\; \\mathrm{h}$"
      ],
      "text/plain": [
       "<Quantity 2.184 h>"
      ]
     },
     "execution_count": 6,
     "metadata": {},
     "output_type": "execute_result"
    }
   ],
   "source": [
    "toi.duration"
   ]
  },
  {
   "cell_type": "code",
   "execution_count": 7,
   "id": "2bfd4269-3069-41e9-bd8b-8051a0eeaa7a",
   "metadata": {},
   "outputs": [
    {
     "data": {
      "text/plain": [
       "<Time object: scale='tdb' format='jd' value=2459524.9387586997>"
      ]
     },
     "execution_count": 7,
     "metadata": {},
     "output_type": "execute_result"
    }
   ],
   "source": [
    "toi.epoch + toi.period - toi.duration / 2"
   ]
  },
  {
   "cell_type": "code",
   "execution_count": 8,
   "id": "93c3fb92-93b7-4c64-ad95-297747a29edb",
   "metadata": {},
   "outputs": [],
   "source": [
    "from astropy import units"
   ]
  },
  {
   "cell_type": "code",
   "execution_count": 9,
   "id": "d81ac30c-6950-4b87-a614-3061644f52a1",
   "metadata": {},
   "outputs": [
    {
     "data": {
      "text/plain": [
       "13.1504"
      ]
     },
     "execution_count": 9,
     "metadata": {},
     "output_type": "execute_result"
    }
   ],
   "source": [
    "toi.tess_mag"
   ]
  },
  {
   "cell_type": "code",
   "execution_count": 3,
   "id": "33f8b2bb-a24f-4c28-abf2-3c7b190c250f",
   "metadata": {},
   "outputs": [],
   "source": [
    "from stellarphot.io.tess import TargetFile"
   ]
  },
  {
   "cell_type": "code",
   "execution_count": 4,
   "id": "540a62f0-b19d-4214-b070-59df01f29ec9",
   "metadata": {},
   "outputs": [
    {
     "name": "stdout",
     "output_type": "stream",
     "text": [
      "https://www.astro.louisville.edu/cgi-bin/gaia_to_aij/upload_request.cgi?ra=78.1727061570044&dec=22.5060000405504&mag=13.1504&depth=17.8\n",
      "https://www.astro.louisville.edu//gaia_to_aij/tmp/gaia_stars_1669655991.radec\n"
     ]
    }
   ],
   "source": [
    "tfi = TargetFile(toi.coord, toi.tess_mag, toi.depth)"
   ]
  },
  {
   "cell_type": "code",
   "execution_count": null,
   "id": "4c7a19cd-a939-4ef9-8974-61ab119c9fcf",
   "metadata": {},
   "outputs": [],
   "source": [
    "https://www.astro.louisville.edu/gaia_to_aij/tmp/gaia_stars_1669655233.radec"
   ]
  },
  {
   "cell_type": "code",
   "execution_count": 5,
   "id": "08f785c1-9b55-411a-b129-2330916fedb4",
   "metadata": {},
   "outputs": [
    {
     "data": {
      "text/html": [
       "<div><i>Table length=123</i>\n",
       "<table id=\"table11148315616\" class=\"table-striped table-bordered table-condensed\">\n",
       "<thead><tr><th>RA</th><th>Dec</th><th>a</th><th>b</th><th>Mag</th><th>coords</th></tr></thead>\n",
       "<thead><tr><th></th><th></th><th></th><th></th><th></th><th>deg,deg</th></tr></thead>\n",
       "<thead><tr><th>str13</th><th>str15</th><th>int64</th><th>int64</th><th>float64</th><th>SkyCoord</th></tr></thead>\n",
       "<tr><td>+06:10:21.312</td><td>+22:30:29.133</td><td>0</td><td>1</td><td>16.784</td><td>92.58879999999999,22.5080925</td></tr>\n",
       "<tr><td>+06:10:21.830</td><td>+22:30:01.445</td><td>0</td><td>0</td><td>16.473</td><td>92.59095833333333,22.50040138888889</td></tr>\n",
       "<tr><td>+06:10:22.324</td><td>+22:30:51.495</td><td>0</td><td>0</td><td>17.961</td><td>92.59301666666666,22.514304166666665</td></tr>\n",
       "<tr><td>+06:10:23.740</td><td>+22:30:04.855</td><td>0</td><td>0</td><td>17.527</td><td>92.59891666666667,22.501348611111112</td></tr>\n",
       "<tr><td>+06:10:19.631</td><td>+22:30:04.907</td><td>0</td><td>0</td><td>15.953</td><td>92.58179583333333,22.501363055555554</td></tr>\n",
       "<tr><td>+06:10:24.187</td><td>+22:30:20.229</td><td>0</td><td>0</td><td>12.056</td><td>92.60077916666667,22.505619166666666</td></tr>\n",
       "<tr><td>+06:10:23.400</td><td>+22:29:54.943</td><td>0</td><td>0</td><td>16.71</td><td>92.5975,22.498595277777778</td></tr>\n",
       "<tr><td>+06:10:19.446</td><td>+22:30:01.279</td><td>0</td><td>0</td><td>17.942</td><td>92.581025,22.50035527777778</td></tr>\n",
       "<tr><td>+06:10:23.428</td><td>+22:30:56.020</td><td>0</td><td>0</td><td>17.97</td><td>92.59761666666665,22.51556111111111</td></tr>\n",
       "<tr><td>...</td><td>...</td><td>...</td><td>...</td><td>...</td><td>...</td></tr>\n",
       "<tr><td>+06:10:19.492</td><td>+22:32:42.092</td><td>0</td><td>0</td><td>16.344</td><td>92.58121666666666,22.545025555555558</td></tr>\n",
       "<tr><td>+06:10:19.593</td><td>+22:28:00.336</td><td>0</td><td>0</td><td>15.793</td><td>92.5816375,22.466759999999997</td></tr>\n",
       "<tr><td>+06:10:12.488</td><td>+22:29:15.116</td><td>0</td><td>0</td><td>17.709</td><td>92.55203333333333,22.487532222222224</td></tr>\n",
       "<tr><td>+06:10:12.264</td><td>+22:29:21.068</td><td>0</td><td>0</td><td>16.875</td><td>92.55109999999999,22.489185555555558</td></tr>\n",
       "<tr><td>+06:10:22.697</td><td>+22:32:46.021</td><td>0</td><td>0</td><td>17.412</td><td>92.59457083333334,22.546116944444446</td></tr>\n",
       "<tr><td>+06:10:31.952</td><td>+22:30:53.528</td><td>0</td><td>0</td><td>16.663</td><td>92.63313333333333,22.514868888888888</td></tr>\n",
       "<tr><td>+06:10:23.426</td><td>+22:32:45.179</td><td>0</td><td>0</td><td>16.6</td><td>92.59760833333333,22.545883055555556</td></tr>\n",
       "<tr><td>+06:10:18.337</td><td>+22:32:39.993</td><td>0</td><td>0</td><td>17.62</td><td>92.57640416666666,22.544442500000002</td></tr>\n",
       "<tr><td>+06:10:30.307</td><td>+22:31:50.123</td><td>0</td><td>0</td><td>15.754</td><td>92.62627916666666,22.53058972222222</td></tr>\n",
       "</table></div>"
      ],
      "text/plain": [
       "<Table length=123>\n",
       "      RA            Dec         a     b     Mag                  coords               \n",
       "                                                                deg,deg               \n",
       "    str13          str15      int64 int64 float64               SkyCoord              \n",
       "------------- --------------- ----- ----- ------- ------------------------------------\n",
       "+06:10:21.312   +22:30:29.133     0     1  16.784         92.58879999999999,22.5080925\n",
       "+06:10:21.830   +22:30:01.445     0     0  16.473  92.59095833333333,22.50040138888889\n",
       "+06:10:22.324   +22:30:51.495     0     0  17.961 92.59301666666666,22.514304166666665\n",
       "+06:10:23.740   +22:30:04.855     0     0  17.527 92.59891666666667,22.501348611111112\n",
       "+06:10:19.631   +22:30:04.907     0     0  15.953 92.58179583333333,22.501363055555554\n",
       "+06:10:24.187   +22:30:20.229     0     0  12.056 92.60077916666667,22.505619166666666\n",
       "+06:10:23.400   +22:29:54.943     0     0   16.71           92.5975,22.498595277777778\n",
       "+06:10:19.446   +22:30:01.279     0     0  17.942          92.581025,22.50035527777778\n",
       "+06:10:23.428   +22:30:56.020     0     0   17.97  92.59761666666665,22.51556111111111\n",
       "          ...             ...   ...   ...     ...                                  ...\n",
       "+06:10:19.492   +22:32:42.092     0     0  16.344 92.58121666666666,22.545025555555558\n",
       "+06:10:19.593   +22:28:00.336     0     0  15.793        92.5816375,22.466759999999997\n",
       "+06:10:12.488   +22:29:15.116     0     0  17.709 92.55203333333333,22.487532222222224\n",
       "+06:10:12.264   +22:29:21.068     0     0  16.875 92.55109999999999,22.489185555555558\n",
       "+06:10:22.697   +22:32:46.021     0     0  17.412 92.59457083333334,22.546116944444446\n",
       "+06:10:31.952   +22:30:53.528     0     0  16.663 92.63313333333333,22.514868888888888\n",
       "+06:10:23.426   +22:32:45.179     0     0    16.6 92.59760833333333,22.545883055555556\n",
       "+06:10:18.337   +22:32:39.993     0     0   17.62 92.57640416666666,22.544442500000002\n",
       "+06:10:30.307   +22:31:50.123     0     0  15.754  92.62627916666666,22.53058972222222"
      ]
     },
     "execution_count": 5,
     "metadata": {},
     "output_type": "execute_result"
    }
   ],
   "source": [
    "tfi.table"
   ]
  },
  {
   "cell_type": "code",
   "execution_count": 6,
   "id": "608e939e-2531-431e-9e19-a472b89f7509",
   "metadata": {},
   "outputs": [
    {
     "ename": "TypeError",
     "evalue": "TargetFile.__init__() missing 3 required positional arguments: 'coord', 'magnitude', and 'depth'",
     "output_type": "error",
     "traceback": [
      "\u001b[0;31m---------------------------------------------------------------------------\u001b[0m",
      "\u001b[0;31mTypeError\u001b[0m                                 Traceback (most recent call last)",
      "Cell \u001b[0;32mIn [6], line 1\u001b[0m\n\u001b[0;32m----> 1\u001b[0m \u001b[43mTargetFile\u001b[49m\u001b[43m(\u001b[49m\u001b[43m)\u001b[49m\n",
      "\u001b[0;31mTypeError\u001b[0m: TargetFile.__init__() missing 3 required positional arguments: 'coord', 'magnitude', and 'depth'"
     ]
    }
   ],
   "source": [
    "TargetFile()"
   ]
  },
  {
   "cell_type": "code",
   "execution_count": 7,
   "id": "127bd42f-f7b7-4c55-9847-07fb1a6508e6",
   "metadata": {},
   "outputs": [],
   "source": [
    "import requests"
   ]
  },
  {
   "cell_type": "code",
   "execution_count": null,
   "id": "0c570109-df8e-452a-a786-5a2058d598fc",
   "metadata": {},
   "outputs": [],
   "source": [
    "server = \"https://www.astro.louisville.edu\"\n",
    "gaia_aperture_url = server + f\"/cgi-bin/gaia_to_aij/upload_request.cgi?ra={ra_object}&dec={dec_object}&mag={Cmag}&depth={depth}\"\n",
    "\n",
    "result = requests.get(gaia_aperture_url)"
   ]
  }
 ],
 "metadata": {
  "kernelspec": {
   "display_name": "Python 3 (ipykernel)",
   "language": "python",
   "name": "python3"
  },
  "language_info": {
   "codemirror_mode": {
    "name": "ipython",
    "version": 3
   },
   "file_extension": ".py",
   "mimetype": "text/x-python",
   "name": "python",
   "nbconvert_exporter": "python",
   "pygments_lexer": "ipython3",
   "version": "3.10.6"
  }
 },
 "nbformat": 4,
 "nbformat_minor": 5
}
