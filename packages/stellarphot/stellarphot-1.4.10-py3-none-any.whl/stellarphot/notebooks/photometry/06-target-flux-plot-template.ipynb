{
 "cells": [
  {
   "cell_type": "code",
   "execution_count": null,
   "metadata": {},
   "outputs": [],
   "source": [
    "%load_ext autoreload\n",
    "%autoreload 2"
   ]
  },
  {
   "cell_type": "code",
   "execution_count": null,
   "metadata": {},
   "outputs": [],
   "source": [
    "import numpy as np\n",
    "\n",
    "from astropy.table import Table\n",
    "from astropy import units as u\n",
    "from astropy.time import Time\n",
    "\n",
    "from matplotlib import pyplot as plt\n",
    "\n",
    "from stellarphot.differential_photometry.aij_rel_fluxes import calc_aij_relative_flux"
   ]
  },
  {
   "cell_type": "markdown",
   "metadata": {},
   "source": [
    "## Enter your file names and filter below "
   ]
  },
  {
   "cell_type": "code",
   "execution_count": null,
   "metadata": {},
   "outputs": [],
   "source": [
    "flux_file = 'YOUR_OUTPUT_NAME_HERE.fits'\n",
    "aperture_file = 'aperture_locations.fits'\n",
    "filter_bassband = 'gp'"
   ]
  },
  {
   "cell_type": "code",
   "execution_count": null,
   "metadata": {},
   "outputs": [],
   "source": [
    "phot = Table.read(flux_file)\n",
    "aperture_locations = Table.read(aperture_file)"
   ]
  },
  {
   "cell_type": "code",
   "execution_count": null,
   "metadata": {},
   "outputs": [],
   "source": [
    "target_star = phot['id'] == 1"
   ]
  },
  {
   "cell_type": "markdown",
   "metadata": {},
   "source": [
    "## When is this event supposed to happen?\n",
    "\n",
    "You will need to look up the epoch/period for your object. If it is a TIC object use [ExoFOP-TESS](https://exofop.ipac.caltech.edu/tess/) to do that. If it is not a TIC object use the [NASA Exoplanet Archive](https://exoplanetarchive.ipac.caltech.edu/) or the [Exoplanet Transit Database](http://var2.astro.cz/ETD/).\n",
    "\n",
    "In both cases you will be calculating the time of mid-transit."
   ]
  },
  {
   "cell_type": "code",
   "execution_count": null,
   "metadata": {},
   "outputs": [],
   "source": [
    "# Enter your object's period here\n",
    "period = 2.72869779341315 * u.day\n",
    "duration = 2.4215747048645 * u.hour\n",
    "\n",
    "# Enter the epoch here\n",
    "epoch = Time(2459391.419451, scale='tdb', format='jd')\n",
    "\n",
    "# No changes to the line below, it is grabbing the first time in the data series\n",
    "then = Time(phot['BJD'][target_star][0], scale='tdb', format='jd')"
   ]
  },
  {
   "cell_type": "code",
   "execution_count": null,
   "metadata": {},
   "outputs": [],
   "source": [
    "cycle_number = np.int((then - epoch) / period + 1)\n",
    "cycle_number"
   ]
  },
  {
   "cell_type": "code",
   "execution_count": null,
   "metadata": {},
   "outputs": [],
   "source": [
    "that_transit = cycle_number * period + epoch\n",
    "that_transit"
   ]
  },
  {
   "cell_type": "code",
   "execution_count": null,
   "metadata": {},
   "outputs": [],
   "source": [
    "start = that_transit - duration / 2\n",
    "end = that_transit + duration / 2\n",
    "mid = that_transit"
   ]
  },
  {
   "cell_type": "markdown",
   "metadata": {},
   "source": [
    "## What you might see"
   ]
  },
  {
   "cell_type": "code",
   "execution_count": null,
   "metadata": {},
   "outputs": [],
   "source": [
    "ys = [0, 1]\n",
    "plt.plot([start.jd, start.jd],ys, '-.', label='Transit start')\n",
    "plt.plot([mid.jd, mid.jd], ys, label='Transit mid')\n",
    "plt.plot([end.jd, end.jd], ys, '-.', label='Transit end')\n",
    "plt.grid()"
   ]
  },
  {
   "cell_type": "code",
   "execution_count": null,
   "metadata": {},
   "outputs": [],
   "source": [
    "band_filter = phot['filter'] == filter_bassband\n",
    "\n",
    "target_and_filter = target_star & band_filter"
   ]
  },
  {
   "cell_type": "code",
   "execution_count": null,
   "metadata": {},
   "outputs": [],
   "source": [
    "phot_one_filter_only = phot[band_filter]"
   ]
  },
  {
   "cell_type": "markdown",
   "metadata": {},
   "source": [
    "## Your data"
   ]
  },
  {
   "cell_type": "code",
   "execution_count": null,
   "metadata": {},
   "outputs": [],
   "source": [
    "plt.errorbar(phot['BJD'][target_star], phot['relative_flux'][target_star], \n",
    "            yerr=phot['relative_flux_error'][target_star], fmt='.')\n",
    "plt.xlabel('BJD')\n",
    "plt.ylabel('Relative flux')\n",
    "plt.ylim()\n",
    "plt.grid()"
   ]
  },
  {
   "cell_type": "code",
   "execution_count": null,
   "metadata": {},
   "outputs": [],
   "source": []
  }
 ],
 "metadata": {
  "kernelspec": {
   "display_name": "Python 3 (ipykernel)",
   "language": "python",
   "name": "python3"
  },
  "language_info": {
   "codemirror_mode": {
    "name": "ipython",
    "version": 3
   },
   "file_extension": ".py",
   "mimetype": "text/x-python",
   "name": "python",
   "nbconvert_exporter": "python",
   "pygments_lexer": "ipython3",
   "version": "3.10.6"
  }
 },
 "nbformat": 4,
 "nbformat_minor": 4
}
