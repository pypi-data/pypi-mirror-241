{
 "cells": [
  {
   "cell_type": "code",
   "execution_count": null,
   "id": "db7c8c8f",
   "metadata": {},
   "outputs": [],
   "source": [
    "from platform import python_version\n",
    "from packaging import version\n",
    "\n",
    "assert version.parse(python_version()) >= version.parse(\"3.10\"), \\\n",
    "    f\"It looks like you are using Python {python_version()} <3.10\" \\\n",
    "      \"paradigm_client requires a Python version>=3.10\""
   ]
  },
  {
   "cell_type": "code",
   "execution_count": 2,
   "id": "064c2649",
   "metadata": {},
   "outputs": [],
   "source": [
    "import os\n",
    "import re\n",
    "from paradigm_client.remote_model import RemoteModel\n",
    "\n",
    "api_key = os.environ.get(\"PARADIGM_API_KEY\", None)\n",
    "assert api_key is not None, \"{PARADIGM_API_KEY} env var is not properly set. Run `export PARADIGM_API_KEY=<value>` in your shell or add it to your `.bashrc`\"\n",
    "\n",
    "host_ip = os.environ[\"HOST\"]\n",
    "model = RemoteModel(host_ip, model_name=\"llm-mini\")"
   ]
  },
  {
   "cell_type": "code",
   "execution_count": 3,
   "id": "ad74676b",
   "metadata": {},
   "outputs": [],
   "source": [
    "stop_words = [\"\\n\"]\n",
    "stop_regex = re.compile(r\"(?i)(\" + \"|\".join(re.escape(word) for word in stop_words) + \")\")"
   ]
  },
  {
   "cell_type": "code",
   "execution_count": 4,
   "id": "85cdcfcb",
   "metadata": {},
   "outputs": [],
   "source": [
    "from paradigm_client.request import CreateRequest, CreateParameters"
   ]
  },
  {
   "cell_type": "code",
   "execution_count": 5,
   "id": "2a68f63c",
   "metadata": {},
   "outputs": [],
   "source": [
    "prompts = [\"Q: What is Git?\\nA:\", \"Q: What is Kubernetes?\\nA:\"]\n",
    "\n",
    "inputs = []\n",
    "for prompt in prompts:\n",
    "    inputs.append(CreateRequest(text=prompt, \n",
    "                                params=CreateParameters(\n",
    "                                    stop_regex=stop_regex, \n",
    "                                    temperature=0.8, \n",
    "                                    n_tokens=75)))"
   ]
  },
  {
   "cell_type": "code",
   "execution_count": 6,
   "id": "20127acb",
   "metadata": {},
   "outputs": [],
   "source": [
    "responses = model.create_from_objects(inputs)"
   ]
  },
  {
   "cell_type": "code",
   "execution_count": 7,
   "id": "215de043",
   "metadata": {},
   "outputs": [
    {
     "name": "stdout",
     "output_type": "stream",
     "text": [
      "Q: What is Git?\n",
      "A:🤖 Git is a distributed version control system (DVCS) that is popular among developers. It provides a means to track changes in code, revert to previous versions, and more.\n",
      "Q: What is Kubernetes?\n",
      "A:🤖 Kubernetes is an open-source container-orchestration system for automating application deployment, scaling, and management. It was originally designed by Google and is now maintained by the Cloud Native Computing Foundation.\n"
     ]
    }
   ],
   "source": [
    "for response in responses:\n",
    "    print(response.input_text + \"🤖\" + response.completions[0].output_text)"
   ]
  },
  {
   "cell_type": "code",
   "execution_count": null,
   "id": "e9b9bcca",
   "metadata": {},
   "outputs": [],
   "source": []
  }
 ],
 "metadata": {
  "kernelspec": {
   "display_name": "Python 3 (ipykernel)",
   "language": "python",
   "name": "python3"
  },
  "language_info": {
   "codemirror_mode": {
    "name": "ipython",
    "version": 3
   },
   "file_extension": ".py",
   "mimetype": "text/x-python",
   "name": "python",
   "nbconvert_exporter": "python",
   "pygments_lexer": "ipython3",
   "version": "3.10.10"
  },
  "toc": {
   "base_numbering": 1,
   "nav_menu": {},
   "number_sections": true,
   "sideBar": true,
   "skip_h1_title": false,
   "title_cell": "Table of Contents",
   "title_sidebar": "Contents",
   "toc_cell": false,
   "toc_position": {},
   "toc_section_display": true,
   "toc_window_display": false
  }
 },
 "nbformat": 4,
 "nbformat_minor": 5
}
