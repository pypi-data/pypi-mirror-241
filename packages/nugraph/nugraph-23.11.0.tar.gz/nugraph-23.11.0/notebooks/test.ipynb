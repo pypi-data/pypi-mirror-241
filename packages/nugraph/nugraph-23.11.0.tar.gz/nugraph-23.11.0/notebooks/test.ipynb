{
 "cells": [
  {
   "cell_type": "markdown",
   "id": "c81a2132-ba1f-4c7d-9b28-19b6577300bc",
   "metadata": {},
   "source": [
    "### Set autoreloading\n",
    "This extension will automatically update with any changes to packages in real time"
   ]
  },
  {
   "cell_type": "code",
   "execution_count": null,
   "id": "88db0367-043e-48a0-bf50-0867d505b1ab",
   "metadata": {},
   "outputs": [],
   "source": [
    "%load_ext autoreload\n",
    "%autoreload 2"
   ]
  },
  {
   "cell_type": "markdown",
   "id": "01dcd317-00bc-4d1b-bcc4-900e5da8fd12",
   "metadata": {},
   "source": [
    "### Import packages\n",
    "We'll need the `pytorch_lightning` and `nugraph` packages imported in order to train"
   ]
  },
  {
   "cell_type": "code",
   "execution_count": null,
   "id": "a2de9ffe-2d9f-48ee-b8c3-533ba9b7bf08",
   "metadata": {},
   "outputs": [],
   "source": [
    "import nugraph as ng\n",
    "import pytorch_lightning as pl"
   ]
  },
  {
   "cell_type": "markdown",
   "id": "3463a630-07ef-42ba-bcea-37c70133512b",
   "metadata": {},
   "source": [
    "### Configure data module\n",
    "Declare a data module. Depending on where you're working, you should edit the data path below to point to a valid data location."
   ]
  },
  {
   "cell_type": "code",
   "execution_count": null,
   "id": "db32ec68-0b7c-4566-a1d8-fa734ceb2a23",
   "metadata": {},
   "outputs": [],
   "source": [
    "nudata = ng.data.H5DataModule(data_path='/raid/uboone/CHEP2023/CHEP2023.gnn.h5', batch_size=64)"
   ]
  },
  {
   "cell_type": "markdown",
   "id": "993296cc-1804-48cf-80b1-fdaaacbcc723",
   "metadata": {},
   "source": [
    "### Configure network\n",
    "In order to test a trained model, we instantiate it using a checkpoint file. These are produced during training, so if you've trained a model, there should be an associated checkpoint in your output directory that you can pass here."
   ]
  },
  {
   "cell_type": "code",
   "execution_count": null,
   "id": "3b22fd77-42b4-41af-9f53-87982b4d61c4",
   "metadata": {},
   "outputs": [],
   "source": [
    "nugraph = ng.models.NuGraph2.load_from_checkpoint('/raid/uboone/CHEP2023/paper.ckpt')"
   ]
  },
  {
   "cell_type": "markdown",
   "id": "bb9cfaaa-f81c-465e-8206-603ca095e26d",
   "metadata": {},
   "source": [
    "### Declare trainer and run testing\n",
    "First we set the training device. In the instance that we're in a multi-GPU environment, the code will automatically select the GPU with the most available memory; otherwise, it defaults to CPU training. We then instantiate a PyTorch Lightning trainer that we'll use for testing, and then run the testing stage, which iterates over all batches in the test dataset and prints performance metrics."
   ]
  },
  {
   "cell_type": "code",
   "execution_count": null,
   "id": "ec5712a1-150c-4f09-9c45-b6bd65470ae4",
   "metadata": {},
   "outputs": [],
   "source": [
    "accelerator, device = ng.util.configure_device()\n",
    "trainer = pl.Trainer(accelerator=accelerator,\n",
    "                     device=device,\n",
    "                     logger=False)\n",
    "trainer.test(nugraph, datamodule=nudata);"
   ]
  },
  {
   "cell_type": "code",
   "execution_count": null,
   "id": "84a08ba9-34d9-47d9-9186-2f2af8d39212",
   "metadata": {},
   "outputs": [],
   "source": []
  }
 ],
 "metadata": {
  "kernelspec": {
   "display_name": "Python 3 (ipykernel)",
   "language": "python",
   "name": "python3"
  },
  "language_info": {
   "codemirror_mode": {
    "name": "ipython",
    "version": 3
   },
   "file_extension": ".py",
   "mimetype": "text/x-python",
   "name": "python",
   "nbconvert_exporter": "python",
   "pygments_lexer": "ipython3",
   "version": "3.10.10"
  }
 },
 "nbformat": 4,
 "nbformat_minor": 5
}
