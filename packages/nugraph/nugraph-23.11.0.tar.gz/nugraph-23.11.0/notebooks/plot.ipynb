{
 "cells": [
  {
   "cell_type": "markdown",
   "id": "ce693164-836c-47c0-a933-4986042600c0",
   "metadata": {},
   "source": [
    "### Set autoreloading\n",
    "This extension will automatically update with any changes to packages in real time"
   ]
  },
  {
   "cell_type": "code",
   "execution_count": null,
   "id": "733e103f-ea23-4288-b69e-9e8a55f0b534",
   "metadata": {},
   "outputs": [],
   "source": [
    "%load_ext autoreload\n",
    "%autoreload 2"
   ]
  },
  {
   "cell_type": "markdown",
   "id": "84b16126-2ed2-4d51-8c66-a93acb38e97d",
   "metadata": {},
   "source": [
    "### Import packages\n",
    "We'll need the `nugraph` and `pynuml` packages imported in order to plot"
   ]
  },
  {
   "cell_type": "code",
   "execution_count": null,
   "id": "b442335d-c606-49dd-a433-e5dcdf65cd91",
   "metadata": {},
   "outputs": [],
   "source": [
    "import nugraph as ng\n",
    "import pynuml"
   ]
  },
  {
   "cell_type": "markdown",
   "id": "dc43e3c6-f82d-46d4-9bbe-dc8ffe573d9a",
   "metadata": {},
   "source": [
    "### Configure data module\n",
    "Declare a data module. Depending on where you're working, you should edit the data path below to point to a valid data location."
   ]
  },
  {
   "cell_type": "code",
   "execution_count": null,
   "id": "c7af2444-0908-43d7-a57d-254bca5c5e76",
   "metadata": {},
   "outputs": [],
   "source": [
    "nudata = ng.data.H5DataModule(data_path='/raid/uboone/CHEP2023/CHEP2023.gnn.h5',\n",
    "                              batch_size=64)"
   ]
  },
  {
   "cell_type": "markdown",
   "id": "f81b975b-23a0-4acb-9880-3406e0c9a661",
   "metadata": {},
   "source": [
    "### Configure network\n",
    "In order to test a trained model, we instantiate it using a checkpoint file. These are produced during training, so if you've trained a model, there should be an associated checkpoint in your output directory that you can pass here."
   ]
  },
  {
   "cell_type": "code",
   "execution_count": null,
   "id": "93db4c8d-d67c-4d80-8104-565cd5354a7f",
   "metadata": {},
   "outputs": [],
   "source": [
    "model = ng.models.NuGraph2.load_from_checkpoint('/raid/uboone/CHEP2023/paper.ckpt').cpu()\n",
    "model.freeze()"
   ]
  },
  {
   "cell_type": "markdown",
   "id": "d19eadfd-33ab-41e9-901a-296c1c0fe5c6",
   "metadata": {},
   "source": [
    "## Configure plotting utility\n",
    "Instantiate the **pynuml** utility for plotting graph objects, which will do the heavy lifting for us here!"
   ]
  },
  {
   "cell_type": "code",
   "execution_count": null,
   "id": "ddb02cdf-df37-492f-89f2-06a5821d5f23",
   "metadata": {},
   "outputs": [],
   "source": [
    "plot = pynuml.plot.GraphPlot(planes=nudata.planes,\n",
    "                             classes=nudata.semantic_classes)"
   ]
  },
  {
   "cell_type": "markdown",
   "id": "fc8176e1-0655-4f86-a7f7-f66fd32e81e3",
   "metadata": {},
   "source": [
    "## Plot ground truth labels\n",
    "\n",
    "### Iterable dataset\n",
    "\n",
    "First we define an iterator over the test dataset:"
   ]
  },
  {
   "cell_type": "code",
   "execution_count": null,
   "id": "9db8fd68-b043-45ae-9381-0dfb1360d108",
   "metadata": {},
   "outputs": [],
   "source": [
    "test_iter = iter(nudata.test_dataset)"
   ]
  },
  {
   "cell_type": "markdown",
   "id": "86b92215-f402-4c33-abc1-253bf7fc54d2",
   "metadata": {},
   "source": [
    "### Retrieve the next graph\n",
    "\n",
    "This block retrieves a graph from the testing dataset, and passes it through the trained model. Since we defined `test_iter` as an iterator over the dataset, the following block can be executed multiple times, and each time it's executed, it will step to the next graph in the dataset."
   ]
  },
  {
   "cell_type": "code",
   "execution_count": null,
   "id": "b6c54095-019f-4980-8afa-b8edc5a8a20d",
   "metadata": {},
   "outputs": [],
   "source": [
    "data = next(test_iter)\n",
    "model.step(data)"
   ]
  },
  {
   "cell_type": "markdown",
   "id": "253d34a6-a395-405e-8d1d-88e0ad8e9c0f",
   "metadata": {},
   "source": [
    "### Plot a single graph\n",
    "\n",
    "We can now use pynuml's plotting utilities to plot the graph as a figure. Each time you call the above block to retrieve a new graph, you can then re-execute the plotting blocks to re-plot with the new graph."
   ]
  },
  {
   "cell_type": "code",
   "execution_count": null,
   "id": "f039282c-976f-4d8e-aae5-f87ed3e3de6a",
   "metadata": {},
   "outputs": [],
   "source": [
    "fig = plot.plot(data, target='semantic', how='true', filter='true')\n",
    "fig"
   ]
  },
  {
   "cell_type": "markdown",
   "id": "110b42b7-c924-414f-b274-62d43bfa1c22",
   "metadata": {},
   "source": [
    "### Save plots to disk\n",
    "\n",
    "We can also use plotly's `write_html` and `write_image` methods to print the figure as an interactive webpage, or in a raster graphics (ie. PNG, JPEG etc) or vector graphics (ie. PDF) format. By default this writes to a `plots` subdirectory – if you're seeing an error that this directory does not exist, simply create one, or change the path to a valid output location!"
   ]
  },
  {
   "cell_type": "code",
   "execution_count": null,
   "id": "2ee27979-c6c0-4ba9-b8bf-43a2ac6faaac",
   "metadata": {},
   "outputs": [],
   "source": [
    "md = data['metadata']\n",
    "tag = f'r{md.run.item()}_sr{md.subrun.item()}_evt{md.event.item()}'\n",
    "name = f'plots/{tag}_semantic_true'\n",
    "\n",
    "fig.write_html(f'{name}.html')\n",
    "fig.write_image(f'{name}.png')\n",
    "fig.write_image(f'{name}.pdf')"
   ]
  }
 ],
 "metadata": {
  "kernelspec": {
   "display_name": "Python 3 (ipykernel)",
   "language": "python",
   "name": "python3"
  },
  "language_info": {
   "codemirror_mode": {
    "name": "ipython",
    "version": 3
   },
   "file_extension": ".py",
   "mimetype": "text/x-python",
   "name": "python",
   "nbconvert_exporter": "python",
   "pygments_lexer": "ipython3",
   "version": "3.10.10"
  }
 },
 "nbformat": 4,
 "nbformat_minor": 5
}
