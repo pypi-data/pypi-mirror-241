{
 "cells": [
  {
   "cell_type": "code",
   "execution_count": 1,
   "metadata": {},
   "outputs": [
    {
     "data": {
      "text/html": [
       "<div>\n",
       "<style scoped>\n",
       "    .dataframe tbody tr th:only-of-type {\n",
       "        vertical-align: middle;\n",
       "    }\n",
       "\n",
       "    .dataframe tbody tr th {\n",
       "        vertical-align: top;\n",
       "    }\n",
       "\n",
       "    .dataframe thead th {\n",
       "        text-align: right;\n",
       "    }\n",
       "</style>\n",
       "<table border=\"1\" class=\"dataframe\">\n",
       "  <thead>\n",
       "    <tr style=\"text-align: right;\">\n",
       "      <th></th>\n",
       "      <th>text</th>\n",
       "      <th>wikipedia_id</th>\n",
       "      <th>wikipedia_url</th>\n",
       "      <th>wikipedia_title</th>\n",
       "      <th>split</th>\n",
       "      <th>embedding</th>\n",
       "      <th>bert_embedding</th>\n",
       "      <th>pi_score</th>\n",
       "    </tr>\n",
       "  </thead>\n",
       "  <tbody>\n",
       "    <tr>\n",
       "      <th>0</th>\n",
       "      <td>U. C. Chaturvedi\\n\\nUmesh Chandra Chaturvedi (...</td>\n",
       "      <td>53307600</td>\n",
       "      <td>https://en.wikipedia.org/wiki/U.%20C.%20Chatur...</td>\n",
       "      <td>U. C. Chaturvedi</td>\n",
       "      <td>val</td>\n",
       "      <td>[0.004314667, 0.012816507, -0.0040361932, -0.0...</td>\n",
       "      <td>[0.7552454471588135, -0.3460633456707001, -2.5...</td>\n",
       "      <td>0.003</td>\n",
       "    </tr>\n",
       "    <tr>\n",
       "      <th>1</th>\n",
       "      <td>Mount Sir Allan MacNab\\n\\nMount Sir Allan MacN...</td>\n",
       "      <td>16196841</td>\n",
       "      <td>https://en.wikipedia.org/wiki/Mount%20Sir%20Al...</td>\n",
       "      <td>Mount Sir Allan MacNab</td>\n",
       "      <td>train</td>\n",
       "      <td>[-0.011865074, -0.02038292, -0.02275333, -0.00...</td>\n",
       "      <td>[0.8781688213348389, 0.10002860426902771, -1.7...</td>\n",
       "      <td>0.001</td>\n",
       "    </tr>\n",
       "    <tr>\n",
       "      <th>2</th>\n",
       "      <td>List of ship launches in 1694\\n\\nThe list of s...</td>\n",
       "      <td>62366931</td>\n",
       "      <td>https://en.wikipedia.org/wiki/List%20of%20ship...</td>\n",
       "      <td>List of ship launches in 1694</td>\n",
       "      <td>train</td>\n",
       "      <td>[-0.009068742, -0.01024794, 0.0015774205, -0.0...</td>\n",
       "      <td>[-0.3664531111717224, 0.3631541430950165, -1.5...</td>\n",
       "      <td>0.001</td>\n",
       "    </tr>\n",
       "    <tr>\n",
       "      <th>3</th>\n",
       "      <td>Dvaleti\\n\\nDvaleti (; also Tvaleti - თვალეთი) ...</td>\n",
       "      <td>4147231</td>\n",
       "      <td>https://en.wikipedia.org/wiki/Dvaleti</td>\n",
       "      <td>Dvaleti</td>\n",
       "      <td>train</td>\n",
       "      <td>[-0.0045359903, 0.0038530813, 0.000119781114, ...</td>\n",
       "      <td>[0.9458720684051514, -1.5388048887252808, -2.2...</td>\n",
       "      <td>0.005</td>\n",
       "    </tr>\n",
       "    <tr>\n",
       "      <th>4</th>\n",
       "      <td>AVN Award for Transgender Performer of the Yea...</td>\n",
       "      <td>66076393</td>\n",
       "      <td>https://en.wikipedia.org/wiki/AVN%20Award%20fo...</td>\n",
       "      <td>AVN Award for Transgender Performer of the Year</td>\n",
       "      <td>train</td>\n",
       "      <td>[-0.017128928, -0.027672946, 0.017387426, -0.0...</td>\n",
       "      <td>[0.0879260003566742, -1.5171313285827637, -2.7...</td>\n",
       "      <td>0.002</td>\n",
       "    </tr>\n",
       "  </tbody>\n",
       "</table>\n",
       "</div>"
      ],
      "text/plain": [
       "                                                text wikipedia_id  \\\n",
       "0  U. C. Chaturvedi\\n\\nUmesh Chandra Chaturvedi (...     53307600   \n",
       "1  Mount Sir Allan MacNab\\n\\nMount Sir Allan MacN...     16196841   \n",
       "2  List of ship launches in 1694\\n\\nThe list of s...     62366931   \n",
       "3  Dvaleti\\n\\nDvaleti (; also Tvaleti - თვალეთი) ...      4147231   \n",
       "4  AVN Award for Transgender Performer of the Yea...     66076393   \n",
       "\n",
       "                                       wikipedia_url  \\\n",
       "0  https://en.wikipedia.org/wiki/U.%20C.%20Chatur...   \n",
       "1  https://en.wikipedia.org/wiki/Mount%20Sir%20Al...   \n",
       "2  https://en.wikipedia.org/wiki/List%20of%20ship...   \n",
       "3              https://en.wikipedia.org/wiki/Dvaleti   \n",
       "4  https://en.wikipedia.org/wiki/AVN%20Award%20fo...   \n",
       "\n",
       "                                   wikipedia_title  split  \\\n",
       "0                                 U. C. Chaturvedi    val   \n",
       "1                           Mount Sir Allan MacNab  train   \n",
       "2                    List of ship launches in 1694  train   \n",
       "3                                          Dvaleti  train   \n",
       "4  AVN Award for Transgender Performer of the Year  train   \n",
       "\n",
       "                                           embedding  \\\n",
       "0  [0.004314667, 0.012816507, -0.0040361932, -0.0...   \n",
       "1  [-0.011865074, -0.02038292, -0.02275333, -0.00...   \n",
       "2  [-0.009068742, -0.01024794, 0.0015774205, -0.0...   \n",
       "3  [-0.0045359903, 0.0038530813, 0.000119781114, ...   \n",
       "4  [-0.017128928, -0.027672946, 0.017387426, -0.0...   \n",
       "\n",
       "                                      bert_embedding  pi_score  \n",
       "0  [0.7552454471588135, -0.3460633456707001, -2.5...     0.003  \n",
       "1  [0.8781688213348389, 0.10002860426902771, -1.7...     0.001  \n",
       "2  [-0.3664531111717224, 0.3631541430950165, -1.5...     0.001  \n",
       "3  [0.9458720684051514, -1.5388048887252808, -2.2...     0.005  \n",
       "4  [0.0879260003566742, -1.5171313285827637, -2.7...     0.002  "
      ]
     },
     "execution_count": 1,
     "metadata": {},
     "output_type": "execute_result"
    }
   ],
   "source": [
    "import numpy as np\n",
    "import pandas as pd\n",
    "\n",
    "df = pd.read_parquet(\"data/wikipedia_5k_with_embeddings.parquet\")\n",
    "df = df[:1000]\n",
    "\n",
    "df.head()"
   ]
  },
  {
   "cell_type": "markdown",
   "metadata": {},
   "source": [
    "from canica.widget import CanicaTSNE\n",
    "CanicaTSNE(df, embedding_col=\"embedding\", text_col=\"text\", hue_col=\"pi_score\", params={\"use_PCA\": False})"
   ]
  },
  {
   "cell_type": "code",
   "execution_count": 2,
   "metadata": {},
   "outputs": [
    {
     "data": {
      "application/vnd.jupyter.widget-view+json": {
       "model_id": "ab2fa37f2542469792538d24e584daf1",
       "version_major": 2,
       "version_minor": 0
      },
      "text/plain": [
       "CanicaUMAP(algo_name='UMAP', data={0: {'text': \"U. C. Chaturvedi\\n\\nUmesh Chandra Chaturvedi (born 2 Mar 1939-…"
      ]
     },
     "execution_count": 2,
     "metadata": {},
     "output_type": "execute_result"
    }
   ],
   "source": [
    "from canica.widget import CanicaUMAP\n",
    "# CanicaUMAP(df, embedding_col=\"embedding\", text_col=\"text\")\n",
    "CanicaUMAP(df, embedding_col=\"embedding\", text_col=\"text\", hue_col=\"pi_score\")"
   ]
  }
 ],
 "metadata": {
  "kernelspec": {
   "display_name": "Python 3 (ipykernel)",
   "language": "python",
   "name": "python3"
  },
  "language_info": {
   "codemirror_mode": {
    "name": "ipython",
    "version": 3
   },
   "file_extension": ".py",
   "mimetype": "text/x-python",
   "name": "python",
   "nbconvert_exporter": "python",
   "pygments_lexer": "ipython3",
   "version": "3.11.5"
  },
  "widgets": {
   "application/vnd.jupyter.widget-state+json": {
    "state": {},
    "version_major": 2,
    "version_minor": 0
   }
  }
 },
 "nbformat": 4,
 "nbformat_minor": 4
}
