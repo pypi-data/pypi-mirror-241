{
 "cells": [
  {
   "cell_type": "markdown",
   "metadata": {},
   "source": [
    "# Development Testing File\n",
    "\n",
    "This Jupyter notebook file is a testing ground for a lot of the development of Lezargus. It is not to be used other than the developers."
   ]
  },
  {
   "cell_type": "code",
   "execution_count": 10,
   "metadata": {},
   "outputs": [],
   "source": [
    "import numpy as np\n",
    "import sys\n",
    "import astropy.units\n",
    "import astropy.io.fits\n",
    "import astropy.wcs\n",
    "import astropy.coordinates\n",
    "import astropy.modeling\n",
    "import matplotlib.pyplot as plt\n",
    "import copy\n",
    "import synphot\n",
    "\n",
    "import lezargus\n",
    "\n",
    "%matplotlib Qt"
   ]
  },
  {
   "cell_type": "code",
   "execution_count": 11,
   "metadata": {},
   "outputs": [
    {
     "name": "stderr",
     "output_type": "stream",
     "text": [
      "\u001b[38;2;0;68;136m[Lezargus] 2023-11-06T15:30:42     INFO -- Configuration file C:\\Users\\psmdi\\AppData\\Local\\Programs\\Python\\Python311\\Lib\\site-packages\\lezargus\\configuration.yaml was loaded and applied.\u001b[0m\n",
      "\u001b[38;2;0;68;136m[Lezargus] 2023-11-06T15:30:42     INFO -- The temporary log file C:\\Users\\psmdi\\AppData\\Local\\Programs\\Python\\Python311\\Lib\\site-packages\\lezargus\\lezargus_5692a07f6b294a188e22753d760b400f.log is currently in-use, we defer deletion.\u001b[0m\n",
      "\u001b[38;2;0;68;136m[Lezargus] 2023-11-06T15:30:42     INFO -- The temporary log file C:\\Users\\psmdi\\AppData\\Local\\Programs\\Python\\Python311\\Lib\\site-packages\\lezargus\\lezargus_830ff42e8d824e5b85a69fe22c35a073.log is currently in-use, we defer deletion.\u001b[0m\n",
      "\u001b[38;2;0;68;136m[Lezargus] 2023-11-06T15:30:42     INFO -- Reading Lezargus FITS file C:\\Users\\psmdi\\AppData\\Local\\Programs\\Python\\Python311\\Lib\\site-packages\\lezargus\\data\\star_spectra_16CygB.fits.\u001b[0m\n"
     ]
    },
    {
     "name": "stderr",
     "output_type": "stream",
     "text": [
      "\u001b[38;2;0;68;136m[Lezargus] 2023-11-06T15:30:42     INFO -- Reading Lezargus FITS file C:\\Users\\psmdi\\AppData\\Local\\Programs\\Python\\Python311\\Lib\\site-packages\\lezargus\\data\\star_spectra_109Vir.fits.\u001b[0m\n",
      "\u001b[38;2;0;68;136m[Lezargus] 2023-11-06T15:30:43     INFO -- Reading Lezargus FITS file C:\\Users\\psmdi\\AppData\\Local\\Programs\\Python\\Python311\\Lib\\site-packages\\lezargus\\data\\star_spectra_Sun.fits.\u001b[0m\n",
      "\u001b[38;2;0;68;136m[Lezargus] 2023-11-06T15:30:43     INFO -- Reading Lezargus FITS file C:\\Users\\psmdi\\AppData\\Local\\Programs\\Python\\Python311\\Lib\\site-packages\\lezargus\\data\\star_spectra_Vega.fits.\u001b[0m\n",
      "\u001b[38;2;0;68;136m[Lezargus] 2023-11-06T15:30:43     INFO -- Reading Lezargus FITS file C:\\Users\\psmdi\\AppData\\Local\\Programs\\Python\\Python311\\Lib\\site-packages\\lezargus\\data\\star_spectra_A0V.fits.\u001b[0m\n",
      "\u001b[38;2;0;68;136m[Lezargus] 2023-11-06T15:30:44     INFO -- Reading Lezargus FITS file C:\\Users\\psmdi\\AppData\\Local\\Programs\\Python\\Python311\\Lib\\site-packages\\lezargus\\data\\filter_Johnson_U_photon.fits.\u001b[0m\n",
      "\u001b[38;2;0;68;136m[Lezargus] 2023-11-06T15:30:44     INFO -- Reading Lezargus FITS file C:\\Users\\psmdi\\AppData\\Local\\Programs\\Python\\Python311\\Lib\\site-packages\\lezargus\\data\\filter_Johnson_B_photon.fits.\u001b[0m\n",
      "\u001b[38;2;0;68;136m[Lezargus] 2023-11-06T15:30:44     INFO -- Reading Lezargus FITS file C:\\Users\\psmdi\\AppData\\Local\\Programs\\Python\\Python311\\Lib\\site-packages\\lezargus\\data\\filter_Johnson_V_photon.fits.\u001b[0m\n",
      "\u001b[38;2;0;68;136m[Lezargus] 2023-11-06T15:30:44     INFO -- Reading Lezargus FITS file C:\\Users\\psmdi\\AppData\\Local\\Programs\\Python\\Python311\\Lib\\site-packages\\lezargus\\data\\filter_Gaia_GG_photon.fits.\u001b[0m\n",
      "\u001b[38;2;0;68;136m[Lezargus] 2023-11-06T15:30:44     INFO -- Reading Lezargus FITS file C:\\Users\\psmdi\\AppData\\Local\\Programs\\Python\\Python311\\Lib\\site-packages\\lezargus\\data\\filter_Gaia_GB_photon.fits.\u001b[0m\n",
      "\u001b[38;2;0;68;136m[Lezargus] 2023-11-06T15:30:44     INFO -- Reading Lezargus FITS file C:\\Users\\psmdi\\AppData\\Local\\Programs\\Python\\Python311\\Lib\\site-packages\\lezargus\\data\\filter_Gaia_GR_photon.fits.\u001b[0m\n",
      "\u001b[38;2;0;68;136m[Lezargus] 2023-11-06T15:30:44     INFO -- Reading Lezargus FITS file C:\\Users\\psmdi\\AppData\\Local\\Programs\\Python\\Python311\\Lib\\site-packages\\lezargus\\data\\filter_2MASS_J_photon.fits.\u001b[0m\n",
      "\u001b[38;2;0;68;136m[Lezargus] 2023-11-06T15:30:44     INFO -- Reading Lezargus FITS file C:\\Users\\psmdi\\AppData\\Local\\Programs\\Python\\Python311\\Lib\\site-packages\\lezargus\\data\\filter_2MASS_H_photon.fits.\u001b[0m\n",
      "\u001b[38;2;0;68;136m[Lezargus] 2023-11-06T15:30:44     INFO -- Reading Lezargus FITS file C:\\Users\\psmdi\\AppData\\Local\\Programs\\Python\\Python311\\Lib\\site-packages\\lezargus\\data\\filter_2MASS_Ks_photon.fits.\u001b[0m\n",
      "\u001b[38;2;255;121;0m[Lezargus] 2023-11-06T15:30:44    ERROR -- NotSupportedError - Uncertainty values on integrations need to be done.\u001b[0m\n",
      "\u001b[38;2;255;121;0m[Lezargus] 2023-11-06T15:30:44    ERROR -- NotSupportedError - Uncertainty values on integrations need to be done.\u001b[0m\n",
      "\u001b[38;2;255;121;0m[Lezargus] 2023-11-06T15:30:44    ERROR -- NotSupportedError - Uncertainty values on integrations need to be done.\u001b[0m\n",
      "\u001b[38;2;255;121;0m[Lezargus] 2023-11-06T15:30:44    ERROR -- NotSupportedError - Uncertainty values on integrations need to be done.\u001b[0m\n",
      "\u001b[38;2;255;121;0m[Lezargus] 2023-11-06T15:30:44    ERROR -- NotSupportedError - Uncertainty values on integrations need to be done.\u001b[0m\n",
      "\u001b[38;2;255;121;0m[Lezargus] 2023-11-06T15:30:44    ERROR -- NotSupportedError - Uncertainty values on integrations need to be done.\u001b[0m\n",
      "\u001b[38;2;255;121;0m[Lezargus] 2023-11-06T15:30:44    ERROR -- NotSupportedError - Uncertainty values on integrations need to be done.\u001b[0m\n",
      "\u001b[38;2;255;121;0m[Lezargus] 2023-11-06T15:30:44    ERROR -- NotSupportedError - Uncertainty values on integrations need to be done.\u001b[0m\n",
      "\u001b[38;2;255;121;0m[Lezargus] 2023-11-06T15:30:44    ERROR -- NotSupportedError - Uncertainty values on integrations need to be done.\u001b[0m\n",
      "\u001b[38;2;255;121;0m[Lezargus] 2023-11-06T15:30:44    ERROR -- NotSupportedError - Uncertainty values on integrations need to be done.\u001b[0m\n",
      "\u001b[38;2;255;121;0m[Lezargus] 2023-11-06T15:30:44    ERROR -- NotSupportedError - Uncertainty values on integrations need to be done.\u001b[0m\n",
      "\u001b[38;2;255;121;0m[Lezargus] 2023-11-06T15:30:44    ERROR -- NotSupportedError - Uncertainty values on integrations need to be done.\u001b[0m\n",
      "\u001b[38;2;0;68;136m[Lezargus] 2023-11-06T15:30:44     INFO -- Initialized Lezargus data have been loaded into to the data module.\u001b[0m\n"
     ]
    }
   ],
   "source": [
    "lezargus.initialize()"
   ]
  },
  {
   "cell_type": "code",
   "execution_count": 15,
   "metadata": {},
   "outputs": [],
   "source": [
    "flt = lezargus.library.data.FILTER_2MASS_H_PHOTON\n",
    "plt.figure()\n",
    "plt.plot(flt.wavelength, flt.data)\n",
    "plt.show()"
   ]
  },
  {
   "cell_type": "code",
   "execution_count": 3,
   "metadata": {},
   "outputs": [],
   "source": [
    "avg_func = lezargus.library.uncertainty.weighted_mean\n",
    "\n",
    "blue_wave = np.linspace(0.4, 1, 100)\n",
    "red_wave = np.linspace(0.7, 2.4, 100)\n",
    "blue_flux = blue_wave**2 + (np.random.rand(*blue_wave.shape) - 0.5) / 5\n",
    "red_flux = red_wave**2 + (np.random.rand(*red_wave.shape) - 0.5) / 5"
   ]
  },
  {
   "cell_type": "code",
   "execution_count": 4,
   "metadata": {},
   "outputs": [
    {
     "name": "stdout",
     "output_type": "stream",
     "text": [
      "(2, 200) (2, 200) (2, 200)\n"
     ]
    }
   ],
   "source": [
    "stitch_wave, stitch_flux, sititch_error = (\n",
    "    lezargus.library.stitch.stitch_spectra_arrays(\n",
    "        wavelength=[blue_wave, red_wave],\n",
    "        data=[blue_flux, red_flux],\n",
    "        average_function=avg_func,\n",
    "    )\n",
    ")"
   ]
  },
  {
   "cell_type": "code",
   "execution_count": 5,
   "metadata": {},
   "outputs": [],
   "source": [
    "plt.figure()\n",
    "plt.plot(blue_wave, blue_flux)\n",
    "plt.plot(red_wave, red_flux)\n",
    "plt.plot(stitch_wave, stitch_flux)\n",
    "plt.show()"
   ]
  },
  {
   "cell_type": "code",
   "execution_count": 11,
   "metadata": {},
   "outputs": [
    {
     "name": "stderr",
     "output_type": "stream",
     "text": [
      "\u001b[38;2;255;121;0m[Lezargus] 2023-10-30T19:07:00    ERROR -- NotSupportedError - Uncertainty values on integrations need to be done.\u001b[0m\n",
      "\u001b[38;2;255;121;0m[Lezargus] 2023-10-30T19:07:00    ERROR -- NotSupportedError - Uncertainty values on integrations need to be done.\u001b[0m\n"
     ]
    },
    {
     "data": {
      "text/plain": [
       "(0.9736914309853832, 0.028025092177037306)"
      ]
     },
     "execution_count": 11,
     "metadata": {},
     "output_type": "execute_result"
    }
   ],
   "source": [
    "lezargus.library.photometry.calculate_photometric_correction_factor_vega(\n",
    "    star_spectra=lezargus.library.data.STAR_16CYGB,\n",
    "    filter_spectra=lezargus.library.data.FILTER_2MASS_KS_PHOTON,\n",
    "    star_magnitude=4.651,\n",
    "    filter_zero_point=lezargus.library.data.ZERO_POINT_VEGA_2MASS_KS,\n",
    "    star_magnitude_uncertainty=0,\n",
    "    filter_zero_point_uncertainty=lezargus.library.data.ZERO_POINT_VEGA_2MASS_KS_ERROR,\n",
    ")"
   ]
  },
  {
   "cell_type": "code",
   "execution_count": 5,
   "metadata": {},
   "outputs": [
    {
     "data": {
      "text/plain": [
       "array([7.1735131e-29, 7.3903060e-29, 5.7394109e-29, ..., 5.7726224e-32,\n",
       "       5.7528840e-32, 5.7190169e-32], dtype=float32)"
      ]
     },
     "execution_count": 5,
     "metadata": {},
     "output_type": "execute_result"
    }
   ],
   "source": [
    "lezargus.library.data.STAR_16CYGB.uncertainty**2"
   ]
  },
  {
   "cell_type": "code",
   "execution_count": 20,
   "metadata": {},
   "outputs": [
    {
     "name": "stderr",
     "output_type": "stream",
     "text": [
      "\u001b[38;2;255;121;0m[Lezargus] 2023-10-23T17:04:53    ERROR -- NotSupportedError - Uncertainty values on magnitude log calculations needs to be implemented.\u001b[0m\n",
      "\u001b[38;2;255;121;0m[Lezargus] 2023-10-23T17:04:53    ERROR -- NotSupportedError - It is assumed that there is no covariance term in the propagation of the synthetic magnitude zero point error. This needs to be double checked before this entry can be deleted.\u001b[0m\n"
     ]
    },
    {
     "data": {
      "text/plain": [
       "(4.640036894640545, 0.0)"
      ]
     },
     "execution_count": 20,
     "metadata": {},
     "output_type": "execute_result"
    }
   ],
   "source": [
    "lezargus.library.photometry.calculate_filter_magnitude_vega(\n",
    "    star_spectra=lezargus.library.data.STAR_16CYGB,\n",
    "    filter_spectra=lezargus.library.data.FILTER_2MASS_KS_PHOTON,\n",
    "    filter_zero_point=-0.017 + 2.5 * np.log10(4.283e-11) + 0.003,\n",
    "    filter_zero_point_uncertainty=lezargus.library.data.ZERO_POINT_VEGA_2MASS_KS_ERROR,\n",
    ")"
   ]
  },
  {
   "cell_type": "code",
   "execution_count": 27,
   "metadata": {},
   "outputs": [
    {
     "name": "stderr",
     "output_type": "stream",
     "text": [
      "\u001b[38;2;255;121;0m[Lezargus] 2023-10-23T19:54:54    ERROR -- NotSupportedError - Uncertainty values on magnitude log calculations needs to be implemented.\u001b[0m\n",
      "\u001b[38;2;255;121;0m[Lezargus] 2023-10-23T19:54:54    ERROR -- NotSupportedError - It is assumed that there is no covariance term in the propagation of the synthetic magnitude zero point uncertainty. This needs to be double checked before this entry can be deleted.\u001b[0m\n"
     ]
    },
    {
     "data": {
      "text/plain": [
       "(-28.315292903255667, 0.0)"
      ]
     },
     "execution_count": 27,
     "metadata": {},
     "output_type": "execute_result"
    }
   ],
   "source": [
    "lezargus.library.photometry.calculate_filter_magnitude_vega(\n",
    "    star_spectra=lezargus.library.data.STAR_SUN,\n",
    "    filter_spectra=lezargus.library.data.FILTER_2MASS_KS_PHOTON,\n",
    "    filter_zero_point=lezargus.library.data.ZERO_POINT_VEGA_2MASS_KS,\n",
    "    filter_zero_point_uncertainty=lezargus.library.data.ZERO_POINT_VEGA_2MASS_KS_ERROR,\n",
    ")"
   ]
  },
  {
   "cell_type": "code",
   "execution_count": 3,
   "metadata": {},
   "outputs": [
    {
     "name": "stderr",
     "output_type": "stream",
     "text": [
      "\u001b[38;2;255;121;0m[Lezargus] 2023-10-25T16:40:13    ERROR -- NotSupportedError - Uncertainty values on integrations need to be done.\u001b[0m\n",
      "\u001b[38;2;255;121;0m[Lezargus] 2023-10-25T16:40:13    ERROR -- NotSupportedError - Uncertainty values on integrations need to be done.\u001b[0m\n"
     ]
    },
    {
     "name": "stdout",
     "output_type": "stream",
     "text": [
      "[0.00000000e+00 0.00000000e+00 0.00000000e+00 0.00000000e+00\n",
      " 0.00000000e+00 1.54536418e-19 3.22885066e-19 0.00000000e+00\n",
      " 0.00000000e+00 3.83891231e-17 1.08465705e-15 5.76448292e-15\n",
      " 1.64374874e-14 5.67769068e-14 1.72748966e-13 3.70773935e-13\n",
      " 8.36645648e-13 1.28644667e-12 1.49594264e-12 1.61972683e-12\n",
      " 1.64108780e-12 1.64888948e-12 1.63225508e-12 1.51789537e-12\n",
      " 1.41156885e-12 1.47318366e-12 1.49999889e-12 1.53660762e-12\n",
      " 1.49170898e-12 1.48491885e-12 1.45130470e-12 1.49389480e-12\n",
      " 1.45605114e-12 1.41258534e-12 1.44266394e-12 1.47152567e-12\n",
      " 1.49312388e-12 1.46093964e-12 1.33784243e-12 1.26528812e-12\n",
      " 1.32482084e-12 1.29180818e-12 1.23025147e-12 1.20971298e-12\n",
      " 1.20324172e-12 1.16377433e-12 1.12770077e-12 1.02118656e-12\n",
      " 7.78859104e-13 3.11225976e-13 5.19274279e-13 1.95603453e-13\n",
      " 1.18543589e-13 7.63983741e-14 5.48280811e-15 2.03727501e-14\n",
      " 4.16217813e-16 1.59028435e-18 6.01041275e-17 0.00000000e+00\n",
      " 0.00000000e+00 0.00000000e+00 0.00000000e+00 0.00000000e+00\n",
      " 0.00000000e+00] [0.02 0.02 0.02 0.02 0.02 0.02 0.02 0.02 0.02 0.02 0.02 0.02 0.02 0.02\n",
      " 0.02 0.02 0.02 0.02 0.02 0.02 0.02 0.02 0.02 0.02 0.02 0.02 0.02 0.02\n",
      " 0.02 0.02 0.02 0.02 0.02 0.02 0.02 0.02 0.02 0.02 0.02 0.02 0.02 0.02\n",
      " 0.02 0.02 0.02 0.02 0.02 0.02 0.02 0.02 0.02 0.02 0.02 0.02 0.02 0.02\n",
      " 0.02 0.02 0.02 0.02 0.02 0.02 0.02 0.02 0.02] [0. 0. 0. 0. 0. 0. 0. 0. 0. 0. 0. 0. 0. 0. 0. 0. 0. 0. 0. 0. 0. 0. 0. 0.\n",
      " 0. 0. 0. 0. 0. 0. 0. 0. 0. 0. 0. 0. 0. 0. 0. 0. 0. 0. 0. 0. 0. 0. 0. 0.\n",
      " 0. 0. 0. 0. 0. 0. 0. 0. 0. 0. 0. 0. 0. 0. 0. 0. 0.] [ 0.00000000e+00  0.00000000e+00  0.00000000e+00  0.00000000e+00\n",
      "  0.00000000e+00 -6.69183476e+05 -3.20278725e+05  0.00000000e+00\n",
      "  0.00000000e+00 -2.69381557e+03 -9.53418567e+01 -1.79397213e+01\n",
      " -6.29130321e+00 -1.82139576e+00 -5.98632918e-01 -2.78911777e-01\n",
      " -1.23604560e-01 -8.03867117e-02 -6.91291327e-02 -6.38460854e-02\n",
      " -6.30150423e-02 -6.27168883e-02 -6.33560393e-02 -6.81293451e-02\n",
      " -7.32611927e-02 -7.01970976e-02 -6.89421957e-02 -6.72996907e-02\n",
      " -6.93253301e-02 -6.96423360e-02 -7.12553449e-02 -6.92238952e-02\n",
      " -7.10230670e-02 -7.32084738e-02 -7.16821252e-02 -7.02761896e-02\n",
      " -6.92596367e-02 -7.07854142e-02 -7.72985033e-02 -8.17309635e-02\n",
      " -7.80582656e-02 -8.00530753e-02 -8.40586010e-02 -8.54857463e-02\n",
      " -8.59455048e-02 -8.88601978e-02 -9.17027105e-02 -1.01267703e-01\n",
      " -1.32775256e-01 -3.32276948e-01 -1.99149508e-01 -5.28688097e-01\n",
      " -8.72364485e-01 -1.35360495e+00 -1.88613600e+01 -5.07605584e+00\n",
      " -2.48459374e+02 -6.50281300e+04 -1.72056765e+03  0.00000000e+00\n",
      "  0.00000000e+00  0.00000000e+00  0.00000000e+00  0.00000000e+00\n",
      "  0.00000000e+00]\n",
      "29.553250758040587 -0.0 -0.0 0.0\n"
     ]
    },
    {
     "data": {
      "text/plain": [
       "(4.711077945280852, 0.007)"
      ]
     },
     "execution_count": 3,
     "metadata": {},
     "output_type": "execute_result"
    }
   ],
   "source": [
    "lezargus.library.photometry.calculate_filter_magnitude_vega(\n",
    "    lezargus.library.data.STAR_16CYGB,\n",
    "    filter_spectra=lezargus.library.data.FILTER_2MASS_H_PHOTON,\n",
    "    filter_zero_point=lezargus.library.data.ZERO_POINT_VEGA_2MASS_H,\n",
    "    filter_zero_point_uncertainty=lezargus.library.data.ZERO_POINT_VEGA_2MASS_H_ERROR,\n",
    ")"
   ]
  },
  {
   "cell_type": "code",
   "execution_count": 6,
   "metadata": {},
   "outputs": [
    {
     "name": "stderr",
     "output_type": "stream",
     "text": [
      "\u001b[38;2;255;121;0m[Lezargus] 2023-10-24T18:23:55    ERROR -- NotSupportedError - Uncertainty values on integrations need to be done.\u001b[0m\n",
      "\u001b[38;2;255;121;0m[Lezargus] 2023-10-24T18:23:55    ERROR -- NotSupportedError - Uncertainty values on integrations need to be done.\u001b[0m\n"
     ]
    },
    {
     "data": {
      "text/plain": [
       "(3.658396614909293, 0.005)"
      ]
     },
     "execution_count": 6,
     "metadata": {},
     "output_type": "execute_result"
    }
   ],
   "source": [
    "lezargus.library.photometry.calculate_filter_magnitude_vega(\n",
    "    lezargus.library.data.STAR_109VIR,\n",
    "    filter_spectra=lezargus.library.data.FILTER_2MASS_KS_PHOTON,\n",
    "    filter_zero_point=lezargus.library.data.ZERO_POINT_VEGA_2MASS_KS,\n",
    "    filter_zero_point_uncertainty=lezargus.library.data.ZERO_POINT_VEGA_2MASS_KS_ERROR,\n",
    ")"
   ]
  },
  {
   "cell_type": "code",
   "execution_count": 18,
   "metadata": {},
   "outputs": [
    {
     "data": {
      "text/plain": [
       "-25.934629814008577"
      ]
     },
     "execution_count": 18,
     "metadata": {},
     "output_type": "execute_result"
    }
   ],
   "source": [
    "-0.017 + 2.5 * np.log10(4.283e-11) + 0.003"
   ]
  },
  {
   "cell_type": "code",
   "execution_count": 33,
   "metadata": {},
   "outputs": [
    {
     "data": {
      "text/plain": [
       "3.66596634659128e-09"
      ]
     },
     "execution_count": 33,
     "metadata": {},
     "output_type": "execute_result"
    }
   ],
   "source": [
    "10 ** ((lezargus.library.data.ZERO_POINT_VEGA_JOHNSON_V - (+0.030 + 0)) / 2.5)"
   ]
  },
  {
   "cell_type": "code",
   "execution_count": 11,
   "metadata": {},
   "outputs": [
    {
     "data": {
      "text/plain": [
       "0.9834378672857231"
      ]
     },
     "execution_count": 11,
     "metadata": {},
     "output_type": "execute_result"
    }
   ],
   "source": [
    "lezargus.library.wrapper.wavelength_overlap_fraction(\n",
    "    base=lezargus.library.data.STAR_109VIR.wavelength,\n",
    "    contain=lezargus.library.data.FILTER_JOHNSON_B_PHOTON.wavelength,\n",
    ")"
   ]
  },
  {
   "cell_type": "code",
   "execution_count": null,
   "metadata": {},
   "outputs": [],
   "source": []
  },
  {
   "cell_type": "code",
   "execution_count": 9,
   "metadata": {},
   "outputs": [],
   "source": [
    "plt.figure()\n",
    "obj_j_1 = lezargus.library.data.FILTER_JOHNSON_U_PHOTON\n",
    "obj_j_2 = lezargus.library.data.FILTER_JOHNSON_B_PHOTON\n",
    "obj_j_3 = lezargus.library.data.FILTER_JOHNSON_V_PHOTON\n",
    "\n",
    "obj_g_1 = lezargus.library.data.FILTER_GAIA_GG_PHOTON\n",
    "obj_g_2 = lezargus.library.data.FILTER_GAIA_GB_PHOTON\n",
    "obj_g_3 = lezargus.library.data.FILTER_GAIA_GR_PHOTON\n",
    "\n",
    "obj_2_1 = lezargus.library.data.FILTER_2MASS_J_PHOTON\n",
    "obj_2_2 = lezargus.library.data.FILTER_2MASS_H_PHOTON\n",
    "obj_2_3 = lezargus.library.data.FILTER_2MASS_KS_PHOTON\n",
    "\n",
    "plt.plot(obj_j_1.wavelength, obj_j_1.data)\n",
    "plt.plot(obj_j_2.wavelength, obj_j_2.data)\n",
    "plt.plot(obj_j_3.wavelength, obj_j_3.data)\n",
    "\n",
    "plt.plot(obj_g_1.wavelength, obj_g_1.data)\n",
    "plt.plot(obj_g_2.wavelength, obj_g_2.data)\n",
    "plt.plot(obj_g_3.wavelength, obj_g_3.data)\n",
    "\n",
    "plt.plot(obj_2_1.wavelength, obj_2_1.data)\n",
    "plt.plot(obj_2_2.wavelength, obj_2_2.data)\n",
    "plt.plot(obj_2_3.wavelength, obj_2_3.data)\n",
    "plt.show()"
   ]
  },
  {
   "cell_type": "code",
   "execution_count": 4,
   "metadata": {},
   "outputs": [
    {
     "data": {
      "text/plain": [
       "-21.058824669917588"
      ]
     },
     "execution_count": 4,
     "metadata": {},
     "output_type": "execute_result"
    }
   ],
   "source": [
    "lezargus.library.data.ZERO_POINT_VEGA_JOHNSON_V"
   ]
  },
  {
   "cell_type": "markdown",
   "metadata": {},
   "source": [
    "Array shape is (x, y, lambda).\n",
    "\n",
    "However, when accessing... arr[x, y, lambda]"
   ]
  },
  {
   "cell_type": "code",
   "execution_count": 17,
   "metadata": {},
   "outputs": [],
   "source": [
    "def wavelength_overlap_fraction(\n",
    "    base: np.ndarray,\n",
    "    contain: np.ndarray,\n",
    ") -> str:\n",
    "    \"\"\"Check if two wavelengths, defined as arrays, overlap.\n",
    "\n",
    "    This is a function to check if the wavelength arrays overlap each other.\n",
    "    Specifically, this checks if the contain wavelength array is within the\n",
    "    base wavelength array, and if so, how much.\n",
    "\n",
    "    Parameters\n",
    "    ----------\n",
    "    base : ndarray\n",
    "        The base wavelength array which we are comparing the contain\n",
    "        array against.\n",
    "    contain : ndarray\n",
    "        The wavelength array that we are seeing if it is within the base\n",
    "        wavelength array.\n",
    "\n",
    "    Returns\n",
    "    -------\n",
    "    fraction : float\n",
    "        The fraction percent the two wavelength regions overlap with each\n",
    "        other. This value may be larger than 1 for large overlaps.\n",
    "    \"\"\"\n",
    "    # Getting the endpoints of the arrays.\n",
    "    base_min = base.min()\n",
    "    base_max = base.max()\n",
    "    contain_min = contain.min()\n",
    "    contain_max = contain.max()\n",
    "\n",
    "    # First off, if the contain array is larger than the base array, by\n",
    "    # default, it covers the base array, but, this sort of comparison does not\n",
    "    # make much sense so we warn the user.\n",
    "    if contain_min < base_min and base_max < contain_max:\n",
    "        fraction = 1\n",
    "        print(\"logging!\")\n",
    "    # Second, we check if the contain array is fully within the base array.\n",
    "    elif base_min <= contain_min and contain_max <= base_max:\n",
    "        fraction = 1\n",
    "    # Third, we check if the contain array is outside of the array on the\n",
    "    # lower section.\n",
    "    elif contain_min <= base_min and contain_max <= base_min:\n",
    "        fraction = 0\n",
    "    # Fourth, we check if the contain array is outside of the array on the\n",
    "    # upper section.\n",
    "    elif base_max <= contain_min and base_max <= contain_max:\n",
    "        fraction = 0\n",
    "    # Fifth, we check the case if the contain array exceeds the base array on\n",
    "    # the lower section.\n",
    "    elif contain_min <= base_min and contain_max <= base_max:\n",
    "        # We compute the fractional percentage.\n",
    "        fraction = (contain_max - base_min) / (base_max - base_min)\n",
    "    # Sixth, we check the case if the contain array exceeds the base array on\n",
    "    # the upper section.\n",
    "    elif base_min <= contain_min and base_max <= contain_max:\n",
    "        # We again compute the fractional percentage.\n",
    "        fraction = (base_max - contain_min) / (base_max - base_min)\n",
    "    # Whatever the case is here, is unknown.\n",
    "    else:\n",
    "        print(\"error\")\n",
    "\n",
    "    print(base_min, base_max)\n",
    "    print(contain_min, contain_max)\n",
    "\n",
    "    return fraction"
   ]
  },
  {
   "cell_type": "code",
   "execution_count": 18,
   "metadata": {},
   "outputs": [],
   "source": [
    "main_array = np.linspace(5, 15, 50)\n",
    "overlap_array = np.linspace(7, 13, 30)\n",
    "super_overlap_array = np.linspace(4, 20, 60)\n",
    "lower_outside_array = np.linspace(1, 3, 15)\n",
    "upper_outside_array = np.linspace(17, 21, 35)\n",
    "# These arrays partially overlap.\n",
    "lower_partial_array = np.linspace(3, 8, 20)\n",
    "upper_partial_array = np.linspace(11, 23, 22)"
   ]
  },
  {
   "cell_type": "code",
   "execution_count": 19,
   "metadata": {},
   "outputs": [
    {
     "name": "stdout",
     "output_type": "stream",
     "text": [
      "5.0 15.0\n",
      "1.0 3.0\n"
     ]
    },
    {
     "data": {
      "text/plain": [
       "0"
      ]
     },
     "execution_count": 19,
     "metadata": {},
     "output_type": "execute_result"
    }
   ],
   "source": [
    "wavelength_overlap_fraction(contain=lower_outside_array, base=main_array)"
   ]
  },
  {
   "cell_type": "code",
   "execution_count": 4,
   "metadata": {},
   "outputs": [],
   "source": [
    "plt.figure()\n",
    "plt.plot(vega_wave, vega_data)\n",
    "plt.show()"
   ]
  },
  {
   "cell_type": "code",
   "execution_count": 3,
   "metadata": {},
   "outputs": [],
   "source": [
    "spatial_size = 72 * 2\n",
    "buffer = 140\n",
    "\n",
    "vega_cube = np.zeros(\n",
    "    (spatial_size + buffer, spatial_size + buffer, len(vega_wave))\n",
    ")\n",
    "for index, fluxdex in enumerate(vega_data):\n",
    "    vega_cube[\n",
    "        (spatial_size + buffer) // 2, (spatial_size + buffer) // 2, index\n",
    "    ] = fluxdex\n",
    "vega_cube = np.asarray(vega_cube, dtype=\"float32\")"
   ]
  },
  {
   "cell_type": "code",
   "execution_count": 4,
   "metadata": {},
   "outputs": [
    {
     "data": {
      "text/plain": [
       "4"
      ]
     },
     "execution_count": 4,
     "metadata": {},
     "output_type": "execute_result"
    }
   ],
   "source": [
    "vega_cube.dtype.itemsize"
   ]
  },
  {
   "cell_type": "code",
   "execution_count": 5,
   "metadata": {},
   "outputs": [],
   "source": [
    "# Now convolving.\n",
    "gaussian_kernel = lezargus.library.atmosphere.gaussian_psf_kernel(\n",
    "    shape=(spatial_size, spatial_size),\n",
    "    x_stddev=0.7 / (7.2 / spatial_size),\n",
    "    y_stddev=0.7 / (7.2 / spatial_size),\n",
    "    rotation=42,\n",
    ")\n",
    "gaussian_kernel = np.asarray(gaussian_kernel, dtype=\"float32\")"
   ]
  },
  {
   "cell_type": "code",
   "execution_count": 125,
   "metadata": {},
   "outputs": [],
   "source": [
    "plt.figure()\n",
    "plt.imshow(gaussian_kernel)\n",
    "plt.show()"
   ]
  },
  {
   "cell_type": "code",
   "execution_count": 55,
   "metadata": {},
   "outputs": [
    {
     "data": {
      "text/plain": [
       "8"
      ]
     },
     "execution_count": 55,
     "metadata": {},
     "output_type": "execute_result"
    }
   ],
   "source": [
    "vega_cube.dtype.itemsize * 2"
   ]
  },
  {
   "cell_type": "code",
   "execution_count": 6,
   "metadata": {},
   "outputs": [],
   "source": [
    "real_vega_cube = lezargus.library.array.convolve_cube_by_image_array(\n",
    "    cube=vega_cube, kernel=gaussian_kernel\n",
    ")"
   ]
  },
  {
   "cell_type": "code",
   "execution_count": 7,
   "metadata": {},
   "outputs": [],
   "source": [
    "# Mauna Kea conditions.\n",
    "mk_temp = 273.15\n",
    "mk_pres = 62.4e3\n",
    "mk_h2o = 230\n",
    "# Center wavelength\n",
    "cen_wave = 2.2\n",
    "\n",
    "\n",
    "def mk_refr_function(wavelength, zenith):\n",
    "    return lezargus.library.atmosphere.relative_atmospheric_refraction_function(\n",
    "        wavelength=wavelength,\n",
    "        reference_wavelength=cen_wave,\n",
    "        zenith_angle=zenith,\n",
    "        pressure=mk_pres,\n",
    "        temperature=mk_temp,\n",
    "        water_pressure=mk_h2o,\n",
    "    )\n",
    "\n",
    "\n",
    "def airmass_to_zenith(airmass):\n",
    "    return np.arccos(1 / airmass)"
   ]
  },
  {
   "cell_type": "code",
   "execution_count": 8,
   "metadata": {},
   "outputs": [],
   "source": [
    "am = 3.0\n",
    "zn = airmass_to_zenith(am)\n",
    "total_refraction = mk_refr_function(vega_wave, zn)(vega_wave)\n",
    "total_pixel_refraction = total_refraction * 206265 / (7.2 / spatial_size)\n",
    "\n",
    "ang_rad = 1\n",
    "\n",
    "x_refrac = total_pixel_refraction * np.cos(ang_rad)\n",
    "y_refrac = total_pixel_refraction * np.sin(ang_rad)\n",
    "\n",
    "shifted_vega_cube = np.zeros_like(real_vega_cube)\n",
    "\n",
    "for index in np.arange(len(real_vega_cube[0, 0, :])):\n",
    "    shifted_vega_cube[:, :, index] = (\n",
    "        lezargus.library.array.translate_image_array(\n",
    "            real_vega_cube[:, :, index], x_refrac[index], y_refrac[index]\n",
    "        )\n",
    "    )\n",
    "\n",
    "# Trim the cube.\n",
    "trimmed_cube = shifted_vega_cube[\n",
    "    buffer // 2 : -buffer // 2, buffer // 2 : -buffer // 2, :\n",
    "]\n",
    "# Bin the cube.\n",
    "binned_cube = lezargus.library.array.bin_cube_array_spatially(\n",
    "    cube=trimmed_cube, x_bin=2, y_bin=2 * 2, mode=\"add\"\n",
    ")\n",
    "# Repeat the cube.\n",
    "repeat_cube = np.repeat(binned_cube, 2, axis=1)"
   ]
  },
  {
   "cell_type": "code",
   "execution_count": 44,
   "metadata": {},
   "outputs": [
    {
     "data": {
      "text/plain": [
       "(72, 72, 956)"
      ]
     },
     "execution_count": 44,
     "metadata": {},
     "output_type": "execute_result"
    }
   ],
   "source": [
    "repeat_cube.shape"
   ]
  },
  {
   "cell_type": "code",
   "execution_count": 9,
   "metadata": {},
   "outputs": [],
   "source": [
    "test_vega_cube = lezargus.container.LezargusCube(\n",
    "    wavelength=vega_wave, data=repeat_cube\n",
    ")\n",
    "test_vega_cube.write_fits_file(\n",
    "    \"C:/Users/psmdi/Desktop/cube/spectre_vega__slice=36p2_0.1x0.2_Z=3.0_new.fits\"\n",
    ")"
   ]
  },
  {
   "cell_type": "code",
   "execution_count": 52,
   "metadata": {},
   "outputs": [
    {
     "data": {
      "text/plain": [
       "(284, 284, 956)"
      ]
     },
     "execution_count": 52,
     "metadata": {},
     "output_type": "execute_result"
    }
   ],
   "source": [
    "real_vega_cube.shape"
   ]
  },
  {
   "cell_type": "code",
   "execution_count": 39,
   "metadata": {},
   "outputs": [
    {
     "data": {
      "text/plain": [
       "756"
      ]
     },
     "execution_count": 39,
     "metadata": {},
     "output_type": "execute_result"
    }
   ],
   "source": [
    "np.argmin(np.abs(vega_wave - 2.2))"
   ]
  },
  {
   "cell_type": "code",
   "execution_count": 23,
   "metadata": {},
   "outputs": [],
   "source": [
    "new_shape = (\n",
    "    cube.shape[0] // x_bin,\n",
    "    x_bin,\n",
    "    cube.shape[1] // y_bin,\n",
    "    y_bin,\n",
    "    cube.shape[2],\n",
    ")\n",
    "cube_reshape = cube.reshape(new_shape)\n",
    "binned_cube = cube_reshape.sum(axis=(1, 3))"
   ]
  },
  {
   "cell_type": "code",
   "execution_count": 24,
   "metadata": {},
   "outputs": [
    {
     "data": {
      "text/plain": [
       "(2, 2, 8)"
      ]
     },
     "execution_count": 24,
     "metadata": {},
     "output_type": "execute_result"
    }
   ],
   "source": [
    "binned_cube.shape"
   ]
  },
  {
   "cell_type": "code",
   "execution_count": 3,
   "metadata": {},
   "outputs": [
    {
     "name": "stdout",
     "output_type": "stream",
     "text": [
      "LZ_FITSF= 'LezargusCube'                                                        END                                                                                                                                                                                                                                                                                                                                                                                                                                                                                                                                                                                                                                                                                                                                                                                                                                                                                                                                                                                                                                                                                                                                                                                                                                                                                                                                                                                                                                                                                                                                                                                                                                                                                                                                                                                                                                                                                                                                                                                                                                                                                                                                                                                                                                                                                                                                                                                                                                                                                                                                                                                                                                                                                                                                                                                                                                                                                                             \n"
     ]
    }
   ],
   "source": [
    "test_cube = lezargus.container.LezargusCube(\n",
    "    wavelength=np.linspace(1, 10, 10), data=np.random.rand(3, 6, 10)\n",
    ")\n",
    "test_cube.write_fits_file(\"test.fits\")"
   ]
  },
  {
   "cell_type": "code",
   "execution_count": 5,
   "metadata": {},
   "outputs": [],
   "source": [
    "plt.figure()\n",
    "plt.plot(\n",
    "    lezargus.library.data.VEGA.wavelength[:5000],\n",
    "    lezargus.library.data.VEGA.data[:5000],\n",
    ")\n",
    "plt.show()"
   ]
  },
  {
   "cell_type": "code",
   "execution_count": 6,
   "metadata": {},
   "outputs": [
    {
     "data": {
      "text/plain": [
       "array([1.28379e-17, 1.73743e-17, 1.84571e-17, ..., 1.36023e-19,\n",
       "       1.35388e-19, 1.33880e-19])"
      ]
     },
     "execution_count": 6,
     "metadata": {},
     "output_type": "execute_result"
    }
   ],
   "source": [
    "lezargus.library.data.VEGA.data"
   ]
  },
  {
   "cell_type": "code",
   "execution_count": 29,
   "metadata": {},
   "outputs": [],
   "source": [
    "shape = (30, 45)\n",
    "x_stddev = 3\n",
    "y_stddev = 5\n",
    "rotation = 1\n",
    "\n",
    "\n",
    "# The center of the array given by the shape is defined as just the center\n",
    "# of it. However, we need to take into account off-by-one errors.\n",
    "nrow, ncol = shape\n",
    "cen_row = (nrow - 1) / 2\n",
    "cen_col = (ncol - 1) / 2\n",
    "\n",
    "# The normalization constant is provided as amplitude itself.\n",
    "norm_constant = 1 / (2 * np.pi * x_stddev * y_stddev)\n",
    "\n",
    "# The mesh grid used to evaluate the Gaussian function to derive the kernel.\n",
    "xx, yy = np.meshgrid(np.arange(ncol), np.arange(nrow))\n",
    "\n",
    "# Deriving the kernel and computing it.\n",
    "gaussian2d = astropy.modeling.models.Gaussian2D(\n",
    "    amplitude=norm_constant,\n",
    "    x_mean=cen_col,\n",
    "    y_mean=cen_row,\n",
    "    x_stddev=x_stddev,\n",
    "    y_stddev=y_stddev,\n",
    "    theta=rotation,\n",
    ")\n",
    "kernel = gaussian2d(xx, yy)"
   ]
  },
  {
   "cell_type": "code",
   "execution_count": 25,
   "metadata": {},
   "outputs": [
    {
     "data": {
      "text/plain": [
       "array([[5.68183863e-08, 1.55357904e-07, 3.99751788e-07, 9.67965951e-07,\n",
       "        2.20567922e-06, 4.72973956e-06, 9.54431373e-06, 1.81244481e-05,\n",
       "        3.23889955e-05, 5.44681685e-05, 8.61986909e-05, 1.28372256e-04,\n",
       "        1.79909575e-04, 2.37273911e-04, 2.94481696e-04, 3.43937258e-04,\n",
       "        3.78018235e-04, 3.90983904e-04, 3.80555157e-04, 3.48569152e-04,\n",
       "        3.00450473e-04, 2.43707805e-04, 1.86028117e-04, 1.33628885e-04,\n",
       "        9.03305606e-05],\n",
       "       [1.88857708e-07, 4.99963365e-07, 1.24553018e-06, 2.92000053e-06,\n",
       "        6.44205177e-06, 1.33745166e-05, 2.61303114e-05, 4.80422876e-05,\n",
       "        8.31218837e-05, 1.35337977e-04, 2.07365540e-04, 2.98996496e-04,\n",
       "        4.05702996e-04, 5.18039571e-04, 6.22486963e-04, 7.03898743e-04,\n",
       "        7.49036056e-04, 7.50080477e-04, 7.06847303e-04, 6.26838918e-04,\n",
       "        5.23117085e-04, 4.10822727e-04, 3.03614579e-04, 2.11155981e-04,\n",
       "        1.38196408e-04],\n",
       "       [5.73510284e-07, 1.46995380e-06, 3.54551043e-06, 8.04760132e-06,\n",
       "        1.71896385e-05, 3.45525129e-05, 6.53589605e-05, 1.16343799e-04,\n",
       "        1.94891971e-04, 3.07225500e-04, 4.55756821e-04, 6.36241067e-04,\n",
       "        8.35839370e-04, 1.03332409e-03, 1.20216170e-03, 1.31613921e-03,\n",
       "        1.35598027e-03, 1.31467232e-03, 1.19948348e-03, 1.02987290e-03,\n",
       "        8.32119291e-04, 6.32703383e-04, 4.52717546e-04, 3.04836595e-04,\n",
       "        1.93161016e-04],\n",
       "       [1.59113994e-06, 3.94847929e-06, 9.22070133e-06, 2.02633222e-05,\n",
       "        4.19053960e-05, 8.15533590e-05, 1.49357268e-04, 2.57408850e-04,\n",
       "        4.17477614e-04, 6.37170286e-04, 9.15146116e-04, 1.23690963e-03,\n",
       "        1.57325133e-03, 1.88308900e-03, 2.12107581e-03, 2.24829938e-03,\n",
       "        2.24266649e-03, 2.10517329e-03, 1.85961745e-03, 1.54586648e-03,\n",
       "        1.20929693e-03, 8.90238816e-04, 6.16726637e-04, 4.02060576e-04,\n",
       "        2.46662359e-04],\n",
       "       [4.03307427e-06, 9.68984245e-06, 2.19083573e-05, 4.66139086e-05,\n",
       "        9.33327000e-05, 1.75859058e-04, 3.11823083e-04, 5.20312649e-04,\n",
       "        8.17020796e-04, 1.20729789e-03, 1.67883641e-03, 2.19692342e-03,\n",
       "        2.70541606e-03, 3.13520406e-03, 3.41908712e-03, 3.50886877e-03,\n",
       "        3.38872782e-03, 3.07977405e-03, 2.63398700e-03, 2.11992748e-03,\n",
       "        1.60561340e-03, 1.14438872e-03, 7.67571356e-04, 4.84480781e-04,\n",
       "        2.87770951e-04],\n",
       "       [9.33952385e-06, 2.17252229e-05, 4.75572081e-05, 9.79672833e-05,\n",
       "        1.89914613e-04, 3.46456176e-04, 5.94772438e-04, 9.60872949e-04,\n",
       "        1.46080990e-03, 2.08994109e-03, 2.81375960e-03, 3.56494259e-03,\n",
       "        4.25040873e-03, 4.76893556e-03, 5.03529382e-03, 5.00311846e-03,\n",
       "        4.67809846e-03, 4.11633332e-03, 3.40850799e-03, 2.65601609e-03,\n",
       "        1.94764452e-03, 1.34400625e-03, 8.72781408e-04, 5.33362269e-04,\n",
       "        3.06726782e-04],\n",
       "       [1.97594078e-05, 4.45012736e-05, 9.43156060e-05, 1.88108008e-04,\n",
       "        3.53056012e-04, 6.23580527e-04, 1.03646367e-03, 1.62116875e-03,\n",
       "        2.38624466e-03, 3.30532616e-03, 4.30850177e-03, 5.28507112e-03,\n",
       "        6.10081702e-03, 6.62731737e-03, 6.77485713e-03, 6.51741115e-03,\n",
       "        5.90014522e-03, 5.02646760e-03, 4.02972749e-03, 3.04019243e-03,\n",
       "        2.15843549e-03, 1.44208108e-03, 9.06677602e-04, 5.36449322e-04,\n",
       "        2.98687548e-04],\n",
       "       [3.81930014e-05, 8.32801144e-05, 1.70887951e-04, 3.29984982e-04,\n",
       "        5.99638506e-04, 1.02540978e-03, 1.65012940e-03, 2.49891310e-03,\n",
       "        3.56120447e-03, 4.77590050e-03, 6.02734756e-03, 7.15829850e-03,\n",
       "        8.00029458e-03, 8.41423731e-03, 8.32791223e-03, 7.75657733e-03,\n",
       "        6.79855661e-03, 5.60758563e-03, 4.35258955e-03, 3.17930446e-03,\n",
       "        2.18539089e-03, 1.41363973e-03, 8.60519986e-04, 4.92941957e-04,\n",
       "        2.65731606e-04],\n",
       "       [6.74457092e-05, 1.42387170e-04, 2.82878538e-04, 5.28861243e-04,\n",
       "        9.30456532e-04, 1.54050475e-03, 2.40017328e-03, 3.51912553e-03,\n",
       "        4.85556222e-03, 6.30459066e-03, 7.70347839e-03, 8.85787296e-03,\n",
       "        9.58483477e-03, 9.76005845e-03, 9.35260970e-03, 8.43384874e-03,\n",
       "        7.15700645e-03, 5.71543927e-03, 4.29517066e-03, 3.03755282e-03,\n",
       "        2.02152845e-03, 1.26604307e-03, 7.46156128e-04, 4.13831498e-04,\n",
       "        2.15988177e-04],\n",
       "       [1.08814191e-04, 2.22413467e-04, 4.27808322e-04, 7.74372606e-04,\n",
       "        1.31905632e-03, 2.11441047e-03, 3.18953863e-03, 4.52771453e-03,\n",
       "        6.04843213e-03, 7.60359876e-03, 8.99514514e-03, 1.00140502e-02,\n",
       "        1.04911708e-02, 1.03431007e-02, 9.59599816e-03, 8.37803485e-03,\n",
       "        6.88345969e-03, 5.32211174e-03, 3.87234291e-03, 2.65140599e-03,\n",
       "        1.70840668e-03, 1.03590253e-03, 5.91097513e-04, 3.17403692e-04,\n",
       "        1.60390049e-04],\n",
       "       [1.60390049e-04, 3.17403692e-04, 5.91097513e-04, 1.03590253e-03,\n",
       "        1.70840668e-03, 2.65140599e-03, 3.87234291e-03, 5.32211174e-03,\n",
       "        6.88345969e-03, 8.37803485e-03, 9.59599816e-03, 1.03431007e-02,\n",
       "        1.04911708e-02, 1.00140502e-02, 8.99514514e-03, 7.60359876e-03,\n",
       "        6.04843213e-03, 4.52771453e-03, 3.18953863e-03, 2.11441047e-03,\n",
       "        1.31905632e-03, 7.74372606e-04, 4.27808322e-04, 2.22413467e-04,\n",
       "        1.08814191e-04],\n",
       "       [2.15988177e-04, 4.13831498e-04, 7.46156128e-04, 1.26604307e-03,\n",
       "        2.02152845e-03, 3.03755282e-03, 4.29517066e-03, 5.71543927e-03,\n",
       "        7.15700645e-03, 8.43384874e-03, 9.35260970e-03, 9.76005845e-03,\n",
       "        9.58483477e-03, 8.85787296e-03, 7.70347839e-03, 6.30459066e-03,\n",
       "        4.85556222e-03, 3.51912553e-03, 2.40017328e-03, 1.54050475e-03,\n",
       "        9.30456532e-04, 5.28861243e-04, 2.82878538e-04, 1.42387170e-04,\n",
       "        6.74457092e-05],\n",
       "       [2.65731606e-04, 4.92941957e-04, 8.60519986e-04, 1.41363973e-03,\n",
       "        2.18539089e-03, 3.17930446e-03, 4.35258955e-03, 5.60758563e-03,\n",
       "        6.79855661e-03, 7.75657733e-03, 8.32791223e-03, 8.41423731e-03,\n",
       "        8.00029458e-03, 7.15829850e-03, 6.02734756e-03, 4.77590050e-03,\n",
       "        3.56120447e-03, 2.49891310e-03, 1.65012940e-03, 1.02540978e-03,\n",
       "        5.99638506e-04, 3.29984982e-04, 1.70887951e-04, 8.32801144e-05,\n",
       "        3.81930014e-05],\n",
       "       [2.98687548e-04, 5.36449322e-04, 9.06677602e-04, 1.44208108e-03,\n",
       "        2.15843549e-03, 3.04019243e-03, 4.02972749e-03, 5.02646760e-03,\n",
       "        5.90014522e-03, 6.51741115e-03, 6.77485713e-03, 6.62731737e-03,\n",
       "        6.10081702e-03, 5.28507112e-03, 4.30850177e-03, 3.30532616e-03,\n",
       "        2.38624466e-03, 1.62116875e-03, 1.03646367e-03, 6.23580527e-04,\n",
       "        3.53056012e-04, 1.88108008e-04, 9.43156060e-05, 4.45012736e-05,\n",
       "        1.97594078e-05],\n",
       "       [3.06726782e-04, 5.33362269e-04, 8.72781408e-04, 1.34400625e-03,\n",
       "        1.94764452e-03, 2.65601609e-03, 3.40850799e-03, 4.11633332e-03,\n",
       "        4.67809846e-03, 5.00311846e-03, 5.03529382e-03, 4.76893556e-03,\n",
       "        4.25040873e-03, 3.56494259e-03, 2.81375960e-03, 2.08994109e-03,\n",
       "        1.46080990e-03, 9.60872949e-04, 5.94772438e-04, 3.46456176e-04,\n",
       "        1.89914613e-04, 9.79672833e-05, 4.75572081e-05, 2.17252229e-05,\n",
       "        9.33952385e-06],\n",
       "       [2.87770951e-04, 4.84480781e-04, 7.67571356e-04, 1.14438872e-03,\n",
       "        1.60561340e-03, 2.11992748e-03, 2.63398700e-03, 3.07977405e-03,\n",
       "        3.38872782e-03, 3.50886877e-03, 3.41908712e-03, 3.13520406e-03,\n",
       "        2.70541606e-03, 2.19692342e-03, 1.67883641e-03, 1.20729789e-03,\n",
       "        8.17020796e-04, 5.20312649e-04, 3.11823083e-04, 1.75859058e-04,\n",
       "        9.33327000e-05, 4.66139086e-05, 2.19083573e-05, 9.68984245e-06,\n",
       "        4.03307427e-06],\n",
       "       [2.46662359e-04, 4.02060576e-04, 6.16726637e-04, 8.90238816e-04,\n",
       "        1.20929693e-03, 1.54586648e-03, 1.85961745e-03, 2.10517329e-03,\n",
       "        2.24266649e-03, 2.24829938e-03, 2.12107581e-03, 1.88308900e-03,\n",
       "        1.57325133e-03, 1.23690963e-03, 9.15146116e-04, 6.37170286e-04,\n",
       "        4.17477614e-04, 2.57408850e-04, 1.49357268e-04, 8.15533590e-05,\n",
       "        4.19053960e-05, 2.02633222e-05, 9.22070133e-06, 3.94847929e-06,\n",
       "        1.59113994e-06],\n",
       "       [1.93161016e-04, 3.04836595e-04, 4.52717546e-04, 6.32703383e-04,\n",
       "        8.32119291e-04, 1.02987290e-03, 1.19948348e-03, 1.31467232e-03,\n",
       "        1.35598027e-03, 1.31613921e-03, 1.20216170e-03, 1.03332409e-03,\n",
       "        8.35839370e-04, 6.36241067e-04, 4.55756821e-04, 3.07225500e-04,\n",
       "        1.94891971e-04, 1.16343799e-04, 6.53589605e-05, 3.45525129e-05,\n",
       "        1.71896385e-05, 8.04760132e-06, 3.54551043e-06, 1.46995380e-06,\n",
       "        5.73510284e-07],\n",
       "       [1.38196408e-04, 2.11155981e-04, 3.03614579e-04, 4.10822727e-04,\n",
       "        5.23117085e-04, 6.26838918e-04, 7.06847303e-04, 7.50080477e-04,\n",
       "        7.49036056e-04, 7.03898743e-04, 6.22486963e-04, 5.18039571e-04,\n",
       "        4.05702996e-04, 2.98996496e-04, 2.07365540e-04, 1.35337977e-04,\n",
       "        8.31218837e-05, 4.80422876e-05, 2.61303114e-05, 1.33745166e-05,\n",
       "        6.44205177e-06, 2.92000053e-06, 1.24553018e-06, 4.99963365e-07,\n",
       "        1.88857708e-07],\n",
       "       [9.03305606e-05, 1.33628885e-04, 1.86028117e-04, 2.43707805e-04,\n",
       "        3.00450473e-04, 3.48569152e-04, 3.80555157e-04, 3.90983904e-04,\n",
       "        3.78018235e-04, 3.43937258e-04, 2.94481696e-04, 2.37273911e-04,\n",
       "        1.79909575e-04, 1.28372256e-04, 8.61986909e-05, 5.44681685e-05,\n",
       "        3.23889955e-05, 1.81244481e-05, 9.54431373e-06, 4.72973956e-06,\n",
       "        2.20567922e-06, 9.67965951e-07, 3.99751788e-07, 1.55357904e-07,\n",
       "        5.68183863e-08]])"
      ]
     },
     "execution_count": 25,
     "metadata": {},
     "output_type": "execute_result"
    }
   ],
   "source": [
    "kernel"
   ]
  },
  {
   "cell_type": "code",
   "execution_count": 12,
   "metadata": {},
   "outputs": [],
   "source": []
  },
  {
   "cell_type": "code",
   "execution_count": 2,
   "metadata": {},
   "outputs": [],
   "source": [
    "star_data = np.genfromtxt(\"vega.txt\", comments=\"#\", delimiter=\"|\").T\n",
    "wave, flux, staterr, syserr, fwhm, mask, itime = star_data\n",
    "# Convert from angstroms to microns.\n",
    "wave = wave / 1000\n",
    "# The mask convention is opposite.\n",
    "mask = np.logical_not(mask)\n",
    "# Error.\n",
    "uncert = np.sqrt(staterr**2 + syserr**2)"
   ]
  },
  {
   "cell_type": "code",
   "execution_count": 7,
   "metadata": {},
   "outputs": [
    {
     "name": "stdout",
     "output_type": "stream",
     "text": [
      "LZI_INST= 'STScI Calspec'                                                       LZI_PXPS=                    0                                                  LZI_SLPS=                    0                                                  LZO_NAME= 'Vega    '                                                            LZOPK__X=                    0                                                  LZOPK__Y=                    0                                                  LZOPK_RA=   279.23473479166665                                                  LZOPKDEC=    38.78368894444444                                                  LZO_ROTA=                    0                                                  END                                                                                                                                                                                                                                                                                                                                                                                                                                                                                                                                                                                                                                                                                                                                                                                                                                                                                                                                                                                                                                                                                                                                                                                                                                                                                                                                                                                                                                                                                                                                                                                                                                                                                                                                                                                                                                                                                                                                                                                                                                                                                                                                                                                                                                             \n"
     ]
    }
   ],
   "source": [
    "# Star header.\n",
    "star_header = astropy.io.fits.Header()\n",
    "\n",
    "star_header[\"LZI_INST\"] = \"STScI Calspec\"\n",
    "star_header[\"LZI_PXPS\"] = 0\n",
    "star_header[\"LZI_SLPS\"] = 0\n",
    "star_header[\"LZO_NAME\"] = \"Vega\"\n",
    "star_header[\"LZOPK__X\"] = 0\n",
    "star_header[\"LZOPK__Y\"] = 0\n",
    "star_header[\"LZOPK_RA\"] = 279.23473479166665\n",
    "star_header[\"LZOPKDEC\"] = 38.78368894444444\n",
    "star_header[\"LZO_ROTA\"] = 0\n",
    "\n",
    "star_header = lezargus.library.fits.create_lezargus_fits_header(\n",
    "    header=star_header\n",
    ")\n",
    "\n",
    "lvega = lezargus.container.LezargusSpectra(\n",
    "    wavelength=wave,\n",
    "    data=flux,\n",
    "    uncertainty=uncert,\n",
    "    wavelength_unit=\"um\",\n",
    "    data_unit=\"flam\",\n",
    "    mask=mask,\n",
    "    flags=np.ones_like(flux),\n",
    "    header=star_header,\n",
    ")"
   ]
  },
  {
   "cell_type": "code",
   "execution_count": 8,
   "metadata": {},
   "outputs": [
    {
     "name": "stderr",
     "output_type": "stream",
     "text": [
      "\u001b[38;2;255;225;0m[Lezargus] 2023-08-15T19:02:01  WARNING -- FileWarning - The FITS file ./src/lezargus/data/star_vega.fits already exists, overwriting as overwrite is True.\u001b[0m\n",
      "\u001b[38;2;0;68;136m[Lezargus] 2023-08-15T19:02:01     INFO -- A WCS header is already present, skipping unnecessary extraction and instantiation.\u001b[0m\n"
     ]
    }
   ],
   "source": [
    "lvega.write_fits_file(\n",
    "    filename=\"./src/lezargus/data/star_vega.fits\", overwrite=True\n",
    ")"
   ]
  },
  {
   "cell_type": "code",
   "execution_count": 9,
   "metadata": {},
   "outputs": [
    {
     "name": "stderr",
     "output_type": "stream",
     "text": [
      "\u001b[38;2;0;68;136m[Lezargus] 2023-08-15T19:42:19     INFO -- Reading Lezargus FITS file ./src/lezargus/data/star_vega.fits.\u001b[0m\n"
     ]
    }
   ],
   "source": [
    "llvega = lezargus.container.LezargusSpectra.read_fits_file(\n",
    "    \"./src/lezargus/data/star_vega.fits\"\n",
    ")"
   ]
  },
  {
   "cell_type": "code",
   "execution_count": 11,
   "metadata": {},
   "outputs": [
    {
     "data": {
      "text/plain": [
       "array([ True,  True,  True, ...,  True,  True,  True])"
      ]
     },
     "execution_count": 11,
     "metadata": {},
     "output_type": "execute_result"
    }
   ],
   "source": [
    "lvega.data == llvega.data"
   ]
  },
  {
   "cell_type": "code",
   "execution_count": 803,
   "metadata": {},
   "outputs": [],
   "source": [
    "data_header = astropy.io.fits.Header()\n",
    "wave_header = astropy.io.fits.Header()\n",
    "\n",
    "data_header[\"CTYPE1\"] = \"RA---TAN\"\n",
    "data_header[\"CTYPE2\"] = \"DEC--TAN\"\n",
    "\n",
    "data_header[\"CUNIT1\"] = \"deg\"\n",
    "data_header[\"CUNIT2\"] = \"deg\"\n",
    "\n",
    "data_header[\"CRPIX1\"] = 1\n",
    "data_header[\"CRPIX2\"] = 2\n",
    "\n",
    "data_header[\"CRVAL1\"] = 213.31358\n",
    "data_header[\"CRVAL2\"] = -65.347547\n",
    "\n",
    "data_header[\"CDELT1\"] = -0.000416666\n",
    "data_header[\"CDELT2\"] = 0.0004166666\n",
    "\n",
    "data_header[\"CROTA1\"] = -0.0\n",
    "data_header[\"CROTA2\"] = -0.0\n",
    "\n",
    "data_header[\"CTYPE3\"] = \"WAVE-TAB\"\n",
    "data_header[\"CUNIT3\"] = \"um\"\n",
    "data_header[\"PS3_0\"] = \"WCS-TAB\"\n",
    "data_header[\"PS3_1\"] = \"WAVECOORD\"\n",
    "data_header[\"PS3_2\"] = \"WAVEINDEX\"\n",
    "data_header[\"CRPIX3\"] = 0\n",
    "data_header[\"CDELT3\"] = 1\n",
    "data_header[\"CRVAL3\"] = 0\n",
    "\n",
    "\n",
    "# wave_header[\"CTYPE1\"] = \"WAVE-TAB\"\n",
    "# wave_header[\"CUNIT1\"] = \"um\"\n",
    "# wave_header[\"PS1_0\"] = \"WCS-TAB\"\n",
    "# wave_header[\"PS1_1\"] = \"WAVELENGTH\""
   ]
  },
  {
   "cell_type": "code",
   "execution_count": null,
   "metadata": {},
   "outputs": [],
   "source": [
    "primary_hdu = astropy.io.fits.PrimaryHDU(dummy_data.T, header=data_header)"
   ]
  },
  {
   "cell_type": "code",
   "execution_count": 16,
   "metadata": {},
   "outputs": [
    {
     "ename": "ValueError",
     "evalue": "cannot reshape array of size 2000 into shape (2000,2000,1)",
     "output_type": "error",
     "traceback": [
      "\u001b[1;31m---------------------------------------------------------------------------\u001b[0m",
      "\u001b[1;31mValueError\u001b[0m                                Traceback (most recent call last)",
      "Cell \u001b[1;32mIn[16], line 6\u001b[0m\n\u001b[0;32m      3\u001b[0m aaa \u001b[39m=\u001b[39m np\u001b[39m.\u001b[39marange(\u001b[39mlen\u001b[39m(dummy_wavelength))\u001b[39m#.reshape(1, 1, 2000)\u001b[39;00m\n\u001b[0;32m      4\u001b[0m bbb \u001b[39m=\u001b[39m np\u001b[39m.\u001b[39marray(dummy_wavelength)\u001b[39m#.reshape(1, 1, 2000)\u001b[39;00m\n\u001b[1;32m----> 6\u001b[0m windex \u001b[39m=\u001b[39m astropy\u001b[39m.\u001b[39;49mio\u001b[39m.\u001b[39;49mfits\u001b[39m.\u001b[39;49mColumn(\n\u001b[0;32m      7\u001b[0m     name\u001b[39m=\u001b[39;49m\u001b[39m\"\u001b[39;49m\u001b[39mWAVEINDEX\u001b[39;49m\u001b[39m\"\u001b[39;49m, array\u001b[39m=\u001b[39;49maaa, \u001b[39mformat\u001b[39;49m\u001b[39m=\u001b[39;49m\u001b[39m\"\u001b[39;49m\u001b[39m2000J\u001b[39;49m\u001b[39m\"\u001b[39;49m, dim\u001b[39m=\u001b[39;49m\u001b[39m\"\u001b[39;49m\u001b[39m(1,2000)\u001b[39;49m\u001b[39m\"\u001b[39;49m\n\u001b[0;32m      8\u001b[0m )\n\u001b[0;32m      9\u001b[0m wave \u001b[39m=\u001b[39m astropy\u001b[39m.\u001b[39mio\u001b[39m.\u001b[39mfits\u001b[39m.\u001b[39mColumn(\n\u001b[0;32m     10\u001b[0m     name\u001b[39m=\u001b[39m\u001b[39m\"\u001b[39m\u001b[39mWAVECOORD\u001b[39m\u001b[39m\"\u001b[39m, array\u001b[39m=\u001b[39mbbb, \u001b[39mformat\u001b[39m\u001b[39m=\u001b[39m\u001b[39m\"\u001b[39m\u001b[39m2000E\u001b[39m\u001b[39m\"\u001b[39m, unit\u001b[39m=\u001b[39m\u001b[39m\"\u001b[39m\u001b[39mum\u001b[39m\u001b[39m\"\u001b[39m, dim\u001b[39m=\u001b[39m\u001b[39m\"\u001b[39m\u001b[39m(1,2000)\u001b[39m\u001b[39m\"\u001b[39m\n\u001b[0;32m     11\u001b[0m )\n\u001b[0;32m     12\u001b[0m waverec \u001b[39m=\u001b[39m astropy\u001b[39m.\u001b[39mio\u001b[39m.\u001b[39mfits\u001b[39m.\u001b[39mFITS_rec\u001b[39m.\u001b[39mfrom_columns([windex, wave])\n",
      "File \u001b[1;32mc:\\Users\\psmdi\\AppData\\Local\\Programs\\Python\\Python311\\Lib\\site-packages\\astropy\\io\\fits\\column.py:726\u001b[0m, in \u001b[0;36mColumn.__init__\u001b[1;34m(self, name, format, unit, null, bscale, bzero, disp, start, dim, array, ascii, coord_type, coord_unit, coord_ref_point, coord_ref_value, coord_inc, time_ref_pos)\u001b[0m\n\u001b[0;32m    721\u001b[0m             \u001b[39melse\u001b[39;00m:\n\u001b[0;32m    722\u001b[0m                 \u001b[39mraise\u001b[39;00m \u001b[39mValueError\u001b[39;00m(\n\u001b[0;32m    723\u001b[0m                     \u001b[39mf\u001b[39m\u001b[39m\"\u001b[39m\u001b[39mData is inconsistent with the format `\u001b[39m\u001b[39m{\u001b[39;00m\u001b[39mformat\u001b[39m\u001b[39m}\u001b[39;00m\u001b[39m`.\u001b[39m\u001b[39m\"\u001b[39m\n\u001b[0;32m    724\u001b[0m                 )\n\u001b[1;32m--> 726\u001b[0m array \u001b[39m=\u001b[39m \u001b[39mself\u001b[39;49m\u001b[39m.\u001b[39;49m_convert_to_valid_data_type(array)\n\u001b[0;32m    728\u001b[0m \u001b[39m# We have required (through documentation) that arrays passed in to\u001b[39;00m\n\u001b[0;32m    729\u001b[0m \u001b[39m# this constructor are already in their physical values, so we make\u001b[39;00m\n\u001b[0;32m    730\u001b[0m \u001b[39m# note of that here\u001b[39;00m\n\u001b[0;32m    731\u001b[0m \u001b[39mif\u001b[39;00m \u001b[39misinstance\u001b[39m(array, np\u001b[39m.\u001b[39mndarray):\n",
      "File \u001b[1;32mc:\\Users\\psmdi\\AppData\\Local\\Programs\\Python\\Python311\\Lib\\site-packages\\astropy\\io\\fits\\column.py:1398\u001b[0m, in \u001b[0;36mColumn._convert_to_valid_data_type\u001b[1;34m(self, array)\u001b[0m\n\u001b[0;32m   1396\u001b[0m     shape \u001b[39m=\u001b[39m dims[:\u001b[39m-\u001b[39m\u001b[39m1\u001b[39m] \u001b[39mif\u001b[39;00m \u001b[39m\"\u001b[39m\u001b[39mA\u001b[39m\u001b[39m\"\u001b[39m \u001b[39min\u001b[39;00m \u001b[39mformat\u001b[39m \u001b[39melse\u001b[39;00m dims\n\u001b[0;32m   1397\u001b[0m     shape \u001b[39m=\u001b[39m (\u001b[39mlen\u001b[39m(array),) \u001b[39m+\u001b[39m shape\n\u001b[1;32m-> 1398\u001b[0m     array \u001b[39m=\u001b[39m array\u001b[39m.\u001b[39;49mreshape(shape)\n\u001b[0;32m   1400\u001b[0m \u001b[39mif\u001b[39;00m \u001b[39m\"\u001b[39m\u001b[39mP\u001b[39m\u001b[39m\"\u001b[39m \u001b[39min\u001b[39;00m \u001b[39mformat\u001b[39m \u001b[39mor\u001b[39;00m \u001b[39m\"\u001b[39m\u001b[39mQ\u001b[39m\u001b[39m\"\u001b[39m \u001b[39min\u001b[39;00m \u001b[39mformat\u001b[39m:\n\u001b[0;32m   1401\u001b[0m     \u001b[39mreturn\u001b[39;00m array\n",
      "\u001b[1;31mValueError\u001b[0m: cannot reshape array of size 2000 into shape (2000,2000,1)"
     ]
    }
   ],
   "source": [
    "dummy_wavelength = np.linspace(1, 10, 2000)\n",
    "\n",
    "aaa = np.arange(len(dummy_wavelength)).reshape(1, 1, 2000)\n",
    "bbb = np.array(dummy_wavelength).reshape(1, 1, 2000)\n",
    "\n",
    "windex = astropy.io.fits.Column(\n",
    "    name=\"WAVEINDEX\", array=aaa, format=\"2000J\", dim=\"(1,2000)\"\n",
    ")\n",
    "wave = astropy.io.fits.Column(\n",
    "    name=\"WAVECOORD\", array=bbb, format=\"2000E\", unit=\"um\", dim=\"(1,2000)\"\n",
    ")\n",
    "waverec = astropy.io.fits.FITS_rec.from_columns([windex, wave])\n",
    "wavetable = astropy.io.fits.BinTableHDU(waverec, name=\"WCS-TAB\")\n",
    "wavetable2 = astropy.io.fits.BinTableHDU.from_columns(\n",
    "    [windex, wave], name=\"WCS-TAB\"\n",
    ")"
   ]
  },
  {
   "cell_type": "code",
   "execution_count": 841,
   "metadata": {},
   "outputs": [],
   "source": [
    "hdul = astropy.io.fits.HDUList([primary_hdu, wavetable2])\n",
    "hdul.writeto(\"dummy2.fits\", overwrite=True)"
   ]
  },
  {
   "cell_type": "code",
   "execution_count": 846,
   "metadata": {},
   "outputs": [
    {
     "data": {
      "text/plain": [
       "array([[[ 4.       ],\n",
       "        [ 4.0027747],\n",
       "        [ 4.005552 ],\n",
       "        ...,\n",
       "        [15.977823 ],\n",
       "        [15.988908 ],\n",
       "        [16.       ]]], dtype=float32)"
      ]
     },
     "execution_count": 846,
     "metadata": {},
     "output_type": "execute_result"
    }
   ],
   "source": [
    "wavetable.data[\"WAVECOORD\"]"
   ]
  },
  {
   "cell_type": "code",
   "execution_count": 838,
   "metadata": {},
   "outputs": [
    {
     "data": {
      "text/plain": [
       "FITS_rec([([[   0], [   1], [   2], [   3], [   4], [   5], [   6], [   7], [   8], [   9], [  10], [  11], [  12], [  13], [  14], [  15], [  16], [  17], [  18], [  19], [  20], [  21], [  22], [  23], [  24], [  25], [  26], [  27], [  28], [  29], [  30], [  31], [  32], [  33], [  34], [  35], [  36], [  37], [  38], [  39], [  40], [  41], [  42], [  43], [  44], [  45], [  46], [  47], [  48], [  49], [  50], [  51], [  52], [  53], [  54], [  55], [  56], [  57], [  58], [  59], [  60], [  61], [  62], [  63], [  64], [  65], [  66], [  67], [  68], [  69], [  70], [  71], [  72], [  73], [  74], [  75], [  76], [  77], [  78], [  79], [  80], [  81], [  82], [  83], [  84], [  85], [  86], [  87], [  88], [  89], [  90], [  91], [  92], [  93], [  94], [  95], [  96], [  97], [  98], [  99], [ 100], [ 101], [ 102], [ 103], [ 104], [ 105], [ 106], [ 107], [ 108], [ 109], [ 110], [ 111], [ 112], [ 113], [ 114], [ 115], [ 116], [ 117], [ 118], [ 119], [ 120], [ 121], [ 122], [ 123], [ 124], [ 125], [ 126], [ 127], [ 128], [ 129], [ 130], [ 131], [ 132], [ 133], [ 134], [ 135], [ 136], [ 137], [ 138], [ 139], [ 140], [ 141], [ 142], [ 143], [ 144], [ 145], [ 146], [ 147], [ 148], [ 149], [ 150], [ 151], [ 152], [ 153], [ 154], [ 155], [ 156], [ 157], [ 158], [ 159], [ 160], [ 161], [ 162], [ 163], [ 164], [ 165], [ 166], [ 167], [ 168], [ 169], [ 170], [ 171], [ 172], [ 173], [ 174], [ 175], [ 176], [ 177], [ 178], [ 179], [ 180], [ 181], [ 182], [ 183], [ 184], [ 185], [ 186], [ 187], [ 188], [ 189], [ 190], [ 191], [ 192], [ 193], [ 194], [ 195], [ 196], [ 197], [ 198], [ 199], [ 200], [ 201], [ 202], [ 203], [ 204], [ 205], [ 206], [ 207], [ 208], [ 209], [ 210], [ 211], [ 212], [ 213], [ 214], [ 215], [ 216], [ 217], [ 218], [ 219], [ 220], [ 221], [ 222], [ 223], [ 224], [ 225], [ 226], [ 227], [ 228], [ 229], [ 230], [ 231], [ 232], [ 233], [ 234], [ 235], [ 236], [ 237], [ 238], [ 239], [ 240], [ 241], [ 242], [ 243], [ 244], [ 245], [ 246], [ 247], [ 248], [ 249], [ 250], [ 251], [ 252], [ 253], [ 254], [ 255], [ 256], [ 257], [ 258], [ 259], [ 260], [ 261], [ 262], [ 263], [ 264], [ 265], [ 266], [ 267], [ 268], [ 269], [ 270], [ 271], [ 272], [ 273], [ 274], [ 275], [ 276], [ 277], [ 278], [ 279], [ 280], [ 281], [ 282], [ 283], [ 284], [ 285], [ 286], [ 287], [ 288], [ 289], [ 290], [ 291], [ 292], [ 293], [ 294], [ 295], [ 296], [ 297], [ 298], [ 299], [ 300], [ 301], [ 302], [ 303], [ 304], [ 305], [ 306], [ 307], [ 308], [ 309], [ 310], [ 311], [ 312], [ 313], [ 314], [ 315], [ 316], [ 317], [ 318], [ 319], [ 320], [ 321], [ 322], [ 323], [ 324], [ 325], [ 326], [ 327], [ 328], [ 329], [ 330], [ 331], [ 332], [ 333], [ 334], [ 335], [ 336], [ 337], [ 338], [ 339], [ 340], [ 341], [ 342], [ 343], [ 344], [ 345], [ 346], [ 347], [ 348], [ 349], [ 350], [ 351], [ 352], [ 353], [ 354], [ 355], [ 356], [ 357], [ 358], [ 359], [ 360], [ 361], [ 362], [ 363], [ 364], [ 365], [ 366], [ 367], [ 368], [ 369], [ 370], [ 371], [ 372], [ 373], [ 374], [ 375], [ 376], [ 377], [ 378], [ 379], [ 380], [ 381], [ 382], [ 383], [ 384], [ 385], [ 386], [ 387], [ 388], [ 389], [ 390], [ 391], [ 392], [ 393], [ 394], [ 395], [ 396], [ 397], [ 398], [ 399], [ 400], [ 401], [ 402], [ 403], [ 404], [ 405], [ 406], [ 407], [ 408], [ 409], [ 410], [ 411], [ 412], [ 413], [ 414], [ 415], [ 416], [ 417], [ 418], [ 419], [ 420], [ 421], [ 422], [ 423], [ 424], [ 425], [ 426], [ 427], [ 428], [ 429], [ 430], [ 431], [ 432], [ 433], [ 434], [ 435], [ 436], [ 437], [ 438], [ 439], [ 440], [ 441], [ 442], [ 443], [ 444], [ 445], [ 446], [ 447], [ 448], [ 449], [ 450], [ 451], [ 452], [ 453], [ 454], [ 455], [ 456], [ 457], [ 458], [ 459], [ 460], [ 461], [ 462], [ 463], [ 464], [ 465], [ 466], [ 467], [ 468], [ 469], [ 470], [ 471], [ 472], [ 473], [ 474], [ 475], [ 476], [ 477], [ 478], [ 479], [ 480], [ 481], [ 482], [ 483], [ 484], [ 485], [ 486], [ 487], [ 488], [ 489], [ 490], [ 491], [ 492], [ 493], [ 494], [ 495], [ 496], [ 497], [ 498], [ 499], [ 500], [ 501], [ 502], [ 503], [ 504], [ 505], [ 506], [ 507], [ 508], [ 509], [ 510], [ 511], [ 512], [ 513], [ 514], [ 515], [ 516], [ 517], [ 518], [ 519], [ 520], [ 521], [ 522], [ 523], [ 524], [ 525], [ 526], [ 527], [ 528], [ 529], [ 530], [ 531], [ 532], [ 533], [ 534], [ 535], [ 536], [ 537], [ 538], [ 539], [ 540], [ 541], [ 542], [ 543], [ 544], [ 545], [ 546], [ 547], [ 548], [ 549], [ 550], [ 551], [ 552], [ 553], [ 554], [ 555], [ 556], [ 557], [ 558], [ 559], [ 560], [ 561], [ 562], [ 563], [ 564], [ 565], [ 566], [ 567], [ 568], [ 569], [ 570], [ 571], [ 572], [ 573], [ 574], [ 575], [ 576], [ 577], [ 578], [ 579], [ 580], [ 581], [ 582], [ 583], [ 584], [ 585], [ 586], [ 587], [ 588], [ 589], [ 590], [ 591], [ 592], [ 593], [ 594], [ 595], [ 596], [ 597], [ 598], [ 599], [ 600], [ 601], [ 602], [ 603], [ 604], [ 605], [ 606], [ 607], [ 608], [ 609], [ 610], [ 611], [ 612], [ 613], [ 614], [ 615], [ 616], [ 617], [ 618], [ 619], [ 620], [ 621], [ 622], [ 623], [ 624], [ 625], [ 626], [ 627], [ 628], [ 629], [ 630], [ 631], [ 632], [ 633], [ 634], [ 635], [ 636], [ 637], [ 638], [ 639], [ 640], [ 641], [ 642], [ 643], [ 644], [ 645], [ 646], [ 647], [ 648], [ 649], [ 650], [ 651], [ 652], [ 653], [ 654], [ 655], [ 656], [ 657], [ 658], [ 659], [ 660], [ 661], [ 662], [ 663], [ 664], [ 665], [ 666], [ 667], [ 668], [ 669], [ 670], [ 671], [ 672], [ 673], [ 674], [ 675], [ 676], [ 677], [ 678], [ 679], [ 680], [ 681], [ 682], [ 683], [ 684], [ 685], [ 686], [ 687], [ 688], [ 689], [ 690], [ 691], [ 692], [ 693], [ 694], [ 695], [ 696], [ 697], [ 698], [ 699], [ 700], [ 701], [ 702], [ 703], [ 704], [ 705], [ 706], [ 707], [ 708], [ 709], [ 710], [ 711], [ 712], [ 713], [ 714], [ 715], [ 716], [ 717], [ 718], [ 719], [ 720], [ 721], [ 722], [ 723], [ 724], [ 725], [ 726], [ 727], [ 728], [ 729], [ 730], [ 731], [ 732], [ 733], [ 734], [ 735], [ 736], [ 737], [ 738], [ 739], [ 740], [ 741], [ 742], [ 743], [ 744], [ 745], [ 746], [ 747], [ 748], [ 749], [ 750], [ 751], [ 752], [ 753], [ 754], [ 755], [ 756], [ 757], [ 758], [ 759], [ 760], [ 761], [ 762], [ 763], [ 764], [ 765], [ 766], [ 767], [ 768], [ 769], [ 770], [ 771], [ 772], [ 773], [ 774], [ 775], [ 776], [ 777], [ 778], [ 779], [ 780], [ 781], [ 782], [ 783], [ 784], [ 785], [ 786], [ 787], [ 788], [ 789], [ 790], [ 791], [ 792], [ 793], [ 794], [ 795], [ 796], [ 797], [ 798], [ 799], [ 800], [ 801], [ 802], [ 803], [ 804], [ 805], [ 806], [ 807], [ 808], [ 809], [ 810], [ 811], [ 812], [ 813], [ 814], [ 815], [ 816], [ 817], [ 818], [ 819], [ 820], [ 821], [ 822], [ 823], [ 824], [ 825], [ 826], [ 827], [ 828], [ 829], [ 830], [ 831], [ 832], [ 833], [ 834], [ 835], [ 836], [ 837], [ 838], [ 839], [ 840], [ 841], [ 842], [ 843], [ 844], [ 845], [ 846], [ 847], [ 848], [ 849], [ 850], [ 851], [ 852], [ 853], [ 854], [ 855], [ 856], [ 857], [ 858], [ 859], [ 860], [ 861], [ 862], [ 863], [ 864], [ 865], [ 866], [ 867], [ 868], [ 869], [ 870], [ 871], [ 872], [ 873], [ 874], [ 875], [ 876], [ 877], [ 878], [ 879], [ 880], [ 881], [ 882], [ 883], [ 884], [ 885], [ 886], [ 887], [ 888], [ 889], [ 890], [ 891], [ 892], [ 893], [ 894], [ 895], [ 896], [ 897], [ 898], [ 899], [ 900], [ 901], [ 902], [ 903], [ 904], [ 905], [ 906], [ 907], [ 908], [ 909], [ 910], [ 911], [ 912], [ 913], [ 914], [ 915], [ 916], [ 917], [ 918], [ 919], [ 920], [ 921], [ 922], [ 923], [ 924], [ 925], [ 926], [ 927], [ 928], [ 929], [ 930], [ 931], [ 932], [ 933], [ 934], [ 935], [ 936], [ 937], [ 938], [ 939], [ 940], [ 941], [ 942], [ 943], [ 944], [ 945], [ 946], [ 947], [ 948], [ 949], [ 950], [ 951], [ 952], [ 953], [ 954], [ 955], [ 956], [ 957], [ 958], [ 959], [ 960], [ 961], [ 962], [ 963], [ 964], [ 965], [ 966], [ 967], [ 968], [ 969], [ 970], [ 971], [ 972], [ 973], [ 974], [ 975], [ 976], [ 977], [ 978], [ 979], [ 980], [ 981], [ 982], [ 983], [ 984], [ 985], [ 986], [ 987], [ 988], [ 989], [ 990], [ 991], [ 992], [ 993], [ 994], [ 995], [ 996], [ 997], [ 998], [ 999], [1000], [1001], [1002], [1003], [1004], [1005], [1006], [1007], [1008], [1009], [1010], [1011], [1012], [1013], [1014], [1015], [1016], [1017], [1018], [1019], [1020], [1021], [1022], [1023], [1024], [1025], [1026], [1027], [1028], [1029], [1030], [1031], [1032], [1033], [1034], [1035], [1036], [1037], [1038], [1039], [1040], [1041], [1042], [1043], [1044], [1045], [1046], [1047], [1048], [1049], [1050], [1051], [1052], [1053], [1054], [1055], [1056], [1057], [1058], [1059], [1060], [1061], [1062], [1063], [1064], [1065], [1066], [1067], [1068], [1069], [1070], [1071], [1072], [1073], [1074], [1075], [1076], [1077], [1078], [1079], [1080], [1081], [1082], [1083], [1084], [1085], [1086], [1087], [1088], [1089], [1090], [1091], [1092], [1093], [1094], [1095], [1096], [1097], [1098], [1099], [1100], [1101], [1102], [1103], [1104], [1105], [1106], [1107], [1108], [1109], [1110], [1111], [1112], [1113], [1114], [1115], [1116], [1117], [1118], [1119], [1120], [1121], [1122], [1123], [1124], [1125], [1126], [1127], [1128], [1129], [1130], [1131], [1132], [1133], [1134], [1135], [1136], [1137], [1138], [1139], [1140], [1141], [1142], [1143], [1144], [1145], [1146], [1147], [1148], [1149], [1150], [1151], [1152], [1153], [1154], [1155], [1156], [1157], [1158], [1159], [1160], [1161], [1162], [1163], [1164], [1165], [1166], [1167], [1168], [1169], [1170], [1171], [1172], [1173], [1174], [1175], [1176], [1177], [1178], [1179], [1180], [1181], [1182], [1183], [1184], [1185], [1186], [1187], [1188], [1189], [1190], [1191], [1192], [1193], [1194], [1195], [1196], [1197], [1198], [1199], [1200], [1201], [1202], [1203], [1204], [1205], [1206], [1207], [1208], [1209], [1210], [1211], [1212], [1213], [1214], [1215], [1216], [1217], [1218], [1219], [1220], [1221], [1222], [1223], [1224], [1225], [1226], [1227], [1228], [1229], [1230], [1231], [1232], [1233], [1234], [1235], [1236], [1237], [1238], [1239], [1240], [1241], [1242], [1243], [1244], [1245], [1246], [1247], [1248], [1249], [1250], [1251], [1252], [1253], [1254], [1255], [1256], [1257], [1258], [1259], [1260], [1261], [1262], [1263], [1264], [1265], [1266], [1267], [1268], [1269], [1270], [1271], [1272], [1273], [1274], [1275], [1276], [1277], [1278], [1279], [1280], [1281], [1282], [1283], [1284], [1285], [1286], [1287], [1288], [1289], [1290], [1291], [1292], [1293], [1294], [1295], [1296], [1297], [1298], [1299], [1300], [1301], [1302], [1303], [1304], [1305], [1306], [1307], [1308], [1309], [1310], [1311], [1312], [1313], [1314], [1315], [1316], [1317], [1318], [1319], [1320], [1321], [1322], [1323], [1324], [1325], [1326], [1327], [1328], [1329], [1330], [1331], [1332], [1333], [1334], [1335], [1336], [1337], [1338], [1339], [1340], [1341], [1342], [1343], [1344], [1345], [1346], [1347], [1348], [1349], [1350], [1351], [1352], [1353], [1354], [1355], [1356], [1357], [1358], [1359], [1360], [1361], [1362], [1363], [1364], [1365], [1366], [1367], [1368], [1369], [1370], [1371], [1372], [1373], [1374], [1375], [1376], [1377], [1378], [1379], [1380], [1381], [1382], [1383], [1384], [1385], [1386], [1387], [1388], [1389], [1390], [1391], [1392], [1393], [1394], [1395], [1396], [1397], [1398], [1399], [1400], [1401], [1402], [1403], [1404], [1405], [1406], [1407], [1408], [1409], [1410], [1411], [1412], [1413], [1414], [1415], [1416], [1417], [1418], [1419], [1420], [1421], [1422], [1423], [1424], [1425], [1426], [1427], [1428], [1429], [1430], [1431], [1432], [1433], [1434], [1435], [1436], [1437], [1438], [1439], [1440], [1441], [1442], [1443], [1444], [1445], [1446], [1447], [1448], [1449], [1450], [1451], [1452], [1453], [1454], [1455], [1456], [1457], [1458], [1459], [1460], [1461], [1462], [1463], [1464], [1465], [1466], [1467], [1468], [1469], [1470], [1471], [1472], [1473], [1474], [1475], [1476], [1477], [1478], [1479], [1480], [1481], [1482], [1483], [1484], [1485], [1486], [1487], [1488], [1489], [1490], [1491], [1492], [1493], [1494], [1495], [1496], [1497], [1498], [1499], [1500], [1501], [1502], [1503], [1504], [1505], [1506], [1507], [1508], [1509], [1510], [1511], [1512], [1513], [1514], [1515], [1516], [1517], [1518], [1519], [1520], [1521], [1522], [1523], [1524], [1525], [1526], [1527], [1528], [1529], [1530], [1531], [1532], [1533], [1534], [1535], [1536], [1537], [1538], [1539], [1540], [1541], [1542], [1543], [1544], [1545], [1546], [1547], [1548], [1549], [1550], [1551], [1552], [1553], [1554], [1555], [1556], [1557], [1558], [1559], [1560], [1561], [1562], [1563], [1564], [1565], [1566], [1567], [1568], [1569], [1570], [1571], [1572], [1573], [1574], [1575], [1576], [1577], [1578], [1579], [1580], [1581], [1582], [1583], [1584], [1585], [1586], [1587], [1588], [1589], [1590], [1591], [1592], [1593], [1594], [1595], [1596], [1597], [1598], [1599], [1600], [1601], [1602], [1603], [1604], [1605], [1606], [1607], [1608], [1609], [1610], [1611], [1612], [1613], [1614], [1615], [1616], [1617], [1618], [1619], [1620], [1621], [1622], [1623], [1624], [1625], [1626], [1627], [1628], [1629], [1630], [1631], [1632], [1633], [1634], [1635], [1636], [1637], [1638], [1639], [1640], [1641], [1642], [1643], [1644], [1645], [1646], [1647], [1648], [1649], [1650], [1651], [1652], [1653], [1654], [1655], [1656], [1657], [1658], [1659], [1660], [1661], [1662], [1663], [1664], [1665], [1666], [1667], [1668], [1669], [1670], [1671], [1672], [1673], [1674], [1675], [1676], [1677], [1678], [1679], [1680], [1681], [1682], [1683], [1684], [1685], [1686], [1687], [1688], [1689], [1690], [1691], [1692], [1693], [1694], [1695], [1696], [1697], [1698], [1699], [1700], [1701], [1702], [1703], [1704], [1705], [1706], [1707], [1708], [1709], [1710], [1711], [1712], [1713], [1714], [1715], [1716], [1717], [1718], [1719], [1720], [1721], [1722], [1723], [1724], [1725], [1726], [1727], [1728], [1729], [1730], [1731], [1732], [1733], [1734], [1735], [1736], [1737], [1738], [1739], [1740], [1741], [1742], [1743], [1744], [1745], [1746], [1747], [1748], [1749], [1750], [1751], [1752], [1753], [1754], [1755], [1756], [1757], [1758], [1759], [1760], [1761], [1762], [1763], [1764], [1765], [1766], [1767], [1768], [1769], [1770], [1771], [1772], [1773], [1774], [1775], [1776], [1777], [1778], [1779], [1780], [1781], [1782], [1783], [1784], [1785], [1786], [1787], [1788], [1789], [1790], [1791], [1792], [1793], [1794], [1795], [1796], [1797], [1798], [1799], [1800], [1801], [1802], [1803], [1804], [1805], [1806], [1807], [1808], [1809], [1810], [1811], [1812], [1813], [1814], [1815], [1816], [1817], [1818], [1819], [1820], [1821], [1822], [1823], [1824], [1825], [1826], [1827], [1828], [1829], [1830], [1831], [1832], [1833], [1834], [1835], [1836], [1837], [1838], [1839], [1840], [1841], [1842], [1843], [1844], [1845], [1846], [1847], [1848], [1849], [1850], [1851], [1852], [1853], [1854], [1855], [1856], [1857], [1858], [1859], [1860], [1861], [1862], [1863], [1864], [1865], [1866], [1867], [1868], [1869], [1870], [1871], [1872], [1873], [1874], [1875], [1876], [1877], [1878], [1879], [1880], [1881], [1882], [1883], [1884], [1885], [1886], [1887], [1888], [1889], [1890], [1891], [1892], [1893], [1894], [1895], [1896], [1897], [1898], [1899], [1900], [1901], [1902], [1903], [1904], [1905], [1906], [1907], [1908], [1909], [1910], [1911], [1912], [1913], [1914], [1915], [1916], [1917], [1918], [1919], [1920], [1921], [1922], [1923], [1924], [1925], [1926], [1927], [1928], [1929], [1930], [1931], [1932], [1933], [1934], [1935], [1936], [1937], [1938], [1939], [1940], [1941], [1942], [1943], [1944], [1945], [1946], [1947], [1948], [1949], [1950], [1951], [1952], [1953], [1954], [1955], [1956], [1957], [1958], [1959], [1960], [1961], [1962], [1963], [1964], [1965], [1966], [1967], [1968], [1969], [1970], [1971], [1972], [1973], [1974], [1975], [1976], [1977], [1978], [1979], [1980], [1981], [1982], [1983], [1984], [1985], [1986], [1987], [1988], [1989], [1990], [1991], [1992], [1993], [1994], [1995], [1996], [1997], [1998], [1999]], [[ 4.       ], [ 4.0027747], [ 4.005552 ], [ 4.008331 ], [ 4.0111113], [ 4.013894 ], [ 4.0166783], [ 4.019465 ], [ 4.0222535], [ 4.025044 ], [ 4.0278363], [ 4.0306306], [ 4.033427 ], [ 4.036225 ], [ 4.039025 ], [ 4.0418267], [ 4.0446305], [ 4.0474367], [ 4.0502443], [ 4.0530543], [ 4.0558662], [ 4.0586796], [ 4.0614953], [ 4.064313 ], [ 4.0671325], [ 4.069954 ], [ 4.0727777], [ 4.075603 ], [ 4.07843  ], [ 4.0812597], [ 4.084091 ], [ 4.086924 ], [ 4.0897593], [ 4.0925965], [ 4.095436 ], [ 4.098277 ], [ 4.10112  ], [ 4.1039653], [ 4.1068125], [ 4.109661 ], [ 4.112512 ], [ 4.1153655], [ 4.1182203], [ 4.121077 ], [ 4.123936 ], [ 4.126797 ], [ 4.12966  ], [ 4.132525 ], [ 4.1353917], [ 4.138261 ], [ 4.1411314], [ 4.1440043], [ 4.146879 ], [ 4.149756 ], [ 4.1526346], [ 4.1555157], [ 4.1583986], [ 4.1612835], [ 4.1641703], [ 4.167059 ], [ 4.16995  ], [ 4.1728425], [ 4.1757374], [ 4.178634 ], [ 4.1815333], [ 4.184434 ], [ 4.187337 ], [ 4.190242 ], [ 4.1931486], [ 4.196058 ], [ 4.198969 ], [ 4.2018814], [ 4.204797 ], [ 4.2077136], [ 4.210633 ], [ 4.213554 ], [ 4.216477 ], [ 4.219402 ], [ 4.222329 ], [ 4.2252584], [ 4.2281895], [ 4.2311225], [ 4.234058 ], [ 4.236995 ], [ 4.2399344], [ 4.242876 ], [ 4.2458196], [ 4.248765 ], [ 4.2517123], [ 4.254662 ], [ 4.2576137], [ 4.260567 ], [ 4.263523 ], [ 4.266481 ], [ 4.2694407], [ 4.2724023], [ 4.2753663], [ 4.278332 ], [ 4.2813   ], [ 4.2842703], [ 4.2872424], [ 4.290217 ], [ 4.293193 ], [ 4.296171 ], [ 4.299152 ], [ 4.302134 ], [ 4.3051186], [ 4.3081055], [ 4.311094 ], [ 4.314085 ], [ 4.3170776], [ 4.3200727], [ 4.3230696], [ 4.3260684], [ 4.3290696], [ 4.3320727], [ 4.3350782], [ 4.3380857], [ 4.341095 ], [ 4.3441067], [ 4.3471203], [ 4.3501363], [ 4.3531537], [ 4.356174 ], [ 4.3591957], [ 4.36222  ], [ 4.3652463], [ 4.3682747], [ 4.371305 ], [ 4.3743377], [ 4.3773723], [ 4.380409 ], [ 4.3834476], [ 4.3864884], [ 4.3895316], [ 4.3925767], [ 4.395624 ], [ 4.3986735], [ 4.4017253], [ 4.4047785], [ 4.4078345], [ 4.4108925], [ 4.4139524], [ 4.4170146], [ 4.4200788], [ 4.423145 ], [ 4.4262133], [ 4.429284 ], [ 4.432357 ], [ 4.435432 ], [ 4.4385085], [ 4.441588 ], [ 4.4446692], [ 4.4477525], [ 4.450838 ], [ 4.4539256], [ 4.4570155], [ 4.460108 ], [ 4.463202 ], [ 4.466298 ], [ 4.4693966], [ 4.472497 ], [ 4.4756   ], [ 4.4787045], [ 4.4818115], [ 4.484921 ], [ 4.4880323], [ 4.4911456], [ 4.4942613], [ 4.4973793], [ 4.5004992], [ 4.5036216], [ 4.506746 ], [ 4.509872 ], [ 4.513001 ], [ 4.516132 ], [ 4.5192647], [ 4.5224   ], [ 4.525537 ], [ 4.5286765], [ 4.5318184], [ 4.534962 ], [ 4.5381083], [ 4.5412564], [ 4.544407 ], [ 4.5475597], [ 4.5507145], [ 4.553871 ], [ 4.5570307], [ 4.560192 ], [ 4.5633554], [ 4.566521 ], [ 4.5696893], [ 4.5728593], [ 4.5760317], [ 4.5792065], [ 4.582383 ], [ 4.5855618], [ 4.588743 ], [ 4.5919266], [ 4.595112 ], [ 4.5983   ], [ 4.60149  ], [ 4.604682 ], [ 4.6078763], [ 4.611073 ], [ 4.614272 ], [ 4.617473 ], [ 4.6206765], [ 4.623882 ], [ 4.6270895], [ 4.6302996], [ 4.633512 ], [ 4.6367264], [ 4.639943 ], [ 4.643162 ], [ 4.646383 ], [ 4.649606 ], [ 4.652832 ], [ 4.6560597], [ 4.65929  ], [ 4.662522 ], [ 4.6657567], [ 4.6689935], [ 4.6722326], [ 4.6754737], [ 4.678717 ], [ 4.681963 ], [ 4.685211 ], [ 4.6884613], [ 4.691714 ], [ 4.6949687], [ 4.698226 ], [ 4.701485 ], [ 4.7047467], [ 4.7080107], [ 4.7112765], [ 4.7145452], [ 4.717816 ], [ 4.7210884], [ 4.724364 ], [ 4.727641 ], [ 4.730921 ], [ 4.734203 ], [ 4.7374873], [ 4.7407737], [ 4.7440624], [ 4.7473536], [ 4.750647 ], [ 4.753943 ], [ 4.757241 ], [ 4.760541 ], [ 4.7638435], [ 4.7671485], [ 4.770456 ], [ 4.773765 ], [ 4.7770767], [ 4.7803907], [ 4.783707 ], [ 4.787026 ], [ 4.7903466], [ 4.7936697], [ 4.7969956], [ 4.8003235], [ 4.8036532], [ 4.806986 ], [ 4.810321 ], [ 4.8136578], [ 4.816997 ], [ 4.8203387], [ 4.823683 ], [ 4.827029 ], [ 4.830378 ], [ 4.833729 ], [ 4.8370824], [ 4.840438 ], [ 4.843796 ], [ 4.847156 ], [ 4.8505187], [ 4.8538837], [ 4.857251 ], [ 4.860621 ], [ 4.8639927], [ 4.8673673], [ 4.8707438], [ 4.8741226], [ 4.877504 ], [ 4.8808875], [ 4.884274 ], [ 4.8876624], [ 4.8910527], [ 4.894446 ], [ 4.8978415], [ 4.9012394], [ 4.9046392], [ 4.908042 ], [ 4.9114466], [ 4.914854 ], [ 4.9182634], [ 4.9216757], [ 4.92509  ], [ 4.928507 ], [ 4.931926 ], [ 4.935347 ], [ 4.938771 ], [ 4.9421973], [ 4.945626 ], [ 4.9490566], [ 4.95249  ], [ 4.955926 ], [ 4.959364 ], [ 4.9628043], [ 4.966247 ], [ 4.969692 ], [ 4.9731402], [ 4.97659  ], [ 4.9800425], [ 4.9834976], [ 4.9869547], [ 4.990414 ], [ 4.9938765], [ 4.9973407], [ 5.000808 ], [ 5.0042768], [ 5.0077486], [ 5.0112224], [ 5.014699 ], [ 5.018178 ], [ 5.021659 ], [ 5.0251427], [ 5.028629 ], [ 5.0321174], [ 5.0356083], [ 5.0391016], [ 5.042598 ], [ 5.046096 ], [ 5.0495963], [ 5.0530996], [ 5.056605 ], [ 5.060113 ], [ 5.0636234], [ 5.0671363], [ 5.0706515], [ 5.074169 ], [ 5.077689 ], [ 5.0812116], [ 5.084737 ], [ 5.088264 ], [ 5.091794 ], [ 5.0953264], [ 5.098861 ], [ 5.1023984], [ 5.1059384], [ 5.1094804], [ 5.113025 ], [ 5.116572 ], [ 5.1201215], [ 5.1236734], [ 5.1272283], [ 5.130785 ], [ 5.1343446], [ 5.1379066], [ 5.141471 ], [ 5.1450377], [ 5.148607 ], [ 5.152179 ], [ 5.1557527], [ 5.1593294], [ 5.1629086], [ 5.1664906], [ 5.1700745], [ 5.173661 ], [ 5.1772504], [ 5.180842 ], [ 5.1844363], [ 5.1880326], [ 5.191632 ], [ 5.1952333], [ 5.1988378], [ 5.202444 ], [ 5.2060533], [ 5.209665 ], [ 5.2132792], [ 5.2168956], [ 5.220515 ], [ 5.2241364], [ 5.227761 ], [ 5.231387 ], [ 5.2350163], [ 5.2386484], [ 5.2422824], [ 5.245919 ], [ 5.2495584], [ 5.2532005], [ 5.2568445], [ 5.2604914], [ 5.264141 ], [ 5.2677927], [ 5.271447 ], [ 5.275104 ], [ 5.278764 ], [ 5.282426 ], [ 5.2860904], [ 5.2897577], [ 5.2934275], [ 5.2970996], [ 5.300774 ], [ 5.3044515], [ 5.3081317], [ 5.311814 ], [ 5.315499 ], [ 5.319186 ], [ 5.3228765], [ 5.326569 ], [ 5.3302646], [ 5.3339624], [ 5.3376627], [ 5.3413653], [ 5.345071 ], [ 5.348779 ], [ 5.3524895], [ 5.356203 ], [ 5.3599186], [ 5.363637 ], [ 5.3673577], [ 5.3710814], [ 5.3748074], [ 5.378536 ], [ 5.3822675], [ 5.3860016], [ 5.389738 ], [ 5.393477 ], [ 5.3972187], [ 5.400963 ], [ 5.40471  ], [ 5.408459 ], [ 5.412211 ], [ 5.4159656], [ 5.419723 ], [ 5.423483 ], [ 5.427245 ], [ 5.4310102], [ 5.434778 ], [ 5.438548 ], [ 5.4423213], [ 5.446097 ], [ 5.449875 ], [ 5.4536557], [ 5.457439 ], [ 5.461225 ], [ 5.4650135], [ 5.468805 ], [ 5.472599 ], [ 5.4763956], [ 5.4801946], [ 5.4839964], [ 5.4878006], [ 5.4916077], [ 5.4954176], [ 5.49923  ], [ 5.503045 ], [ 5.5068626], [ 5.510683 ], [ 5.514506 ], [ 5.5183315], [ 5.5221596], [ 5.5259905], [ 5.5298243], [ 5.5336604], [ 5.5374994], [ 5.541341 ], [ 5.545185 ], [ 5.549032 ], [ 5.5528817], [ 5.5567336], [ 5.560589 ], [ 5.5644464], [ 5.5683064], [ 5.5721693], [ 5.576035 ], [ 5.579903 ], [ 5.583774 ], [ 5.587648 ], [ 5.591524 ], [ 5.595403 ], [ 5.599285 ], [ 5.6031694], [ 5.6070566], [ 5.610946 ], [ 5.614839 ], [ 5.618734 ], [ 5.622632 ], [ 5.6265326], [ 5.630436 ], [ 5.6343417], [ 5.638251 ], [ 5.6421623], [ 5.646076 ], [ 5.649993 ], [ 5.6539125], [ 5.657835 ], [ 5.6617603], [ 5.665688 ], [ 5.669618 ], [ 5.6735516], [ 5.6774874], [ 5.681426 ], [ 5.6853676], [ 5.6893115], [ 5.693259 ], [ 5.6972084], [ 5.7011604], [ 5.705116 ], [ 5.7090735], [ 5.713034 ], [ 5.716997 ], [ 5.7209635], [ 5.724932 ], [ 5.728904 ], [ 5.732878 ], [ 5.7368555], [ 5.740835 ], [ 5.7448177], [ 5.748803 ], [ 5.7527914], [ 5.756782 ], [ 5.760776 ], [ 5.7647724], [ 5.7687716], [ 5.7727737], [ 5.776778 ], [ 5.780786 ], [ 5.784796 ], [ 5.7888093], [ 5.792825 ], [ 5.796844 ], [ 5.800865 ], [ 5.8048897], [ 5.8089166], [ 5.8129463], [ 5.816979 ], [ 5.8210144], [ 5.8250527], [ 5.829094 ], [ 5.8331375], [ 5.8371844], [ 5.8412337], [ 5.845286 ], [ 5.8493414], [ 5.8533993], [ 5.8574595], [ 5.861523 ], [ 5.8655896], [ 5.869659 ], [ 5.8737307], [ 5.8778057], [ 5.881883 ], [ 5.8859634], [ 5.890047 ], [ 5.894133 ], [ 5.898222 ], [ 5.9023137], [ 5.9064083], [ 5.910506 ], [ 5.914606 ], [ 5.9187093], [ 5.9228153], [ 5.926924 ], [ 5.931036 ], [ 5.9351506], [ 5.939268 ], [ 5.9433885], [ 5.9475117], [ 5.9516373], [ 5.955766 ], [ 5.959898 ], [ 5.9640326], [ 5.96817  ], [ 5.9723105], [ 5.976454 ], [ 5.9806   ], [ 5.9847484], [ 5.9889007], [ 5.9930553], [ 5.997213 ], [ 6.0013733], [ 6.0055366], [ 6.0097027], [ 6.013872 ], [ 6.018044 ], [ 6.0222187], [ 6.0263968], [ 6.0305777], [ 6.034761 ], [ 6.0389476], [ 6.043137 ], [ 6.0473294], [ 6.0515246], [ 6.0557227], [ 6.0599236], [ 6.064128 ], [ 6.0683346], [ 6.0725446], [ 6.0767574], [ 6.0809727], [ 6.0851912], [ 6.089413 ], [ 6.0936375], [ 6.0978646], [ 6.102095 ], [ 6.1063285], [ 6.110564 ], [ 6.114804 ], [ 6.1190457], [ 6.1232905], [ 6.1275387], [ 6.131789 ], [ 6.136043 ], [ 6.1403003], [ 6.14456  ], [ 6.1488223], [ 6.153088 ], [ 6.1573567], [ 6.1616282], [ 6.1659026], [ 6.1701803], [ 6.174461 ], [ 6.1787443], [ 6.1830306], [ 6.18732  ], [ 6.1916122], [ 6.1959076], [ 6.200206 ], [ 6.2045074], [ 6.2088118], [ 6.213119 ], [ 6.217429 ], [ 6.221742 ], [ 6.2260585], [ 6.2303777], [ 6.2347   ], [ 6.239025 ], [ 6.2433534], [ 6.247685 ], [ 6.252019 ], [ 6.2563562], [ 6.2606964], [ 6.26504  ], [ 6.269386 ], [ 6.2737355], [ 6.2780876], [ 6.282443 ], [ 6.2868013], [ 6.2911625], [ 6.295527 ], [ 6.2998943], [ 6.304265 ], [ 6.3086386], [ 6.313015 ], [ 6.3173943], [ 6.321777 ], [ 6.326163 ], [ 6.3305516], [ 6.3349433], [ 6.339338 ], [ 6.3437357], [ 6.3481364], [ 6.3525405], [ 6.3569474], [ 6.3613577], [ 6.365771 ], [ 6.370187 ], [ 6.374606 ], [ 6.3790283], [ 6.3834534], [ 6.387882 ], [ 6.3923135], [ 6.396748 ], [ 6.4011855], [ 6.4056263], [ 6.4100704], [ 6.414517 ], [ 6.4189672], [ 6.42342  ], [ 6.4278765], [ 6.4323354], [ 6.436798 ], [ 6.441263 ], [ 6.4457316], [ 6.4502034], [ 6.454678 ], [ 6.459156 ], [ 6.463637 ], [ 6.468121 ], [ 6.472608 ], [ 6.4770985], [ 6.4815917], [ 6.4860883], [ 6.490588 ], [ 6.4950905], [ 6.4995966], [ 6.5041056], [ 6.508618 ], [ 6.513133 ], [ 6.5176516], [ 6.522173 ], [ 6.5266976], [ 6.531225 ], [ 6.535756 ], [ 6.5402904], [ 6.5448275], [ 6.549368 ], [ 6.553911 ], [ 6.5584583], [ 6.563008 ], [ 6.567561 ], [ 6.572117 ], [ 6.5766764], [ 6.5812387], [ 6.5858045], [ 6.590373 ], [ 6.5949454], [ 6.59952  ], [ 6.604099 ], [ 6.6086802], [ 6.613265 ], [ 6.6178527], [ 6.6224437], [ 6.627038 ], [ 6.631635 ], [ 6.636236 ], [ 6.6408396], [ 6.645447 ], [ 6.650057 ], [ 6.6546702], [ 6.659287 ], [ 6.6639066], [ 6.6685295], [ 6.673156 ], [ 6.6777854], [ 6.682418 ], [ 6.6870537], [ 6.691693 ], [ 6.696335 ], [ 6.70098  ], [ 6.705629 ], [ 6.710281 ], [ 6.7149363], [ 6.7195945], [ 6.724256 ], [ 6.728921 ], [ 6.733589 ], [ 6.7382603], [ 6.742935 ], [ 6.747613 ], [ 6.752294 ], [ 6.756978 ], [ 6.761666 ], [ 6.7663565], [ 6.7710505], [ 6.775748 ], [ 6.7804484], [ 6.7851524], [ 6.7898593], [ 6.7945695], [ 6.7992835], [ 6.8040004], [ 6.8087206], [ 6.8134437], [ 6.8181705], [ 6.822901 ], [ 6.827634 ], [ 6.8323703], [ 6.83711  ], [ 6.8418536], [ 6.8466   ], [ 6.8513494], [ 6.8561025], [ 6.860859 ], [ 6.8656187], [ 6.8703814], [ 6.875148 ], [ 6.879917 ], [ 6.88469  ], [ 6.8894663], [ 6.8942456], [ 6.8990283], [ 6.9038143], [ 6.9086037], [ 6.913397 ], [ 6.918193 ], [ 6.922992 ], [ 6.927795 ], [ 6.932601 ], [ 6.9374104], [ 6.942223 ], [ 6.947039 ], [ 6.9518585], [ 6.9566813], [ 6.9615073], [ 6.9663367], [ 6.9711695], [ 6.9760056], [ 6.980845 ], [ 6.9856877], [ 6.9905343], [ 6.9953837], [ 7.0002365], [ 7.005093 ], [ 7.0099525], [ 7.014816 ], [ 7.019682 ], [ 7.024552 ], [ 7.029425 ], [ 7.0343018], [ 7.0391817], [ 7.044065 ], [ 7.0489516], [ 7.0538416], [ 7.0587354], [ 7.063632 ], [ 7.0685325], [ 7.0734363], [ 7.0783434], [ 7.083254 ], [ 7.0881677], [ 7.093085 ], [ 7.098006 ], [ 7.1029296], [ 7.107857 ], [ 7.112788 ], [ 7.1177225], [ 7.1226606], [ 7.1276016], [ 7.1325464], [ 7.1374946], [ 7.142446 ], [ 7.147401 ], [ 7.1523595], [ 7.157321 ], [ 7.1622863], [ 7.167255 ], [ 7.1722274], [ 7.1772027], [ 7.182182 ], [ 7.1871643], [ 7.1921506], [ 7.1971397], [ 7.2021327], [ 7.207129 ], [ 7.212129 ], [ 7.2171326], [ 7.2221394], [ 7.2271495], [ 7.232163 ], [ 7.23718  ], [ 7.242201 ], [ 7.2472253], [ 7.2522526], [ 7.257284 ], [ 7.2623186], [ 7.267357 ], [ 7.2723985], [ 7.2774434], [ 7.282492 ], [ 7.2875443], [ 7.2925997], [ 7.297659 ], [ 7.3027215], [ 7.307788 ], [ 7.312857 ], [ 7.3179307], [ 7.323007 ], [ 7.3280873], [ 7.3331714], [ 7.3382583], [ 7.3433495], [ 7.3484435], [ 7.3535414], [ 7.358643 ], [ 7.3637476], [ 7.3688564], [ 7.373968 ], [ 7.379084 ], [ 7.384203 ], [ 7.3893256], [ 7.394452 ], [ 7.399582 ], [ 7.404715 ], [ 7.409852 ], [ 7.4149923], [ 7.4201365], [ 7.425284 ], [ 7.430435 ], [ 7.43559  ], [ 7.440748 ], [ 7.4459105], [ 7.4510756], [ 7.456245 ], [ 7.4614177], [ 7.4665937], [ 7.4717736], [ 7.476957 ], [ 7.482144 ], [ 7.4873347], [ 7.492529 ], [ 7.4977264], [ 7.5029283], [ 7.508133 ], [ 7.513342 ], [ 7.518554 ], [ 7.52377  ], [ 7.5289893], [ 7.5342126], [ 7.539439 ], [ 7.5446696], [ 7.5499034], [ 7.5551414], [ 7.5603824], [ 7.5656276], [ 7.570876 ], [ 7.576128 ], [ 7.581384 ], [ 7.586643 ], [ 7.5919065], [ 7.597173 ], [ 7.6024437], [ 7.607718 ], [ 7.6129956], [ 7.618277 ], [ 7.623562 ], [ 7.628851 ], [ 7.6341434], [ 7.639439 ], [ 7.644739 ], [ 7.6500425], [ 7.6553493], [ 7.6606603], [ 7.6659746], [ 7.671293 ], [ 7.6766148], [ 7.68194  ], [ 7.687269 ], [ 7.692602 ], [ 7.697939 ], [ 7.7032795], [ 7.7086234], [ 7.713971 ], [ 7.7193227], [ 7.7246776], [ 7.7300367], [ 7.7353992], [ 7.7407656], [ 7.7461357], [ 7.751509 ], [ 7.756887 ], [ 7.762268 ], [ 7.767653 ], [ 7.7730417], [ 7.7784343], [ 7.78383  ], [ 7.7892303], [ 7.794634 ], [ 7.800041 ], [ 7.8054523], [ 7.8108673], [ 7.816286 ], [ 7.821708 ], [ 7.8271346], [ 7.8325644], [ 7.8379984], [ 7.843436 ], [ 7.848877 ], [ 7.854322 ], [ 7.859771 ], [ 7.8652234], [ 7.87068  ], [ 7.87614  ], [ 7.8816037], [ 7.8870716], [ 7.8925433], [ 7.8980184], [ 7.9034977], [ 7.9089804], [ 7.9144673], [ 7.9199576], [ 7.925452 ], [ 7.93095  ], [ 7.9364524], [ 7.941958 ], [ 7.947468 ], [ 7.952981 ], [ 7.9584985], [ 7.9640193], [ 7.9695444], [ 7.9750733], [ 7.9806056], [ 7.986142 ], [ 7.9916825], [ 7.9972267], [ 8.002774 ], [ 8.008327 ], [ 8.013882 ], [ 8.019442 ], [ 8.025004 ], [ 8.030572 ], [ 8.036143 ], [ 8.0417185], [ 8.047297 ], [ 8.052879 ], [ 8.058466 ], [ 8.064056 ], [ 8.069651 ], [ 8.075249 ], [ 8.080852 ], [ 8.086457 ], [ 8.092067 ], [ 8.097681 ], [ 8.103298 ], [ 8.10892  ], [ 8.114545 ], [ 8.120174 ], [ 8.125808 ], [ 8.131445 ], [ 8.137086 ], [ 8.142731 ], [ 8.14838  ], [ 8.154033 ], [ 8.15969  ], [ 8.16535  ], [ 8.171015 ], [ 8.176683 ], [ 8.182356 ], [ 8.188032 ], [ 8.193712 ], [ 8.199397 ], [ 8.205085 ], [ 8.210777 ], [ 8.216474 ], [ 8.222173 ], [ 8.227878 ], [ 8.233585 ], [ 8.239297 ], [ 8.245013 ], [ 8.250732 ], [ 8.256456 ], [ 8.262184 ], [ 8.267916 ], [ 8.273652 ], [ 8.279391 ], [ 8.285135 ], [ 8.290883 ], [ 8.296635 ], [ 8.30239  ], [ 8.30815  ], [ 8.313913 ], [ 8.319681 ], [ 8.325453 ], [ 8.331228 ], [ 8.337008 ], [ 8.342792 ], [ 8.348579 ], [ 8.354371 ], [ 8.360167 ], [ 8.365967 ], [ 8.371771 ], [ 8.377579 ], [ 8.38339  ], [ 8.389206 ], [ 8.395026 ], [ 8.400849 ], [ 8.406678 ], [ 8.41251  ], [ 8.418345 ], [ 8.424186 ], [ 8.43003  ], [ 8.435878 ], [ 8.4417305], [ 8.447587 ], [ 8.453447 ], [ 8.4593115], [ 8.46518  ], [ 8.471053 ], [ 8.47693  ], [ 8.48281  ], [ 8.488695 ], [ 8.494584 ], [ 8.500477 ], [ 8.506374 ], [ 8.512275 ], [ 8.51818  ], [ 8.52409  ], [ 8.530004 ], [ 8.535921 ], [ 8.541842 ], [ 8.547769 ], [ 8.553698 ], [ 8.559632 ], [ 8.56557  ], [ 8.571512 ], [ 8.577458 ], [ 8.583409 ], [ 8.589364 ], [ 8.595323 ], [ 8.601285 ], [ 8.607252 ], [ 8.613224 ], [ 8.619199 ], [ 8.625178 ], [ 8.631162 ], [ 8.63715  ], [ 8.643142 ], [ 8.6491375], [ 8.655138 ], [ 8.661142 ], [ 8.6671505], [ 8.673163 ], [ 8.67918  ], [ 8.685202 ], [ 8.691226 ], [ 8.697256 ], [ 8.703289 ], [ 8.709328 ], [ 8.715369 ], [ 8.7214155], [ 8.727466 ], [ 8.7335205], [ 8.739579 ], [ 8.745642 ], [ 8.751709 ], [ 8.75778  ], [ 8.763856 ], [ 8.769936 ], [ 8.77602  ], [ 8.782108 ], [ 8.7882   ], [ 8.794297 ], [ 8.800398 ], [ 8.806503 ], [ 8.812613 ], [ 8.818727 ], [ 8.824844 ], [ 8.830966 ], [ 8.837092 ], [ 8.843224 ], [ 8.849358 ], [ 8.855497 ], [ 8.86164  ], [ 8.867788 ], [ 8.8739395], [ 8.880096 ], [ 8.886256 ], [ 8.892421 ], [ 8.89859  ], [ 8.904763 ], [ 8.910941 ], [ 8.917123 ], [ 8.923309 ], [ 8.9295   ], [ 8.935694 ], [ 8.941893 ], [ 8.948096 ], [ 8.954304 ], [ 8.960516 ], [ 8.966732 ], [ 8.972953 ], [ 8.979177 ], [ 8.985407 ], [ 8.99164  ], [ 8.997878 ], [ 9.00412  ], [ 9.010366 ], [ 9.016618 ], [ 9.022873 ], [ 9.029132 ], [ 9.035396 ], [ 9.041664 ], [ 9.047936 ], [ 9.054214 ], [ 9.060494 ], [ 9.06678  ], [ 9.07307  ], [ 9.079365 ], [ 9.085663 ], [ 9.091966 ], [ 9.098273 ], [ 9.104586 ], [ 9.110902 ], [ 9.117222 ], [ 9.123547 ], [ 9.129876 ], [ 9.1362095], [ 9.142548 ], [ 9.1488905], [ 9.155237 ], [ 9.161589 ], [ 9.167944 ], [ 9.174305 ], [ 9.180669 ], [ 9.187038 ], [ 9.193412 ], [ 9.199789 ], [ 9.206171 ], [ 9.212558 ], [ 9.218949 ], [ 9.225345 ], [ 9.231745 ], [ 9.238149 ], [ 9.244557 ], [ 9.250971 ], [ 9.257389 ], [ 9.263811 ], [ 9.270238 ], [ 9.276669 ], [ 9.283104 ], [ 9.289544 ], [ 9.295989 ], [ 9.302438 ], [ 9.308891 ], [ 9.315349 ], [ 9.321812 ], [ 9.328279 ], [ 9.334749 ], [ 9.341226 ], [ 9.347706 ], [ 9.354191 ], [ 9.36068  ], [ 9.367173 ], [ 9.373672 ], [ 9.380175 ], [ 9.3866825], [ 9.393194 ], [ 9.399711 ], [ 9.406231 ], [ 9.412757 ], [ 9.419287 ], [ 9.425821 ], [ 9.432361 ], [ 9.438904 ], [ 9.445452 ], [ 9.452004 ], [ 9.458562 ], [ 9.465123 ], [ 9.471689 ], [ 9.47826  ], [ 9.484836 ], [ 9.491416 ], [ 9.498    ], [ 9.504589 ], [ 9.511183 ], [ 9.517781 ], [ 9.5243845], [ 9.530992 ], [ 9.537603 ], [ 9.54422  ], [ 9.550841 ], [ 9.557467 ], [ 9.564097 ], [ 9.570732 ], [ 9.577372 ], [ 9.584016 ], [ 9.590665 ], [ 9.597318 ], [ 9.603976 ], [ 9.610639 ], [ 9.617306 ], [ 9.623978 ], [ 9.630654 ], [ 9.637336 ], [ 9.644021 ], [ 9.650712 ], [ 9.657407 ], [ 9.664106 ], [ 9.670811 ], [ 9.67752  ], [ 9.684234 ], [ 9.690951 ], [ 9.697675 ], [ 9.704402 ], [ 9.711134 ], [ 9.717872 ], [ 9.724613 ], [ 9.7313595], [ 9.738111 ], [ 9.744865 ], [ 9.751626 ], [ 9.758391 ], [ 9.765161 ], [ 9.771935 ], [ 9.778714 ], [ 9.785499 ], [ 9.792287 ], [ 9.79908  ], [ 9.805878 ], [ 9.812681 ], [ 9.819489 ], [ 9.826301 ], [ 9.8331175], [ 9.839939 ], [ 9.846765 ], [ 9.853596 ], [ 9.860432 ], [ 9.867272 ], [ 9.874118 ], [ 9.880967 ], [ 9.887822 ], [ 9.894682 ], [ 9.9015465], [ 9.908415 ], [ 9.915289 ], [ 9.922168 ], [ 9.929051 ], [ 9.935939 ], [ 9.942832 ], [ 9.94973  ], [ 9.956633 ], [ 9.963539 ], [ 9.970451 ], [ 9.977368 ], [ 9.98429  ], [ 9.991217 ], [ 9.998148 ], [10.005084 ], [10.012025 ], [10.0189705], [10.025921 ], [10.032876 ], [10.039836 ], [10.046802 ], [10.053771 ], [10.060745 ], [10.067725 ], [10.07471  ], [10.081698 ], [10.088693 ], [10.095692 ], [10.102695 ], [10.109704 ], [10.116717 ], [10.123735 ], [10.130759 ], [10.137787 ], [10.14482  ], [10.151857 ], [10.1589   ], [10.165948 ], [10.173    ], [10.180058 ], [10.18712  ], [10.194187 ], [10.20126  ], [10.208336 ], [10.215418 ], [10.222505 ], [10.229596 ], [10.236693 ], [10.243794 ], [10.250901 ], [10.258013 ], [10.265129 ], [10.27225  ], [10.279376 ], [10.286508 ], [10.293644 ], [10.300785 ], [10.307931 ], [10.315082 ], [10.322238 ], [10.329398 ], [10.336564 ], [10.343735 ], [10.350911 ], [10.358091 ], [10.365277 ], [10.372468 ], [10.379664 ], [10.386865 ], [10.394071 ], [10.401281 ], [10.408497 ], [10.415718 ], [10.422943 ], [10.430174 ], [10.43741  ], [10.444651 ], [10.451897 ], [10.459147 ], [10.466403 ], [10.473664 ], [10.48093  ], [10.488201 ], [10.495477 ], [10.502758 ], [10.510044 ], [10.517336 ], [10.5246315], [10.531933 ], [10.539239 ], [10.546551 ], [10.553867 ], [10.561189 ], [10.568516 ], [10.575848 ], [10.583184 ], [10.590526 ], [10.597873 ], [10.605226 ], [10.612582 ], [10.619945 ], [10.627312 ], [10.634685 ], [10.642062 ], [10.649446 ], [10.656833 ], [10.664226 ], [10.671624 ], [10.679028 ], [10.686436 ], [10.69385  ], [10.701268 ], [10.708692 ], [10.716121 ], [10.723555 ], [10.730994 ], [10.738439 ], [10.745889 ], [10.753344 ], [10.760803 ], [10.768269 ], [10.775739 ], [10.783215 ], [10.790695 ], [10.798181 ], [10.805672 ], [10.813168 ], [10.820669 ], [10.8281765], [10.835688 ], [10.843205 ], [10.850727 ], [10.858255 ], [10.8657875], [10.873325 ], [10.880869 ], [10.888417 ], [10.895971 ], [10.90353  ], [10.911094 ], [10.918663 ], [10.926238 ], [10.933818 ], [10.941403 ], [10.948994 ], [10.95659  ], [10.9641905], [10.971796 ], [10.979408 ], [10.987025 ], [10.994647 ], [11.0022745], [11.009907 ], [11.017545 ], [11.025188 ], [11.032837 ], [11.04049  ], [11.04815  ], [11.055814 ], [11.063484 ], [11.071159 ], [11.078839 ], [11.086525 ], [11.094216 ], [11.1019125], [11.109614 ], [11.117322 ], [11.125034 ], [11.132752 ], [11.140475 ], [11.148204 ], [11.155937 ], [11.163677 ], [11.171421 ], [11.179172 ], [11.186927 ], [11.194688 ], [11.202454 ], [11.210225 ], [11.218002 ], [11.225784 ], [11.233572 ], [11.241365 ], [11.249164 ], [11.256968 ], [11.264777 ], [11.272592 ], [11.280412 ], [11.288238 ], [11.296069 ], [11.3039055], [11.311748 ], [11.319594 ], [11.327447 ], [11.335305 ], [11.343169 ], [11.351038 ], [11.358913 ], [11.366793 ], [11.374679 ], [11.382569 ], [11.390466 ], [11.398368 ], [11.406276 ], [11.414188 ], [11.422107 ], [11.430031 ], [11.437961 ], [11.445895 ], [11.4538355], [11.4617815], [11.469733 ], [11.47769  ], [11.485652 ], [11.49362  ], [11.501594 ], [11.509573 ], [11.517557 ], [11.525548 ], [11.533544 ], [11.541544 ], [11.549551 ], [11.557564 ], [11.565581 ], [11.573605 ], [11.581634 ], [11.589668 ], [11.597709 ], [11.605754 ], [11.613806 ], [11.621862 ], [11.629925 ], [11.637993 ], [11.646067 ], [11.654146 ], [11.6622305], [11.670321 ], [11.678417 ], [11.68652  ], [11.694627 ], [11.70274  ], [11.710858 ], [11.718983 ], [11.727112 ], [11.735248 ], [11.743389 ], [11.751535 ], [11.759688 ], [11.767846 ], [11.77601  ], [11.78418  ], [11.792355 ], [11.800535 ], [11.808722 ], [11.816914 ], [11.825111 ], [11.833315 ], [11.841524 ], [11.849739 ], [11.85796  ], [11.866186 ], [11.874418 ], [11.882656 ], [11.890899 ], [11.899148 ], [11.907403 ], [11.915664 ], [11.92393  ], [11.932202 ], [11.940479 ], [11.948763 ], [11.957052 ], [11.965347 ], [11.973648 ], [11.981955 ], [11.990267 ], [11.998585 ], [12.006909 ], [12.015239 ], [12.023574 ], [12.031915 ], [12.040262 ], [12.0486145], [12.056973 ], [12.065338 ], [12.073708 ], [12.082084 ], [12.090466 ], [12.098853 ], [12.107246 ], [12.115645 ], [12.124051 ], [12.132462 ], [12.140879 ], [12.149301 ], [12.157729 ], [12.166163 ], [12.174603 ], [12.183049 ], [12.191502 ], [12.199959 ], [12.208423 ], [12.216892 ], [12.225368 ], [12.233849 ], [12.242335 ], [12.250829 ], [12.259327 ], [12.267832 ], [12.276342 ], [12.284859 ], [12.293382 ], [12.301909 ], [12.310444 ], [12.318984 ], [12.327531 ], [12.336082 ], [12.344641 ], [12.353205 ], [12.361774 ], [12.37035  ], [12.378932 ], [12.38752  ], [12.396113 ], [12.404713 ], [12.413319 ], [12.421929 ], [12.430548 ], [12.439171 ], [12.447801 ], [12.456436 ], [12.465077 ], [12.473724 ], [12.482378 ], [12.491037 ], [12.499703 ], [12.508374 ], [12.517052 ], [12.525736 ], [12.534425 ], [12.54312  ], [12.551822 ], [12.56053  ], [12.569243 ], [12.577963 ], [12.586689 ], [12.595421 ], [12.604158 ], [12.612903 ], [12.621653 ], [12.630408 ], [12.639171 ], [12.647939 ], [12.6567135], [12.665494 ], [12.67428  ], [12.683073 ], [12.691872 ], [12.700676 ], [12.709487 ], [12.718305 ], [12.727127 ], [12.735956 ], [12.744792 ], [12.7536335], [12.762481 ], [12.771335 ], [12.780195 ], [12.789061 ], [12.797933 ], [12.806811 ], [12.815696 ], [12.824587 ], [12.833484 ], [12.842386 ], [12.851295 ], [12.860211 ], [12.869133 ], [12.87806  ], [12.886994 ], [12.895934 ], [12.904881 ], [12.913834 ], [12.922792 ], [12.931757 ], [12.940728 ], [12.949706 ], [12.95869  ], [12.967679 ], [12.976676 ], [12.985678 ], [12.994686 ], [13.003701 ], [13.012722 ], [13.0217495], [13.030784 ], [13.039824 ], [13.048869 ], [13.057922 ], [13.06698  ], [13.076046 ], [13.085117 ], [13.094194 ], [13.103278 ], [13.112369 ], [13.121466 ], [13.1305685], [13.139677 ], [13.148792 ], [13.157914 ], [13.167043 ], [13.176177 ], [13.185318 ], [13.194465 ], [13.203618 ], [13.212778 ], [13.221944 ], [13.231116 ], [13.240295 ], [13.249481 ], [13.258673 ], [13.267871 ], [13.277075 ], [13.286285 ], [13.295503 ], [13.304727 ], [13.313956 ], [13.323193 ], [13.332436 ], [13.341684 ], [13.35094  ], [13.360202 ], [13.369471 ], [13.378745 ], [13.388027 ], [13.397314 ], [13.406609 ], [13.41591  ], [13.425217 ], [13.43453  ], [13.44385  ], [13.4531765], [13.462509 ], [13.4718485], [13.4811945], [13.490547 ], [13.499906 ], [13.509272 ], [13.518643 ], [13.528022 ], [13.537406 ], [13.546798 ], [13.556195 ], [13.565599 ], [13.575011 ], [13.584428 ], [13.593852 ], [13.603283 ], [13.61272  ], [13.622164 ], [13.631614 ], [13.64107  ], [13.650534 ], [13.660004 ], [13.66948  ], [13.678963 ], [13.688453 ], [13.697948 ], [13.707451 ], [13.716961 ], [13.726477 ], [13.735999 ], [13.745528 ], [13.755064 ], [13.764606 ], [13.774156 ], [13.7837105], [13.793273 ], [13.802842 ], [13.812418 ], [13.822    ], [13.831589 ], [13.841184 ], [13.850786 ], [13.8603945], [13.87001  ], [13.879632 ], [13.889261 ], [13.898896 ], [13.908539 ], [13.918187 ], [13.927843 ], [13.937506 ], [13.947174 ], [13.95685  ], [13.966532 ], [13.976221 ], [13.985917 ], [13.99562  ], [14.005329 ], [14.015045 ], [14.024768 ], [14.034497 ], [14.044233 ], [14.053976 ], [14.063725 ], [14.0734825], [14.083245 ], [14.093016 ], [14.102793 ], [14.1125765], [14.122367 ], [14.132164 ], [14.141968 ], [14.151778 ], [14.161596 ], [14.17142  ], [14.181252 ], [14.19109  ], [14.200934 ], [14.210786 ], [14.220645 ], [14.23051  ], [14.240382 ], [14.250261 ], [14.260147 ], [14.27004  ], [14.27994  ], [14.289846 ], [14.299759 ], [14.30968  ], [14.319607 ], [14.32954  ], [14.339481 ], [14.349429 ], [14.359384 ], [14.369346 ], [14.379314 ], [14.38929  ], [14.399272 ], [14.409261 ], [14.419257 ], [14.42926  ], [14.439271 ], [14.449287 ], [14.4593115], [14.469342 ], [14.479381 ], [14.489426 ], [14.499477 ], [14.509536 ], [14.519602 ], [14.529675 ], [14.539754 ], [14.549841 ], [14.559935 ], [14.570035 ], [14.580143 ], [14.590258 ], [14.60038  ], [14.610508 ], [14.620645 ], [14.630787 ], [14.640937 ], [14.6510935], [14.661258 ], [14.671429 ], [14.681607 ], [14.691792 ], [14.701984 ], [14.712183 ], [14.72239  ], [14.732603 ], [14.742824 ], [14.753052 ], [14.763286 ], [14.773528 ], [14.783776 ], [14.794033 ], [14.804296 ], [14.814567 ], [14.824843 ], [14.835128 ], [14.84542  ], [14.855719 ], [14.866024 ], [14.876337 ], [14.886658 ], [14.896985 ], [14.90732  ], [14.917662 ], [14.92801  ], [14.938366 ], [14.9487295], [14.9591   ], [14.969478 ], [14.979862 ], [14.990254 ], [15.000654 ], [15.011061 ], [15.021474 ], [15.031895 ], [15.042323 ], [15.052758 ], [15.063201 ], [15.073651 ], [15.084108 ], [15.094572 ], [15.105044 ], [15.115523 ], [15.126009 ], [15.136502 ], [15.147003 ], [15.157511 ], [15.168027 ], [15.178549 ], [15.189079 ], [15.199616 ], [15.21016  ], [15.220713 ], [15.231272 ], [15.241838 ], [15.252412 ], [15.262993 ], [15.2735815], [15.284177 ], [15.294781 ], [15.305391 ], [15.316009 ], [15.326634 ], [15.337267 ], [15.347907 ], [15.358554 ], [15.369208 ], [15.37987  ], [15.39054  ], [15.401217 ], [15.411901 ], [15.422593 ], [15.433292 ], [15.443999 ], [15.454713 ], [15.465435 ], [15.476164 ], [15.4869   ], [15.497643 ], [15.508395 ], [15.519154 ], [15.52992  ], [15.540693 ], [15.551475 ], [15.5622635], [15.573059 ], [15.583863 ], [15.594674 ], [15.605493 ], [15.616319 ], [15.627152 ], [15.637993 ], [15.648842 ], [15.6596985], [15.670562 ], [15.681433 ], [15.692311 ], [15.703198 ], [15.714092 ], [15.724994 ], [15.735902 ], [15.746819 ], [15.757743 ], [15.768675 ], [15.7796135], [15.790561 ], [15.801516 ], [15.812477 ], [15.823447 ], [15.834424 ], [15.845409 ], [15.856401 ], [15.867402 ], [15.878409 ], [15.889425 ], [15.900448 ], [15.911479 ], [15.922517 ], [15.933563 ], [15.944616 ], [15.955678 ], [15.966747 ], [15.977823 ], [15.988908 ], [16.       ]])],\n",
       "         dtype=(numpy.record, [('WAVEINDEX', '<i4', (2000, 1)), ('WAVECOORD', '<f4', (2000, 1))]))"
      ]
     },
     "execution_count": 838,
     "metadata": {},
     "output_type": "execute_result"
    }
   ],
   "source": [
    "wavetable2.data"
   ]
  },
  {
   "cell_type": "code",
   "execution_count": 833,
   "metadata": {},
   "outputs": [
    {
     "data": {
      "text/plain": [
       "FITS_rec([([[   0], [   1], [   2], [   3], [   4], [   5], [   6], [   7], [   8], [   9], [  10], [  11], [  12], [  13], [  14], [  15], [  16], [  17], [  18], [  19], [  20], [  21], [  22], [  23], [  24], [  25], [  26], [  27], [  28], [  29], [  30], [  31], [  32], [  33], [  34], [  35], [  36], [  37], [  38], [  39], [  40], [  41], [  42], [  43], [  44], [  45], [  46], [  47], [  48], [  49], [  50], [  51], [  52], [  53], [  54], [  55], [  56], [  57], [  58], [  59], [  60], [  61], [  62], [  63], [  64], [  65], [  66], [  67], [  68], [  69], [  70], [  71], [  72], [  73], [  74], [  75], [  76], [  77], [  78], [  79], [  80], [  81], [  82], [  83], [  84], [  85], [  86], [  87], [  88], [  89], [  90], [  91], [  92], [  93], [  94], [  95], [  96], [  97], [  98], [  99], [ 100], [ 101], [ 102], [ 103], [ 104], [ 105], [ 106], [ 107], [ 108], [ 109], [ 110], [ 111], [ 112], [ 113], [ 114], [ 115], [ 116], [ 117], [ 118], [ 119], [ 120], [ 121], [ 122], [ 123], [ 124], [ 125], [ 126], [ 127], [ 128], [ 129], [ 130], [ 131], [ 132], [ 133], [ 134], [ 135], [ 136], [ 137], [ 138], [ 139], [ 140], [ 141], [ 142], [ 143], [ 144], [ 145], [ 146], [ 147], [ 148], [ 149], [ 150], [ 151], [ 152], [ 153], [ 154], [ 155], [ 156], [ 157], [ 158], [ 159], [ 160], [ 161], [ 162], [ 163], [ 164], [ 165], [ 166], [ 167], [ 168], [ 169], [ 170], [ 171], [ 172], [ 173], [ 174], [ 175], [ 176], [ 177], [ 178], [ 179], [ 180], [ 181], [ 182], [ 183], [ 184], [ 185], [ 186], [ 187], [ 188], [ 189], [ 190], [ 191], [ 192], [ 193], [ 194], [ 195], [ 196], [ 197], [ 198], [ 199], [ 200], [ 201], [ 202], [ 203], [ 204], [ 205], [ 206], [ 207], [ 208], [ 209], [ 210], [ 211], [ 212], [ 213], [ 214], [ 215], [ 216], [ 217], [ 218], [ 219], [ 220], [ 221], [ 222], [ 223], [ 224], [ 225], [ 226], [ 227], [ 228], [ 229], [ 230], [ 231], [ 232], [ 233], [ 234], [ 235], [ 236], [ 237], [ 238], [ 239], [ 240], [ 241], [ 242], [ 243], [ 244], [ 245], [ 246], [ 247], [ 248], [ 249], [ 250], [ 251], [ 252], [ 253], [ 254], [ 255], [ 256], [ 257], [ 258], [ 259], [ 260], [ 261], [ 262], [ 263], [ 264], [ 265], [ 266], [ 267], [ 268], [ 269], [ 270], [ 271], [ 272], [ 273], [ 274], [ 275], [ 276], [ 277], [ 278], [ 279], [ 280], [ 281], [ 282], [ 283], [ 284], [ 285], [ 286], [ 287], [ 288], [ 289], [ 290], [ 291], [ 292], [ 293], [ 294], [ 295], [ 296], [ 297], [ 298], [ 299], [ 300], [ 301], [ 302], [ 303], [ 304], [ 305], [ 306], [ 307], [ 308], [ 309], [ 310], [ 311], [ 312], [ 313], [ 314], [ 315], [ 316], [ 317], [ 318], [ 319], [ 320], [ 321], [ 322], [ 323], [ 324], [ 325], [ 326], [ 327], [ 328], [ 329], [ 330], [ 331], [ 332], [ 333], [ 334], [ 335], [ 336], [ 337], [ 338], [ 339], [ 340], [ 341], [ 342], [ 343], [ 344], [ 345], [ 346], [ 347], [ 348], [ 349], [ 350], [ 351], [ 352], [ 353], [ 354], [ 355], [ 356], [ 357], [ 358], [ 359], [ 360], [ 361], [ 362], [ 363], [ 364], [ 365], [ 366], [ 367], [ 368], [ 369], [ 370], [ 371], [ 372], [ 373], [ 374], [ 375], [ 376], [ 377], [ 378], [ 379], [ 380], [ 381], [ 382], [ 383], [ 384], [ 385], [ 386], [ 387], [ 388], [ 389], [ 390], [ 391], [ 392], [ 393], [ 394], [ 395], [ 396], [ 397], [ 398], [ 399], [ 400], [ 401], [ 402], [ 403], [ 404], [ 405], [ 406], [ 407], [ 408], [ 409], [ 410], [ 411], [ 412], [ 413], [ 414], [ 415], [ 416], [ 417], [ 418], [ 419], [ 420], [ 421], [ 422], [ 423], [ 424], [ 425], [ 426], [ 427], [ 428], [ 429], [ 430], [ 431], [ 432], [ 433], [ 434], [ 435], [ 436], [ 437], [ 438], [ 439], [ 440], [ 441], [ 442], [ 443], [ 444], [ 445], [ 446], [ 447], [ 448], [ 449], [ 450], [ 451], [ 452], [ 453], [ 454], [ 455], [ 456], [ 457], [ 458], [ 459], [ 460], [ 461], [ 462], [ 463], [ 464], [ 465], [ 466], [ 467], [ 468], [ 469], [ 470], [ 471], [ 472], [ 473], [ 474], [ 475], [ 476], [ 477], [ 478], [ 479], [ 480], [ 481], [ 482], [ 483], [ 484], [ 485], [ 486], [ 487], [ 488], [ 489], [ 490], [ 491], [ 492], [ 493], [ 494], [ 495], [ 496], [ 497], [ 498], [ 499], [ 500], [ 501], [ 502], [ 503], [ 504], [ 505], [ 506], [ 507], [ 508], [ 509], [ 510], [ 511], [ 512], [ 513], [ 514], [ 515], [ 516], [ 517], [ 518], [ 519], [ 520], [ 521], [ 522], [ 523], [ 524], [ 525], [ 526], [ 527], [ 528], [ 529], [ 530], [ 531], [ 532], [ 533], [ 534], [ 535], [ 536], [ 537], [ 538], [ 539], [ 540], [ 541], [ 542], [ 543], [ 544], [ 545], [ 546], [ 547], [ 548], [ 549], [ 550], [ 551], [ 552], [ 553], [ 554], [ 555], [ 556], [ 557], [ 558], [ 559], [ 560], [ 561], [ 562], [ 563], [ 564], [ 565], [ 566], [ 567], [ 568], [ 569], [ 570], [ 571], [ 572], [ 573], [ 574], [ 575], [ 576], [ 577], [ 578], [ 579], [ 580], [ 581], [ 582], [ 583], [ 584], [ 585], [ 586], [ 587], [ 588], [ 589], [ 590], [ 591], [ 592], [ 593], [ 594], [ 595], [ 596], [ 597], [ 598], [ 599], [ 600], [ 601], [ 602], [ 603], [ 604], [ 605], [ 606], [ 607], [ 608], [ 609], [ 610], [ 611], [ 612], [ 613], [ 614], [ 615], [ 616], [ 617], [ 618], [ 619], [ 620], [ 621], [ 622], [ 623], [ 624], [ 625], [ 626], [ 627], [ 628], [ 629], [ 630], [ 631], [ 632], [ 633], [ 634], [ 635], [ 636], [ 637], [ 638], [ 639], [ 640], [ 641], [ 642], [ 643], [ 644], [ 645], [ 646], [ 647], [ 648], [ 649], [ 650], [ 651], [ 652], [ 653], [ 654], [ 655], [ 656], [ 657], [ 658], [ 659], [ 660], [ 661], [ 662], [ 663], [ 664], [ 665], [ 666], [ 667], [ 668], [ 669], [ 670], [ 671], [ 672], [ 673], [ 674], [ 675], [ 676], [ 677], [ 678], [ 679], [ 680], [ 681], [ 682], [ 683], [ 684], [ 685], [ 686], [ 687], [ 688], [ 689], [ 690], [ 691], [ 692], [ 693], [ 694], [ 695], [ 696], [ 697], [ 698], [ 699], [ 700], [ 701], [ 702], [ 703], [ 704], [ 705], [ 706], [ 707], [ 708], [ 709], [ 710], [ 711], [ 712], [ 713], [ 714], [ 715], [ 716], [ 717], [ 718], [ 719], [ 720], [ 721], [ 722], [ 723], [ 724], [ 725], [ 726], [ 727], [ 728], [ 729], [ 730], [ 731], [ 732], [ 733], [ 734], [ 735], [ 736], [ 737], [ 738], [ 739], [ 740], [ 741], [ 742], [ 743], [ 744], [ 745], [ 746], [ 747], [ 748], [ 749], [ 750], [ 751], [ 752], [ 753], [ 754], [ 755], [ 756], [ 757], [ 758], [ 759], [ 760], [ 761], [ 762], [ 763], [ 764], [ 765], [ 766], [ 767], [ 768], [ 769], [ 770], [ 771], [ 772], [ 773], [ 774], [ 775], [ 776], [ 777], [ 778], [ 779], [ 780], [ 781], [ 782], [ 783], [ 784], [ 785], [ 786], [ 787], [ 788], [ 789], [ 790], [ 791], [ 792], [ 793], [ 794], [ 795], [ 796], [ 797], [ 798], [ 799], [ 800], [ 801], [ 802], [ 803], [ 804], [ 805], [ 806], [ 807], [ 808], [ 809], [ 810], [ 811], [ 812], [ 813], [ 814], [ 815], [ 816], [ 817], [ 818], [ 819], [ 820], [ 821], [ 822], [ 823], [ 824], [ 825], [ 826], [ 827], [ 828], [ 829], [ 830], [ 831], [ 832], [ 833], [ 834], [ 835], [ 836], [ 837], [ 838], [ 839], [ 840], [ 841], [ 842], [ 843], [ 844], [ 845], [ 846], [ 847], [ 848], [ 849], [ 850], [ 851], [ 852], [ 853], [ 854], [ 855], [ 856], [ 857], [ 858], [ 859], [ 860], [ 861], [ 862], [ 863], [ 864], [ 865], [ 866], [ 867], [ 868], [ 869], [ 870], [ 871], [ 872], [ 873], [ 874], [ 875], [ 876], [ 877], [ 878], [ 879], [ 880], [ 881], [ 882], [ 883], [ 884], [ 885], [ 886], [ 887], [ 888], [ 889], [ 890], [ 891], [ 892], [ 893], [ 894], [ 895], [ 896], [ 897], [ 898], [ 899], [ 900], [ 901], [ 902], [ 903], [ 904], [ 905], [ 906], [ 907], [ 908], [ 909], [ 910], [ 911], [ 912], [ 913], [ 914], [ 915], [ 916], [ 917], [ 918], [ 919], [ 920], [ 921], [ 922], [ 923], [ 924], [ 925], [ 926], [ 927], [ 928], [ 929], [ 930], [ 931], [ 932], [ 933], [ 934], [ 935], [ 936], [ 937], [ 938], [ 939], [ 940], [ 941], [ 942], [ 943], [ 944], [ 945], [ 946], [ 947], [ 948], [ 949], [ 950], [ 951], [ 952], [ 953], [ 954], [ 955], [ 956], [ 957], [ 958], [ 959], [ 960], [ 961], [ 962], [ 963], [ 964], [ 965], [ 966], [ 967], [ 968], [ 969], [ 970], [ 971], [ 972], [ 973], [ 974], [ 975], [ 976], [ 977], [ 978], [ 979], [ 980], [ 981], [ 982], [ 983], [ 984], [ 985], [ 986], [ 987], [ 988], [ 989], [ 990], [ 991], [ 992], [ 993], [ 994], [ 995], [ 996], [ 997], [ 998], [ 999], [1000], [1001], [1002], [1003], [1004], [1005], [1006], [1007], [1008], [1009], [1010], [1011], [1012], [1013], [1014], [1015], [1016], [1017], [1018], [1019], [1020], [1021], [1022], [1023], [1024], [1025], [1026], [1027], [1028], [1029], [1030], [1031], [1032], [1033], [1034], [1035], [1036], [1037], [1038], [1039], [1040], [1041], [1042], [1043], [1044], [1045], [1046], [1047], [1048], [1049], [1050], [1051], [1052], [1053], [1054], [1055], [1056], [1057], [1058], [1059], [1060], [1061], [1062], [1063], [1064], [1065], [1066], [1067], [1068], [1069], [1070], [1071], [1072], [1073], [1074], [1075], [1076], [1077], [1078], [1079], [1080], [1081], [1082], [1083], [1084], [1085], [1086], [1087], [1088], [1089], [1090], [1091], [1092], [1093], [1094], [1095], [1096], [1097], [1098], [1099], [1100], [1101], [1102], [1103], [1104], [1105], [1106], [1107], [1108], [1109], [1110], [1111], [1112], [1113], [1114], [1115], [1116], [1117], [1118], [1119], [1120], [1121], [1122], [1123], [1124], [1125], [1126], [1127], [1128], [1129], [1130], [1131], [1132], [1133], [1134], [1135], [1136], [1137], [1138], [1139], [1140], [1141], [1142], [1143], [1144], [1145], [1146], [1147], [1148], [1149], [1150], [1151], [1152], [1153], [1154], [1155], [1156], [1157], [1158], [1159], [1160], [1161], [1162], [1163], [1164], [1165], [1166], [1167], [1168], [1169], [1170], [1171], [1172], [1173], [1174], [1175], [1176], [1177], [1178], [1179], [1180], [1181], [1182], [1183], [1184], [1185], [1186], [1187], [1188], [1189], [1190], [1191], [1192], [1193], [1194], [1195], [1196], [1197], [1198], [1199], [1200], [1201], [1202], [1203], [1204], [1205], [1206], [1207], [1208], [1209], [1210], [1211], [1212], [1213], [1214], [1215], [1216], [1217], [1218], [1219], [1220], [1221], [1222], [1223], [1224], [1225], [1226], [1227], [1228], [1229], [1230], [1231], [1232], [1233], [1234], [1235], [1236], [1237], [1238], [1239], [1240], [1241], [1242], [1243], [1244], [1245], [1246], [1247], [1248], [1249], [1250], [1251], [1252], [1253], [1254], [1255], [1256], [1257], [1258], [1259], [1260], [1261], [1262], [1263], [1264], [1265], [1266], [1267], [1268], [1269], [1270], [1271], [1272], [1273], [1274], [1275], [1276], [1277], [1278], [1279], [1280], [1281], [1282], [1283], [1284], [1285], [1286], [1287], [1288], [1289], [1290], [1291], [1292], [1293], [1294], [1295], [1296], [1297], [1298], [1299], [1300], [1301], [1302], [1303], [1304], [1305], [1306], [1307], [1308], [1309], [1310], [1311], [1312], [1313], [1314], [1315], [1316], [1317], [1318], [1319], [1320], [1321], [1322], [1323], [1324], [1325], [1326], [1327], [1328], [1329], [1330], [1331], [1332], [1333], [1334], [1335], [1336], [1337], [1338], [1339], [1340], [1341], [1342], [1343], [1344], [1345], [1346], [1347], [1348], [1349], [1350], [1351], [1352], [1353], [1354], [1355], [1356], [1357], [1358], [1359], [1360], [1361], [1362], [1363], [1364], [1365], [1366], [1367], [1368], [1369], [1370], [1371], [1372], [1373], [1374], [1375], [1376], [1377], [1378], [1379], [1380], [1381], [1382], [1383], [1384], [1385], [1386], [1387], [1388], [1389], [1390], [1391], [1392], [1393], [1394], [1395], [1396], [1397], [1398], [1399], [1400], [1401], [1402], [1403], [1404], [1405], [1406], [1407], [1408], [1409], [1410], [1411], [1412], [1413], [1414], [1415], [1416], [1417], [1418], [1419], [1420], [1421], [1422], [1423], [1424], [1425], [1426], [1427], [1428], [1429], [1430], [1431], [1432], [1433], [1434], [1435], [1436], [1437], [1438], [1439], [1440], [1441], [1442], [1443], [1444], [1445], [1446], [1447], [1448], [1449], [1450], [1451], [1452], [1453], [1454], [1455], [1456], [1457], [1458], [1459], [1460], [1461], [1462], [1463], [1464], [1465], [1466], [1467], [1468], [1469], [1470], [1471], [1472], [1473], [1474], [1475], [1476], [1477], [1478], [1479], [1480], [1481], [1482], [1483], [1484], [1485], [1486], [1487], [1488], [1489], [1490], [1491], [1492], [1493], [1494], [1495], [1496], [1497], [1498], [1499], [1500], [1501], [1502], [1503], [1504], [1505], [1506], [1507], [1508], [1509], [1510], [1511], [1512], [1513], [1514], [1515], [1516], [1517], [1518], [1519], [1520], [1521], [1522], [1523], [1524], [1525], [1526], [1527], [1528], [1529], [1530], [1531], [1532], [1533], [1534], [1535], [1536], [1537], [1538], [1539], [1540], [1541], [1542], [1543], [1544], [1545], [1546], [1547], [1548], [1549], [1550], [1551], [1552], [1553], [1554], [1555], [1556], [1557], [1558], [1559], [1560], [1561], [1562], [1563], [1564], [1565], [1566], [1567], [1568], [1569], [1570], [1571], [1572], [1573], [1574], [1575], [1576], [1577], [1578], [1579], [1580], [1581], [1582], [1583], [1584], [1585], [1586], [1587], [1588], [1589], [1590], [1591], [1592], [1593], [1594], [1595], [1596], [1597], [1598], [1599], [1600], [1601], [1602], [1603], [1604], [1605], [1606], [1607], [1608], [1609], [1610], [1611], [1612], [1613], [1614], [1615], [1616], [1617], [1618], [1619], [1620], [1621], [1622], [1623], [1624], [1625], [1626], [1627], [1628], [1629], [1630], [1631], [1632], [1633], [1634], [1635], [1636], [1637], [1638], [1639], [1640], [1641], [1642], [1643], [1644], [1645], [1646], [1647], [1648], [1649], [1650], [1651], [1652], [1653], [1654], [1655], [1656], [1657], [1658], [1659], [1660], [1661], [1662], [1663], [1664], [1665], [1666], [1667], [1668], [1669], [1670], [1671], [1672], [1673], [1674], [1675], [1676], [1677], [1678], [1679], [1680], [1681], [1682], [1683], [1684], [1685], [1686], [1687], [1688], [1689], [1690], [1691], [1692], [1693], [1694], [1695], [1696], [1697], [1698], [1699], [1700], [1701], [1702], [1703], [1704], [1705], [1706], [1707], [1708], [1709], [1710], [1711], [1712], [1713], [1714], [1715], [1716], [1717], [1718], [1719], [1720], [1721], [1722], [1723], [1724], [1725], [1726], [1727], [1728], [1729], [1730], [1731], [1732], [1733], [1734], [1735], [1736], [1737], [1738], [1739], [1740], [1741], [1742], [1743], [1744], [1745], [1746], [1747], [1748], [1749], [1750], [1751], [1752], [1753], [1754], [1755], [1756], [1757], [1758], [1759], [1760], [1761], [1762], [1763], [1764], [1765], [1766], [1767], [1768], [1769], [1770], [1771], [1772], [1773], [1774], [1775], [1776], [1777], [1778], [1779], [1780], [1781], [1782], [1783], [1784], [1785], [1786], [1787], [1788], [1789], [1790], [1791], [1792], [1793], [1794], [1795], [1796], [1797], [1798], [1799], [1800], [1801], [1802], [1803], [1804], [1805], [1806], [1807], [1808], [1809], [1810], [1811], [1812], [1813], [1814], [1815], [1816], [1817], [1818], [1819], [1820], [1821], [1822], [1823], [1824], [1825], [1826], [1827], [1828], [1829], [1830], [1831], [1832], [1833], [1834], [1835], [1836], [1837], [1838], [1839], [1840], [1841], [1842], [1843], [1844], [1845], [1846], [1847], [1848], [1849], [1850], [1851], [1852], [1853], [1854], [1855], [1856], [1857], [1858], [1859], [1860], [1861], [1862], [1863], [1864], [1865], [1866], [1867], [1868], [1869], [1870], [1871], [1872], [1873], [1874], [1875], [1876], [1877], [1878], [1879], [1880], [1881], [1882], [1883], [1884], [1885], [1886], [1887], [1888], [1889], [1890], [1891], [1892], [1893], [1894], [1895], [1896], [1897], [1898], [1899], [1900], [1901], [1902], [1903], [1904], [1905], [1906], [1907], [1908], [1909], [1910], [1911], [1912], [1913], [1914], [1915], [1916], [1917], [1918], [1919], [1920], [1921], [1922], [1923], [1924], [1925], [1926], [1927], [1928], [1929], [1930], [1931], [1932], [1933], [1934], [1935], [1936], [1937], [1938], [1939], [1940], [1941], [1942], [1943], [1944], [1945], [1946], [1947], [1948], [1949], [1950], [1951], [1952], [1953], [1954], [1955], [1956], [1957], [1958], [1959], [1960], [1961], [1962], [1963], [1964], [1965], [1966], [1967], [1968], [1969], [1970], [1971], [1972], [1973], [1974], [1975], [1976], [1977], [1978], [1979], [1980], [1981], [1982], [1983], [1984], [1985], [1986], [1987], [1988], [1989], [1990], [1991], [1992], [1993], [1994], [1995], [1996], [1997], [1998], [1999]], [[ 4.       ], [ 4.0027747], [ 4.005552 ], [ 4.008331 ], [ 4.0111113], [ 4.013894 ], [ 4.0166783], [ 4.019465 ], [ 4.0222535], [ 4.025044 ], [ 4.0278363], [ 4.0306306], [ 4.033427 ], [ 4.036225 ], [ 4.039025 ], [ 4.0418267], [ 4.0446305], [ 4.0474367], [ 4.0502443], [ 4.0530543], [ 4.0558662], [ 4.0586796], [ 4.0614953], [ 4.064313 ], [ 4.0671325], [ 4.069954 ], [ 4.0727777], [ 4.075603 ], [ 4.07843  ], [ 4.0812597], [ 4.084091 ], [ 4.086924 ], [ 4.0897593], [ 4.0925965], [ 4.095436 ], [ 4.098277 ], [ 4.10112  ], [ 4.1039653], [ 4.1068125], [ 4.109661 ], [ 4.112512 ], [ 4.1153655], [ 4.1182203], [ 4.121077 ], [ 4.123936 ], [ 4.126797 ], [ 4.12966  ], [ 4.132525 ], [ 4.1353917], [ 4.138261 ], [ 4.1411314], [ 4.1440043], [ 4.146879 ], [ 4.149756 ], [ 4.1526346], [ 4.1555157], [ 4.1583986], [ 4.1612835], [ 4.1641703], [ 4.167059 ], [ 4.16995  ], [ 4.1728425], [ 4.1757374], [ 4.178634 ], [ 4.1815333], [ 4.184434 ], [ 4.187337 ], [ 4.190242 ], [ 4.1931486], [ 4.196058 ], [ 4.198969 ], [ 4.2018814], [ 4.204797 ], [ 4.2077136], [ 4.210633 ], [ 4.213554 ], [ 4.216477 ], [ 4.219402 ], [ 4.222329 ], [ 4.2252584], [ 4.2281895], [ 4.2311225], [ 4.234058 ], [ 4.236995 ], [ 4.2399344], [ 4.242876 ], [ 4.2458196], [ 4.248765 ], [ 4.2517123], [ 4.254662 ], [ 4.2576137], [ 4.260567 ], [ 4.263523 ], [ 4.266481 ], [ 4.2694407], [ 4.2724023], [ 4.2753663], [ 4.278332 ], [ 4.2813   ], [ 4.2842703], [ 4.2872424], [ 4.290217 ], [ 4.293193 ], [ 4.296171 ], [ 4.299152 ], [ 4.302134 ], [ 4.3051186], [ 4.3081055], [ 4.311094 ], [ 4.314085 ], [ 4.3170776], [ 4.3200727], [ 4.3230696], [ 4.3260684], [ 4.3290696], [ 4.3320727], [ 4.3350782], [ 4.3380857], [ 4.341095 ], [ 4.3441067], [ 4.3471203], [ 4.3501363], [ 4.3531537], [ 4.356174 ], [ 4.3591957], [ 4.36222  ], [ 4.3652463], [ 4.3682747], [ 4.371305 ], [ 4.3743377], [ 4.3773723], [ 4.380409 ], [ 4.3834476], [ 4.3864884], [ 4.3895316], [ 4.3925767], [ 4.395624 ], [ 4.3986735], [ 4.4017253], [ 4.4047785], [ 4.4078345], [ 4.4108925], [ 4.4139524], [ 4.4170146], [ 4.4200788], [ 4.423145 ], [ 4.4262133], [ 4.429284 ], [ 4.432357 ], [ 4.435432 ], [ 4.4385085], [ 4.441588 ], [ 4.4446692], [ 4.4477525], [ 4.450838 ], [ 4.4539256], [ 4.4570155], [ 4.460108 ], [ 4.463202 ], [ 4.466298 ], [ 4.4693966], [ 4.472497 ], [ 4.4756   ], [ 4.4787045], [ 4.4818115], [ 4.484921 ], [ 4.4880323], [ 4.4911456], [ 4.4942613], [ 4.4973793], [ 4.5004992], [ 4.5036216], [ 4.506746 ], [ 4.509872 ], [ 4.513001 ], [ 4.516132 ], [ 4.5192647], [ 4.5224   ], [ 4.525537 ], [ 4.5286765], [ 4.5318184], [ 4.534962 ], [ 4.5381083], [ 4.5412564], [ 4.544407 ], [ 4.5475597], [ 4.5507145], [ 4.553871 ], [ 4.5570307], [ 4.560192 ], [ 4.5633554], [ 4.566521 ], [ 4.5696893], [ 4.5728593], [ 4.5760317], [ 4.5792065], [ 4.582383 ], [ 4.5855618], [ 4.588743 ], [ 4.5919266], [ 4.595112 ], [ 4.5983   ], [ 4.60149  ], [ 4.604682 ], [ 4.6078763], [ 4.611073 ], [ 4.614272 ], [ 4.617473 ], [ 4.6206765], [ 4.623882 ], [ 4.6270895], [ 4.6302996], [ 4.633512 ], [ 4.6367264], [ 4.639943 ], [ 4.643162 ], [ 4.646383 ], [ 4.649606 ], [ 4.652832 ], [ 4.6560597], [ 4.65929  ], [ 4.662522 ], [ 4.6657567], [ 4.6689935], [ 4.6722326], [ 4.6754737], [ 4.678717 ], [ 4.681963 ], [ 4.685211 ], [ 4.6884613], [ 4.691714 ], [ 4.6949687], [ 4.698226 ], [ 4.701485 ], [ 4.7047467], [ 4.7080107], [ 4.7112765], [ 4.7145452], [ 4.717816 ], [ 4.7210884], [ 4.724364 ], [ 4.727641 ], [ 4.730921 ], [ 4.734203 ], [ 4.7374873], [ 4.7407737], [ 4.7440624], [ 4.7473536], [ 4.750647 ], [ 4.753943 ], [ 4.757241 ], [ 4.760541 ], [ 4.7638435], [ 4.7671485], [ 4.770456 ], [ 4.773765 ], [ 4.7770767], [ 4.7803907], [ 4.783707 ], [ 4.787026 ], [ 4.7903466], [ 4.7936697], [ 4.7969956], [ 4.8003235], [ 4.8036532], [ 4.806986 ], [ 4.810321 ], [ 4.8136578], [ 4.816997 ], [ 4.8203387], [ 4.823683 ], [ 4.827029 ], [ 4.830378 ], [ 4.833729 ], [ 4.8370824], [ 4.840438 ], [ 4.843796 ], [ 4.847156 ], [ 4.8505187], [ 4.8538837], [ 4.857251 ], [ 4.860621 ], [ 4.8639927], [ 4.8673673], [ 4.8707438], [ 4.8741226], [ 4.877504 ], [ 4.8808875], [ 4.884274 ], [ 4.8876624], [ 4.8910527], [ 4.894446 ], [ 4.8978415], [ 4.9012394], [ 4.9046392], [ 4.908042 ], [ 4.9114466], [ 4.914854 ], [ 4.9182634], [ 4.9216757], [ 4.92509  ], [ 4.928507 ], [ 4.931926 ], [ 4.935347 ], [ 4.938771 ], [ 4.9421973], [ 4.945626 ], [ 4.9490566], [ 4.95249  ], [ 4.955926 ], [ 4.959364 ], [ 4.9628043], [ 4.966247 ], [ 4.969692 ], [ 4.9731402], [ 4.97659  ], [ 4.9800425], [ 4.9834976], [ 4.9869547], [ 4.990414 ], [ 4.9938765], [ 4.9973407], [ 5.000808 ], [ 5.0042768], [ 5.0077486], [ 5.0112224], [ 5.014699 ], [ 5.018178 ], [ 5.021659 ], [ 5.0251427], [ 5.028629 ], [ 5.0321174], [ 5.0356083], [ 5.0391016], [ 5.042598 ], [ 5.046096 ], [ 5.0495963], [ 5.0530996], [ 5.056605 ], [ 5.060113 ], [ 5.0636234], [ 5.0671363], [ 5.0706515], [ 5.074169 ], [ 5.077689 ], [ 5.0812116], [ 5.084737 ], [ 5.088264 ], [ 5.091794 ], [ 5.0953264], [ 5.098861 ], [ 5.1023984], [ 5.1059384], [ 5.1094804], [ 5.113025 ], [ 5.116572 ], [ 5.1201215], [ 5.1236734], [ 5.1272283], [ 5.130785 ], [ 5.1343446], [ 5.1379066], [ 5.141471 ], [ 5.1450377], [ 5.148607 ], [ 5.152179 ], [ 5.1557527], [ 5.1593294], [ 5.1629086], [ 5.1664906], [ 5.1700745], [ 5.173661 ], [ 5.1772504], [ 5.180842 ], [ 5.1844363], [ 5.1880326], [ 5.191632 ], [ 5.1952333], [ 5.1988378], [ 5.202444 ], [ 5.2060533], [ 5.209665 ], [ 5.2132792], [ 5.2168956], [ 5.220515 ], [ 5.2241364], [ 5.227761 ], [ 5.231387 ], [ 5.2350163], [ 5.2386484], [ 5.2422824], [ 5.245919 ], [ 5.2495584], [ 5.2532005], [ 5.2568445], [ 5.2604914], [ 5.264141 ], [ 5.2677927], [ 5.271447 ], [ 5.275104 ], [ 5.278764 ], [ 5.282426 ], [ 5.2860904], [ 5.2897577], [ 5.2934275], [ 5.2970996], [ 5.300774 ], [ 5.3044515], [ 5.3081317], [ 5.311814 ], [ 5.315499 ], [ 5.319186 ], [ 5.3228765], [ 5.326569 ], [ 5.3302646], [ 5.3339624], [ 5.3376627], [ 5.3413653], [ 5.345071 ], [ 5.348779 ], [ 5.3524895], [ 5.356203 ], [ 5.3599186], [ 5.363637 ], [ 5.3673577], [ 5.3710814], [ 5.3748074], [ 5.378536 ], [ 5.3822675], [ 5.3860016], [ 5.389738 ], [ 5.393477 ], [ 5.3972187], [ 5.400963 ], [ 5.40471  ], [ 5.408459 ], [ 5.412211 ], [ 5.4159656], [ 5.419723 ], [ 5.423483 ], [ 5.427245 ], [ 5.4310102], [ 5.434778 ], [ 5.438548 ], [ 5.4423213], [ 5.446097 ], [ 5.449875 ], [ 5.4536557], [ 5.457439 ], [ 5.461225 ], [ 5.4650135], [ 5.468805 ], [ 5.472599 ], [ 5.4763956], [ 5.4801946], [ 5.4839964], [ 5.4878006], [ 5.4916077], [ 5.4954176], [ 5.49923  ], [ 5.503045 ], [ 5.5068626], [ 5.510683 ], [ 5.514506 ], [ 5.5183315], [ 5.5221596], [ 5.5259905], [ 5.5298243], [ 5.5336604], [ 5.5374994], [ 5.541341 ], [ 5.545185 ], [ 5.549032 ], [ 5.5528817], [ 5.5567336], [ 5.560589 ], [ 5.5644464], [ 5.5683064], [ 5.5721693], [ 5.576035 ], [ 5.579903 ], [ 5.583774 ], [ 5.587648 ], [ 5.591524 ], [ 5.595403 ], [ 5.599285 ], [ 5.6031694], [ 5.6070566], [ 5.610946 ], [ 5.614839 ], [ 5.618734 ], [ 5.622632 ], [ 5.6265326], [ 5.630436 ], [ 5.6343417], [ 5.638251 ], [ 5.6421623], [ 5.646076 ], [ 5.649993 ], [ 5.6539125], [ 5.657835 ], [ 5.6617603], [ 5.665688 ], [ 5.669618 ], [ 5.6735516], [ 5.6774874], [ 5.681426 ], [ 5.6853676], [ 5.6893115], [ 5.693259 ], [ 5.6972084], [ 5.7011604], [ 5.705116 ], [ 5.7090735], [ 5.713034 ], [ 5.716997 ], [ 5.7209635], [ 5.724932 ], [ 5.728904 ], [ 5.732878 ], [ 5.7368555], [ 5.740835 ], [ 5.7448177], [ 5.748803 ], [ 5.7527914], [ 5.756782 ], [ 5.760776 ], [ 5.7647724], [ 5.7687716], [ 5.7727737], [ 5.776778 ], [ 5.780786 ], [ 5.784796 ], [ 5.7888093], [ 5.792825 ], [ 5.796844 ], [ 5.800865 ], [ 5.8048897], [ 5.8089166], [ 5.8129463], [ 5.816979 ], [ 5.8210144], [ 5.8250527], [ 5.829094 ], [ 5.8331375], [ 5.8371844], [ 5.8412337], [ 5.845286 ], [ 5.8493414], [ 5.8533993], [ 5.8574595], [ 5.861523 ], [ 5.8655896], [ 5.869659 ], [ 5.8737307], [ 5.8778057], [ 5.881883 ], [ 5.8859634], [ 5.890047 ], [ 5.894133 ], [ 5.898222 ], [ 5.9023137], [ 5.9064083], [ 5.910506 ], [ 5.914606 ], [ 5.9187093], [ 5.9228153], [ 5.926924 ], [ 5.931036 ], [ 5.9351506], [ 5.939268 ], [ 5.9433885], [ 5.9475117], [ 5.9516373], [ 5.955766 ], [ 5.959898 ], [ 5.9640326], [ 5.96817  ], [ 5.9723105], [ 5.976454 ], [ 5.9806   ], [ 5.9847484], [ 5.9889007], [ 5.9930553], [ 5.997213 ], [ 6.0013733], [ 6.0055366], [ 6.0097027], [ 6.013872 ], [ 6.018044 ], [ 6.0222187], [ 6.0263968], [ 6.0305777], [ 6.034761 ], [ 6.0389476], [ 6.043137 ], [ 6.0473294], [ 6.0515246], [ 6.0557227], [ 6.0599236], [ 6.064128 ], [ 6.0683346], [ 6.0725446], [ 6.0767574], [ 6.0809727], [ 6.0851912], [ 6.089413 ], [ 6.0936375], [ 6.0978646], [ 6.102095 ], [ 6.1063285], [ 6.110564 ], [ 6.114804 ], [ 6.1190457], [ 6.1232905], [ 6.1275387], [ 6.131789 ], [ 6.136043 ], [ 6.1403003], [ 6.14456  ], [ 6.1488223], [ 6.153088 ], [ 6.1573567], [ 6.1616282], [ 6.1659026], [ 6.1701803], [ 6.174461 ], [ 6.1787443], [ 6.1830306], [ 6.18732  ], [ 6.1916122], [ 6.1959076], [ 6.200206 ], [ 6.2045074], [ 6.2088118], [ 6.213119 ], [ 6.217429 ], [ 6.221742 ], [ 6.2260585], [ 6.2303777], [ 6.2347   ], [ 6.239025 ], [ 6.2433534], [ 6.247685 ], [ 6.252019 ], [ 6.2563562], [ 6.2606964], [ 6.26504  ], [ 6.269386 ], [ 6.2737355], [ 6.2780876], [ 6.282443 ], [ 6.2868013], [ 6.2911625], [ 6.295527 ], [ 6.2998943], [ 6.304265 ], [ 6.3086386], [ 6.313015 ], [ 6.3173943], [ 6.321777 ], [ 6.326163 ], [ 6.3305516], [ 6.3349433], [ 6.339338 ], [ 6.3437357], [ 6.3481364], [ 6.3525405], [ 6.3569474], [ 6.3613577], [ 6.365771 ], [ 6.370187 ], [ 6.374606 ], [ 6.3790283], [ 6.3834534], [ 6.387882 ], [ 6.3923135], [ 6.396748 ], [ 6.4011855], [ 6.4056263], [ 6.4100704], [ 6.414517 ], [ 6.4189672], [ 6.42342  ], [ 6.4278765], [ 6.4323354], [ 6.436798 ], [ 6.441263 ], [ 6.4457316], [ 6.4502034], [ 6.454678 ], [ 6.459156 ], [ 6.463637 ], [ 6.468121 ], [ 6.472608 ], [ 6.4770985], [ 6.4815917], [ 6.4860883], [ 6.490588 ], [ 6.4950905], [ 6.4995966], [ 6.5041056], [ 6.508618 ], [ 6.513133 ], [ 6.5176516], [ 6.522173 ], [ 6.5266976], [ 6.531225 ], [ 6.535756 ], [ 6.5402904], [ 6.5448275], [ 6.549368 ], [ 6.553911 ], [ 6.5584583], [ 6.563008 ], [ 6.567561 ], [ 6.572117 ], [ 6.5766764], [ 6.5812387], [ 6.5858045], [ 6.590373 ], [ 6.5949454], [ 6.59952  ], [ 6.604099 ], [ 6.6086802], [ 6.613265 ], [ 6.6178527], [ 6.6224437], [ 6.627038 ], [ 6.631635 ], [ 6.636236 ], [ 6.6408396], [ 6.645447 ], [ 6.650057 ], [ 6.6546702], [ 6.659287 ], [ 6.6639066], [ 6.6685295], [ 6.673156 ], [ 6.6777854], [ 6.682418 ], [ 6.6870537], [ 6.691693 ], [ 6.696335 ], [ 6.70098  ], [ 6.705629 ], [ 6.710281 ], [ 6.7149363], [ 6.7195945], [ 6.724256 ], [ 6.728921 ], [ 6.733589 ], [ 6.7382603], [ 6.742935 ], [ 6.747613 ], [ 6.752294 ], [ 6.756978 ], [ 6.761666 ], [ 6.7663565], [ 6.7710505], [ 6.775748 ], [ 6.7804484], [ 6.7851524], [ 6.7898593], [ 6.7945695], [ 6.7992835], [ 6.8040004], [ 6.8087206], [ 6.8134437], [ 6.8181705], [ 6.822901 ], [ 6.827634 ], [ 6.8323703], [ 6.83711  ], [ 6.8418536], [ 6.8466   ], [ 6.8513494], [ 6.8561025], [ 6.860859 ], [ 6.8656187], [ 6.8703814], [ 6.875148 ], [ 6.879917 ], [ 6.88469  ], [ 6.8894663], [ 6.8942456], [ 6.8990283], [ 6.9038143], [ 6.9086037], [ 6.913397 ], [ 6.918193 ], [ 6.922992 ], [ 6.927795 ], [ 6.932601 ], [ 6.9374104], [ 6.942223 ], [ 6.947039 ], [ 6.9518585], [ 6.9566813], [ 6.9615073], [ 6.9663367], [ 6.9711695], [ 6.9760056], [ 6.980845 ], [ 6.9856877], [ 6.9905343], [ 6.9953837], [ 7.0002365], [ 7.005093 ], [ 7.0099525], [ 7.014816 ], [ 7.019682 ], [ 7.024552 ], [ 7.029425 ], [ 7.0343018], [ 7.0391817], [ 7.044065 ], [ 7.0489516], [ 7.0538416], [ 7.0587354], [ 7.063632 ], [ 7.0685325], [ 7.0734363], [ 7.0783434], [ 7.083254 ], [ 7.0881677], [ 7.093085 ], [ 7.098006 ], [ 7.1029296], [ 7.107857 ], [ 7.112788 ], [ 7.1177225], [ 7.1226606], [ 7.1276016], [ 7.1325464], [ 7.1374946], [ 7.142446 ], [ 7.147401 ], [ 7.1523595], [ 7.157321 ], [ 7.1622863], [ 7.167255 ], [ 7.1722274], [ 7.1772027], [ 7.182182 ], [ 7.1871643], [ 7.1921506], [ 7.1971397], [ 7.2021327], [ 7.207129 ], [ 7.212129 ], [ 7.2171326], [ 7.2221394], [ 7.2271495], [ 7.232163 ], [ 7.23718  ], [ 7.242201 ], [ 7.2472253], [ 7.2522526], [ 7.257284 ], [ 7.2623186], [ 7.267357 ], [ 7.2723985], [ 7.2774434], [ 7.282492 ], [ 7.2875443], [ 7.2925997], [ 7.297659 ], [ 7.3027215], [ 7.307788 ], [ 7.312857 ], [ 7.3179307], [ 7.323007 ], [ 7.3280873], [ 7.3331714], [ 7.3382583], [ 7.3433495], [ 7.3484435], [ 7.3535414], [ 7.358643 ], [ 7.3637476], [ 7.3688564], [ 7.373968 ], [ 7.379084 ], [ 7.384203 ], [ 7.3893256], [ 7.394452 ], [ 7.399582 ], [ 7.404715 ], [ 7.409852 ], [ 7.4149923], [ 7.4201365], [ 7.425284 ], [ 7.430435 ], [ 7.43559  ], [ 7.440748 ], [ 7.4459105], [ 7.4510756], [ 7.456245 ], [ 7.4614177], [ 7.4665937], [ 7.4717736], [ 7.476957 ], [ 7.482144 ], [ 7.4873347], [ 7.492529 ], [ 7.4977264], [ 7.5029283], [ 7.508133 ], [ 7.513342 ], [ 7.518554 ], [ 7.52377  ], [ 7.5289893], [ 7.5342126], [ 7.539439 ], [ 7.5446696], [ 7.5499034], [ 7.5551414], [ 7.5603824], [ 7.5656276], [ 7.570876 ], [ 7.576128 ], [ 7.581384 ], [ 7.586643 ], [ 7.5919065], [ 7.597173 ], [ 7.6024437], [ 7.607718 ], [ 7.6129956], [ 7.618277 ], [ 7.623562 ], [ 7.628851 ], [ 7.6341434], [ 7.639439 ], [ 7.644739 ], [ 7.6500425], [ 7.6553493], [ 7.6606603], [ 7.6659746], [ 7.671293 ], [ 7.6766148], [ 7.68194  ], [ 7.687269 ], [ 7.692602 ], [ 7.697939 ], [ 7.7032795], [ 7.7086234], [ 7.713971 ], [ 7.7193227], [ 7.7246776], [ 7.7300367], [ 7.7353992], [ 7.7407656], [ 7.7461357], [ 7.751509 ], [ 7.756887 ], [ 7.762268 ], [ 7.767653 ], [ 7.7730417], [ 7.7784343], [ 7.78383  ], [ 7.7892303], [ 7.794634 ], [ 7.800041 ], [ 7.8054523], [ 7.8108673], [ 7.816286 ], [ 7.821708 ], [ 7.8271346], [ 7.8325644], [ 7.8379984], [ 7.843436 ], [ 7.848877 ], [ 7.854322 ], [ 7.859771 ], [ 7.8652234], [ 7.87068  ], [ 7.87614  ], [ 7.8816037], [ 7.8870716], [ 7.8925433], [ 7.8980184], [ 7.9034977], [ 7.9089804], [ 7.9144673], [ 7.9199576], [ 7.925452 ], [ 7.93095  ], [ 7.9364524], [ 7.941958 ], [ 7.947468 ], [ 7.952981 ], [ 7.9584985], [ 7.9640193], [ 7.9695444], [ 7.9750733], [ 7.9806056], [ 7.986142 ], [ 7.9916825], [ 7.9972267], [ 8.002774 ], [ 8.008327 ], [ 8.013882 ], [ 8.019442 ], [ 8.025004 ], [ 8.030572 ], [ 8.036143 ], [ 8.0417185], [ 8.047297 ], [ 8.052879 ], [ 8.058466 ], [ 8.064056 ], [ 8.069651 ], [ 8.075249 ], [ 8.080852 ], [ 8.086457 ], [ 8.092067 ], [ 8.097681 ], [ 8.103298 ], [ 8.10892  ], [ 8.114545 ], [ 8.120174 ], [ 8.125808 ], [ 8.131445 ], [ 8.137086 ], [ 8.142731 ], [ 8.14838  ], [ 8.154033 ], [ 8.15969  ], [ 8.16535  ], [ 8.171015 ], [ 8.176683 ], [ 8.182356 ], [ 8.188032 ], [ 8.193712 ], [ 8.199397 ], [ 8.205085 ], [ 8.210777 ], [ 8.216474 ], [ 8.222173 ], [ 8.227878 ], [ 8.233585 ], [ 8.239297 ], [ 8.245013 ], [ 8.250732 ], [ 8.256456 ], [ 8.262184 ], [ 8.267916 ], [ 8.273652 ], [ 8.279391 ], [ 8.285135 ], [ 8.290883 ], [ 8.296635 ], [ 8.30239  ], [ 8.30815  ], [ 8.313913 ], [ 8.319681 ], [ 8.325453 ], [ 8.331228 ], [ 8.337008 ], [ 8.342792 ], [ 8.348579 ], [ 8.354371 ], [ 8.360167 ], [ 8.365967 ], [ 8.371771 ], [ 8.377579 ], [ 8.38339  ], [ 8.389206 ], [ 8.395026 ], [ 8.400849 ], [ 8.406678 ], [ 8.41251  ], [ 8.418345 ], [ 8.424186 ], [ 8.43003  ], [ 8.435878 ], [ 8.4417305], [ 8.447587 ], [ 8.453447 ], [ 8.4593115], [ 8.46518  ], [ 8.471053 ], [ 8.47693  ], [ 8.48281  ], [ 8.488695 ], [ 8.494584 ], [ 8.500477 ], [ 8.506374 ], [ 8.512275 ], [ 8.51818  ], [ 8.52409  ], [ 8.530004 ], [ 8.535921 ], [ 8.541842 ], [ 8.547769 ], [ 8.553698 ], [ 8.559632 ], [ 8.56557  ], [ 8.571512 ], [ 8.577458 ], [ 8.583409 ], [ 8.589364 ], [ 8.595323 ], [ 8.601285 ], [ 8.607252 ], [ 8.613224 ], [ 8.619199 ], [ 8.625178 ], [ 8.631162 ], [ 8.63715  ], [ 8.643142 ], [ 8.6491375], [ 8.655138 ], [ 8.661142 ], [ 8.6671505], [ 8.673163 ], [ 8.67918  ], [ 8.685202 ], [ 8.691226 ], [ 8.697256 ], [ 8.703289 ], [ 8.709328 ], [ 8.715369 ], [ 8.7214155], [ 8.727466 ], [ 8.7335205], [ 8.739579 ], [ 8.745642 ], [ 8.751709 ], [ 8.75778  ], [ 8.763856 ], [ 8.769936 ], [ 8.77602  ], [ 8.782108 ], [ 8.7882   ], [ 8.794297 ], [ 8.800398 ], [ 8.806503 ], [ 8.812613 ], [ 8.818727 ], [ 8.824844 ], [ 8.830966 ], [ 8.837092 ], [ 8.843224 ], [ 8.849358 ], [ 8.855497 ], [ 8.86164  ], [ 8.867788 ], [ 8.8739395], [ 8.880096 ], [ 8.886256 ], [ 8.892421 ], [ 8.89859  ], [ 8.904763 ], [ 8.910941 ], [ 8.917123 ], [ 8.923309 ], [ 8.9295   ], [ 8.935694 ], [ 8.941893 ], [ 8.948096 ], [ 8.954304 ], [ 8.960516 ], [ 8.966732 ], [ 8.972953 ], [ 8.979177 ], [ 8.985407 ], [ 8.99164  ], [ 8.997878 ], [ 9.00412  ], [ 9.010366 ], [ 9.016618 ], [ 9.022873 ], [ 9.029132 ], [ 9.035396 ], [ 9.041664 ], [ 9.047936 ], [ 9.054214 ], [ 9.060494 ], [ 9.06678  ], [ 9.07307  ], [ 9.079365 ], [ 9.085663 ], [ 9.091966 ], [ 9.098273 ], [ 9.104586 ], [ 9.110902 ], [ 9.117222 ], [ 9.123547 ], [ 9.129876 ], [ 9.1362095], [ 9.142548 ], [ 9.1488905], [ 9.155237 ], [ 9.161589 ], [ 9.167944 ], [ 9.174305 ], [ 9.180669 ], [ 9.187038 ], [ 9.193412 ], [ 9.199789 ], [ 9.206171 ], [ 9.212558 ], [ 9.218949 ], [ 9.225345 ], [ 9.231745 ], [ 9.238149 ], [ 9.244557 ], [ 9.250971 ], [ 9.257389 ], [ 9.263811 ], [ 9.270238 ], [ 9.276669 ], [ 9.283104 ], [ 9.289544 ], [ 9.295989 ], [ 9.302438 ], [ 9.308891 ], [ 9.315349 ], [ 9.321812 ], [ 9.328279 ], [ 9.334749 ], [ 9.341226 ], [ 9.347706 ], [ 9.354191 ], [ 9.36068  ], [ 9.367173 ], [ 9.373672 ], [ 9.380175 ], [ 9.3866825], [ 9.393194 ], [ 9.399711 ], [ 9.406231 ], [ 9.412757 ], [ 9.419287 ], [ 9.425821 ], [ 9.432361 ], [ 9.438904 ], [ 9.445452 ], [ 9.452004 ], [ 9.458562 ], [ 9.465123 ], [ 9.471689 ], [ 9.47826  ], [ 9.484836 ], [ 9.491416 ], [ 9.498    ], [ 9.504589 ], [ 9.511183 ], [ 9.517781 ], [ 9.5243845], [ 9.530992 ], [ 9.537603 ], [ 9.54422  ], [ 9.550841 ], [ 9.557467 ], [ 9.564097 ], [ 9.570732 ], [ 9.577372 ], [ 9.584016 ], [ 9.590665 ], [ 9.597318 ], [ 9.603976 ], [ 9.610639 ], [ 9.617306 ], [ 9.623978 ], [ 9.630654 ], [ 9.637336 ], [ 9.644021 ], [ 9.650712 ], [ 9.657407 ], [ 9.664106 ], [ 9.670811 ], [ 9.67752  ], [ 9.684234 ], [ 9.690951 ], [ 9.697675 ], [ 9.704402 ], [ 9.711134 ], [ 9.717872 ], [ 9.724613 ], [ 9.7313595], [ 9.738111 ], [ 9.744865 ], [ 9.751626 ], [ 9.758391 ], [ 9.765161 ], [ 9.771935 ], [ 9.778714 ], [ 9.785499 ], [ 9.792287 ], [ 9.79908  ], [ 9.805878 ], [ 9.812681 ], [ 9.819489 ], [ 9.826301 ], [ 9.8331175], [ 9.839939 ], [ 9.846765 ], [ 9.853596 ], [ 9.860432 ], [ 9.867272 ], [ 9.874118 ], [ 9.880967 ], [ 9.887822 ], [ 9.894682 ], [ 9.9015465], [ 9.908415 ], [ 9.915289 ], [ 9.922168 ], [ 9.929051 ], [ 9.935939 ], [ 9.942832 ], [ 9.94973  ], [ 9.956633 ], [ 9.963539 ], [ 9.970451 ], [ 9.977368 ], [ 9.98429  ], [ 9.991217 ], [ 9.998148 ], [10.005084 ], [10.012025 ], [10.0189705], [10.025921 ], [10.032876 ], [10.039836 ], [10.046802 ], [10.053771 ], [10.060745 ], [10.067725 ], [10.07471  ], [10.081698 ], [10.088693 ], [10.095692 ], [10.102695 ], [10.109704 ], [10.116717 ], [10.123735 ], [10.130759 ], [10.137787 ], [10.14482  ], [10.151857 ], [10.1589   ], [10.165948 ], [10.173    ], [10.180058 ], [10.18712  ], [10.194187 ], [10.20126  ], [10.208336 ], [10.215418 ], [10.222505 ], [10.229596 ], [10.236693 ], [10.243794 ], [10.250901 ], [10.258013 ], [10.265129 ], [10.27225  ], [10.279376 ], [10.286508 ], [10.293644 ], [10.300785 ], [10.307931 ], [10.315082 ], [10.322238 ], [10.329398 ], [10.336564 ], [10.343735 ], [10.350911 ], [10.358091 ], [10.365277 ], [10.372468 ], [10.379664 ], [10.386865 ], [10.394071 ], [10.401281 ], [10.408497 ], [10.415718 ], [10.422943 ], [10.430174 ], [10.43741  ], [10.444651 ], [10.451897 ], [10.459147 ], [10.466403 ], [10.473664 ], [10.48093  ], [10.488201 ], [10.495477 ], [10.502758 ], [10.510044 ], [10.517336 ], [10.5246315], [10.531933 ], [10.539239 ], [10.546551 ], [10.553867 ], [10.561189 ], [10.568516 ], [10.575848 ], [10.583184 ], [10.590526 ], [10.597873 ], [10.605226 ], [10.612582 ], [10.619945 ], [10.627312 ], [10.634685 ], [10.642062 ], [10.649446 ], [10.656833 ], [10.664226 ], [10.671624 ], [10.679028 ], [10.686436 ], [10.69385  ], [10.701268 ], [10.708692 ], [10.716121 ], [10.723555 ], [10.730994 ], [10.738439 ], [10.745889 ], [10.753344 ], [10.760803 ], [10.768269 ], [10.775739 ], [10.783215 ], [10.790695 ], [10.798181 ], [10.805672 ], [10.813168 ], [10.820669 ], [10.8281765], [10.835688 ], [10.843205 ], [10.850727 ], [10.858255 ], [10.8657875], [10.873325 ], [10.880869 ], [10.888417 ], [10.895971 ], [10.90353  ], [10.911094 ], [10.918663 ], [10.926238 ], [10.933818 ], [10.941403 ], [10.948994 ], [10.95659  ], [10.9641905], [10.971796 ], [10.979408 ], [10.987025 ], [10.994647 ], [11.0022745], [11.009907 ], [11.017545 ], [11.025188 ], [11.032837 ], [11.04049  ], [11.04815  ], [11.055814 ], [11.063484 ], [11.071159 ], [11.078839 ], [11.086525 ], [11.094216 ], [11.1019125], [11.109614 ], [11.117322 ], [11.125034 ], [11.132752 ], [11.140475 ], [11.148204 ], [11.155937 ], [11.163677 ], [11.171421 ], [11.179172 ], [11.186927 ], [11.194688 ], [11.202454 ], [11.210225 ], [11.218002 ], [11.225784 ], [11.233572 ], [11.241365 ], [11.249164 ], [11.256968 ], [11.264777 ], [11.272592 ], [11.280412 ], [11.288238 ], [11.296069 ], [11.3039055], [11.311748 ], [11.319594 ], [11.327447 ], [11.335305 ], [11.343169 ], [11.351038 ], [11.358913 ], [11.366793 ], [11.374679 ], [11.382569 ], [11.390466 ], [11.398368 ], [11.406276 ], [11.414188 ], [11.422107 ], [11.430031 ], [11.437961 ], [11.445895 ], [11.4538355], [11.4617815], [11.469733 ], [11.47769  ], [11.485652 ], [11.49362  ], [11.501594 ], [11.509573 ], [11.517557 ], [11.525548 ], [11.533544 ], [11.541544 ], [11.549551 ], [11.557564 ], [11.565581 ], [11.573605 ], [11.581634 ], [11.589668 ], [11.597709 ], [11.605754 ], [11.613806 ], [11.621862 ], [11.629925 ], [11.637993 ], [11.646067 ], [11.654146 ], [11.6622305], [11.670321 ], [11.678417 ], [11.68652  ], [11.694627 ], [11.70274  ], [11.710858 ], [11.718983 ], [11.727112 ], [11.735248 ], [11.743389 ], [11.751535 ], [11.759688 ], [11.767846 ], [11.77601  ], [11.78418  ], [11.792355 ], [11.800535 ], [11.808722 ], [11.816914 ], [11.825111 ], [11.833315 ], [11.841524 ], [11.849739 ], [11.85796  ], [11.866186 ], [11.874418 ], [11.882656 ], [11.890899 ], [11.899148 ], [11.907403 ], [11.915664 ], [11.92393  ], [11.932202 ], [11.940479 ], [11.948763 ], [11.957052 ], [11.965347 ], [11.973648 ], [11.981955 ], [11.990267 ], [11.998585 ], [12.006909 ], [12.015239 ], [12.023574 ], [12.031915 ], [12.040262 ], [12.0486145], [12.056973 ], [12.065338 ], [12.073708 ], [12.082084 ], [12.090466 ], [12.098853 ], [12.107246 ], [12.115645 ], [12.124051 ], [12.132462 ], [12.140879 ], [12.149301 ], [12.157729 ], [12.166163 ], [12.174603 ], [12.183049 ], [12.191502 ], [12.199959 ], [12.208423 ], [12.216892 ], [12.225368 ], [12.233849 ], [12.242335 ], [12.250829 ], [12.259327 ], [12.267832 ], [12.276342 ], [12.284859 ], [12.293382 ], [12.301909 ], [12.310444 ], [12.318984 ], [12.327531 ], [12.336082 ], [12.344641 ], [12.353205 ], [12.361774 ], [12.37035  ], [12.378932 ], [12.38752  ], [12.396113 ], [12.404713 ], [12.413319 ], [12.421929 ], [12.430548 ], [12.439171 ], [12.447801 ], [12.456436 ], [12.465077 ], [12.473724 ], [12.482378 ], [12.491037 ], [12.499703 ], [12.508374 ], [12.517052 ], [12.525736 ], [12.534425 ], [12.54312  ], [12.551822 ], [12.56053  ], [12.569243 ], [12.577963 ], [12.586689 ], [12.595421 ], [12.604158 ], [12.612903 ], [12.621653 ], [12.630408 ], [12.639171 ], [12.647939 ], [12.6567135], [12.665494 ], [12.67428  ], [12.683073 ], [12.691872 ], [12.700676 ], [12.709487 ], [12.718305 ], [12.727127 ], [12.735956 ], [12.744792 ], [12.7536335], [12.762481 ], [12.771335 ], [12.780195 ], [12.789061 ], [12.797933 ], [12.806811 ], [12.815696 ], [12.824587 ], [12.833484 ], [12.842386 ], [12.851295 ], [12.860211 ], [12.869133 ], [12.87806  ], [12.886994 ], [12.895934 ], [12.904881 ], [12.913834 ], [12.922792 ], [12.931757 ], [12.940728 ], [12.949706 ], [12.95869  ], [12.967679 ], [12.976676 ], [12.985678 ], [12.994686 ], [13.003701 ], [13.012722 ], [13.0217495], [13.030784 ], [13.039824 ], [13.048869 ], [13.057922 ], [13.06698  ], [13.076046 ], [13.085117 ], [13.094194 ], [13.103278 ], [13.112369 ], [13.121466 ], [13.1305685], [13.139677 ], [13.148792 ], [13.157914 ], [13.167043 ], [13.176177 ], [13.185318 ], [13.194465 ], [13.203618 ], [13.212778 ], [13.221944 ], [13.231116 ], [13.240295 ], [13.249481 ], [13.258673 ], [13.267871 ], [13.277075 ], [13.286285 ], [13.295503 ], [13.304727 ], [13.313956 ], [13.323193 ], [13.332436 ], [13.341684 ], [13.35094  ], [13.360202 ], [13.369471 ], [13.378745 ], [13.388027 ], [13.397314 ], [13.406609 ], [13.41591  ], [13.425217 ], [13.43453  ], [13.44385  ], [13.4531765], [13.462509 ], [13.4718485], [13.4811945], [13.490547 ], [13.499906 ], [13.509272 ], [13.518643 ], [13.528022 ], [13.537406 ], [13.546798 ], [13.556195 ], [13.565599 ], [13.575011 ], [13.584428 ], [13.593852 ], [13.603283 ], [13.61272  ], [13.622164 ], [13.631614 ], [13.64107  ], [13.650534 ], [13.660004 ], [13.66948  ], [13.678963 ], [13.688453 ], [13.697948 ], [13.707451 ], [13.716961 ], [13.726477 ], [13.735999 ], [13.745528 ], [13.755064 ], [13.764606 ], [13.774156 ], [13.7837105], [13.793273 ], [13.802842 ], [13.812418 ], [13.822    ], [13.831589 ], [13.841184 ], [13.850786 ], [13.8603945], [13.87001  ], [13.879632 ], [13.889261 ], [13.898896 ], [13.908539 ], [13.918187 ], [13.927843 ], [13.937506 ], [13.947174 ], [13.95685  ], [13.966532 ], [13.976221 ], [13.985917 ], [13.99562  ], [14.005329 ], [14.015045 ], [14.024768 ], [14.034497 ], [14.044233 ], [14.053976 ], [14.063725 ], [14.0734825], [14.083245 ], [14.093016 ], [14.102793 ], [14.1125765], [14.122367 ], [14.132164 ], [14.141968 ], [14.151778 ], [14.161596 ], [14.17142  ], [14.181252 ], [14.19109  ], [14.200934 ], [14.210786 ], [14.220645 ], [14.23051  ], [14.240382 ], [14.250261 ], [14.260147 ], [14.27004  ], [14.27994  ], [14.289846 ], [14.299759 ], [14.30968  ], [14.319607 ], [14.32954  ], [14.339481 ], [14.349429 ], [14.359384 ], [14.369346 ], [14.379314 ], [14.38929  ], [14.399272 ], [14.409261 ], [14.419257 ], [14.42926  ], [14.439271 ], [14.449287 ], [14.4593115], [14.469342 ], [14.479381 ], [14.489426 ], [14.499477 ], [14.509536 ], [14.519602 ], [14.529675 ], [14.539754 ], [14.549841 ], [14.559935 ], [14.570035 ], [14.580143 ], [14.590258 ], [14.60038  ], [14.610508 ], [14.620645 ], [14.630787 ], [14.640937 ], [14.6510935], [14.661258 ], [14.671429 ], [14.681607 ], [14.691792 ], [14.701984 ], [14.712183 ], [14.72239  ], [14.732603 ], [14.742824 ], [14.753052 ], [14.763286 ], [14.773528 ], [14.783776 ], [14.794033 ], [14.804296 ], [14.814567 ], [14.824843 ], [14.835128 ], [14.84542  ], [14.855719 ], [14.866024 ], [14.876337 ], [14.886658 ], [14.896985 ], [14.90732  ], [14.917662 ], [14.92801  ], [14.938366 ], [14.9487295], [14.9591   ], [14.969478 ], [14.979862 ], [14.990254 ], [15.000654 ], [15.011061 ], [15.021474 ], [15.031895 ], [15.042323 ], [15.052758 ], [15.063201 ], [15.073651 ], [15.084108 ], [15.094572 ], [15.105044 ], [15.115523 ], [15.126009 ], [15.136502 ], [15.147003 ], [15.157511 ], [15.168027 ], [15.178549 ], [15.189079 ], [15.199616 ], [15.21016  ], [15.220713 ], [15.231272 ], [15.241838 ], [15.252412 ], [15.262993 ], [15.2735815], [15.284177 ], [15.294781 ], [15.305391 ], [15.316009 ], [15.326634 ], [15.337267 ], [15.347907 ], [15.358554 ], [15.369208 ], [15.37987  ], [15.39054  ], [15.401217 ], [15.411901 ], [15.422593 ], [15.433292 ], [15.443999 ], [15.454713 ], [15.465435 ], [15.476164 ], [15.4869   ], [15.497643 ], [15.508395 ], [15.519154 ], [15.52992  ], [15.540693 ], [15.551475 ], [15.5622635], [15.573059 ], [15.583863 ], [15.594674 ], [15.605493 ], [15.616319 ], [15.627152 ], [15.637993 ], [15.648842 ], [15.6596985], [15.670562 ], [15.681433 ], [15.692311 ], [15.703198 ], [15.714092 ], [15.724994 ], [15.735902 ], [15.746819 ], [15.757743 ], [15.768675 ], [15.7796135], [15.790561 ], [15.801516 ], [15.812477 ], [15.823447 ], [15.834424 ], [15.845409 ], [15.856401 ], [15.867402 ], [15.878409 ], [15.889425 ], [15.900448 ], [15.911479 ], [15.922517 ], [15.933563 ], [15.944616 ], [15.955678 ], [15.966747 ], [15.977823 ], [15.988908 ], [16.       ]])],\n",
       "         dtype=(numpy.record, [('WAVEINDEX', '<i4', (2000, 1)), ('WAVECOORD', '<f4', (2000, 1))]))"
      ]
     },
     "execution_count": 833,
     "metadata": {},
     "output_type": "execute_result"
    }
   ],
   "source": [
    "waverec"
   ]
  },
  {
   "cell_type": "code",
   "execution_count": 812,
   "metadata": {},
   "outputs": [
    {
     "data": {
      "text/plain": [
       "FITS_rec([([[20.52005 ], [20.696583], [20.873219], [21.049953], [21.226791], [21.403732], [21.580776], [21.757923], [21.935171], [22.112522], [22.289978], [22.467537], [22.645199], [22.822968], [23.000837], [23.17881 ], [23.35689 ], [23.535074], [23.713362], [23.891756], [24.070255], [24.248857], [24.427567], [24.606384], [24.785305], [24.96433 ], [25.143463], [25.322704], [25.50205 ], [25.681503], [25.861065], [26.040731], [26.220507], [26.400389], [26.58038 ], [26.760477], [26.940683], [27.120998], [27.301422], [27.481953], [27.662594], [27.843344], [28.024204], [28.205173], [28.386253], [28.56744 ], [28.748741], [28.93015 ], [29.11167 ], [29.2933  ], [29.475042], [29.656895], [29.83886 ], [30.020935], [30.203123], [30.385422], [30.567833], [30.750359], [30.932995], [31.115744], [31.298607], [31.481583], [31.664673], [31.847876], [32.031193], [32.214622], [32.398167], [32.58183 ], [32.765602], [32.949493], [33.133495], [33.317616], [33.501854], [33.686203], [33.87067 ], [34.055256], [34.239956], [34.424774], [34.609707], [34.794758], [34.979927], [35.16521 ], [35.350616], [35.536137], [35.72178 ], [35.907536], [36.093414], [36.279408], [36.465523], [36.651756], [36.83811 ], [37.024586], [37.21118 ], [37.397896], [37.584732], [37.771687], [37.958763], [38.14596 ], [38.333282]],)],\n",
       "         dtype=(numpy.record, [('WAVELENGTH', '>f4', (99, 1))]))"
      ]
     },
     "execution_count": 812,
     "metadata": {},
     "output_type": "execute_result"
    }
   ],
   "source": [
    "with astropy.io.fits.open(\"./ngc2976_DR5_LL1_cube.fits\") as fhdul:\n",
    "    hdul = copy.deepcopy(fhdul)\n",
    "    # print(type(hdul[\"WCS-TAB\"].data))\n",
    "hdul[\"WCS-TAB\"].data"
   ]
  },
  {
   "cell_type": "code",
   "execution_count": 813,
   "metadata": {},
   "outputs": [
    {
     "data": {
      "text/plain": [
       "FITS_rec([([[   0], [   1], [   2], [   3], [   4], [   5], [   6], [   7], [   8], [   9], [  10], [  11], [  12], [  13], [  14], [  15], [  16], [  17], [  18], [  19], [  20], [  21], [  22], [  23], [  24], [  25], [  26], [  27], [  28], [  29], [  30], [  31], [  32], [  33], [  34], [  35], [  36], [  37], [  38], [  39], [  40], [  41], [  42], [  43], [  44], [  45], [  46], [  47], [  48], [  49], [  50], [  51], [  52], [  53], [  54], [  55], [  56], [  57], [  58], [  59], [  60], [  61], [  62], [  63], [  64], [  65], [  66], [  67], [  68], [  69], [  70], [  71], [  72], [  73], [  74], [  75], [  76], [  77], [  78], [  79], [  80], [  81], [  82], [  83], [  84], [  85], [  86], [  87], [  88], [  89], [  90], [  91], [  92], [  93], [  94], [  95], [  96], [  97], [  98], [  99], [ 100], [ 101], [ 102], [ 103], [ 104], [ 105], [ 106], [ 107], [ 108], [ 109], [ 110], [ 111], [ 112], [ 113], [ 114], [ 115], [ 116], [ 117], [ 118], [ 119], [ 120], [ 121], [ 122], [ 123], [ 124], [ 125], [ 126], [ 127], [ 128], [ 129], [ 130], [ 131], [ 132], [ 133], [ 134], [ 135], [ 136], [ 137], [ 138], [ 139], [ 140], [ 141], [ 142], [ 143], [ 144], [ 145], [ 146], [ 147], [ 148], [ 149], [ 150], [ 151], [ 152], [ 153], [ 154], [ 155], [ 156], [ 157], [ 158], [ 159], [ 160], [ 161], [ 162], [ 163], [ 164], [ 165], [ 166], [ 167], [ 168], [ 169], [ 170], [ 171], [ 172], [ 173], [ 174], [ 175], [ 176], [ 177], [ 178], [ 179], [ 180], [ 181], [ 182], [ 183], [ 184], [ 185], [ 186], [ 187], [ 188], [ 189], [ 190], [ 191], [ 192], [ 193], [ 194], [ 195], [ 196], [ 197], [ 198], [ 199], [ 200], [ 201], [ 202], [ 203], [ 204], [ 205], [ 206], [ 207], [ 208], [ 209], [ 210], [ 211], [ 212], [ 213], [ 214], [ 215], [ 216], [ 217], [ 218], [ 219], [ 220], [ 221], [ 222], [ 223], [ 224], [ 225], [ 226], [ 227], [ 228], [ 229], [ 230], [ 231], [ 232], [ 233], [ 234], [ 235], [ 236], [ 237], [ 238], [ 239], [ 240], [ 241], [ 242], [ 243], [ 244], [ 245], [ 246], [ 247], [ 248], [ 249], [ 250], [ 251], [ 252], [ 253], [ 254], [ 255], [ 256], [ 257], [ 258], [ 259], [ 260], [ 261], [ 262], [ 263], [ 264], [ 265], [ 266], [ 267], [ 268], [ 269], [ 270], [ 271], [ 272], [ 273], [ 274], [ 275], [ 276], [ 277], [ 278], [ 279], [ 280], [ 281], [ 282], [ 283], [ 284], [ 285], [ 286], [ 287], [ 288], [ 289], [ 290], [ 291], [ 292], [ 293], [ 294], [ 295], [ 296], [ 297], [ 298], [ 299], [ 300], [ 301], [ 302], [ 303], [ 304], [ 305], [ 306], [ 307], [ 308], [ 309], [ 310], [ 311], [ 312], [ 313], [ 314], [ 315], [ 316], [ 317], [ 318], [ 319], [ 320], [ 321], [ 322], [ 323], [ 324], [ 325], [ 326], [ 327], [ 328], [ 329], [ 330], [ 331], [ 332], [ 333], [ 334], [ 335], [ 336], [ 337], [ 338], [ 339], [ 340], [ 341], [ 342], [ 343], [ 344], [ 345], [ 346], [ 347], [ 348], [ 349], [ 350], [ 351], [ 352], [ 353], [ 354], [ 355], [ 356], [ 357], [ 358], [ 359], [ 360], [ 361], [ 362], [ 363], [ 364], [ 365], [ 366], [ 367], [ 368], [ 369], [ 370], [ 371], [ 372], [ 373], [ 374], [ 375], [ 376], [ 377], [ 378], [ 379], [ 380], [ 381], [ 382], [ 383], [ 384], [ 385], [ 386], [ 387], [ 388], [ 389], [ 390], [ 391], [ 392], [ 393], [ 394], [ 395], [ 396], [ 397], [ 398], [ 399], [ 400], [ 401], [ 402], [ 403], [ 404], [ 405], [ 406], [ 407], [ 408], [ 409], [ 410], [ 411], [ 412], [ 413], [ 414], [ 415], [ 416], [ 417], [ 418], [ 419], [ 420], [ 421], [ 422], [ 423], [ 424], [ 425], [ 426], [ 427], [ 428], [ 429], [ 430], [ 431], [ 432], [ 433], [ 434], [ 435], [ 436], [ 437], [ 438], [ 439], [ 440], [ 441], [ 442], [ 443], [ 444], [ 445], [ 446], [ 447], [ 448], [ 449], [ 450], [ 451], [ 452], [ 453], [ 454], [ 455], [ 456], [ 457], [ 458], [ 459], [ 460], [ 461], [ 462], [ 463], [ 464], [ 465], [ 466], [ 467], [ 468], [ 469], [ 470], [ 471], [ 472], [ 473], [ 474], [ 475], [ 476], [ 477], [ 478], [ 479], [ 480], [ 481], [ 482], [ 483], [ 484], [ 485], [ 486], [ 487], [ 488], [ 489], [ 490], [ 491], [ 492], [ 493], [ 494], [ 495], [ 496], [ 497], [ 498], [ 499], [ 500], [ 501], [ 502], [ 503], [ 504], [ 505], [ 506], [ 507], [ 508], [ 509], [ 510], [ 511], [ 512], [ 513], [ 514], [ 515], [ 516], [ 517], [ 518], [ 519], [ 520], [ 521], [ 522], [ 523], [ 524], [ 525], [ 526], [ 527], [ 528], [ 529], [ 530], [ 531], [ 532], [ 533], [ 534], [ 535], [ 536], [ 537], [ 538], [ 539], [ 540], [ 541], [ 542], [ 543], [ 544], [ 545], [ 546], [ 547], [ 548], [ 549], [ 550], [ 551], [ 552], [ 553], [ 554], [ 555], [ 556], [ 557], [ 558], [ 559], [ 560], [ 561], [ 562], [ 563], [ 564], [ 565], [ 566], [ 567], [ 568], [ 569], [ 570], [ 571], [ 572], [ 573], [ 574], [ 575], [ 576], [ 577], [ 578], [ 579], [ 580], [ 581], [ 582], [ 583], [ 584], [ 585], [ 586], [ 587], [ 588], [ 589], [ 590], [ 591], [ 592], [ 593], [ 594], [ 595], [ 596], [ 597], [ 598], [ 599], [ 600], [ 601], [ 602], [ 603], [ 604], [ 605], [ 606], [ 607], [ 608], [ 609], [ 610], [ 611], [ 612], [ 613], [ 614], [ 615], [ 616], [ 617], [ 618], [ 619], [ 620], [ 621], [ 622], [ 623], [ 624], [ 625], [ 626], [ 627], [ 628], [ 629], [ 630], [ 631], [ 632], [ 633], [ 634], [ 635], [ 636], [ 637], [ 638], [ 639], [ 640], [ 641], [ 642], [ 643], [ 644], [ 645], [ 646], [ 647], [ 648], [ 649], [ 650], [ 651], [ 652], [ 653], [ 654], [ 655], [ 656], [ 657], [ 658], [ 659], [ 660], [ 661], [ 662], [ 663], [ 664], [ 665], [ 666], [ 667], [ 668], [ 669], [ 670], [ 671], [ 672], [ 673], [ 674], [ 675], [ 676], [ 677], [ 678], [ 679], [ 680], [ 681], [ 682], [ 683], [ 684], [ 685], [ 686], [ 687], [ 688], [ 689], [ 690], [ 691], [ 692], [ 693], [ 694], [ 695], [ 696], [ 697], [ 698], [ 699], [ 700], [ 701], [ 702], [ 703], [ 704], [ 705], [ 706], [ 707], [ 708], [ 709], [ 710], [ 711], [ 712], [ 713], [ 714], [ 715], [ 716], [ 717], [ 718], [ 719], [ 720], [ 721], [ 722], [ 723], [ 724], [ 725], [ 726], [ 727], [ 728], [ 729], [ 730], [ 731], [ 732], [ 733], [ 734], [ 735], [ 736], [ 737], [ 738], [ 739], [ 740], [ 741], [ 742], [ 743], [ 744], [ 745], [ 746], [ 747], [ 748], [ 749], [ 750], [ 751], [ 752], [ 753], [ 754], [ 755], [ 756], [ 757], [ 758], [ 759], [ 760], [ 761], [ 762], [ 763], [ 764], [ 765], [ 766], [ 767], [ 768], [ 769], [ 770], [ 771], [ 772], [ 773], [ 774], [ 775], [ 776], [ 777], [ 778], [ 779], [ 780], [ 781], [ 782], [ 783], [ 784], [ 785], [ 786], [ 787], [ 788], [ 789], [ 790], [ 791], [ 792], [ 793], [ 794], [ 795], [ 796], [ 797], [ 798], [ 799], [ 800], [ 801], [ 802], [ 803], [ 804], [ 805], [ 806], [ 807], [ 808], [ 809], [ 810], [ 811], [ 812], [ 813], [ 814], [ 815], [ 816], [ 817], [ 818], [ 819], [ 820], [ 821], [ 822], [ 823], [ 824], [ 825], [ 826], [ 827], [ 828], [ 829], [ 830], [ 831], [ 832], [ 833], [ 834], [ 835], [ 836], [ 837], [ 838], [ 839], [ 840], [ 841], [ 842], [ 843], [ 844], [ 845], [ 846], [ 847], [ 848], [ 849], [ 850], [ 851], [ 852], [ 853], [ 854], [ 855], [ 856], [ 857], [ 858], [ 859], [ 860], [ 861], [ 862], [ 863], [ 864], [ 865], [ 866], [ 867], [ 868], [ 869], [ 870], [ 871], [ 872], [ 873], [ 874], [ 875], [ 876], [ 877], [ 878], [ 879], [ 880], [ 881], [ 882], [ 883], [ 884], [ 885], [ 886], [ 887], [ 888], [ 889], [ 890], [ 891], [ 892], [ 893], [ 894], [ 895], [ 896], [ 897], [ 898], [ 899], [ 900], [ 901], [ 902], [ 903], [ 904], [ 905], [ 906], [ 907], [ 908], [ 909], [ 910], [ 911], [ 912], [ 913], [ 914], [ 915], [ 916], [ 917], [ 918], [ 919], [ 920], [ 921], [ 922], [ 923], [ 924], [ 925], [ 926], [ 927], [ 928], [ 929], [ 930], [ 931], [ 932], [ 933], [ 934], [ 935], [ 936], [ 937], [ 938], [ 939], [ 940], [ 941], [ 942], [ 943], [ 944], [ 945], [ 946], [ 947], [ 948], [ 949], [ 950], [ 951], [ 952], [ 953], [ 954], [ 955], [ 956], [ 957], [ 958], [ 959], [ 960], [ 961], [ 962], [ 963], [ 964], [ 965], [ 966], [ 967], [ 968], [ 969], [ 970], [ 971], [ 972], [ 973], [ 974], [ 975], [ 976], [ 977], [ 978], [ 979], [ 980], [ 981], [ 982], [ 983], [ 984], [ 985], [ 986], [ 987], [ 988], [ 989], [ 990], [ 991], [ 992], [ 993], [ 994], [ 995], [ 996], [ 997], [ 998], [ 999], [1000], [1001], [1002], [1003], [1004], [1005], [1006], [1007], [1008], [1009], [1010], [1011], [1012], [1013], [1014], [1015], [1016], [1017], [1018], [1019], [1020], [1021], [1022], [1023], [1024], [1025], [1026], [1027], [1028], [1029], [1030], [1031], [1032], [1033], [1034], [1035], [1036], [1037], [1038], [1039], [1040], [1041], [1042], [1043], [1044], [1045], [1046], [1047], [1048], [1049], [1050], [1051], [1052], [1053], [1054], [1055], [1056], [1057], [1058], [1059], [1060], [1061], [1062], [1063], [1064], [1065], [1066], [1067], [1068], [1069], [1070], [1071], [1072], [1073], [1074], [1075], [1076], [1077], [1078], [1079], [1080], [1081], [1082], [1083], [1084], [1085], [1086], [1087], [1088], [1089], [1090], [1091], [1092], [1093], [1094], [1095], [1096], [1097], [1098], [1099], [1100], [1101], [1102], [1103], [1104], [1105], [1106], [1107], [1108], [1109], [1110], [1111], [1112], [1113], [1114], [1115], [1116], [1117], [1118], [1119], [1120], [1121], [1122], [1123], [1124], [1125], [1126], [1127], [1128], [1129], [1130], [1131], [1132], [1133], [1134], [1135], [1136], [1137], [1138], [1139], [1140], [1141], [1142], [1143], [1144], [1145], [1146], [1147], [1148], [1149], [1150], [1151], [1152], [1153], [1154], [1155], [1156], [1157], [1158], [1159], [1160], [1161], [1162], [1163], [1164], [1165], [1166], [1167], [1168], [1169], [1170], [1171], [1172], [1173], [1174], [1175], [1176], [1177], [1178], [1179], [1180], [1181], [1182], [1183], [1184], [1185], [1186], [1187], [1188], [1189], [1190], [1191], [1192], [1193], [1194], [1195], [1196], [1197], [1198], [1199], [1200], [1201], [1202], [1203], [1204], [1205], [1206], [1207], [1208], [1209], [1210], [1211], [1212], [1213], [1214], [1215], [1216], [1217], [1218], [1219], [1220], [1221], [1222], [1223], [1224], [1225], [1226], [1227], [1228], [1229], [1230], [1231], [1232], [1233], [1234], [1235], [1236], [1237], [1238], [1239], [1240], [1241], [1242], [1243], [1244], [1245], [1246], [1247], [1248], [1249], [1250], [1251], [1252], [1253], [1254], [1255], [1256], [1257], [1258], [1259], [1260], [1261], [1262], [1263], [1264], [1265], [1266], [1267], [1268], [1269], [1270], [1271], [1272], [1273], [1274], [1275], [1276], [1277], [1278], [1279], [1280], [1281], [1282], [1283], [1284], [1285], [1286], [1287], [1288], [1289], [1290], [1291], [1292], [1293], [1294], [1295], [1296], [1297], [1298], [1299], [1300], [1301], [1302], [1303], [1304], [1305], [1306], [1307], [1308], [1309], [1310], [1311], [1312], [1313], [1314], [1315], [1316], [1317], [1318], [1319], [1320], [1321], [1322], [1323], [1324], [1325], [1326], [1327], [1328], [1329], [1330], [1331], [1332], [1333], [1334], [1335], [1336], [1337], [1338], [1339], [1340], [1341], [1342], [1343], [1344], [1345], [1346], [1347], [1348], [1349], [1350], [1351], [1352], [1353], [1354], [1355], [1356], [1357], [1358], [1359], [1360], [1361], [1362], [1363], [1364], [1365], [1366], [1367], [1368], [1369], [1370], [1371], [1372], [1373], [1374], [1375], [1376], [1377], [1378], [1379], [1380], [1381], [1382], [1383], [1384], [1385], [1386], [1387], [1388], [1389], [1390], [1391], [1392], [1393], [1394], [1395], [1396], [1397], [1398], [1399], [1400], [1401], [1402], [1403], [1404], [1405], [1406], [1407], [1408], [1409], [1410], [1411], [1412], [1413], [1414], [1415], [1416], [1417], [1418], [1419], [1420], [1421], [1422], [1423], [1424], [1425], [1426], [1427], [1428], [1429], [1430], [1431], [1432], [1433], [1434], [1435], [1436], [1437], [1438], [1439], [1440], [1441], [1442], [1443], [1444], [1445], [1446], [1447], [1448], [1449], [1450], [1451], [1452], [1453], [1454], [1455], [1456], [1457], [1458], [1459], [1460], [1461], [1462], [1463], [1464], [1465], [1466], [1467], [1468], [1469], [1470], [1471], [1472], [1473], [1474], [1475], [1476], [1477], [1478], [1479], [1480], [1481], [1482], [1483], [1484], [1485], [1486], [1487], [1488], [1489], [1490], [1491], [1492], [1493], [1494], [1495], [1496], [1497], [1498], [1499], [1500], [1501], [1502], [1503], [1504], [1505], [1506], [1507], [1508], [1509], [1510], [1511], [1512], [1513], [1514], [1515], [1516], [1517], [1518], [1519], [1520], [1521], [1522], [1523], [1524], [1525], [1526], [1527], [1528], [1529], [1530], [1531], [1532], [1533], [1534], [1535], [1536], [1537], [1538], [1539], [1540], [1541], [1542], [1543], [1544], [1545], [1546], [1547], [1548], [1549], [1550], [1551], [1552], [1553], [1554], [1555], [1556], [1557], [1558], [1559], [1560], [1561], [1562], [1563], [1564], [1565], [1566], [1567], [1568], [1569], [1570], [1571], [1572], [1573], [1574], [1575], [1576], [1577], [1578], [1579], [1580], [1581], [1582], [1583], [1584], [1585], [1586], [1587], [1588], [1589], [1590], [1591], [1592], [1593], [1594], [1595], [1596], [1597], [1598], [1599], [1600], [1601], [1602], [1603], [1604], [1605], [1606], [1607], [1608], [1609], [1610], [1611], [1612], [1613], [1614], [1615], [1616], [1617], [1618], [1619], [1620], [1621], [1622], [1623], [1624], [1625], [1626], [1627], [1628], [1629], [1630], [1631], [1632], [1633], [1634], [1635], [1636], [1637], [1638], [1639], [1640], [1641], [1642], [1643], [1644], [1645], [1646], [1647], [1648], [1649], [1650], [1651], [1652], [1653], [1654], [1655], [1656], [1657], [1658], [1659], [1660], [1661], [1662], [1663], [1664], [1665], [1666], [1667], [1668], [1669], [1670], [1671], [1672], [1673], [1674], [1675], [1676], [1677], [1678], [1679], [1680], [1681], [1682], [1683], [1684], [1685], [1686], [1687], [1688], [1689], [1690], [1691], [1692], [1693], [1694], [1695], [1696], [1697], [1698], [1699], [1700], [1701], [1702], [1703], [1704], [1705], [1706], [1707], [1708], [1709], [1710], [1711], [1712], [1713], [1714], [1715], [1716], [1717], [1718], [1719], [1720], [1721], [1722], [1723], [1724], [1725], [1726], [1727], [1728], [1729], [1730], [1731], [1732], [1733], [1734], [1735], [1736], [1737], [1738], [1739], [1740], [1741], [1742], [1743], [1744], [1745], [1746], [1747], [1748], [1749], [1750], [1751], [1752], [1753], [1754], [1755], [1756], [1757], [1758], [1759], [1760], [1761], [1762], [1763], [1764], [1765], [1766], [1767], [1768], [1769], [1770], [1771], [1772], [1773], [1774], [1775], [1776], [1777], [1778], [1779], [1780], [1781], [1782], [1783], [1784], [1785], [1786], [1787], [1788], [1789], [1790], [1791], [1792], [1793], [1794], [1795], [1796], [1797], [1798], [1799], [1800], [1801], [1802], [1803], [1804], [1805], [1806], [1807], [1808], [1809], [1810], [1811], [1812], [1813], [1814], [1815], [1816], [1817], [1818], [1819], [1820], [1821], [1822], [1823], [1824], [1825], [1826], [1827], [1828], [1829], [1830], [1831], [1832], [1833], [1834], [1835], [1836], [1837], [1838], [1839], [1840], [1841], [1842], [1843], [1844], [1845], [1846], [1847], [1848], [1849], [1850], [1851], [1852], [1853], [1854], [1855], [1856], [1857], [1858], [1859], [1860], [1861], [1862], [1863], [1864], [1865], [1866], [1867], [1868], [1869], [1870], [1871], [1872], [1873], [1874], [1875], [1876], [1877], [1878], [1879], [1880], [1881], [1882], [1883], [1884], [1885], [1886], [1887], [1888], [1889], [1890], [1891], [1892], [1893], [1894], [1895], [1896], [1897], [1898], [1899], [1900], [1901], [1902], [1903], [1904], [1905], [1906], [1907], [1908], [1909], [1910], [1911], [1912], [1913], [1914], [1915], [1916], [1917], [1918], [1919], [1920], [1921], [1922], [1923], [1924], [1925], [1926], [1927], [1928], [1929], [1930], [1931], [1932], [1933], [1934], [1935], [1936], [1937], [1938], [1939], [1940], [1941], [1942], [1943], [1944], [1945], [1946], [1947], [1948], [1949], [1950], [1951], [1952], [1953], [1954], [1955], [1956], [1957], [1958], [1959], [1960], [1961], [1962], [1963], [1964], [1965], [1966], [1967], [1968], [1969], [1970], [1971], [1972], [1973], [1974], [1975], [1976], [1977], [1978], [1979], [1980], [1981], [1982], [1983], [1984], [1985], [1986], [1987], [1988], [1989], [1990], [1991], [1992], [1993], [1994], [1995], [1996], [1997], [1998], [1999]], [[ 4.        ], [ 4.00277494], [ 4.0055518 ], [ 4.00833059], [ 4.01111131], [ 4.01389395], [ 4.01667853], [ 4.01946504], [ 4.02225348], [ 4.02504386], [ 4.02783617], [ 4.03063042], [ 4.0334266 ], [ 4.03622473], [ 4.0390248 ], [ 4.04182681], [ 4.04463076], [ 4.04743666], [ 4.05024451], [ 4.0530543 ], [ 4.05586605], [ 4.05867974], [ 4.06149539], [ 4.06431299], [ 4.06713254], [ 4.06995405], [ 4.07277752], [ 4.07560294], [ 4.07843033], [ 4.08125968], [ 4.08409099], [ 4.08692426], [ 4.0897595 ], [ 4.09259671], [ 4.09543588], [ 4.09827703], [ 4.10112015], [ 4.10396523], [ 4.1068123 ], [ 4.10966133], [ 4.11251235], [ 4.11536534], [ 4.11822031], [ 4.12107726], [ 4.12393619], [ 4.12679711], [ 4.12966001], [ 4.1325249 ], [ 4.13539177], [ 4.13826064], [ 4.14113149], [ 4.14400434], [ 4.14687918], [ 4.14975601], [ 4.15263484], [ 4.15551566], [ 4.15839849], [ 4.16128331], [ 4.16417014], [ 4.16705897], [ 4.1699498 ], [ 4.17284264], [ 4.17573748], [ 4.17863433], [ 4.1815332 ], [ 4.18443407], [ 4.18733696], [ 4.19024186], [ 4.19314877], [ 4.1960577 ], [ 4.19896865], [ 4.20188162], [ 4.20479661], [ 4.20771362], [ 4.21063266], [ 4.21355372], [ 4.21647681], [ 4.21940192], [ 4.22232907], [ 4.22525824], [ 4.22818945], [ 4.23112269], [ 4.23405797], [ 4.23699528], [ 4.23993463], [ 4.24287602], [ 4.24581945], [ 4.24876492], [ 4.25171243], [ 4.25466199], [ 4.2576136 ], [ 4.26056725], [ 4.26352295], [ 4.2664807 ], [ 4.26944051], [ 4.27240237], [ 4.27536628], [ 4.27833225], [ 4.28130027], [ 4.28427036], [ 4.28724251], [ 4.29021671], [ 4.29319299], [ 4.29617132], [ 4.29915172], [ 4.30213419], [ 4.30511873], [ 4.30810534], [ 4.31109402], [ 4.31408478], [ 4.31707761], [ 4.32007251], [ 4.32306949], [ 4.32606856], [ 4.3290697 ], [ 4.33207292], [ 4.33507823], [ 4.33808563], [ 4.3410951 ], [ 4.34410667], [ 4.34712033], [ 4.35013608], [ 4.35315391], [ 4.35617385], [ 4.35919588], [ 4.36222   ], [ 4.36524622], [ 4.36827454], [ 4.37130497], [ 4.37433749], [ 4.37737212], [ 4.38040885], [ 4.38344769], [ 4.38648864], [ 4.3895317 ], [ 4.39257687], [ 4.39562415], [ 4.39867355], [ 4.40172506], [ 4.40477869], [ 4.40783443], [ 4.4108923 ], [ 4.41395229], [ 4.4170144 ], [ 4.42007864], [ 4.423145  ], [ 4.42621348], [ 4.4292841 ], [ 4.43235685], [ 4.43543173], [ 4.43850874], [ 4.44158788], [ 4.44466917], [ 4.44775259], [ 4.45083815], [ 4.45392585], [ 4.45701569], [ 4.46010767], [ 4.4632018 ], [ 4.46629808], [ 4.46939651], [ 4.47249708], [ 4.4755998 ], [ 4.47870468], [ 4.48181171], [ 4.4849209 ], [ 4.48803225], [ 4.49114575], [ 4.49426141], [ 4.49737923], [ 4.50049922], [ 4.50362137], [ 4.50674569], [ 4.50987218], [ 4.51300083], [ 4.51613165], [ 4.51926465], [ 4.52239982], [ 4.52553716], [ 4.52867668], [ 4.53181838], [ 4.53496226], [ 4.53810832], [ 4.54125656], [ 4.54440699], [ 4.5475596 ], [ 4.5507144 ], [ 4.55387139], [ 4.55703056], [ 4.56019193], [ 4.5633555 ], [ 4.56652125], [ 4.56968921], [ 4.57285936], [ 4.57603171], [ 4.57920626], [ 4.58238301], [ 4.58556197], [ 4.58874313], [ 4.5919265 ], [ 4.59511208], [ 4.59829986], [ 4.60148986], [ 4.60468208], [ 4.6078765 ], [ 4.61107315], [ 4.61427201], [ 4.61747308], [ 4.62067638], [ 4.62388191], [ 4.62708965], [ 4.63029963], [ 4.63351182], [ 4.63672625], [ 4.63994291], [ 4.6431618 ], [ 4.64638292], [ 4.64960627], [ 4.65283186], [ 4.65605969], [ 4.65928976], [ 4.66252207], [ 4.66575663], [ 4.66899342], [ 4.67223246], [ 4.67547375], [ 4.67871729], [ 4.68196308], [ 4.68521112], [ 4.68846141], [ 4.69171395], [ 4.69496876], [ 4.69822582], [ 4.70148514], [ 4.70474672], [ 4.70801057], [ 4.71127668], [ 4.71454505], [ 4.71781569], [ 4.72108861], [ 4.72436379], [ 4.72764124], [ 4.73092097], [ 4.73420297], [ 4.73748725], [ 4.74077381], [ 4.74406265], [ 4.74735377], [ 4.75064717], [ 4.75394286], [ 4.75724083], [ 4.76054109], [ 4.76384365], [ 4.76714849], [ 4.77045562], [ 4.77376505], [ 4.77707678], [ 4.7803908 ], [ 4.78370712], [ 4.78702574], [ 4.79034667], [ 4.7936699 ], [ 4.79699543], [ 4.80032327], [ 4.80365342], [ 4.80698588], [ 4.81032065], [ 4.81365774], [ 4.81699714], [ 4.82033886], [ 4.82368289], [ 4.82702925], [ 4.83037792], [ 4.83372892], [ 4.83708225], [ 4.8404379 ], [ 4.84379588], [ 4.84715618], [ 4.85051882], [ 4.85388379], [ 4.8572511 ], [ 4.86062074], [ 4.86399272], [ 4.86736704], [ 4.8707437 ], [ 4.87412271], [ 4.87750405], [ 4.88088775], [ 4.88427379], [ 4.88766217], [ 4.89105291], [ 4.89444601], [ 4.89784145], [ 4.90123925], [ 4.90463941], [ 4.90804193], [ 4.91144681], [ 4.91485405], [ 4.91826365], [ 4.92167562], [ 4.92508995], [ 4.92850666], [ 4.93192573], [ 4.93534718], [ 4.938771  ], [ 4.9421972 ], [ 4.94562577], [ 4.94905672], [ 4.95249005], [ 4.95592576], [ 4.95936386], [ 4.96280434], [ 4.96624721], [ 4.96969247], [ 4.97314011], [ 4.97659015], [ 4.98004259], [ 4.98349741], [ 4.98695464], [ 4.99041426], [ 4.99387628], [ 4.9973407 ], [ 5.00080753], [ 5.00427676], [ 5.0077484 ], [ 5.01122245], [ 5.01469891], [ 5.01817778], [ 5.02165906], [ 5.02514276], [ 5.02862887], [ 5.03211741], [ 5.03560836], [ 5.03910173], [ 5.04259753], [ 5.04609576], [ 5.04959641], [ 5.05309949], [ 5.056605  ], [ 5.06011294], [ 5.06362331], [ 5.06713612], [ 5.07065137], [ 5.07416905], [ 5.07768918], [ 5.08121175], [ 5.08473676], [ 5.08826422], [ 5.09179412], [ 5.09532647], [ 5.09886128], [ 5.10239853], [ 5.10593824], [ 5.10948041], [ 5.11302503], [ 5.11657211], [ 5.12012165], [ 5.12367366], [ 5.12722813], [ 5.13078506], [ 5.13434446], [ 5.13790634], [ 5.14147068], [ 5.14503749], [ 5.14860678], [ 5.15217855], [ 5.15575279], [ 5.15932952], [ 5.16290872], [ 5.16649041], [ 5.17007458], [ 5.17366124], [ 5.17725039], [ 5.18084202], [ 5.18443615], [ 5.18803278], [ 5.19163189], [ 5.19523351], [ 5.19883762], [ 5.20244423], [ 5.20605335], [ 5.20966496], [ 5.21327909], [ 5.21689572], [ 5.22051486], [ 5.22413651], [ 5.22776067], [ 5.23138735], [ 5.23501655], [ 5.23864826], [ 5.24228249], [ 5.24591924], [ 5.24955852], [ 5.25320031], [ 5.25684464], [ 5.26049149], [ 5.26414088], [ 5.2677928 ], [ 5.27144724], [ 5.27510423], [ 5.27876375], [ 5.28242581], [ 5.28609041], [ 5.28975755], [ 5.29342724], [ 5.29709947], [ 5.30077425], [ 5.30445158], [ 5.30813147], [ 5.3118139 ], [ 5.31549889], [ 5.31918643], [ 5.32287653], [ 5.3265692 ], [ 5.33026442], [ 5.33396221], [ 5.33766256], [ 5.34136548], [ 5.34507097], [ 5.34877903], [ 5.35248967], [ 5.35620287], [ 5.35991865], [ 5.36363701], [ 5.36735795], [ 5.37108148], [ 5.37480758], [ 5.37853627], [ 5.38226754], [ 5.38600141], [ 5.38973786], [ 5.39347691], [ 5.39721855], [ 5.40096279], [ 5.40470962], [ 5.40845906], [ 5.41221109], [ 5.41596573], [ 5.41972297], [ 5.42348282], [ 5.42724527], [ 5.43101034], [ 5.43477802], [ 5.43854831], [ 5.44232122], [ 5.44609675], [ 5.44987489], [ 5.45365566], [ 5.45743905], [ 5.46122506], [ 5.4650137 ], [ 5.46880497], [ 5.47259887], [ 5.4763954 ], [ 5.48019456], [ 5.48399636], [ 5.4878008 ], [ 5.49160787], [ 5.49541759], [ 5.49922995], [ 5.50304496], [ 5.50686261], [ 5.51068291], [ 5.51450586], [ 5.51833146], [ 5.52215972], [ 5.52599063], [ 5.5298242 ], [ 5.53366043], [ 5.53749932], [ 5.54134088], [ 5.5451851 ], [ 5.54903198], [ 5.55288154], [ 5.55673376], [ 5.56058866], [ 5.56444623], [ 5.56830648], [ 5.57216941], [ 5.57603501], [ 5.5799033 ], [ 5.58377427], [ 5.58764793], [ 5.59152427], [ 5.5954033 ], [ 5.59928503], [ 5.60316944], [ 5.60705656], [ 5.61094636], [ 5.61483887], [ 5.61873408], [ 5.62263199], [ 5.6265326 ], [ 5.63043592], [ 5.63434195], [ 5.63825069], [ 5.64216213], [ 5.6460763 ], [ 5.64999317], [ 5.65391277], [ 5.65783508], [ 5.66176012], [ 5.66568788], [ 5.66961836], [ 5.67355157], [ 5.67748751], [ 5.68142618], [ 5.68536758], [ 5.68931171], [ 5.69325858], [ 5.69720819], [ 5.70116054], [ 5.70511563], [ 5.70907347], [ 5.71303405], [ 5.71699738], [ 5.72096346], [ 5.72493229], [ 5.72890387], [ 5.73287821], [ 5.7368553 ], [ 5.74083516], [ 5.74481777], [ 5.74880315], [ 5.75279129], [ 5.7567822 ], [ 5.76077588], [ 5.76477233], [ 5.76877155], [ 5.77277355], [ 5.77677832], [ 5.78078587], [ 5.7847962 ], [ 5.78880931], [ 5.79282521], [ 5.79684389], [ 5.80086536], [ 5.80488962], [ 5.80891667], [ 5.81294652], [ 5.81697916], [ 5.8210146 ], [ 5.82505284], [ 5.82909388], [ 5.83313772], [ 5.83718437], [ 5.84123382], [ 5.84528609], [ 5.84934116], [ 5.85339905], [ 5.85745976], [ 5.86152328], [ 5.86558962], [ 5.86965878], [ 5.87373077], [ 5.87780558], [ 5.88188321], [ 5.88596368], [ 5.89004697], [ 5.8941331 ], [ 5.89822206], [ 5.90231386], [ 5.9064085 ], [ 5.91050598], [ 5.9146063 ], [ 5.91870947], [ 5.92281548], [ 5.92692434], [ 5.93103606], [ 5.93515062], [ 5.93926804], [ 5.94338831], [ 5.94751145], [ 5.95163744], [ 5.9557663 ], [ 5.95989802], [ 5.9640326 ], [ 5.96817006], [ 5.97231038], [ 5.97645358], [ 5.98059965], [ 5.9847486 ], [ 5.98890043], [ 5.99305513], [ 5.99721272], [ 6.00137319], [ 6.00553655], [ 6.0097028 ], [ 6.01387194], [ 6.01804397], [ 6.02221889], [ 6.02639671], [ 6.03057743], [ 6.03476105], [ 6.03894757], [ 6.043137  ], [ 6.04732933], [ 6.05152457], [ 6.05572272], [ 6.05992379], [ 6.06412777], [ 6.06833466], [ 6.07254447], [ 6.07675721], [ 6.08097286], [ 6.08519144], [ 6.08941295], [ 6.09363738], [ 6.09786475], [ 6.10209505], [ 6.10632828], [ 6.11056445], [ 6.11480356], [ 6.11904561], [ 6.12329061], [ 6.12753854], [ 6.13178943], [ 6.13604326], [ 6.14030005], [ 6.14455978], [ 6.14882248], [ 6.15308813], [ 6.15735674], [ 6.16162831], [ 6.16590284], [ 6.17018034], [ 6.17446081], [ 6.17874424], [ 6.18303065], [ 6.18732003], [ 6.19161239], [ 6.19590772], [ 6.20020604], [ 6.20450733], [ 6.20881161], [ 6.21311888], [ 6.21742914], [ 6.22174238], [ 6.22605862], [ 6.23037785], [ 6.23470008], [ 6.2390253 ], [ 6.24335353], [ 6.24768476], [ 6.25201899], [ 6.25635623], [ 6.26069648], [ 6.26503974], [ 6.26938602], [ 6.27373531], [ 6.27808761], [ 6.28244294], [ 6.28680129], [ 6.29116266], [ 6.29552705], [ 6.29989448], [ 6.30426493], [ 6.30863842], [ 6.31301494], [ 6.31739449], [ 6.32177709], [ 6.32616272], [ 6.3305514 ], [ 6.33494312], [ 6.33933789], [ 6.34373571], [ 6.34813657], [ 6.35254049], [ 6.35694747], [ 6.3613575 ], [ 6.3657706 ], [ 6.37018675], [ 6.37460597], [ 6.37902825], [ 6.3834536 ], [ 6.38788203], [ 6.39231352], [ 6.39674809], [ 6.40118573], [ 6.40562646], [ 6.41007026], [ 6.41451715], [ 6.41896712], [ 6.42342018], [ 6.42787632], [ 6.43233556], [ 6.4367979 ], [ 6.44126332], [ 6.44573185], [ 6.45020348], [ 6.45467821], [ 6.45915604], [ 6.46363698], [ 6.46812103], [ 6.47260818], [ 6.47709845], [ 6.48159184], [ 6.48608834], [ 6.49058797], [ 6.49509071], [ 6.49959658], [ 6.50410557], [ 6.5086177 ], [ 6.51313295], [ 6.51765133], [ 6.52217285], [ 6.52669751], [ 6.5312253 ], [ 6.53575624], [ 6.54029032], [ 6.54482754], [ 6.54936792], [ 6.55391144], [ 6.55845811], [ 6.56300794], [ 6.56756093], [ 6.57211707], [ 6.57667637], [ 6.58123884], [ 6.58580447], [ 6.59037327], [ 6.59494524], [ 6.59952038], [ 6.6040987 ], [ 6.60868019], [ 6.61326486], [ 6.6178527 ], [ 6.62244374], [ 6.62703795], [ 6.63163536], [ 6.63623595], [ 6.64083974], [ 6.64544672], [ 6.65005689], [ 6.65467027], [ 6.65928684], [ 6.66390662], [ 6.6685296 ], [ 6.67315579], [ 6.67778519], [ 6.6824178 ], [ 6.68705362], [ 6.69169266], [ 6.69633492], [ 6.70098039], [ 6.7056291 ], [ 6.71028102], [ 6.71493617], [ 6.71959456], [ 6.72425617], [ 6.72892102], [ 6.7335891 ], [ 6.73826043], [ 6.74293499], [ 6.7476128 ], [ 6.75229385], [ 6.75697815], [ 6.76166569], [ 6.7663565 ], [ 6.77105055], [ 6.77574786], [ 6.78044843], [ 6.78515226], [ 6.78985936], [ 6.79456971], [ 6.79928334], [ 6.80400024], [ 6.80872041], [ 6.81344385], [ 6.81817057], [ 6.82290057], [ 6.82763385], [ 6.83237042], [ 6.83711027], [ 6.84185341], [ 6.84659984], [ 6.85134956], [ 6.85610258], [ 6.86085889], [ 6.86561851], [ 6.87038142], [ 6.87514764], [ 6.87991717], [ 6.88469   ], [ 6.88946615], [ 6.89424561], [ 6.89902839], [ 6.90381448], [ 6.90860389], [ 6.91339663], [ 6.91819269], [ 6.92299208], [ 6.9277948 ], [ 6.93260085], [ 6.93741023], [ 6.94222295], [ 6.94703901], [ 6.95185841], [ 6.95668116], [ 6.96150725], [ 6.96633668], [ 6.97116947], [ 6.97600561], [ 6.98084511], [ 6.98568796], [ 6.99053417], [ 6.99538375], [ 7.00023669], [ 7.00509299], [ 7.00995266], [ 7.01481571], [ 7.01968213], [ 7.02455193], [ 7.0294251 ], [ 7.03430165], [ 7.03918159], [ 7.04406491], [ 7.04895162], [ 7.05384172], [ 7.05873522], [ 7.06363211], [ 7.06853239], [ 7.07343607], [ 7.07834316], [ 7.08325365], [ 7.08816755], [ 7.09308485], [ 7.09800557], [ 7.1029297 ], [ 7.10785725], [ 7.11278822], [ 7.1177226 ], [ 7.12266041], [ 7.12760165], [ 7.13254631], [ 7.1374944 ], [ 7.14244593], [ 7.14740089], [ 7.15235929], [ 7.15732112], [ 7.1622864 ], [ 7.16725513], [ 7.1722273 ], [ 7.17720292], [ 7.182182  ], [ 7.18716452], [ 7.19215051], [ 7.19713995], [ 7.20213285], [ 7.20712922], [ 7.21212905], [ 7.21713236], [ 7.22213913], [ 7.22714938], [ 7.2321631 ], [ 7.2371803 ], [ 7.24220098], [ 7.24722515], [ 7.25225279], [ 7.25728393], [ 7.26231856], [ 7.26735668], [ 7.2723983 ], [ 7.27744341], [ 7.28249202], [ 7.28754414], [ 7.29259976], [ 7.29765889], [ 7.30272152], [ 7.30778767], [ 7.31285734], [ 7.31793052], [ 7.32300722], [ 7.32808744], [ 7.33317119], [ 7.33825846], [ 7.34334926], [ 7.3484436 ], [ 7.35354147], [ 7.35864287], [ 7.36374782], [ 7.3688563 ], [ 7.37396833], [ 7.37908391], [ 7.38420303], [ 7.38932571], [ 7.39445194], [ 7.39958172], [ 7.40471507], [ 7.40985197], [ 7.41499244], [ 7.42013648], [ 7.42528408], [ 7.43043526], [ 7.43559001], [ 7.44074833], [ 7.44591024], [ 7.45107572], [ 7.45624479], [ 7.46141744], [ 7.46659369], [ 7.47177352], [ 7.47695695], [ 7.48214397], [ 7.48733459], [ 7.49252881], [ 7.49772664], [ 7.50292807], [ 7.50813311], [ 7.51334176], [ 7.51855402], [ 7.5237699 ], [ 7.5289894 ], [ 7.53421252], [ 7.53943926], [ 7.54466963], [ 7.54990363], [ 7.55514126], [ 7.56038252], [ 7.56562742], [ 7.57087595], [ 7.57612813], [ 7.58138395], [ 7.58664342], [ 7.59190653], [ 7.5971733 ], [ 7.60244372], [ 7.6077178 ], [ 7.61299554], [ 7.61827693], [ 7.62356199], [ 7.62885072], [ 7.63414312], [ 7.63943919], [ 7.64473893], [ 7.65004235], [ 7.65534944], [ 7.66066022], [ 7.66597469], [ 7.67129284], [ 7.67661468], [ 7.68194021], [ 7.68726944], [ 7.69260236], [ 7.69793898], [ 7.70327931], [ 7.70862334], [ 7.71397108], [ 7.71932253], [ 7.72467769], [ 7.73003656], [ 7.73539915], [ 7.74076547], [ 7.7461355 ], [ 7.75150926], [ 7.75688675], [ 7.76226797], [ 7.76765292], [ 7.77304161], [ 7.77843404], [ 7.78383021], [ 7.78923012], [ 7.79463378], [ 7.80004118], [ 7.80545234], [ 7.81086725], [ 7.81628592], [ 7.82170834], [ 7.82713453], [ 7.83256449], [ 7.83799821], [ 7.84343569], [ 7.84887696], [ 7.85432199], [ 7.85977081], [ 7.8652234 ], [ 7.87067978], [ 7.87613994], [ 7.88160389], [ 7.88707163], [ 7.89254316], [ 7.89801849], [ 7.90349762], [ 7.90898055], [ 7.91446728], [ 7.91995782], [ 7.92545217], [ 7.93095032], [ 7.9364523 ], [ 7.94195809], [ 7.9474677 ], [ 7.95298113], [ 7.95849839], [ 7.96401947], [ 7.96954439], [ 7.97507313], [ 7.98060572], [ 7.98614214], [ 7.9916824 ], [ 7.99722651], [ 8.00277446], [ 8.00832626], [ 8.01388191], [ 8.01944141], [ 8.02500478], [ 8.030572  ], [ 8.03614308], [ 8.04171803], [ 8.04729685], [ 8.05287954], [ 8.0584661 ], [ 8.06405653], [ 8.06965085], [ 8.07524904], [ 8.08085112], [ 8.08645708], [ 8.09206694], [ 8.09768068], [ 8.10329832], [ 8.10891986], [ 8.1145453 ], [ 8.12017464], [ 8.12580788], [ 8.13144504], [ 8.1370861 ], [ 8.14273108], [ 8.14837997], [ 8.15403278], [ 8.15968951], [ 8.16535017], [ 8.17101476], [ 8.17668327], [ 8.18235572], [ 8.1880321 ], [ 8.19371242], [ 8.19939668], [ 8.20508489], [ 8.21077704], [ 8.21647313], [ 8.22217318], [ 8.22787719], [ 8.23358515], [ 8.23929707], [ 8.24501296], [ 8.25073281], [ 8.25645662], [ 8.26218441], [ 8.26791617], [ 8.27365191], [ 8.27939163], [ 8.28513533], [ 8.29088301], [ 8.29663468], [ 8.30239035], [ 8.30815   ], [ 8.31391365], [ 8.3196813 ], [ 8.32545295], [ 8.3312286 ], [ 8.33700826], [ 8.34279193], [ 8.34857961], [ 8.35437131], [ 8.36016703], [ 8.36596676], [ 8.37177052], [ 8.37757831], [ 8.38339012], [ 8.38920597], [ 8.39502585], [ 8.40084977], [ 8.40667773], [ 8.41250973], [ 8.41834578], [ 8.42418587], [ 8.43003002], [ 8.43587822], [ 8.44173048], [ 8.4475868 ], [ 8.45344718], [ 8.45931163], [ 8.46518015], [ 8.47105273], [ 8.4769294 ], [ 8.48281013], [ 8.48869495], [ 8.49458385], [ 8.50047684], [ 8.50637391], [ 8.51227507], [ 8.51818033], [ 8.52408969], [ 8.53000314], [ 8.5359207 ], [ 8.54184236], [ 8.54776813], [ 8.55369801], [ 8.55963201], [ 8.56557012], [ 8.57151235], [ 8.5774587 ], [ 8.58340918], [ 8.58936379], [ 8.59532253], [ 8.6012854 ], [ 8.60725241], [ 8.61322355], [ 8.61919884], [ 8.62517828], [ 8.63116186], [ 8.6371496 ], [ 8.64314149], [ 8.64913753], [ 8.65513774], [ 8.6611421 ], [ 8.66715064], [ 8.67316334], [ 8.67918021], [ 8.68520125], [ 8.69122648], [ 8.69725588], [ 8.70328947], [ 8.70932724], [ 8.7153692 ], [ 8.72141535], [ 8.7274657 ], [ 8.73352024], [ 8.73957898], [ 8.74564193], [ 8.75170908], [ 8.75778045], [ 8.76385602], [ 8.76993581], [ 8.77601982], [ 8.78210804], [ 8.78820049], [ 8.79429717], [ 8.80039808], [ 8.80650322], [ 8.81261259], [ 8.81872621], [ 8.82484406], [ 8.83096616], [ 8.8370925 ], [ 8.8432231 ], [ 8.84935795], [ 8.85549705], [ 8.86164042], [ 8.86778804], [ 8.87393993], [ 8.88009609], [ 8.88625652], [ 8.89242122], [ 8.8985902 ], [ 8.90476346], [ 8.910941  ], [ 8.91712283], [ 8.92330894], [ 8.92949935], [ 8.93569405], [ 8.94189305], [ 8.94809635], [ 8.95430395], [ 8.96051586], [ 8.96673208], [ 8.97295261], [ 8.97917745], [ 8.98540662], [ 8.99164011], [ 8.99787792], [ 9.00412005], [ 9.01036652], [ 9.01661732], [ 9.02287246], [ 9.02913194], [ 9.03539576], [ 9.04166392], [ 9.04793644], [ 9.0542133 ], [ 9.06049452], [ 9.0667801 ], [ 9.07307004], [ 9.07936434], [ 9.08566301], [ 9.09196604], [ 9.09827345], [ 9.10458524], [ 9.1109014 ], [ 9.11722195], [ 9.12354688], [ 9.1298762 ], [ 9.13620991], [ 9.14254801], [ 9.14889051], [ 9.15523741], [ 9.16158872], [ 9.16794443], [ 9.17430455], [ 9.18066908], [ 9.18703802], [ 9.19341139], [ 9.19978918], [ 9.20617139], [ 9.21255802], [ 9.21894909], [ 9.2253446 ], [ 9.23174454], [ 9.23814891], [ 9.24455774], [ 9.250971  ], [ 9.25738872], [ 9.26381089], [ 9.27023752], [ 9.2766686 ], [ 9.28310414], [ 9.28954415], [ 9.29598863], [ 9.30243758], [ 9.308891  ], [ 9.3153489 ], [ 9.32181128], [ 9.32827814], [ 9.33474949], [ 9.34122532], [ 9.34770565], [ 9.35419048], [ 9.3606798 ], [ 9.36717363], [ 9.37367196], [ 9.3801748 ], [ 9.38668215], [ 9.39319401], [ 9.3997104 ], [ 9.4062313 ], [ 9.41275673], [ 9.41928668], [ 9.42582116], [ 9.43236018], [ 9.43890373], [ 9.44545183], [ 9.45200446], [ 9.45856164], [ 9.46512337], [ 9.47168965], [ 9.47826049], [ 9.48483589], [ 9.49141584], [ 9.49800037], [ 9.50458946], [ 9.51118312], [ 9.51778135], [ 9.52438417], [ 9.53099156], [ 9.53760354], [ 9.5442201 ], [ 9.55084126], [ 9.557467  ], [ 9.56409735], [ 9.57073229], [ 9.57737184], [ 9.58401599], [ 9.59066475], [ 9.59731813], [ 9.60397612], [ 9.61063873], [ 9.61730596], [ 9.62397781], [ 9.6306543 ], [ 9.63733542], [ 9.64402117], [ 9.65071156], [ 9.65740659], [ 9.66410626], [ 9.67081059], [ 9.67751956], [ 9.68423319], [ 9.69095148], [ 9.69767442], [ 9.70440203], [ 9.71113431], [ 9.71787126], [ 9.72461288], [ 9.73135918], [ 9.73811016], [ 9.74486582], [ 9.75162617], [ 9.75839121], [ 9.76516094], [ 9.77193537], [ 9.7787145 ], [ 9.78549833], [ 9.79228687], [ 9.79908012], [ 9.80587807], [ 9.81268075], [ 9.81948814], [ 9.82630026], [ 9.83311711], [ 9.83993868], [ 9.84676498], [ 9.85359602], [ 9.8604318 ], [ 9.86727232], [ 9.87411759], [ 9.8809676 ], [ 9.88782237], [ 9.89468189], [ 9.90154618], [ 9.90841522], [ 9.91528903], [ 9.92216761], [ 9.92905096], [ 9.93593908], [ 9.94283198], [ 9.94972967], [ 9.95663214], [ 9.9635394 ], [ 9.97045145], [ 9.97736829], [ 9.98428994], [ 9.99121638], [ 9.99814764], [10.00508369], [10.01202457], [10.01897025], [10.02592076], [10.03287608], [10.03983624], [10.04680122], [10.05377103], [10.06074568], [10.06772516], [10.07470949], [10.08169866], [10.08869268], [10.09569156], [10.10269529], [10.10970387], [10.11671732], [10.12373564], [10.13075882], [10.13778688], [10.14481981], [10.15185762], [10.15890032], [10.1659479 ], [10.17300036], [10.18005772], [10.18711998], [10.19418714], [10.2012592 ], [10.20833616], [10.21541804], [10.22250482], [10.22959653], [10.23669315], [10.2437947 ], [10.25090117], [10.25801257], [10.26512891], [10.27225018], [10.2793764 ], [10.28650756], [10.29364366], [10.30078472], [10.30793072], [10.31508169], [10.32223762], [10.32939851], [10.33656437], [10.3437352 ], [10.35091101], [10.35809179], [10.36527755], [10.3724683 ], [10.37966404], [10.38686477], [10.3940705 ], [10.40128122], [10.40849695], [10.41571768], [10.42294343], [10.43017418], [10.43740995], [10.44465074], [10.45189656], [10.4591474 ], [10.46640327], [10.47366417], [10.48093012], [10.4882011 ], [10.49547712], [10.5027582 ], [10.51004432], [10.5173355 ], [10.52463174], [10.53193304], [10.53923941], [10.54655084], [10.55386734], [10.56118893], [10.56851559], [10.57584733], [10.58318416], [10.59052608], [10.59787309], [10.6052252 ], [10.61258241], [10.61994473], [10.62731215], [10.63468468], [10.64206233], [10.64944509], [10.65683298], [10.66422599], [10.67162413], [10.67902741], [10.68643581], [10.69384936], [10.70126806], [10.70869189], [10.71612088], [10.72355502], [10.73099432], [10.73843878], [10.74588841], [10.7533432 ], [10.76080317], [10.76826831], [10.77573863], [10.78321413], [10.79069481], [10.79818069], [10.80567176], [10.81316803], [10.82066949], [10.82817617], [10.83568804], [10.84320513], [10.85072744], [10.85825496], [10.86578771], [10.87332568], [10.88086888], [10.88841731], [10.89597098], [10.90352989], [10.91109405], [10.91866345], [10.9262381 ], [10.93381801], [10.94140318], [10.94899361], [10.9565893 ], [10.96419026], [10.9717965 ], [10.97940801], [10.98702481], [10.99464688], [11.00227425], [11.00990691], [11.01754486], [11.02518811], [11.03283666], [11.04049052], [11.04814969], [11.05581417], [11.06348397], [11.07115909], [11.07883953], [11.08652531], [11.09421641], [11.10191285], [11.10961463], [11.11732175], [11.12503422], [11.13275204], [11.14047522], [11.14820375], [11.15593764], [11.1636769 ], [11.17142153], [11.17917153], [11.1869269 ], [11.19468766], [11.2024538 ], [11.21022533], [11.21800225], [11.22578456], [11.23357227], [11.24136539], [11.24916391], [11.25696785], [11.26477719], [11.27259196], [11.28041214], [11.28823775], [11.29606879], [11.30390526], [11.31174717], [11.31959452], [11.32744731], [11.33530555], [11.34316925], [11.35103839], [11.358913  ], [11.36679307], [11.3746786 ], [11.38256961], [11.39046609], [11.39836805], [11.40627549], [11.41418842], [11.42210683], [11.43003074], [11.43796015], [11.44589506], [11.45383547], [11.46178139], [11.46973282], [11.47768977], [11.48565224], [11.49362023], [11.50159375], [11.5095728 ], [11.51755739], [11.52554752], [11.53354318], [11.5415444 ], [11.54955117], [11.55756349], [11.56558137], [11.57360481], [11.58163382], [11.5896684 ], [11.59770855], [11.60575428], [11.61380559], [11.62186249], [11.62992498], [11.63799306], [11.64606673], [11.65414601], [11.66223089], [11.67032138], [11.67841749], [11.68651921], [11.69462655], [11.70273951], [11.71085811], [11.71898233], [11.7271122 ], [11.7352477 ], [11.74338884], [11.75153564], [11.75968808], [11.76784618], [11.77600994], [11.78417937], [11.79235446], [11.80053522], [11.80872166], [11.81691377], [11.82511157], [11.83331506], [11.84152424], [11.84973911], [11.85795969], [11.86618596], [11.87441794], [11.88265564], [11.89089904], [11.89914817], [11.90740302], [11.91566359], [11.9239299 ], [11.93220194], [11.94047972], [11.94876324], [11.95705251], [11.96534753], [11.97364831], [11.98195484], [11.99026713], [11.99858519], [12.00690903], [12.01523863], [12.02357402], [12.03191518], [12.04026214], [12.04861488], [12.05697342], [12.06533776], [12.0737079 ], [12.08208385], [12.09046561], [12.09885318], [12.10724657], [12.11564578], [12.12405082], [12.1324617 ], [12.1408784 ], [12.14930095], [12.15772934], [12.16616357], [12.17460366], [12.1830496 ], [12.1915014 ], [12.19995907], [12.2084226 ], [12.216892  ], [12.22536728], [12.23384844], [12.24233548], [12.25082841], [12.25932723], [12.26783195], [12.27634257], [12.28485909], [12.29338152], [12.30190986], [12.31044412], [12.3189843 ], [12.3275304 ], [12.33608244], [12.3446404 ], [12.3532043 ], [12.36177415], [12.37034994], [12.37893167], [12.38751937], [12.39611301], [12.40471263], [12.4133182 ], [12.42192975], [12.43054727], [12.43917077], [12.44780025], [12.45643572], [12.46507718], [12.47372463], [12.48237808], [12.49103754], [12.499703  ], [12.50837447], [12.51705197], [12.52573548], [12.53442501], [12.54312057], [12.55182217], [12.5605298 ], [12.56924347], [12.57796319], [12.58668895], [12.59542077], [12.60415865], [12.61290259], [12.6216526 ], [12.63040867], [12.63917082], [12.64793905], [12.65671336], [12.66549376], [12.67428025], [12.68307283], [12.69187152], [12.7006763 ], [12.7094872 ], [12.71830421], [12.72712734], [12.73595658], [12.74479195], [12.75363346], [12.76248109], [12.77133486], [12.78019478], [12.78906084], [12.79793305], [12.80681142], [12.81569595], [12.82458664], [12.83348349], [12.84238652], [12.85129573], [12.86021111], [12.86913269], [12.87806045], [12.8869944 ], [12.89593455], [12.90488091], [12.91383347], [12.92279224], [12.93175723], [12.94072843], [12.94970586], [12.95868952], [12.96767941], [12.97667553], [12.9856779 ], [12.99468651], [13.00370137], [13.01272249], [13.02174986], [13.0307835 ], [13.0398234 ], [13.04886958], [13.05792203], [13.06698076], [13.07604577], [13.08511708], [13.09419467], [13.10327857], [13.11236876], [13.12146526], [13.13056808], [13.1396772 ], [13.14879265], [13.15791442], [13.16704252], [13.17617695], [13.18531772], [13.19446483], [13.20361828], [13.21277809], [13.22194425], [13.23111676], [13.24029565], [13.2494809 ], [13.25867252], [13.26787051], [13.27707489], [13.28628566], [13.29550281], [13.30472636], [13.31395631], [13.32319266], [13.33243541], [13.34168458], [13.35094017], [13.36020218], [13.36947061], [13.37874547], [13.38802677], [13.3973145 ], [13.40660868], [13.41590931], [13.42521639], [13.43452992], [13.44384992], [13.45317638], [13.46250931], [13.47184872], [13.48119461], [13.49054697], [13.49990583], [13.50927118], [13.51864303], [13.52802138], [13.53740623], [13.5467976 ], [13.55619548], [13.56559988], [13.5750108 ], [13.58442825], [13.59385224], [13.60328276], [13.61271983], [13.62216344], [13.63161361], [13.64107032], [13.65053361], [13.66000345], [13.66947987], [13.67896285], [13.68845242], [13.69794857], [13.70745131], [13.71696064], [13.72647657], [13.7359991 ], [13.74552824], [13.75506398], [13.76460635], [13.77415533], [13.78371093], [13.79327317], [13.80284204], [13.81241754], [13.82199969], [13.83158849], [13.84118394], [13.85078605], [13.86039481], [13.87001025], [13.87963235], [13.88926113], [13.89889659], [13.90853873], [13.91818757], [13.92784309], [13.93750532], [13.94717424], [13.95684988], [13.96653223], [13.97622129], [13.98591708], [13.99561959], [14.00532883], [14.01504481], [14.02476753], [14.034497  ], [14.04423321], [14.05397618], [14.06372591], [14.0734824 ], [14.08324566], [14.09301569], [14.1027925 ], [14.11257609], [14.12236647], [14.13216365], [14.14196761], [14.15177838], [14.16159596], [14.17142035], [14.18125155], [14.19108957], [14.20093442], [14.2107861 ], [14.22064461], [14.23050996], [14.24038216], [14.2502612 ], [14.2601471 ], [14.27003985], [14.27993947], [14.28984596], [14.29975931], [14.30967955], [14.31960667], [14.32954067], [14.33948157], [14.34942936], [14.35938405], [14.36934565], [14.37931416], [14.38928959], [14.39927194], [14.40926121], [14.41925741], [14.42926054], [14.43927062], [14.44928764], [14.45931161], [14.46934253], [14.47938041], [14.48942525], [14.49947707], [14.50953586], [14.51960162], [14.52967437], [14.5397541 ], [14.54984083], [14.55993456], [14.57003529], [14.58014302], [14.59025777], [14.60037953], [14.61050832], [14.62064413], [14.63078698], [14.64093686], [14.65109378], [14.66125775], [14.67142877], [14.68160684], [14.69179198], [14.70198418], [14.71218346], [14.7223898 ], [14.73260323], [14.74282375], [14.75305135], [14.76328605], [14.77352785], [14.78377676], [14.79403277], [14.8042959 ], [14.81456615], [14.82484353], [14.83512803], [14.84541967], [14.85571845], [14.86602437], [14.87633745], [14.88665768], [14.89698506], [14.90731961], [14.91766134], [14.92801023], [14.93836631], [14.94872957], [14.95910001], [14.96947766], [14.9798625 ], [14.99025455], [15.0006538 ], [15.01106027], [15.02147396], [15.03189488], [15.04232302], [15.0527584 ], [15.06320101], [15.07365088], [15.08410799], [15.09457235], [15.10504398], [15.11552287], [15.12600903], [15.13650246], [15.14700317], [15.15751117], [15.16802646], [15.17854904], [15.18907892], [15.19961611], [15.21016061], [15.22071242], [15.23127155], [15.24183801], [15.2524118 ], [15.26299292], [15.27358139], [15.2841772 ], [15.29478036], [15.30539087], [15.31600875], [15.32663399], [15.33726661], [15.3479066 ], [15.35855397], [15.36920873], [15.37987087], [15.39054042], [15.40121737], [15.41190172], [15.42259349], [15.43329268], [15.44399928], [15.45471332], [15.46543478], [15.47616369], [15.48690004], [15.49764383], [15.50839508], [15.51915379], [15.52991996], [15.5406936 ], [15.55147472], [15.56226331], [15.57305939], [15.58386296], [15.59467402], [15.60549258], [15.61631865], [15.62715223], [15.63799332], [15.64884194], [15.65969808], [15.67056175], [15.68143296], [15.69231171], [15.703198  ], [15.71409185], [15.72499326], [15.73590223], [15.74681877], [15.75774288], [15.76867457], [15.77961384], [15.7905607 ], [15.80151516], [15.81247721], [15.82344687], [15.83442414], [15.84540903], [15.85640154], [15.86740167], [15.87840943], [15.88942483], [15.90044787], [15.91147856], [15.9225169 ], [15.9335629 ], [15.94461656], [15.95567789], [15.96674689], [15.97782358], [15.98890794], [16.        ]])],\n",
       "         dtype=(numpy.record, [('WAVEINDEX', '>i8', (2000, 1)), ('WAVECOORD', '>f8', (2000, 1))]))"
      ]
     },
     "execution_count": 813,
     "metadata": {},
     "output_type": "execute_result"
    }
   ],
   "source": [
    "with astropy.io.fits.open(\"./dummy2.fits\") as fhdul:\n",
    "    hdul = copy.deepcopy(fhdul)\n",
    "hdul[\"WCS-TAB\"].data"
   ]
  },
  {
   "cell_type": "code",
   "execution_count": 629,
   "metadata": {},
   "outputs": [],
   "source": [
    "# Mauna Kea conditions.\n",
    "mk_temp = 273.15\n",
    "mk_pres = 62.4e3\n",
    "mk_h2o = 230\n",
    "# Center wavelength\n",
    "cen_wave = 2.2\n",
    "\n",
    "\n",
    "def mk_refr_function(wavelength, zenith):\n",
    "    return lezargus.library.atmosphere.relative_atmospheric_refraction_function(\n",
    "        wavelength=wavelength,\n",
    "        reference_wavelength=cen_wave,\n",
    "        zenith_angle=zenith,\n",
    "        pressure=mk_pres,\n",
    "        temperature=mk_temp,\n",
    "        water_pressure=mk_h2o,\n",
    "    )\n",
    "\n",
    "\n",
    "def airmass_to_zenith(airmass):\n",
    "    return np.arccos(1 / airmass)"
   ]
  },
  {
   "cell_type": "code",
   "execution_count": null,
   "metadata": {},
   "outputs": [],
   "source": [
    "plot_wave = np.linspace(0.25, 4.3, 1000)\n",
    "plot_airmass = [1.0, 1.1, 1.25, 1.5, 1.75, 2.0, 2.5, 3.0]\n",
    "\n",
    "plt.figure(layout=\"constrained\")\n",
    "\n",
    "plt.title(\n",
    "    f\"Mauna Kea Refraction: T = {mk_temp} K, P = {mk_pres} Pa, H2O =\"\n",
    "    f\" {mk_h2o} Pa\"\n",
    ")\n",
    "\n",
    "for airmassdex in plot_airmass:\n",
    "    zenith_angle = airmass_to_zenith(airmassdex)\n",
    "\n",
    "    refract = mk_refr_function(plot_wave, zenith_angle)\n",
    "\n",
    "    plt.plot(\n",
    "        plot_wave,\n",
    "        refract(plot_wave) * 206265,\n",
    "        label=\"Airmass = {a:.2f} (ZA = {za:.2f})\".format(\n",
    "            a=airmassdex, za=zenith_angle * 180 / np.pi\n",
    "        ),\n",
    "    )\n",
    "\n",
    "plt.axhline(7.2 / 2, color=\"black\", linestyle=\"dotted\", label=\"Half IFU\")\n",
    "plt.axvline(\n",
    "    cen_wave,\n",
    "    color=\"gray\",\n",
    "    alpha=0.75,\n",
    "    label=\"Ref Wave = {rw}\".format(rw=cen_wave),\n",
    ")\n",
    "\n",
    "plt.axvspan(0.4, 4.2, alpha=0.25, color=\"green\")\n",
    "\n",
    "plt.xticks(np.arange(min(plot_wave), max(plot_wave) + 1, 0.25))\n",
    "plt.yticks(np.arange(-5, 5, 0.5))\n",
    "\n",
    "plt.xlim([min(plot_wave), max(plot_wave)])\n",
    "plt.ylim([-2, 5])\n",
    "\n",
    "plt.xlabel(\"Wavelength [um]\")\n",
    "plt.ylabel(\"Relative Refraction [arcsec]\")\n",
    "\n",
    "plt.legend()\n",
    "plt.show()"
   ]
  },
  {
   "cell_type": "code",
   "execution_count": null,
   "metadata": {},
   "outputs": [
    {
     "data": {
      "text/plain": [
       "<lezargus.library.data.LezargusStarData at 0x2707937e410>"
      ]
     },
     "execution_count": 3,
     "metadata": {},
     "output_type": "execute_result"
    }
   ],
   "source": [
    "lezargus.library.data.VEGA"
   ]
  },
  {
   "cell_type": "code",
   "execution_count": null,
   "metadata": {},
   "outputs": [],
   "source": []
  }
 ],
 "metadata": {
  "kernelspec": {
   "display_name": "Python 3",
   "language": "python",
   "name": "python3"
  },
  "language_info": {
   "codemirror_mode": {
    "name": "ipython",
    "version": 3
   },
   "file_extension": ".py",
   "mimetype": "text/x-python",
   "name": "python",
   "nbconvert_exporter": "python",
   "pygments_lexer": "ipython3",
   "version": "3.11.2"
  },
  "orig_nbformat": 4
 },
 "nbformat": 4,
 "nbformat_minor": 2
}
